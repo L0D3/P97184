{
 "cells": [
  {
   "cell_type": "markdown",
   "id": "c2339b8e",
   "metadata": {},
   "source": [
    "# Experiment 2"
   ]
  },
  {
   "cell_type": "markdown",
   "id": "deafda21",
   "metadata": {},
   "source": [
    "Imports"
   ]
  },
  {
   "cell_type": "code",
   "execution_count": 95,
   "id": "bf671696",
   "metadata": {},
   "outputs": [],
   "source": [
    "import pm4py\n",
    "from sklearn.metrics import confusion_matrix\n",
    "from mppn.imports import *\n",
    "from mppn.preprocessing import *\n",
    "from mppn.pipeline import *\n",
    "from mppn.baselines import *"
   ]
  },
  {
   "cell_type": "markdown",
   "id": "dec1fec8",
   "metadata": {},
   "source": [
    "## Simulation"
   ]
  },
  {
   "cell_type": "markdown",
   "id": "58b0c29c",
   "metadata": {
    "heading_collapsed": true
   },
   "source": [
    "### Petri Net"
   ]
  },
  {
   "cell_type": "code",
   "execution_count": 2,
   "id": "d16632ba",
   "metadata": {
    "hidden": true
   },
   "outputs": [],
   "source": [
    "from pm4py.objects.petri_net.obj import PetriNet, Marking\n",
    "from pm4py.objects.petri_net.utils import petri_utils\n"
   ]
  },
  {
   "cell_type": "code",
   "execution_count": 3,
   "id": "4f1f7ef4",
   "metadata": {
    "hidden": true
   },
   "outputs": [],
   "source": [
    "import seaborn as sn\n",
    "import pandas as pd\n",
    "import matplotlib.pyplot as plt"
   ]
  },
  {
   "cell_type": "code",
   "execution_count": 4,
   "id": "d87ed17d",
   "metadata": {
    "hidden": true
   },
   "outputs": [],
   "source": [
    "net = PetriNet(\"new_petri_net\")\n"
   ]
  },
  {
   "cell_type": "code",
   "execution_count": 5,
   "id": "4b28ab21",
   "metadata": {
    "hidden": true
   },
   "outputs": [],
   "source": [
    "transition_names= [ \n",
    "'File travel reques',\n",
    "'Prepare Price Inquiry',\n",
    "'Check Price Inquiry',\n",
    "'Approve by director',\n",
    "'Prepare Booking Proposal',\n",
    "'Check Booking Proposal',\n",
    "'Approve by manager',\n",
    "]"
   ]
  },
  {
   "cell_type": "code",
   "execution_count": 6,
   "id": "4a41189a",
   "metadata": {
    "hidden": true
   },
   "outputs": [],
   "source": [
    "places=[]\n",
    "for i in range(7):\n",
    "    p=PetriNet.Place(str(i))\n",
    "    net.places.add(p)\n",
    "    places.append(p)"
   ]
  },
  {
   "cell_type": "code",
   "execution_count": 7,
   "id": "336c5bfe",
   "metadata": {
    "hidden": true
   },
   "outputs": [],
   "source": [
    "transitions=[]\n",
    "for i,tn in enumerate(transition_names):\n",
    "    t=PetriNet.Transition(str(i),tn)\n",
    "    net.transitions.add(t)\n",
    "    transitions.append(t)"
   ]
  },
  {
   "cell_type": "code",
   "execution_count": 8,
   "id": "61180358",
   "metadata": {
    "hidden": true
   },
   "outputs": [
    {
     "data": {
      "text/plain": [
       "[0, 1, 2, 3, 4, 5, 6]"
      ]
     },
     "execution_count": 8,
     "metadata": {},
     "output_type": "execute_result"
    }
   ],
   "source": [
    "places"
   ]
  },
  {
   "cell_type": "code",
   "execution_count": 9,
   "id": "d29304ec",
   "metadata": {
    "hidden": true
   },
   "outputs": [
    {
     "data": {
      "text/plain": [
       "([0, 1, 2, 3, 4, 5, 6],\n",
       " [File travel reques,\n",
       "  Prepare Price Inquiry,\n",
       "  Check Price Inquiry,\n",
       "  Approve by director,\n",
       "  Prepare Booking Proposal,\n",
       "  Check Booking Proposal,\n",
       "  Approve by manager])"
      ]
     },
     "execution_count": 9,
     "metadata": {},
     "output_type": "execute_result"
    }
   ],
   "source": [
    "places,transitions"
   ]
  },
  {
   "cell_type": "code",
   "execution_count": 10,
   "id": "e18fda21",
   "metadata": {
    "hidden": true
   },
   "outputs": [],
   "source": [
    "def add_arc_from_place(p,t):\n",
    "    petri_utils.add_arc_from_to(places[p], transitions[t], net)\n",
    "def add_arc_from_transition(t,p):\n",
    "    petri_utils.add_arc_from_to(transitions[t],places[p], net)\n",
    "\n",
    "for i in range(6):\n",
    "    add_arc_from_place(i,i)\n",
    "    add_arc_from_transition(i,i+1)\n",
    "add_arc_from_place(3,6) \n",
    "add_arc_from_transition(6,4)\n",
    "#add_arc_from_transition(0,6)\n",
    "#add_arc_from_transition(0,6)\n",
    "\n",
    "    "
   ]
  },
  {
   "cell_type": "code",
   "execution_count": 11,
   "id": "1cc8fe16",
   "metadata": {
    "hidden": true
   },
   "outputs": [],
   "source": [
    "initial_marking=Marking()\n",
    "initial_marking[places[0]]=1\n",
    "#final_marking=Marking()\n",
    "#final_marking[places[4]]=1\n",
    "# final_marking[places[7]]=1"
   ]
  },
  {
   "cell_type": "code",
   "execution_count": 12,
   "id": "08058095",
   "metadata": {
    "hidden": true
   },
   "outputs": [
    {
     "data": {
      "image/png": "[encoded data removed]",
      "text/plain": [
       "<IPython.core.display.Image object>"
      ]
     },
     "metadata": {},
     "output_type": "display_data"
    }
   ],
   "source": [
    "from pm4py.visualization.petri_net import visualizer as pn_visualizer\n",
    "\n",
    "gviz = pn_visualizer.apply(net, initial_marking)\n",
    "pn_visualizer.view(gviz)"
   ]
  },
  {
   "cell_type": "code",
   "execution_count": 13,
   "id": "5f5588a8",
   "metadata": {
    "hidden": true
   },
   "outputs": [],
   "source": [
    "parameters = {pn_visualizer.Variants.WO_DECORATION.value.Parameters.FORMAT: \"png\"}\n",
    "gviz = pn_visualizer.apply(net, initial_marking, parameters=parameters)\n",
    "pn_visualizer.save(gviz, \"model_1.png\")"
   ]
  },
  {
   "cell_type": "markdown",
   "id": "f4aa21fe",
   "metadata": {
    "heading_collapsed": true
   },
   "source": [
    "### Reachability Graph"
   ]
  },
  {
   "cell_type": "code",
   "execution_count": 14,
   "id": "37190454",
   "metadata": {
    "hidden": true
   },
   "outputs": [],
   "source": [
    "\n",
    "from pm4py.objects.petri_net.utils import reachability_graph\n",
    "\n",
    "ts = reachability_graph.construct_reachability_graph(net, initial_marking)"
   ]
  },
  {
   "cell_type": "code",
   "execution_count": 15,
   "id": "1a98d463",
   "metadata": {
    "hidden": true
   },
   "outputs": [
    {
     "name": "stdout",
     "output_type": "stream",
     "text": [
      "Check Price Inquiry 21 31\n",
      "Check Booking Proposal 51 61\n",
      "Prepare Booking Proposal 41 51\n",
      "Prepare Price Inquiry 11 21\n",
      "Approve by director 31 41\n",
      "Approve by manager 31 41\n",
      "File travel reques 01 11\n"
     ]
    }
   ],
   "source": [
    "nodes,transitions={},{}\n",
    "for t in ts.transitions:\n",
    "    if str(t.from_state) in nodes:\n",
    "        nodes[str(t.from_state)].append(str(t.name))\n",
    "    else: \n",
    "        nodes[str(t.from_state)]=[str(t.name)]\n",
    "    \n",
    "    transitions[f\"{t.from_state}#{t.name}\"]=str(t.to_state)\n",
    "    print(t.name,t.from_state,t.to_state)"
   ]
  },
  {
   "cell_type": "code",
   "execution_count": 16,
   "id": "a3d6219d",
   "metadata": {
    "hidden": true
   },
   "outputs": [
    {
     "data": {
      "text/plain": [
       "{'21': ['Check Price Inquiry'],\n",
       " '51': ['Check Booking Proposal'],\n",
       " '41': ['Prepare Booking Proposal'],\n",
       " '11': ['Prepare Price Inquiry'],\n",
       " '31': ['Approve by director', 'Approve by manager'],\n",
       " '01': ['File travel reques']}"
      ]
     },
     "execution_count": 16,
     "metadata": {},
     "output_type": "execute_result"
    }
   ],
   "source": [
    "nodes"
   ]
  },
  {
   "cell_type": "code",
   "execution_count": 17,
   "id": "31cd49bf",
   "metadata": {
    "hidden": true
   },
   "outputs": [
    {
     "data": {
      "text/plain": [
       "{'21#Check Price Inquiry': '31',\n",
       " '51#Check Booking Proposal': '61',\n",
       " '41#Prepare Booking Proposal': '51',\n",
       " '11#Prepare Price Inquiry': '21',\n",
       " '31#Approve by director': '41',\n",
       " '31#Approve by manager': '41',\n",
       " '01#File travel reques': '11'}"
      ]
     },
     "execution_count": 17,
     "metadata": {},
     "output_type": "execute_result"
    }
   ],
   "source": [
    "transitions"
   ]
  },
  {
   "cell_type": "code",
   "execution_count": 18,
   "id": "0dbaa1e8",
   "metadata": {
    "hidden": true
   },
   "outputs": [],
   "source": [
    "transitions['Start']=['01']\n",
    "nodes['61']=[]"
   ]
  },
  {
   "cell_type": "code",
   "execution_count": 19,
   "id": "4f93900f",
   "metadata": {
    "hidden": true,
    "scrolled": true
   },
   "outputs": [
    {
     "data": {
      "image/png": "[encoded data removed]",
      "text/plain": [
       "<IPython.core.display.Image object>"
      ]
     },
     "metadata": {},
     "output_type": "display_data"
    }
   ],
   "source": [
    "from pm4py.visualization.transition_system import visualizer as ts_visualizer\n",
    "\n",
    "gviz = ts_visualizer.apply(ts)\n",
    "ts_visualizer.view(gviz)"
   ]
  },
  {
   "cell_type": "code",
   "execution_count": 20,
   "id": "828b84a2",
   "metadata": {
    "hidden": true
   },
   "outputs": [],
   "source": [
    "parameters = {ts_visualizer.Variants.VIEW_BASED.value.Parameters.FORMAT: \"png\"}\n",
    "gviz = ts_visualizer.apply(ts, parameters=parameters)\n",
    "pn_visualizer.save(gviz, \"reach_graph_model_1.png\")"
   ]
  },
  {
   "cell_type": "markdown",
   "id": "63c7f1c1",
   "metadata": {
    "heading_collapsed": true
   },
   "source": [
    "### Log Simulation"
   ]
  },
  {
   "cell_type": "code",
   "execution_count": 21,
   "id": "c84153dd",
   "metadata": {
    "hidden": true
   },
   "outputs": [
    {
     "name": "stdout",
     "output_type": "stream",
     "text": [
      "CPU times: user 20.5 s, sys: 255 ms, total: 20.8 s\n",
      "Wall time: 20.8 s\n"
     ]
    }
   ],
   "source": [
    "%%time\n",
    "\n",
    "from pm4py.algo.simulation.playout.petri_net import algorithm as simulator\n",
    "\n",
    "simulated_log = simulator.apply(net, initial_marking, variant=simulator.Variants.BASIC_PLAYOUT, parameters={simulator.Variants.BASIC_PLAYOUT.value.Parameters.NO_TRACES: 100000})"
   ]
  },
  {
   "cell_type": "code",
   "execution_count": 22,
   "id": "7fa8ca15",
   "metadata": {
    "hidden": true
   },
   "outputs": [
    {
     "name": "stdout",
     "output_type": "stream",
     "text": [
      "CPU times: user 2.35 s, sys: 121 ms, total: 2.47 s\n",
      "Wall time: 2.47 s\n"
     ]
    }
   ],
   "source": [
    "%%time\n",
    "from pm4py.objects.conversion.log import converter as log_converter\n",
    "df = log_converter.apply(simulated_log, variant=log_converter.Variants.TO_DATA_FRAME)"
   ]
  },
  {
   "cell_type": "code",
   "execution_count": 23,
   "id": "32dda6f0",
   "metadata": {
    "hidden": true
   },
   "outputs": [
    {
     "data": {
      "text/html": [
       "<div>\n",
       "<style scoped>\n",
       "    .dataframe tbody tr th:only-of-type {\n",
       "        vertical-align: middle;\n",
       "    }\n",
       "\n",
       "    .dataframe tbody tr th {\n",
       "        vertical-align: top;\n",
       "    }\n",
       "\n",
       "    .dataframe thead th {\n",
       "        text-align: right;\n",
       "    }\n",
       "</style>\n",
       "<table border=\"1\" class=\"dataframe\">\n",
       "  <thead>\n",
       "    <tr style=\"text-align: right;\">\n",
       "      <th></th>\n",
       "      <th>concept:name</th>\n",
       "      <th>time:timestamp</th>\n",
       "      <th>case:concept:name</th>\n",
       "    </tr>\n",
       "  </thead>\n",
       "  <tbody>\n",
       "    <tr>\n",
       "      <th>0</th>\n",
       "      <td>File travel reques</td>\n",
       "      <td>1970-04-26 17:46:40</td>\n",
       "      <td>0</td>\n",
       "    </tr>\n",
       "    <tr>\n",
       "      <th>1</th>\n",
       "      <td>Prepare Price Inquiry</td>\n",
       "      <td>1970-04-26 17:46:41</td>\n",
       "      <td>0</td>\n",
       "    </tr>\n",
       "    <tr>\n",
       "      <th>2</th>\n",
       "      <td>Check Price Inquiry</td>\n",
       "      <td>1970-04-26 17:46:42</td>\n",
       "      <td>0</td>\n",
       "    </tr>\n",
       "    <tr>\n",
       "      <th>3</th>\n",
       "      <td>Approve by director</td>\n",
       "      <td>1970-04-26 17:46:43</td>\n",
       "      <td>0</td>\n",
       "    </tr>\n",
       "    <tr>\n",
       "      <th>4</th>\n",
       "      <td>Prepare Booking Proposal</td>\n",
       "      <td>1970-04-26 17:46:44</td>\n",
       "      <td>0</td>\n",
       "    </tr>\n",
       "    <tr>\n",
       "      <th>...</th>\n",
       "      <td>...</td>\n",
       "      <td>...</td>\n",
       "      <td>...</td>\n",
       "    </tr>\n",
       "    <tr>\n",
       "      <th>599995</th>\n",
       "      <td>Prepare Price Inquiry</td>\n",
       "      <td>1970-05-03 16:26:35</td>\n",
       "      <td>99999</td>\n",
       "    </tr>\n",
       "    <tr>\n",
       "      <th>599996</th>\n",
       "      <td>Check Price Inquiry</td>\n",
       "      <td>1970-05-03 16:26:36</td>\n",
       "      <td>99999</td>\n",
       "    </tr>\n",
       "    <tr>\n",
       "      <th>599997</th>\n",
       "      <td>Approve by director</td>\n",
       "      <td>1970-05-03 16:26:37</td>\n",
       "      <td>99999</td>\n",
       "    </tr>\n",
       "    <tr>\n",
       "      <th>599998</th>\n",
       "      <td>Prepare Booking Proposal</td>\n",
       "      <td>1970-05-03 16:26:38</td>\n",
       "      <td>99999</td>\n",
       "    </tr>\n",
       "    <tr>\n",
       "      <th>599999</th>\n",
       "      <td>Check Booking Proposal</td>\n",
       "      <td>1970-05-03 16:26:39</td>\n",
       "      <td>99999</td>\n",
       "    </tr>\n",
       "  </tbody>\n",
       "</table>\n",
       "<p>600000 rows × 3 columns</p>\n",
       "</div>"
      ],
      "text/plain": [
       "                    concept:name      time:timestamp case:concept:name\n",
       "0             File travel reques 1970-04-26 17:46:40                 0\n",
       "1          Prepare Price Inquiry 1970-04-26 17:46:41                 0\n",
       "2            Check Price Inquiry 1970-04-26 17:46:42                 0\n",
       "3            Approve by director 1970-04-26 17:46:43                 0\n",
       "4       Prepare Booking Proposal 1970-04-26 17:46:44                 0\n",
       "...                          ...                 ...               ...\n",
       "599995     Prepare Price Inquiry 1970-05-03 16:26:35             99999\n",
       "599996       Check Price Inquiry 1970-05-03 16:26:36             99999\n",
       "599997       Approve by director 1970-05-03 16:26:37             99999\n",
       "599998  Prepare Booking Proposal 1970-05-03 16:26:38             99999\n",
       "599999    Check Booking Proposal 1970-05-03 16:26:39             99999\n",
       "\n",
       "[600000 rows x 3 columns]"
      ]
     },
     "execution_count": 23,
     "metadata": {},
     "output_type": "execute_result"
    }
   ],
   "source": [
    "df"
   ]
  },
  {
   "cell_type": "code",
   "execution_count": 24,
   "id": "5fc206d1",
   "metadata": {
    "hidden": true
   },
   "outputs": [],
   "source": [
    "df.rename({'concept:name':'activity','case:concept:name':'trace_id','time:timestamp':'timestamp'},axis=1,inplace=True)"
   ]
  },
  {
   "cell_type": "code",
   "execution_count": 25,
   "id": "335ca16d",
   "metadata": {
    "hidden": true
   },
   "outputs": [],
   "source": [
    "df.set_index('trace_id',inplace=True)"
   ]
  },
  {
   "cell_type": "code",
   "execution_count": 26,
   "id": "8b92feab",
   "metadata": {
    "hidden": true
   },
   "outputs": [],
   "source": [
    "import pandas as pd"
   ]
  },
  {
   "cell_type": "code",
   "execution_count": 27,
   "id": "2fe42f94",
   "metadata": {
    "hidden": true
   },
   "outputs": [
    {
     "data": {
      "text/html": [
       "<div>\n",
       "<style scoped>\n",
       "    .dataframe tbody tr th:only-of-type {\n",
       "        vertical-align: middle;\n",
       "    }\n",
       "\n",
       "    .dataframe tbody tr th {\n",
       "        vertical-align: top;\n",
       "    }\n",
       "\n",
       "    .dataframe thead th {\n",
       "        text-align: right;\n",
       "    }\n",
       "</style>\n",
       "<table border=\"1\" class=\"dataframe\">\n",
       "  <thead>\n",
       "    <tr style=\"text-align: right;\">\n",
       "      <th></th>\n",
       "      <th>trace_id</th>\n",
       "      <th>activity</th>\n",
       "    </tr>\n",
       "  </thead>\n",
       "  <tbody>\n",
       "    <tr>\n",
       "      <th>0</th>\n",
       "      <td>0</td>\n",
       "      <td>Start</td>\n",
       "    </tr>\n",
       "    <tr>\n",
       "      <th>1</th>\n",
       "      <td>0</td>\n",
       "      <td>File travel reques</td>\n",
       "    </tr>\n",
       "    <tr>\n",
       "      <th>2</th>\n",
       "      <td>0</td>\n",
       "      <td>Prepare Price Inquiry</td>\n",
       "    </tr>\n",
       "    <tr>\n",
       "      <th>3</th>\n",
       "      <td>0</td>\n",
       "      <td>Check Price Inquiry</td>\n",
       "    </tr>\n",
       "    <tr>\n",
       "      <th>4</th>\n",
       "      <td>0</td>\n",
       "      <td>Approve by director</td>\n",
       "    </tr>\n",
       "    <tr>\n",
       "      <th>...</th>\n",
       "      <td>...</td>\n",
       "      <td>...</td>\n",
       "    </tr>\n",
       "    <tr>\n",
       "      <th>699995</th>\n",
       "      <td>99999</td>\n",
       "      <td>Prepare Price Inquiry</td>\n",
       "    </tr>\n",
       "    <tr>\n",
       "      <th>699996</th>\n",
       "      <td>99999</td>\n",
       "      <td>Check Price Inquiry</td>\n",
       "    </tr>\n",
       "    <tr>\n",
       "      <th>699997</th>\n",
       "      <td>99999</td>\n",
       "      <td>Approve by director</td>\n",
       "    </tr>\n",
       "    <tr>\n",
       "      <th>699998</th>\n",
       "      <td>99999</td>\n",
       "      <td>Prepare Booking Proposal</td>\n",
       "    </tr>\n",
       "    <tr>\n",
       "      <th>699999</th>\n",
       "      <td>99999</td>\n",
       "      <td>Check Booking Proposal</td>\n",
       "    </tr>\n",
       "  </tbody>\n",
       "</table>\n",
       "<p>700000 rows × 2 columns</p>\n",
       "</div>"
      ],
      "text/plain": [
       "       trace_id                  activity\n",
       "0             0                     Start\n",
       "1             0        File travel reques\n",
       "2             0     Prepare Price Inquiry\n",
       "3             0       Check Price Inquiry\n",
       "4             0       Approve by director\n",
       "...         ...                       ...\n",
       "699995    99999     Prepare Price Inquiry\n",
       "699996    99999       Check Price Inquiry\n",
       "699997    99999       Approve by director\n",
       "699998    99999  Prepare Booking Proposal\n",
       "699999    99999    Check Booking Proposal\n",
       "\n",
       "[700000 rows x 2 columns]"
      ]
     },
     "execution_count": 27,
     "metadata": {},
     "output_type": "execute_result"
    }
   ],
   "source": [
    "res=[]\n",
    "for i,g in df.groupby(df.index):\n",
    "    res.append([i,'Start'])\n",
    "    for a in g['activity']:\n",
    "        res.append([i,a])\n",
    "df=pd.DataFrame(res,columns=['trace_id','activity'])\n",
    "df"
   ]
  },
  {
   "cell_type": "code",
   "execution_count": 28,
   "id": "9c17ac33",
   "metadata": {
    "hidden": true
   },
   "outputs": [],
   "source": [
    "df.set_index('trace_id',inplace=True)"
   ]
  },
  {
   "cell_type": "code",
   "execution_count": 29,
   "id": "11ecdadc",
   "metadata": {
    "hidden": true
   },
   "outputs": [],
   "source": [
    "df['event_id']=df.groupby(df.index).cumcount()"
   ]
  },
  {
   "cell_type": "code",
   "execution_count": 30,
   "id": "377b703a",
   "metadata": {
    "hidden": true
   },
   "outputs": [
    {
     "data": {
      "text/html": [
       "<div>\n",
       "<style scoped>\n",
       "    .dataframe tbody tr th:only-of-type {\n",
       "        vertical-align: middle;\n",
       "    }\n",
       "\n",
       "    .dataframe tbody tr th {\n",
       "        vertical-align: top;\n",
       "    }\n",
       "\n",
       "    .dataframe thead th {\n",
       "        text-align: right;\n",
       "    }\n",
       "</style>\n",
       "<table border=\"1\" class=\"dataframe\">\n",
       "  <thead>\n",
       "    <tr style=\"text-align: right;\">\n",
       "      <th></th>\n",
       "      <th>activity</th>\n",
       "      <th>event_id</th>\n",
       "    </tr>\n",
       "    <tr>\n",
       "      <th>trace_id</th>\n",
       "      <th></th>\n",
       "      <th></th>\n",
       "    </tr>\n",
       "  </thead>\n",
       "  <tbody>\n",
       "    <tr>\n",
       "      <th>0</th>\n",
       "      <td>Start</td>\n",
       "      <td>0</td>\n",
       "    </tr>\n",
       "    <tr>\n",
       "      <th>0</th>\n",
       "      <td>File travel reques</td>\n",
       "      <td>1</td>\n",
       "    </tr>\n",
       "    <tr>\n",
       "      <th>0</th>\n",
       "      <td>Prepare Price Inquiry</td>\n",
       "      <td>2</td>\n",
       "    </tr>\n",
       "    <tr>\n",
       "      <th>0</th>\n",
       "      <td>Check Price Inquiry</td>\n",
       "      <td>3</td>\n",
       "    </tr>\n",
       "    <tr>\n",
       "      <th>0</th>\n",
       "      <td>Approve by director</td>\n",
       "      <td>4</td>\n",
       "    </tr>\n",
       "    <tr>\n",
       "      <th>...</th>\n",
       "      <td>...</td>\n",
       "      <td>...</td>\n",
       "    </tr>\n",
       "    <tr>\n",
       "      <th>99999</th>\n",
       "      <td>Prepare Price Inquiry</td>\n",
       "      <td>2</td>\n",
       "    </tr>\n",
       "    <tr>\n",
       "      <th>99999</th>\n",
       "      <td>Check Price Inquiry</td>\n",
       "      <td>3</td>\n",
       "    </tr>\n",
       "    <tr>\n",
       "      <th>99999</th>\n",
       "      <td>Approve by director</td>\n",
       "      <td>4</td>\n",
       "    </tr>\n",
       "    <tr>\n",
       "      <th>99999</th>\n",
       "      <td>Prepare Booking Proposal</td>\n",
       "      <td>5</td>\n",
       "    </tr>\n",
       "    <tr>\n",
       "      <th>99999</th>\n",
       "      <td>Check Booking Proposal</td>\n",
       "      <td>6</td>\n",
       "    </tr>\n",
       "  </tbody>\n",
       "</table>\n",
       "<p>700000 rows × 2 columns</p>\n",
       "</div>"
      ],
      "text/plain": [
       "                          activity  event_id\n",
       "trace_id                                    \n",
       "0                            Start         0\n",
       "0               File travel reques         1\n",
       "0            Prepare Price Inquiry         2\n",
       "0              Check Price Inquiry         3\n",
       "0              Approve by director         4\n",
       "...                            ...       ...\n",
       "99999        Prepare Price Inquiry         2\n",
       "99999          Check Price Inquiry         3\n",
       "99999          Approve by director         4\n",
       "99999     Prepare Booking Proposal         5\n",
       "99999       Check Booking Proposal         6\n",
       "\n",
       "[700000 rows x 2 columns]"
      ]
     },
     "execution_count": 30,
     "metadata": {},
     "output_type": "execute_result"
    }
   ],
   "source": [
    "df"
   ]
  },
  {
   "cell_type": "code",
   "execution_count": 31,
   "id": "ebdfd7a7",
   "metadata": {
    "hidden": true
   },
   "outputs": [],
   "source": [
    "import numpy as np"
   ]
  },
  {
   "cell_type": "code",
   "execution_count": 32,
   "id": "133230b0",
   "metadata": {
    "hidden": true
   },
   "outputs": [
    {
     "data": {
      "text/plain": [
       "array([327.31, 221.51, 592.24, ..., 512.8 , 641.22, 414.53])"
      ]
     },
     "execution_count": 32,
     "metadata": {},
     "output_type": "execute_result"
    }
   ],
   "source": [
    "cost = np.random.normal(loc=400,scale=350,size=len(df.index.unique())).round(2)\n",
    "cost = cost.clip(0)\n",
    "cost"
   ]
  },
  {
   "cell_type": "code",
   "execution_count": 165,
   "id": "b7b5d517",
   "metadata": {
    "hidden": true
   },
   "outputs": [],
   "source": [
    "trace_idTocost={i:j for i,j in zip(df.index.unique(),cost)}\n"
   ]
  },
  {
   "cell_type": "code",
   "execution_count": 34,
   "id": "5b91f890",
   "metadata": {
    "hidden": true
   },
   "outputs": [],
   "source": [
    "df['cost']=pd.Series(trace_idTocost)[df.index]"
   ]
  },
  {
   "cell_type": "code",
   "execution_count": 35,
   "id": "79adc966",
   "metadata": {
    "hidden": true
   },
   "outputs": [
    {
     "data": {
      "text/html": [
       "<div>\n",
       "<style scoped>\n",
       "    .dataframe tbody tr th:only-of-type {\n",
       "        vertical-align: middle;\n",
       "    }\n",
       "\n",
       "    .dataframe tbody tr th {\n",
       "        vertical-align: top;\n",
       "    }\n",
       "\n",
       "    .dataframe thead th {\n",
       "        text-align: right;\n",
       "    }\n",
       "</style>\n",
       "<table border=\"1\" class=\"dataframe\">\n",
       "  <thead>\n",
       "    <tr style=\"text-align: right;\">\n",
       "      <th></th>\n",
       "      <th>activity</th>\n",
       "      <th>event_id</th>\n",
       "      <th>cost</th>\n",
       "    </tr>\n",
       "    <tr>\n",
       "      <th>trace_id</th>\n",
       "      <th></th>\n",
       "      <th></th>\n",
       "      <th></th>\n",
       "    </tr>\n",
       "  </thead>\n",
       "  <tbody>\n",
       "    <tr>\n",
       "      <th>0</th>\n",
       "      <td>Start</td>\n",
       "      <td>0</td>\n",
       "      <td>327.31</td>\n",
       "    </tr>\n",
       "    <tr>\n",
       "      <th>0</th>\n",
       "      <td>File travel reques</td>\n",
       "      <td>1</td>\n",
       "      <td>327.31</td>\n",
       "    </tr>\n",
       "    <tr>\n",
       "      <th>0</th>\n",
       "      <td>Prepare Price Inquiry</td>\n",
       "      <td>2</td>\n",
       "      <td>327.31</td>\n",
       "    </tr>\n",
       "    <tr>\n",
       "      <th>0</th>\n",
       "      <td>Check Price Inquiry</td>\n",
       "      <td>3</td>\n",
       "      <td>327.31</td>\n",
       "    </tr>\n",
       "    <tr>\n",
       "      <th>0</th>\n",
       "      <td>Approve by director</td>\n",
       "      <td>4</td>\n",
       "      <td>327.31</td>\n",
       "    </tr>\n",
       "    <tr>\n",
       "      <th>0</th>\n",
       "      <td>Prepare Booking Proposal</td>\n",
       "      <td>5</td>\n",
       "      <td>327.31</td>\n",
       "    </tr>\n",
       "    <tr>\n",
       "      <th>0</th>\n",
       "      <td>Check Booking Proposal</td>\n",
       "      <td>6</td>\n",
       "      <td>327.31</td>\n",
       "    </tr>\n",
       "    <tr>\n",
       "      <th>1</th>\n",
       "      <td>Start</td>\n",
       "      <td>0</td>\n",
       "      <td>221.51</td>\n",
       "    </tr>\n",
       "    <tr>\n",
       "      <th>1</th>\n",
       "      <td>File travel reques</td>\n",
       "      <td>1</td>\n",
       "      <td>221.51</td>\n",
       "    </tr>\n",
       "    <tr>\n",
       "      <th>1</th>\n",
       "      <td>Prepare Price Inquiry</td>\n",
       "      <td>2</td>\n",
       "      <td>221.51</td>\n",
       "    </tr>\n",
       "    <tr>\n",
       "      <th>1</th>\n",
       "      <td>Check Price Inquiry</td>\n",
       "      <td>3</td>\n",
       "      <td>221.51</td>\n",
       "    </tr>\n",
       "    <tr>\n",
       "      <th>1</th>\n",
       "      <td>Approve by manager</td>\n",
       "      <td>4</td>\n",
       "      <td>221.51</td>\n",
       "    </tr>\n",
       "    <tr>\n",
       "      <th>1</th>\n",
       "      <td>Prepare Booking Proposal</td>\n",
       "      <td>5</td>\n",
       "      <td>221.51</td>\n",
       "    </tr>\n",
       "    <tr>\n",
       "      <th>1</th>\n",
       "      <td>Check Booking Proposal</td>\n",
       "      <td>6</td>\n",
       "      <td>221.51</td>\n",
       "    </tr>\n",
       "    <tr>\n",
       "      <th>10</th>\n",
       "      <td>Start</td>\n",
       "      <td>0</td>\n",
       "      <td>592.24</td>\n",
       "    </tr>\n",
       "    <tr>\n",
       "      <th>10</th>\n",
       "      <td>File travel reques</td>\n",
       "      <td>1</td>\n",
       "      <td>592.24</td>\n",
       "    </tr>\n",
       "    <tr>\n",
       "      <th>10</th>\n",
       "      <td>Prepare Price Inquiry</td>\n",
       "      <td>2</td>\n",
       "      <td>592.24</td>\n",
       "    </tr>\n",
       "    <tr>\n",
       "      <th>10</th>\n",
       "      <td>Check Price Inquiry</td>\n",
       "      <td>3</td>\n",
       "      <td>592.24</td>\n",
       "    </tr>\n",
       "    <tr>\n",
       "      <th>10</th>\n",
       "      <td>Approve by director</td>\n",
       "      <td>4</td>\n",
       "      <td>592.24</td>\n",
       "    </tr>\n",
       "    <tr>\n",
       "      <th>10</th>\n",
       "      <td>Prepare Booking Proposal</td>\n",
       "      <td>5</td>\n",
       "      <td>592.24</td>\n",
       "    </tr>\n",
       "  </tbody>\n",
       "</table>\n",
       "</div>"
      ],
      "text/plain": [
       "                          activity  event_id    cost\n",
       "trace_id                                            \n",
       "0                            Start         0  327.31\n",
       "0               File travel reques         1  327.31\n",
       "0            Prepare Price Inquiry         2  327.31\n",
       "0              Check Price Inquiry         3  327.31\n",
       "0              Approve by director         4  327.31\n",
       "0         Prepare Booking Proposal         5  327.31\n",
       "0           Check Booking Proposal         6  327.31\n",
       "1                            Start         0  221.51\n",
       "1               File travel reques         1  221.51\n",
       "1            Prepare Price Inquiry         2  221.51\n",
       "1              Check Price Inquiry         3  221.51\n",
       "1               Approve by manager         4  221.51\n",
       "1         Prepare Booking Proposal         5  221.51\n",
       "1           Check Booking Proposal         6  221.51\n",
       "10                           Start         0  592.24\n",
       "10              File travel reques         1  592.24\n",
       "10           Prepare Price Inquiry         2  592.24\n",
       "10             Check Price Inquiry         3  592.24\n",
       "10             Approve by director         4  592.24\n",
       "10        Prepare Booking Proposal         5  592.24"
      ]
     },
     "execution_count": 35,
     "metadata": {},
     "output_type": "execute_result"
    }
   ],
   "source": [
    "df.head(20)"
   ]
  },
  {
   "cell_type": "code",
   "execution_count": 36,
   "id": "0c6734a0",
   "metadata": {
    "hidden": true
   },
   "outputs": [],
   "source": [
    "df.loc[(df.cost >500) & (df.activity == 'Approve by manager'),'activity'] = 'Approve by director'\n"
   ]
  },
  {
   "cell_type": "code",
   "execution_count": 37,
   "id": "108306d9",
   "metadata": {
    "hidden": true
   },
   "outputs": [],
   "source": [
    "df.loc[(df.cost <=500) & (df.activity == 'Approve by director'),'activity'] = 'Approve by manager'\n"
   ]
  },
  {
   "cell_type": "code",
   "execution_count": 38,
   "id": "3d04f017",
   "metadata": {
    "hidden": true
   },
   "outputs": [
    {
     "data": {
      "text/html": [
       "<div>\n",
       "<style scoped>\n",
       "    .dataframe tbody tr th:only-of-type {\n",
       "        vertical-align: middle;\n",
       "    }\n",
       "\n",
       "    .dataframe tbody tr th {\n",
       "        vertical-align: top;\n",
       "    }\n",
       "\n",
       "    .dataframe thead th {\n",
       "        text-align: right;\n",
       "    }\n",
       "</style>\n",
       "<table border=\"1\" class=\"dataframe\">\n",
       "  <thead>\n",
       "    <tr style=\"text-align: right;\">\n",
       "      <th></th>\n",
       "      <th>activity</th>\n",
       "      <th>event_id</th>\n",
       "      <th>cost</th>\n",
       "    </tr>\n",
       "    <tr>\n",
       "      <th>trace_id</th>\n",
       "      <th></th>\n",
       "      <th></th>\n",
       "      <th></th>\n",
       "    </tr>\n",
       "  </thead>\n",
       "  <tbody>\n",
       "    <tr>\n",
       "      <th>0</th>\n",
       "      <td>Start</td>\n",
       "      <td>0</td>\n",
       "      <td>327.31</td>\n",
       "    </tr>\n",
       "    <tr>\n",
       "      <th>0</th>\n",
       "      <td>File travel reques</td>\n",
       "      <td>1</td>\n",
       "      <td>327.31</td>\n",
       "    </tr>\n",
       "    <tr>\n",
       "      <th>0</th>\n",
       "      <td>Prepare Price Inquiry</td>\n",
       "      <td>2</td>\n",
       "      <td>327.31</td>\n",
       "    </tr>\n",
       "    <tr>\n",
       "      <th>0</th>\n",
       "      <td>Check Price Inquiry</td>\n",
       "      <td>3</td>\n",
       "      <td>327.31</td>\n",
       "    </tr>\n",
       "    <tr>\n",
       "      <th>0</th>\n",
       "      <td>Approve by manager</td>\n",
       "      <td>4</td>\n",
       "      <td>327.31</td>\n",
       "    </tr>\n",
       "  </tbody>\n",
       "</table>\n",
       "</div>"
      ],
      "text/plain": [
       "                       activity  event_id    cost\n",
       "trace_id                                         \n",
       "0                         Start         0  327.31\n",
       "0            File travel reques         1  327.31\n",
       "0         Prepare Price Inquiry         2  327.31\n",
       "0           Check Price Inquiry         3  327.31\n",
       "0            Approve by manager         4  327.31"
      ]
     },
     "execution_count": 38,
     "metadata": {},
     "output_type": "execute_result"
    }
   ],
   "source": [
    "df.head()"
   ]
  },
  {
   "cell_type": "code",
   "execution_count": 39,
   "id": "686730bc",
   "metadata": {
    "hidden": true
   },
   "outputs": [
    {
     "data": {
      "text/plain": [
       "trace_id\n",
       "0        Start->File travel reques->Prepare Price Inqui...\n",
       "1        Start->File travel reques->Prepare Price Inqui...\n",
       "10       Start->File travel reques->Prepare Price Inqui...\n",
       "100      Start->File travel reques->Prepare Price Inqui...\n",
       "1000     Start->File travel reques->Prepare Price Inqui...\n",
       "                               ...                        \n",
       "99995    Start->File travel reques->Prepare Price Inqui...\n",
       "99996    Start->File travel reques->Prepare Price Inqui...\n",
       "99997    Start->File travel reques->Prepare Price Inqui...\n",
       "99998    Start->File travel reques->Prepare Price Inqui...\n",
       "99999    Start->File travel reques->Prepare Price Inqui...\n",
       "Name: activity, Length: 100000, dtype: object"
      ]
     },
     "execution_count": 39,
     "metadata": {},
     "output_type": "execute_result"
    }
   ],
   "source": [
    "traces=df.groupby(df.index)['activity'].apply(lambda x:\"->\".join(list(x)))\n",
    "\n",
    "traces"
   ]
  },
  {
   "cell_type": "code",
   "execution_count": 40,
   "id": "ef6bea0e",
   "metadata": {
    "hidden": true
   },
   "outputs": [],
   "source": [
    "df['traces']=traces"
   ]
  },
  {
   "cell_type": "code",
   "execution_count": 41,
   "id": "8c047099",
   "metadata": {
    "hidden": true
   },
   "outputs": [],
   "source": [
    "mean_costs = df.groupby('traces')['cost'].mean()"
   ]
  },
  {
   "cell_type": "code",
   "execution_count": 42,
   "id": "d711c953",
   "metadata": {
    "hidden": true
   },
   "outputs": [],
   "source": [
    "df['cost_gt500'] =  df['cost']>500"
   ]
  },
  {
   "cell_type": "code",
   "execution_count": 43,
   "id": "1b2efa0a",
   "metadata": {
    "hidden": true
   },
   "outputs": [
    {
     "data": {
      "text/html": [
       "<div>\n",
       "<style scoped>\n",
       "    .dataframe tbody tr th:only-of-type {\n",
       "        vertical-align: middle;\n",
       "    }\n",
       "\n",
       "    .dataframe tbody tr th {\n",
       "        vertical-align: top;\n",
       "    }\n",
       "\n",
       "    .dataframe thead th {\n",
       "        text-align: right;\n",
       "    }\n",
       "</style>\n",
       "<table border=\"1\" class=\"dataframe\">\n",
       "  <thead>\n",
       "    <tr style=\"text-align: right;\">\n",
       "      <th></th>\n",
       "      <th>traces</th>\n",
       "      <th>cost_gt500</th>\n",
       "      <th>0</th>\n",
       "    </tr>\n",
       "  </thead>\n",
       "  <tbody>\n",
       "    <tr>\n",
       "      <th>0</th>\n",
       "      <td>Start-&gt;File travel reques-&gt;Prepare Price Inqui...</td>\n",
       "      <td>True</td>\n",
       "      <td>271012</td>\n",
       "    </tr>\n",
       "    <tr>\n",
       "      <th>1</th>\n",
       "      <td>Start-&gt;File travel reques-&gt;Prepare Price Inqui...</td>\n",
       "      <td>False</td>\n",
       "      <td>428988</td>\n",
       "    </tr>\n",
       "  </tbody>\n",
       "</table>\n",
       "</div>"
      ],
      "text/plain": [
       "                                              traces  cost_gt500       0\n",
       "0  Start->File travel reques->Prepare Price Inqui...        True  271012\n",
       "1  Start->File travel reques->Prepare Price Inqui...       False  428988"
      ]
     },
     "execution_count": 43,
     "metadata": {},
     "output_type": "execute_result"
    }
   ],
   "source": [
    "variants=df.groupby(['traces','cost_gt500']).size().reset_index()\n",
    "variants"
   ]
  },
  {
   "cell_type": "code",
   "execution_count": 44,
   "id": "26dae32b",
   "metadata": {
    "hidden": true
   },
   "outputs": [],
   "source": [
    "variants['idx']= variants.index"
   ]
  },
  {
   "cell_type": "markdown",
   "id": "4bcf5a54",
   "metadata": {
    "heading_collapsed": true
   },
   "source": [
    "## Deep Learning"
   ]
  },
  {
   "cell_type": "code",
   "execution_count": 73,
   "id": "8d9c0f3f",
   "metadata": {
    "hidden": true
   },
   "outputs": [],
   "source": [
    "splits = split_traces(df,validation_seed=42,test_seed=42)"
   ]
  },
  {
   "cell_type": "code",
   "execution_count": 74,
   "id": "ebce4186",
   "metadata": {
    "hidden": true
   },
   "outputs": [
    {
     "name": "stdout",
     "output_type": "stream",
     "text": [
      "#traces: 100000 #events: 700000\n"
     ]
    },
    {
     "data": {
      "text/html": [
       "<table border=\"1\" class=\"dataframe\">\n",
       "  <thead>\n",
       "    <tr style=\"text-align: right;\">\n",
       "      <th></th>\n",
       "      <th>activity</th>\n",
       "      <th>cost</th>\n",
       "    </tr>\n",
       "    <tr>\n",
       "      <th>trace_id</th>\n",
       "      <th></th>\n",
       "      <th></th>\n",
       "    </tr>\n",
       "  </thead>\n",
       "  <tbody>\n",
       "    <tr>\n",
       "      <th>68010</th>\n",
       "      <td>8</td>\n",
       "      <td>0.480728</td>\n",
       "    </tr>\n",
       "    <tr>\n",
       "      <th>68010</th>\n",
       "      <td>5</td>\n",
       "      <td>0.480728</td>\n",
       "    </tr>\n",
       "  </tbody>\n",
       "</table>"
      ],
      "text/plain": [
       "<IPython.core.display.HTML object>"
      ]
     },
     "metadata": {},
     "output_type": "display_data"
    },
    {
     "data": {
      "text/plain": [
       "(torch.Size([64, 6]), torch.Size([64, 6]), torch.Size([64]))"
      ]
     },
     "execution_count": 74,
     "metadata": {},
     "output_type": "execute_result"
    }
   ],
   "source": [
    "o=PPObj(df,[Categorify(),Normalize()],cat_names=['activity'],cont_names=['cost'],y_names='activity',splits=splits)\n",
    "o.show(max_n=2)\n",
    "dls=o.get_dls(windows=partial(subsequences_fast,min_ws=0))\n",
    "xcat,xcont,y=dls.one_batch()\n",
    "xcat.shape,xcont.shape,y.shape"
   ]
  },
  {
   "cell_type": "code",
   "execution_count": 75,
   "id": "3dab7eea",
   "metadata": {
    "hidden": true
   },
   "outputs": [],
   "source": [
    "class Camargo_Concat(torch.nn.Module) :\n",
    "    def __init__(self, o) :\n",
    "        super().__init__()\n",
    "        hidden=25\n",
    "        vocab_act=len(o.procs.categorify['activity'])\n",
    "        emb_dim_act = int(sqrt(vocab_act))+1\n",
    "\n",
    "        self.emb_act = nn.Embedding(vocab_act,emb_dim_act)\n",
    "\n",
    "        self.lstm_act = nn.LSTM(emb_dim_act, hidden, batch_first=True, num_layers=2)\n",
    "        self.lstm_concat= nn.LSTM(emb_dim_act+1, hidden, batch_first=True, num_layers=1)\n",
    "        self.lstm_cost = nn.LSTM(1, hidden, batch_first=True, num_layers=1)\n",
    "        self.linear_act = nn.Linear(2*hidden, vocab_act)\n",
    "    def forward(self, xcat,xcont):\n",
    "        x_act = self.emb_act(xcat)\n",
    "        x_act,_ = self.lstm_act(x_act)\n",
    "        x_act = x_act[:,-1]\n",
    "     \n",
    "        \n",
    "        x_cost,_ = self.lstm_cost(xcont[:,:,None])\n",
    "        x_cost = x_cost[:,-1]\n",
    "        \n",
    "        x_concat=torch.cat((x_act, x_cost), 1)\n",
    "      \n",
    "        \n",
    "        x_act = self.linear_act(x_concat)\n",
    "        x_act = F.softmax(x_act,dim=1)\n",
    "        return x_act"
   ]
  },
  {
   "cell_type": "code",
   "execution_count": 76,
   "id": "1152279b",
   "metadata": {
    "hidden": true
   },
   "outputs": [],
   "source": [
    "class SimpleRNN(nn.Module):\n",
    "    def __init__(self, o,cuda=True):\n",
    "        super().__init__()\n",
    "        n_hidden = 25\n",
    "        vocab_size=len(o.procs.categorify['activity'])\n",
    "        n_fac = int(sqrt(vocab_size))+1\n",
    "        self.is_cuda=cuda\n",
    "        self.n_hidden=n_hidden\n",
    "        self.e = nn.Embedding(vocab_size,n_fac)\n",
    "        self.l_in = nn.Linear(n_fac, n_hidden)\n",
    "        self.l_hidden = nn.Linear(n_hidden, n_hidden)\n",
    "        self.l_out = nn.Linear(n_hidden,vocab_size)\n",
    "        \n",
    "    def forward(self, xb,xcont):\n",
    "        cs=xb.permute(1,0)\n",
    "        bs = len(cs[0])\n",
    "        h = torch.zeros((bs,self.n_hidden))\n",
    "        if self.is_cuda: h=h.cuda()\n",
    "        for c in cs:\n",
    "            inp = torch.relu(self.l_in(self.e(c)))\n",
    "            h = torch.tanh(self.l_hidden(h+inp))\n",
    "        return F.log_softmax(self.l_out(h),dim=0)"
   ]
  },
  {
   "cell_type": "code",
   "execution_count": 77,
   "id": "4f345268",
   "metadata": {
    "hidden": true
   },
   "outputs": [],
   "source": [
    "class Camargo_specialized(torch.nn.Module) :\n",
    "    def __init__(self, o) :\n",
    "        super().__init__()\n",
    "        hidden=25\n",
    "        vocab_act=len(o.procs.categorify['activity'])\n",
    "        emb_dim_act = int(sqrt(vocab_act))+1\n",
    "\n",
    "        self.emb_act = nn.Embedding(vocab_act,emb_dim_act)\n",
    "\n",
    "        self.lstm_act = nn.LSTM(emb_dim_act, hidden, batch_first=True, num_layers=2)\n",
    "\n",
    "        self.linear_act = nn.Linear(hidden, vocab_act)\n",
    "    def forward(self, xcat,xcont):\n",
    "        x_act = self.emb_act(xcat)\n",
    "        x_act,_ = self.lstm_act(x_act)\n",
    "        x_act = x_act[:,-1]\n",
    "        x_act = self.linear_act(x_act)\n",
    "        x_act = F.softmax(x_act,dim=1)\n",
    "\n",
    "        return x_act"
   ]
  },
  {
   "cell_type": "raw",
   "id": "1d9b1981",
   "metadata": {
    "hidden": true
   },
   "source": [
    "m=Camargo_specialized(o)"
   ]
  },
  {
   "cell_type": "raw",
   "id": "0d712ef6",
   "metadata": {
    "hidden": true
   },
   "source": [
    "m=SimpleRNN(o,False)\n"
   ]
  },
  {
   "cell_type": "raw",
   "id": "cf72e2e8",
   "metadata": {
    "hidden": true
   },
   "source": [
    "p=m(xcat,xcont)"
   ]
  },
  {
   "cell_type": "raw",
   "id": "cf47e1bb",
   "metadata": {
    "hidden": true
   },
   "source": [
    "F.cross_entropy(p,y)"
   ]
  },
  {
   "cell_type": "raw",
   "id": "cb7619ed",
   "metadata": {
    "hidden": true
   },
   "source": [
    "accuracy(p,y)"
   ]
  },
  {
   "cell_type": "code",
   "execution_count": 78,
   "id": "ed94c6ca",
   "metadata": {
    "hidden": true
   },
   "outputs": [],
   "source": [
    "def fit_model1(inp,prediction,nodes,transitions,v):\n",
    "    prefix = inp.tolist()\n",
    "    start=False\n",
    "    curNode='01'\n",
    "    for i in prefix:\n",
    "        a = v[i]\n",
    "        if a == 'Start':\n",
    "            start=True\n",
    "            continue\n",
    "        if start:\n",
    "            if a not in nodes[curNode]:\n",
    "                raise ValueError('Prefix should be correct')\n",
    "            curNode=transitions['#'.join([curNode,a])]\n",
    "    # check prediction\n",
    "\n",
    "    p = v[prediction]\n",
    "    if p not in nodes[curNode]:\n",
    "        return False\n",
    "    return True\n",
    "\n",
    "def model_check1(inp,predictions,nodes,transitions,v):\n",
    "    res=[]\n",
    "    for i in range(len(inp)):\n",
    "        res.append(fit_model1(inp[i],predictions[i],nodes,transitions,v))\n",
    "    return res\n",
    "\n",
    "def fit_model2(activities,costs,prediction,nodes,transitions,v):\n",
    "    prefix = activities.tolist()\n",
    "    start=False\n",
    "    curNode='01'\n",
    "    for i in prefix:\n",
    "        a = v[i]\n",
    "        if a == 'Start':\n",
    "            start=True\n",
    "            continue\n",
    "        if start:\n",
    "            if a not in nodes[curNode]:\n",
    "                raise ValueError('Prefix should be correct')\n",
    "            curNode=transitions['#'.join([curNode,a])]\n",
    "    # check prediction\n",
    "\n",
    "    p = v[prediction]\n",
    "    if p not in nodes[curNode]:\n",
    "        return False\n",
    "    #print('??',costs[-1],p)\n",
    "    if costs[-1] < 500 and p=='Approve by director':\n",
    "        return False\n",
    "    if costs[-1] > 500 and p=='Approve by manager':\n",
    "        return False   \n",
    "    return True\n",
    "\n",
    "def model_check2(activities,costs,predictions,nodes,transitions,v):\n",
    "    res=[]\n",
    "    for i in range(len(activities)):\n",
    "        res.append(fit_model2(activities[i],costs[i],predictions[i],nodes,transitions,v))\n",
    "    return res\n"
   ]
  },
  {
   "cell_type": "code",
   "execution_count": 79,
   "id": "e7f8a4eb",
   "metadata": {
    "hidden": true
   },
   "outputs": [],
   "source": [
    "def plot_matrix_and_model_score(m,color=\"light:b\"):\n",
    "    m= m.cuda()\n",
    "\n",
    "    p=m(dls.valid_ds.inp[0].cuda(),dls.valid_ds.inp[1].cuda())\n",
    "    p=p.argmax(dim=1).cpu()\n",
    "\n",
    "\n",
    "\n",
    "    y=dls.valid_ds.inp[2][0].cpu()\n",
    "\n",
    "\n",
    "    def pct_cm(cm):\n",
    "        m=np.zeros(cm.shape, dtype=float) \n",
    "        for i in range(len(cm[0])):\n",
    "            summe=sum(cm[:,i])\n",
    "            m[:,i]=(cm[:,i]/summe).round(2) if summe>0 else np.sign(cm[:,i].round(2))\n",
    "        return(m)\n",
    "\n",
    "\n",
    "\n",
    "    cm=confusion_matrix(y, p)\n",
    "    pcm=cm\n",
    "    #pcm=pct_cm(cm)\n",
    "\n",
    "    o.categorify['activity'][y.unique().cpu().tolist()]\n",
    "\n",
    "    vocab=o.categorify['activity'][y.unique().cpu().tolist()]\n",
    "\n",
    "\n",
    "\n",
    "    cm_cols=o.categorify['activity'][np.unique(p.unique().cpu().tolist()+y.unique().cpu().tolist())]\n",
    "\n",
    "\n",
    "    df_cm = pd.DataFrame(pcm, index = cm_cols,\n",
    "                      columns = cm_cols)\n",
    "    plt.figure(figsize = (7,7))\n",
    "    sn.heatmap(df_cm, fmt='g',annot=True,cbar=False, cmap=sn.color_palette(color, as_cmap=True)\n",
    "    )\n",
    "    x=dls.valid_ds.inp[0].cpu().numpy()\n",
    "    v=o.categorify['activity']\n",
    "    res=model_check1(x,p,nodes,transitions,v)\n",
    "    print('model_acc_1',sum(res)/len(res))\n",
    "    mean, std = o.normalize.means['cost'],o.normalize.stds['cost']\n",
    "    costs=dls.valid_ds.inp[1].cpu().numpy()\n",
    "    costs = costs*std +mean\n",
    "    res=model_check2(x,costs,p,nodes,transitions,v)\n",
    "    print('model_acc_2',sum(res)/len(res))"
   ]
  },
  {
   "cell_type": "markdown",
   "id": "e4fe6d9a",
   "metadata": {
    "heading_collapsed": true,
    "hidden": true
   },
   "source": [
    "### Simple RNN"
   ]
  },
  {
   "cell_type": "code",
   "execution_count": 80,
   "id": "75a7bd06",
   "metadata": {
    "hidden": true
   },
   "outputs": [
    {
     "data": {
      "text/html": [],
      "text/plain": [
       "<IPython.core.display.HTML object>"
      ]
     },
     "metadata": {},
     "output_type": "display_data"
    },
    {
     "data": {
      "text/html": [],
      "text/plain": [
       "<IPython.core.display.HTML object>"
      ]
     },
     "metadata": {},
     "output_type": "display_data"
    },
    {
     "data": {
      "text/html": [],
      "text/plain": [
       "<IPython.core.display.HTML object>"
      ]
     },
     "metadata": {},
     "output_type": "display_data"
    },
    {
     "data": {
      "text/html": [],
      "text/plain": [
       "<IPython.core.display.HTML object>"
      ]
     },
     "metadata": {},
     "output_type": "display_data"
    },
    {
     "data": {
      "text/html": [],
      "text/plain": [
       "<IPython.core.display.HTML object>"
      ]
     },
     "metadata": {},
     "output_type": "display_data"
    },
    {
     "data": {
      "text/html": [
       "<table border=\"1\" class=\"dataframe\">\n",
       "  <thead>\n",
       "    <tr style=\"text-align: left;\">\n",
       "      <th>epoch</th>\n",
       "      <th>train_loss</th>\n",
       "      <th>valid_loss</th>\n",
       "      <th>accuracy</th>\n",
       "      <th>time</th>\n",
       "    </tr>\n",
       "  </thead>\n",
       "  <tbody>\n",
       "    <tr>\n",
       "      <td>0</td>\n",
       "      <td>0.298426</td>\n",
       "      <td>0.298628</td>\n",
       "      <td>0.896833</td>\n",
       "      <td>01:05</td>\n",
       "    </tr>\n",
       "    <tr>\n",
       "      <td>1</td>\n",
       "      <td>0.293598</td>\n",
       "      <td>0.298632</td>\n",
       "      <td>0.896833</td>\n",
       "      <td>01:05</td>\n",
       "    </tr>\n",
       "    <tr>\n",
       "      <td>2</td>\n",
       "      <td>0.308395</td>\n",
       "      <td>0.298633</td>\n",
       "      <td>0.896833</td>\n",
       "      <td>01:05</td>\n",
       "    </tr>\n",
       "    <tr>\n",
       "      <td>3</td>\n",
       "      <td>0.288286</td>\n",
       "      <td>0.298631</td>\n",
       "      <td>0.896833</td>\n",
       "      <td>01:06</td>\n",
       "    </tr>\n",
       "  </tbody>\n",
       "</table>"
      ],
      "text/plain": [
       "<IPython.core.display.HTML object>"
      ]
     },
     "metadata": {},
     "output_type": "display_data"
    },
    {
     "name": "stdout",
     "output_type": "stream",
     "text": [
      "Better model found at epoch 0 with valid_loss value: 0.2986283004283905.\n",
      "No improvement since epoch 0: early stopping\n"
     ]
    },
    {
     "data": {
      "text/html": [],
      "text/plain": [
       "<IPython.core.display.HTML object>"
      ]
     },
     "metadata": {},
     "output_type": "display_data"
    },
    {
     "name": "stdout",
     "output_type": "stream",
     "text": [
      "Better model found at epoch 0 with valid_loss value: 0.897724986076355.\n",
      "model_acc_1 1.0\n",
      "model_acc_2 0.8968333333333334\n"
     ]
    },
    {
     "data": {
      "image/png": "[encoded data removed]",
      "text/plain": [
       "<Figure size 432x288 with 1 Axes>"
      ]
     },
     "metadata": {
      "needs_background": "light"
     },
     "output_type": "display_data"
    },
    {
     "data": {
      "image/png": "[encoded data removed]",
      "text/plain": [
       "<Figure size 432x288 with 1 Axes>"
      ]
     },
     "metadata": {
      "needs_background": "light"
     },
     "output_type": "display_data"
    },
    {
     "data": {
      "image/png": "[encoded data removed]",
      "text/plain": [
       "<Figure size 432x288 with 1 Axes>"
      ]
     },
     "metadata": {
      "needs_background": "light"
     },
     "output_type": "display_data"
    },
    {
     "data": {
      "image/png": "[encoded data removed]",
      "text/plain": [
       "<Figure size 432x288 with 1 Axes>"
      ]
     },
     "metadata": {
      "needs_background": "light"
     },
     "output_type": "display_data"
    },
    {
     "data": {
      "image/png": "[encoded data removed]",
      "text/plain": [
       "<Figure size 432x288 with 1 Axes>"
      ]
     },
     "metadata": {
      "needs_background": "light"
     },
     "output_type": "display_data"
    },
    {
     "data": {
      "image/png": "[encoded data removed]",
      "text/plain": [
       "<Figure size 504x504 with 1 Axes>"
      ]
     },
     "metadata": {
      "needs_background": "light"
     },
     "output_type": "display_data"
    }
   ],
   "source": [
    "m1=SimpleRNN(o,True)\n",
    "train_validate(dls,m1,loss=F.cross_entropy,metrics=accuracy,epoch=20,print_output=True)\n",
    "plot_matrix_and_model_score(m1,color=\"light:b\")"
   ]
  },
  {
   "cell_type": "markdown",
   "id": "f3a99352",
   "metadata": {
    "heading_collapsed": true,
    "hidden": true
   },
   "source": [
    "### Camargo Specialized"
   ]
  },
  {
   "cell_type": "code",
   "execution_count": 82,
   "id": "ad0bed1a",
   "metadata": {
    "hidden": true
   },
   "outputs": [
    {
     "data": {
      "text/html": [],
      "text/plain": [
       "<IPython.core.display.HTML object>"
      ]
     },
     "metadata": {},
     "output_type": "display_data"
    },
    {
     "data": {
      "text/html": [],
      "text/plain": [
       "<IPython.core.display.HTML object>"
      ]
     },
     "metadata": {},
     "output_type": "display_data"
    },
    {
     "data": {
      "text/html": [],
      "text/plain": [
       "<IPython.core.display.HTML object>"
      ]
     },
     "metadata": {},
     "output_type": "display_data"
    },
    {
     "data": {
      "text/html": [],
      "text/plain": [
       "<IPython.core.display.HTML object>"
      ]
     },
     "metadata": {},
     "output_type": "display_data"
    },
    {
     "data": {
      "text/html": [],
      "text/plain": [
       "<IPython.core.display.HTML object>"
      ]
     },
     "metadata": {},
     "output_type": "display_data"
    },
    {
     "data": {
      "text/html": [
       "<table border=\"1\" class=\"dataframe\">\n",
       "  <thead>\n",
       "    <tr style=\"text-align: left;\">\n",
       "      <th>epoch</th>\n",
       "      <th>train_loss</th>\n",
       "      <th>valid_loss</th>\n",
       "      <th>accuracy</th>\n",
       "      <th>time</th>\n",
       "    </tr>\n",
       "  </thead>\n",
       "  <tbody>\n",
       "    <tr>\n",
       "      <td>0</td>\n",
       "      <td>1.436440</td>\n",
       "      <td>1.435449</td>\n",
       "      <td>0.936500</td>\n",
       "      <td>01:00</td>\n",
       "    </tr>\n",
       "    <tr>\n",
       "      <td>1</td>\n",
       "      <td>1.432371</td>\n",
       "      <td>1.435449</td>\n",
       "      <td>0.936500</td>\n",
       "      <td>01:00</td>\n",
       "    </tr>\n",
       "    <tr>\n",
       "      <td>2</td>\n",
       "      <td>1.539199</td>\n",
       "      <td>1.530201</td>\n",
       "      <td>0.833333</td>\n",
       "      <td>00:59</td>\n",
       "    </tr>\n",
       "    <tr>\n",
       "      <td>3</td>\n",
       "      <td>2.211052</td>\n",
       "      <td>2.205282</td>\n",
       "      <td>0.166667</td>\n",
       "      <td>01:01</td>\n",
       "    </tr>\n",
       "  </tbody>\n",
       "</table>"
      ],
      "text/plain": [
       "<IPython.core.display.HTML object>"
      ]
     },
     "metadata": {},
     "output_type": "display_data"
    },
    {
     "name": "stdout",
     "output_type": "stream",
     "text": [
      "Better model found at epoch 0 with valid_loss value: 1.4354485273361206.\n",
      "No improvement since epoch 0: early stopping\n"
     ]
    },
    {
     "data": {
      "text/html": [],
      "text/plain": [
       "<IPython.core.display.HTML object>"
      ]
     },
     "metadata": {},
     "output_type": "display_data"
    },
    {
     "name": "stdout",
     "output_type": "stream",
     "text": [
      "Better model found at epoch 0 with valid_loss value: 0.9356083273887634.\n",
      "model_acc_1 1.0\n",
      "model_acc_2 0.9365\n"
     ]
    },
    {
     "data": {
      "image/png": "[encoded data removed]",
      "text/plain": [
       "<Figure size 432x288 with 1 Axes>"
      ]
     },
     "metadata": {
      "needs_background": "light"
     },
     "output_type": "display_data"
    },
    {
     "data": {
      "image/png": "[encoded data removed]",
      "text/plain": [
       "<Figure size 432x288 with 1 Axes>"
      ]
     },
     "metadata": {
      "needs_background": "light"
     },
     "output_type": "display_data"
    },
    {
     "data": {
      "image/png": "[encoded data removed]",
      "text/plain": [
       "<Figure size 432x288 with 1 Axes>"
      ]
     },
     "metadata": {
      "needs_background": "light"
     },
     "output_type": "display_data"
    },
    {
     "data": {
      "image/png": "[encoded data removed]",
      "text/plain": [
       "<Figure size 432x288 with 1 Axes>"
      ]
     },
     "metadata": {
      "needs_background": "light"
     },
     "output_type": "display_data"
    },
    {
     "data": {
      "image/png": "[encoded data removed]",
      "text/plain": [
       "<Figure size 432x288 with 1 Axes>"
      ]
     },
     "metadata": {
      "needs_background": "light"
     },
     "output_type": "display_data"
    },
    {
     "data": {
      "image/png": "[encoded data removed]",
      "text/plain": [
       "<Figure size 504x504 with 1 Axes>"
      ]
     },
     "metadata": {
      "needs_background": "light"
     },
     "output_type": "display_data"
    }
   ],
   "source": [
    "m2=Camargo_specialized(o)\n",
    "train_validate(dls,m2,loss=F.cross_entropy,metrics=accuracy,epoch=20,print_output=True)\n",
    "plot_matrix_and_model_score(m2,'light:salmon')"
   ]
  },
  {
   "cell_type": "code",
   "execution_count": null,
   "id": "8e30a230",
   "metadata": {
    "hidden": true
   },
   "outputs": [],
   "source": [
    "m3=MPPN(o)\n",
    "train_validate(dls,m3,loss=F.cross_entropy,metrics=accuracy,epoch=20,print_output=True)\n",
    "plot_matrix_and_model_score(m3,'light:seagreen')"
   ]
  },
  {
   "cell_type": "markdown",
   "id": "a33a3210",
   "metadata": {
    "heading_collapsed": true,
    "hidden": true
   },
   "source": [
    "### MPPN"
   ]
  },
  {
   "cell_type": "code",
   "execution_count": 48,
   "id": "1d60f52b",
   "metadata": {
    "hidden": true
   },
   "outputs": [],
   "source": [
    "from mppn.mppn import *"
   ]
  },
  {
   "cell_type": "code",
   "execution_count": 49,
   "id": "5e155809",
   "metadata": {
    "hidden": true
   },
   "outputs": [],
   "source": [
    "def mppn_get_output_attributes(o):\n",
    "    output_attributes = {i:len(o.procs.categorify[i]) for i in o.ycat_names }\n",
    "    for i in o.ycont_names: output_attributes[i]=1\n",
    "    return output_attributes"
   ]
  },
  {
   "cell_type": "code",
   "execution_count": 132,
   "id": "6705a2e0",
   "metadata": {
    "hidden": true
   },
   "outputs": [
    {
     "name": "stdout",
     "output_type": "stream",
     "text": [
      "Loading Alexnet to train MPPNs CNN from scratch\n"
     ]
    },
    {
     "data": {
      "text/html": [],
      "text/plain": [
       "<IPython.core.display.HTML object>"
      ]
     },
     "metadata": {},
     "output_type": "display_data"
    },
    {
     "data": {
      "text/html": [],
      "text/plain": [
       "<IPython.core.display.HTML object>"
      ]
     },
     "metadata": {},
     "output_type": "display_data"
    },
    {
     "data": {
      "text/html": [],
      "text/plain": [
       "<IPython.core.display.HTML object>"
      ]
     },
     "metadata": {},
     "output_type": "display_data"
    },
    {
     "data": {
      "text/html": [],
      "text/plain": [
       "<IPython.core.display.HTML object>"
      ]
     },
     "metadata": {},
     "output_type": "display_data"
    },
    {
     "data": {
      "text/html": [],
      "text/plain": [
       "<IPython.core.display.HTML object>"
      ]
     },
     "metadata": {},
     "output_type": "display_data"
    },
    {
     "data": {
      "text/html": [
       "<table border=\"1\" class=\"dataframe\">\n",
       "  <thead>\n",
       "    <tr style=\"text-align: left;\">\n",
       "      <th>epoch</th>\n",
       "      <th>train_loss</th>\n",
       "      <th>valid_loss</th>\n",
       "      <th>accuracy</th>\n",
       "      <th>time</th>\n",
       "    </tr>\n",
       "  </thead>\n",
       "  <tbody>\n",
       "    <tr>\n",
       "      <td>0</td>\n",
       "      <td>0.005266</td>\n",
       "      <td>0.002024</td>\n",
       "      <td>0.999188</td>\n",
       "      <td>02:56</td>\n",
       "    </tr>\n",
       "    <tr>\n",
       "      <td>1</td>\n",
       "      <td>0.003771</td>\n",
       "      <td>0.001812</td>\n",
       "      <td>0.998917</td>\n",
       "      <td>02:58</td>\n",
       "    </tr>\n",
       "    <tr>\n",
       "      <td>2</td>\n",
       "      <td>0.004245</td>\n",
       "      <td>0.001041</td>\n",
       "      <td>0.999583</td>\n",
       "      <td>02:58</td>\n",
       "    </tr>\n",
       "    <tr>\n",
       "      <td>3</td>\n",
       "      <td>0.003211</td>\n",
       "      <td>0.015167</td>\n",
       "      <td>0.998354</td>\n",
       "      <td>02:56</td>\n",
       "    </tr>\n",
       "  </tbody>\n",
       "</table>"
      ],
      "text/plain": [
       "<IPython.core.display.HTML object>"
      ]
     },
     "metadata": {},
     "output_type": "display_data"
    },
    {
     "name": "stdout",
     "output_type": "stream",
     "text": [
      "Better model found at epoch 0 with valid_loss value: 0.0020243427716195583.\n",
      "Better model found at epoch 1 with valid_loss value: 0.0018123299814760685.\n",
      "Better model found at epoch 2 with valid_loss value: 0.001041233423165977.\n",
      "No improvement since epoch 0: early stopping\n"
     ]
    },
    {
     "data": {
      "text/html": [],
      "text/plain": [
       "<IPython.core.display.HTML object>"
      ]
     },
     "metadata": {},
     "output_type": "display_data"
    },
    {
     "name": "stdout",
     "output_type": "stream",
     "text": [
      "Better model found at epoch 0 with valid_loss value: 0.9996833205223083.\n"
     ]
    },
    {
     "data": {
      "text/plain": [
       "0.9996833205223083"
      ]
     },
     "execution_count": 132,
     "metadata": {},
     "output_type": "execute_result"
    },
    {
     "data": {
      "image/png": "[encoded data removed]",
      "text/plain": [
       "<Figure size 432x288 with 1 Axes>"
      ]
     },
     "metadata": {
      "needs_background": "light"
     },
     "output_type": "display_data"
    },
    {
     "data": {
      "image/png": "[encoded data removed]",
      "text/plain": [
       "<Figure size 432x288 with 1 Axes>"
      ]
     },
     "metadata": {
      "needs_background": "light"
     },
     "output_type": "display_data"
    },
    {
     "data": {
      "image/png": "[encoded data removed]",
      "text/plain": [
       "<Figure size 432x288 with 1 Axes>"
      ]
     },
     "metadata": {
      "needs_background": "light"
     },
     "output_type": "display_data"
    },
    {
     "data": {
      "image/png": "[encoded data removed]",
      "text/plain": [
       "<Figure size 432x288 with 1 Axes>"
      ]
     },
     "metadata": {
      "needs_background": "light"
     },
     "output_type": "display_data"
    },
    {
     "data": {
      "image/png": "[encoded data removed]",
      "text/plain": [
       "<Figure size 432x288 with 1 Axes>"
      ]
     },
     "metadata": {
      "needs_background": "light"
     },
     "output_type": "display_data"
    }
   ],
   "source": [
    "o=PPObj(df,[Categorify,Datetify,FillMissing,MinMax],\n",
    "        cat_names=['activity'],cont_names=['cost'],\n",
    "        splits=splits,y_names=['activity'])\n",
    "output_attributes=mppn_get_output_attributes(o)\n",
    "m3 = mppn_representation_learning_model(False, len(o.cont_names), output_attributes)\n",
    "m3 = mppn_fine_tuning_model(m3, len(output_attributes), output_attributes[col])\n",
    "col='activity'\n",
    "dls=o.get_dls(after_batch=gaf_transform,windows=partial(subsequences_fast),bs=32)\n",
    "train_validate(dls,m3,loss=F.cross_entropy,metrics=accuracy,epoch=20)"
   ]
  },
  {
   "cell_type": "markdown",
   "id": "50060647",
   "metadata": {
    "hidden": true
   },
   "source": [
    "Calculate Confusion Matrix"
   ]
  },
  {
   "cell_type": "code",
   "execution_count": 156,
   "id": "b903681b",
   "metadata": {
    "hidden": true
   },
   "outputs": [
    {
     "data": {
      "text/plain": [
       "<AxesSubplot:>"
      ]
     },
     "execution_count": 156,
     "metadata": {},
     "output_type": "execute_result"
    },
    {
     "data": {
      "image/png": "[encoded data removed]",
      "text/plain": [
       "<Figure size 504x504 with 1 Axes>"
      ]
     },
     "metadata": {
      "needs_background": "light"
     },
     "output_type": "display_data"
    }
   ],
   "source": [
    "\n",
    "m =  m3.cuda()\n",
    "ps,ys=[],[]\n",
    "for b in dls.valid:  \n",
    "    p=m(b[0].cuda())\n",
    "    p=p.argmax(dim=1).cpu()\n",
    "    y=b[1].cpu()\n",
    "    ps+=p.tolist()\n",
    "    ys+=y.tolist()\n",
    "color= 'light:seagreen'\n",
    "p,y =tensor(ps),tensor(ys)\n",
    "cm=confusion_matrix(y, p)\n",
    "pcm=cm\n",
    "#pcm=pct_cm(cm)\n",
    "\n",
    "o.categorify['activity'][y.unique().cpu().tolist()]\n",
    "\n",
    "vocab=o.categorify['activity'][y.unique().cpu().tolist()]\n",
    "\n",
    "\n",
    "\n",
    "cm_cols=o.categorify['activity'][np.unique(p.unique().cpu().tolist()+y.unique().cpu().tolist())]\n",
    "\n",
    "\n",
    "df_cm = pd.DataFrame(pcm, index = cm_cols,\n",
    "                  columns = cm_cols)\n",
    "plt.figure(figsize = (7,7))\n",
    "sn.heatmap(df_cm, fmt='g',annot=True,cbar=False, cmap=sn.color_palette(color, as_cmap=True)\n",
    ")\n",
    "\n"
   ]
  },
  {
   "cell_type": "markdown",
   "id": "94700005",
   "metadata": {
    "hidden": true
   },
   "source": [
    "Calculate Model scores\n",
    "- Model 1 is without cost, only control-flow\n",
    "- Model 2 is with cost"
   ]
  },
  {
   "cell_type": "code",
   "execution_count": 163,
   "id": "caee5872",
   "metadata": {
    "hidden": true
   },
   "outputs": [
    {
     "name": "stdout",
     "output_type": "stream",
     "text": [
      "model_acc_1 1.0\n",
      "model_acc_2 0.9995833333333334\n"
     ]
    }
   ],
   "source": [
    "x=dls.valid_ds.inp[0][:,0].cpu().numpy()\n",
    "minn, maxx = o.min_max.mins['activity'],o.min_max.maxs['activity']\n",
    "x = x*(maxx-minn) +minn\n",
    "x=x.astype(int)\n",
    "v=o.categorify['activity']\n",
    "res=model_check1(x,p,nodes,transitions,v)\n",
    "print('model_acc_1',sum(res)/len(res))\n",
    "minn, maxx = o.min_max.mins['cost'],o.min_max.maxs['cost']\n",
    "costs=dls.valid_ds.inp[0][:,1].cpu().numpy()\n",
    "costs = costs*(maxx-minn) +minn\n",
    "res=model_check2(x,costs,p,nodes,transitions,v)\n",
    "print('model_acc_2',sum(res)/len(res))"
   ]
  },
  {
   "cell_type": "code",
   "execution_count": 164,
   "id": "bc73d38f",
   "metadata": {
    "hidden": true
   },
   "outputs": [
    {
     "name": "stdout",
     "output_type": "stream",
     "text": [
      "\\begin{tabular}{lrr}\n",
      "\\toprule\n",
      "{} &  Net-step Accuracy &  Model Assessment \\\\\n",
      "\\midrule\n",
      "Simple RNN          &              0.897 &             0.897 \\\\\n",
      "Camargo Specialiced &              0.936 &             0.936 \\\\\n",
      "MPPN                &              1.000 &             1.000 \\\\\n",
      "\\bottomrule\n",
      "\\end{tabular}\n",
      "\n"
     ]
    }
   ],
   "source": [
    "inp = [\n",
    "    [0.8968333333333334,0.896833],\n",
    "    [0.9365,0.9365],\n",
    "    [0.999583,0.9995833333333334],\n",
    "]\n",
    "print(pd.DataFrame(inp,columns=['Net-step Accuracy','Model Assessment'],index=['Simple RNN','Camargo Specialiced','MPPN']).round(3).to_latex())"
   ]
  }
 ],
 "metadata": {
  "kernelspec": {
   "display_name": "mppn",
   "language": "python",
   "name": "mppn"
  },
  "language_info": {
   "codemirror_mode": {
    "name": "ipython",
    "version": 3
   },
   "file_extension": ".py",
   "mimetype": "text/x-python",
   "name": "python",
   "nbconvert_exporter": "python",
   "pygments_lexer": "ipython3",
   "version": "3.7.10"
  }
 },
 "nbformat": 4,
 "nbformat_minor": 5
}
