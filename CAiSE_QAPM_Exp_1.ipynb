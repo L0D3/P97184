{
 "cells": [
  {
   "cell_type": "markdown",
   "id": "be9611df",
   "metadata": {
    "toc": true
   },
   "source": [
    "<h1>Table of Contents<span class=\"tocSkip\"></span></h1>\n",
    "<div class=\"toc\"><ul class=\"toc-item\"><li><span><a href=\"#Simulation\" data-toc-modified-id=\"Simulation-1\"><span class=\"toc-item-num\">1&nbsp;&nbsp;</span>Simulation</a></span><ul class=\"toc-item\"><li><span><a href=\"#Generate-Petri-Net\" data-toc-modified-id=\"Generate-Petri-Net-1.1\"><span class=\"toc-item-num\">1.1&nbsp;&nbsp;</span>Generate Petri Net</a></span></li><li><span><a href=\"#Create-Reachability-Graph\" data-toc-modified-id=\"Create-Reachability-Graph-1.2\"><span class=\"toc-item-num\">1.2&nbsp;&nbsp;</span>Create Reachability Graph</a></span></li><li><span><a href=\"#Simulate-Event-Logs\" data-toc-modified-id=\"Simulate-Event-Logs-1.3\"><span class=\"toc-item-num\">1.3&nbsp;&nbsp;</span>Simulate Event Logs</a></span></li></ul></li><li><span><a href=\"#Deep-Learning\" data-toc-modified-id=\"Deep-Learning-2\"><span class=\"toc-item-num\">2&nbsp;&nbsp;</span>Deep Learning</a></span><ul class=\"toc-item\"><li><span><a href=\"#Simple-LSTM\" data-toc-modified-id=\"Simple-LSTM-2.1\"><span class=\"toc-item-num\">2.1&nbsp;&nbsp;</span>Simple-LSTM</a></span></li></ul></li></ul></div>"
   ]
  },
  {
   "cell_type": "markdown",
   "id": "5472409c",
   "metadata": {},
   "source": [
    "# Experiment 1"
   ]
  },
  {
   "cell_type": "markdown",
   "id": "60b29333",
   "metadata": {},
   "source": [
    "## Simulation"
   ]
  },
  {
   "cell_type": "markdown",
   "id": "fb175c6c",
   "metadata": {},
   "source": [
    "### Generate Petri Net"
   ]
  },
  {
   "cell_type": "code",
   "execution_count": 1,
   "id": "3a1581d6",
   "metadata": {},
   "outputs": [],
   "source": [
    "from pm4py.objects.petri_net.obj import PetriNet, Marking\n",
    "from pm4py.objects.petri_net.utils import petri_utils\n",
    "from sklearn.metrics import confusion_matrix\n",
    "import pm4py\n",
    "import seaborn as sn\n",
    "import pandas as pd\n",
    "import matplotlib.pyplot as plt"
   ]
  },
  {
   "cell_type": "code",
   "execution_count": 2,
   "id": "b987f240",
   "metadata": {},
   "outputs": [],
   "source": [
    "net = PetriNet(\"new_petri_net\")\n"
   ]
  },
  {
   "cell_type": "code",
   "execution_count": 3,
   "id": "ac019cb4",
   "metadata": {},
   "outputs": [],
   "source": [
    "transition_names= [ \n",
    "'Invoice Accepted',\n",
    "'Pay Expenses',\n",
    "'Check receipt',\n",
    "'Finish',\n",
    "'Check Invoice',\n",
    "'Archive Invoice',\n",
    "]"
   ]
  },
  {
   "cell_type": "code",
   "execution_count": 4,
   "id": "11c7e4e2",
   "metadata": {},
   "outputs": [],
   "source": [
    "places=[]\n",
    "for i in range(8):\n",
    "    p=PetriNet.Place(str(i))\n",
    "    net.places.add(p)\n",
    "    places.append(p)"
   ]
  },
  {
   "cell_type": "code",
   "execution_count": 5,
   "id": "757e6b89",
   "metadata": {},
   "outputs": [],
   "source": [
    "transitions=[]\n",
    "for i,tn in enumerate(transition_names):\n",
    "    t=PetriNet.Transition(str(i),tn)\n",
    "    net.transitions.add(t)\n",
    "    transitions.append(t)"
   ]
  },
  {
   "cell_type": "code",
   "execution_count": 6,
   "id": "bc1a86cc",
   "metadata": {},
   "outputs": [
    {
     "data": {
      "text/plain": [
       "[0, 1, 2, 3, 4, 5, 6, 7]"
      ]
     },
     "execution_count": 6,
     "metadata": {},
     "output_type": "execute_result"
    }
   ],
   "source": [
    "places"
   ]
  },
  {
   "cell_type": "code",
   "execution_count": 7,
   "id": "4b9155ca",
   "metadata": {},
   "outputs": [
    {
     "data": {
      "text/plain": [
       "([0, 1, 2, 3, 4, 5, 6, 7],\n",
       " [(0, 'Invoice Accepted'),\n",
       "  (1, 'Pay Expenses'),\n",
       "  (2, 'Check receipt'),\n",
       "  (3, 'Finish'),\n",
       "  (4, 'Check Invoice'),\n",
       "  (5, 'Archive Invoice')])"
      ]
     },
     "execution_count": 7,
     "metadata": {},
     "output_type": "execute_result"
    }
   ],
   "source": [
    "places,transitions"
   ]
  },
  {
   "cell_type": "code",
   "execution_count": 8,
   "id": "930ba035",
   "metadata": {},
   "outputs": [],
   "source": [
    "def add_arc_from_place(p,t):\n",
    "    petri_utils.add_arc_from_to(places[p], transitions[t], net)\n",
    "def add_arc_from_transition(t,p):\n",
    "    petri_utils.add_arc_from_to(transitions[t],places[p], net)\n",
    "\n",
    "for i in range(4):\n",
    "    add_arc_from_place(i,i)\n",
    "    add_arc_from_transition(i,i+1)\n",
    "    \n",
    "add_arc_from_transition(0,5)\n",
    "add_arc_from_place(5,4)\n",
    "add_arc_from_transition(4,6)\n",
    "add_arc_from_place(6,5)\n",
    "add_arc_from_transition(5,7)\n",
    "#add_arc_from_transition(5,7)\n",
    "#add_arc_from_transition(0,6)\n",
    "#add_arc_from_transition(0,6)\n",
    "\n",
    "    "
   ]
  },
  {
   "cell_type": "code",
   "execution_count": 9,
   "id": "bedb714d",
   "metadata": {},
   "outputs": [],
   "source": [
    "initial_marking=Marking()\n",
    "initial_marking[places[0]]=1\n",
    "#final_marking=Marking()\n",
    "#final_marking[places[4]]=1\n",
    "# final_marking[places[7]]=1"
   ]
  },
  {
   "cell_type": "code",
   "execution_count": 10,
   "id": "bb2228b4",
   "metadata": {},
   "outputs": [
    {
     "data": {
      "image/png": "[encoded data removed]",
      "text/plain": [
       "<IPython.core.display.Image object>"
      ]
     },
     "metadata": {},
     "output_type": "display_data"
    }
   ],
   "source": [
    "from pm4py.visualization.petri_net import visualizer as pn_visualizer\n",
    "\n",
    "gviz = pn_visualizer.apply(net, initial_marking)\n",
    "pn_visualizer.view(gviz)"
   ]
  },
  {
   "cell_type": "code",
   "execution_count": 11,
   "id": "0d42882f",
   "metadata": {},
   "outputs": [],
   "source": [
    "parameters = {pn_visualizer.Variants.WO_DECORATION.value.Parameters.FORMAT: \"png\"}\n",
    "gviz = pn_visualizer.apply(net, initial_marking, parameters=parameters)\n",
    "pn_visualizer.save(gviz, \"model_1.png\")"
   ]
  },
  {
   "cell_type": "code",
   "execution_count": 12,
   "id": "533f71ee",
   "metadata": {},
   "outputs": [],
   "source": [
    "from pm4py.objects.petri_net.exporter import exporter as pnml_exporter\n",
    "pnml_exporter.apply(net, initial_marking, \"experiment_1.pnml\")"
   ]
  },
  {
   "cell_type": "markdown",
   "id": "9a5c1a01",
   "metadata": {},
   "source": [
    "### Create Reachability Graph"
   ]
  },
  {
   "cell_type": "code",
   "execution_count": 13,
   "id": "6520a542",
   "metadata": {},
   "outputs": [],
   "source": [
    "from pm4py.objects.petri_net.utils import reachability_graph\n",
    "\n",
    "reach = reachability_graph.construct_reachability_graph(net, initial_marking)"
   ]
  },
  {
   "cell_type": "code",
   "execution_count": 14,
   "id": "87903e77",
   "metadata": {},
   "outputs": [
    {
     "data": {
      "image/png": "[encoded data removed]",
      "text/plain": [
       "<IPython.core.display.Image object>"
      ]
     },
     "metadata": {},
     "output_type": "display_data"
    }
   ],
   "source": [
    "from pm4py.visualization.transition_system import visualizer as ts_visualizer\n",
    "\n",
    "gviz = ts_visualizer.apply(reach)\n",
    "ts_visualizer.view(gviz)"
   ]
  },
  {
   "cell_type": "code",
   "execution_count": 15,
   "id": "639d8035",
   "metadata": {},
   "outputs": [],
   "source": [
    "parameters = {ts_visualizer.Variants.VIEW_BASED.value.Parameters.FORMAT: \"png\"}\n",
    "gviz = ts_visualizer.apply(reach, parameters=parameters)\n",
    "pn_visualizer.save(gviz, \"reach_graph_model_1.png\")"
   ]
  },
  {
   "cell_type": "markdown",
   "id": "5ebf9cf6",
   "metadata": {},
   "source": [
    "### Simulate Event Logs"
   ]
  },
  {
   "cell_type": "code",
   "execution_count": 16,
   "id": "4e07bb60",
   "metadata": {},
   "outputs": [
    {
     "name": "stdout",
     "output_type": "stream",
     "text": [
      "CPU times: user 19.7 s, sys: 223 ms, total: 20 s\n",
      "Wall time: 20 s\n"
     ]
    }
   ],
   "source": [
    "%%time\n",
    "\n",
    "from pm4py.algo.simulation.playout.petri_net import algorithm as simulator\n",
    "\n",
    "simulated_log = simulator.apply(net, initial_marking, variant=simulator.Variants.BASIC_PLAYOUT, parameters={simulator.Variants.BASIC_PLAYOUT.value.Parameters.NO_TRACES: 100000})"
   ]
  },
  {
   "cell_type": "code",
   "execution_count": 17,
   "id": "76a44dc8",
   "metadata": {},
   "outputs": [
    {
     "name": "stdout",
     "output_type": "stream",
     "text": [
      "CPU times: user 2.24 s, sys: 60.4 ms, total: 2.3 s\n",
      "Wall time: 2.3 s\n"
     ]
    }
   ],
   "source": [
    "%%time\n",
    "from pm4py.objects.conversion.log import converter as log_converter\n",
    "df = log_converter.apply(simulated_log, variant=log_converter.Variants.TO_DATA_FRAME)"
   ]
  },
  {
   "cell_type": "code",
   "execution_count": 18,
   "id": "bc0a5187",
   "metadata": {},
   "outputs": [
    {
     "data": {
      "text/html": [
       "<div>\n",
       "<style scoped>\n",
       "    .dataframe tbody tr th:only-of-type {\n",
       "        vertical-align: middle;\n",
       "    }\n",
       "\n",
       "    .dataframe tbody tr th {\n",
       "        vertical-align: top;\n",
       "    }\n",
       "\n",
       "    .dataframe thead th {\n",
       "        text-align: right;\n",
       "    }\n",
       "</style>\n",
       "<table border=\"1\" class=\"dataframe\">\n",
       "  <thead>\n",
       "    <tr style=\"text-align: right;\">\n",
       "      <th></th>\n",
       "      <th>concept:name</th>\n",
       "      <th>time:timestamp</th>\n",
       "      <th>case:concept:name</th>\n",
       "    </tr>\n",
       "  </thead>\n",
       "  <tbody>\n",
       "    <tr>\n",
       "      <th>0</th>\n",
       "      <td>Invoice Accepted</td>\n",
       "      <td>1970-04-26 17:46:40</td>\n",
       "      <td>0</td>\n",
       "    </tr>\n",
       "    <tr>\n",
       "      <th>1</th>\n",
       "      <td>Check Invoice</td>\n",
       "      <td>1970-04-26 17:46:41</td>\n",
       "      <td>0</td>\n",
       "    </tr>\n",
       "    <tr>\n",
       "      <th>2</th>\n",
       "      <td>Archive Invoice</td>\n",
       "      <td>1970-04-26 17:46:42</td>\n",
       "      <td>0</td>\n",
       "    </tr>\n",
       "    <tr>\n",
       "      <th>3</th>\n",
       "      <td>Pay Expenses</td>\n",
       "      <td>1970-04-26 17:46:43</td>\n",
       "      <td>0</td>\n",
       "    </tr>\n",
       "    <tr>\n",
       "      <th>4</th>\n",
       "      <td>Check receipt</td>\n",
       "      <td>1970-04-26 17:46:44</td>\n",
       "      <td>0</td>\n",
       "    </tr>\n",
       "    <tr>\n",
       "      <th>...</th>\n",
       "      <td>...</td>\n",
       "      <td>...</td>\n",
       "      <td>...</td>\n",
       "    </tr>\n",
       "    <tr>\n",
       "      <th>599995</th>\n",
       "      <td>Pay Expenses</td>\n",
       "      <td>1970-05-03 16:26:35</td>\n",
       "      <td>99999</td>\n",
       "    </tr>\n",
       "    <tr>\n",
       "      <th>599996</th>\n",
       "      <td>Check receipt</td>\n",
       "      <td>1970-05-03 16:26:36</td>\n",
       "      <td>99999</td>\n",
       "    </tr>\n",
       "    <tr>\n",
       "      <th>599997</th>\n",
       "      <td>Check Invoice</td>\n",
       "      <td>1970-05-03 16:26:37</td>\n",
       "      <td>99999</td>\n",
       "    </tr>\n",
       "    <tr>\n",
       "      <th>599998</th>\n",
       "      <td>Finish</td>\n",
       "      <td>1970-05-03 16:26:38</td>\n",
       "      <td>99999</td>\n",
       "    </tr>\n",
       "    <tr>\n",
       "      <th>599999</th>\n",
       "      <td>Archive Invoice</td>\n",
       "      <td>1970-05-03 16:26:39</td>\n",
       "      <td>99999</td>\n",
       "    </tr>\n",
       "  </tbody>\n",
       "</table>\n",
       "<p>600000 rows × 3 columns</p>\n",
       "</div>"
      ],
      "text/plain": [
       "            concept:name      time:timestamp case:concept:name\n",
       "0       Invoice Accepted 1970-04-26 17:46:40                 0\n",
       "1          Check Invoice 1970-04-26 17:46:41                 0\n",
       "2        Archive Invoice 1970-04-26 17:46:42                 0\n",
       "3           Pay Expenses 1970-04-26 17:46:43                 0\n",
       "4          Check receipt 1970-04-26 17:46:44                 0\n",
       "...                  ...                 ...               ...\n",
       "599995      Pay Expenses 1970-05-03 16:26:35             99999\n",
       "599996     Check receipt 1970-05-03 16:26:36             99999\n",
       "599997     Check Invoice 1970-05-03 16:26:37             99999\n",
       "599998            Finish 1970-05-03 16:26:38             99999\n",
       "599999   Archive Invoice 1970-05-03 16:26:39             99999\n",
       "\n",
       "[600000 rows x 3 columns]"
      ]
     },
     "execution_count": 18,
     "metadata": {},
     "output_type": "execute_result"
    }
   ],
   "source": [
    "df"
   ]
  },
  {
   "cell_type": "code",
   "execution_count": 19,
   "id": "f757b5af",
   "metadata": {},
   "outputs": [
    {
     "data": {
      "application/vnd.jupyter.widget-view+json": {
       "model_id": "f9590ea9c23e4944b5ed9b5d664bb7db",
       "version_major": 2,
       "version_minor": 0
      },
      "text/plain": [
       "exporting log, completed traces ::   0%|          | 0/100000 [00:00<?, ?it/s]"
      ]
     },
     "metadata": {},
     "output_type": "display_data"
    }
   ],
   "source": [
    "from pm4py.objects.log.exporter.xes import exporter as xes_exporter\n",
    "\n",
    "xes_exporter.apply(df, \"experiment_1.xes\")"
   ]
  },
  {
   "cell_type": "code",
   "execution_count": 20,
   "id": "611818a7",
   "metadata": {},
   "outputs": [],
   "source": [
    "df.rename({'concept:name':'activity','case:concept:name':'trace_id','time:timestamp':'timestamp'},axis=1,inplace=True)"
   ]
  },
  {
   "cell_type": "code",
   "execution_count": 21,
   "id": "d87addd6",
   "metadata": {},
   "outputs": [],
   "source": [
    "df.set_index('trace_id',inplace=True)"
   ]
  },
  {
   "cell_type": "code",
   "execution_count": 22,
   "id": "ea999283",
   "metadata": {},
   "outputs": [
    {
     "data": {
      "text/html": [
       "<div>\n",
       "<style scoped>\n",
       "    .dataframe tbody tr th:only-of-type {\n",
       "        vertical-align: middle;\n",
       "    }\n",
       "\n",
       "    .dataframe tbody tr th {\n",
       "        vertical-align: top;\n",
       "    }\n",
       "\n",
       "    .dataframe thead th {\n",
       "        text-align: right;\n",
       "    }\n",
       "</style>\n",
       "<table border=\"1\" class=\"dataframe\">\n",
       "  <thead>\n",
       "    <tr style=\"text-align: right;\">\n",
       "      <th></th>\n",
       "      <th>trace_id</th>\n",
       "      <th>activity</th>\n",
       "    </tr>\n",
       "  </thead>\n",
       "  <tbody>\n",
       "    <tr>\n",
       "      <th>0</th>\n",
       "      <td>0</td>\n",
       "      <td>Invoice Accepted</td>\n",
       "    </tr>\n",
       "    <tr>\n",
       "      <th>1</th>\n",
       "      <td>0</td>\n",
       "      <td>Check Invoice</td>\n",
       "    </tr>\n",
       "    <tr>\n",
       "      <th>2</th>\n",
       "      <td>0</td>\n",
       "      <td>Archive Invoice</td>\n",
       "    </tr>\n",
       "    <tr>\n",
       "      <th>3</th>\n",
       "      <td>0</td>\n",
       "      <td>Pay Expenses</td>\n",
       "    </tr>\n",
       "    <tr>\n",
       "      <th>4</th>\n",
       "      <td>0</td>\n",
       "      <td>Check receipt</td>\n",
       "    </tr>\n",
       "    <tr>\n",
       "      <th>...</th>\n",
       "      <td>...</td>\n",
       "      <td>...</td>\n",
       "    </tr>\n",
       "    <tr>\n",
       "      <th>599995</th>\n",
       "      <td>99999</td>\n",
       "      <td>Pay Expenses</td>\n",
       "    </tr>\n",
       "    <tr>\n",
       "      <th>599996</th>\n",
       "      <td>99999</td>\n",
       "      <td>Check receipt</td>\n",
       "    </tr>\n",
       "    <tr>\n",
       "      <th>599997</th>\n",
       "      <td>99999</td>\n",
       "      <td>Check Invoice</td>\n",
       "    </tr>\n",
       "    <tr>\n",
       "      <th>599998</th>\n",
       "      <td>99999</td>\n",
       "      <td>Finish</td>\n",
       "    </tr>\n",
       "    <tr>\n",
       "      <th>599999</th>\n",
       "      <td>99999</td>\n",
       "      <td>Archive Invoice</td>\n",
       "    </tr>\n",
       "  </tbody>\n",
       "</table>\n",
       "<p>600000 rows × 2 columns</p>\n",
       "</div>"
      ],
      "text/plain": [
       "       trace_id          activity\n",
       "0             0  Invoice Accepted\n",
       "1             0     Check Invoice\n",
       "2             0   Archive Invoice\n",
       "3             0      Pay Expenses\n",
       "4             0     Check receipt\n",
       "...         ...               ...\n",
       "599995    99999      Pay Expenses\n",
       "599996    99999     Check receipt\n",
       "599997    99999     Check Invoice\n",
       "599998    99999            Finish\n",
       "599999    99999   Archive Invoice\n",
       "\n",
       "[600000 rows x 2 columns]"
      ]
     },
     "execution_count": 22,
     "metadata": {},
     "output_type": "execute_result"
    }
   ],
   "source": [
    "res=[]\n",
    "for i,g in df.groupby(df.index):\n",
    "    for a in g['activity']:\n",
    "        res.append([i,a])\n",
    "df=pd.DataFrame(res,columns=['trace_id','activity'])\n",
    "df"
   ]
  },
  {
   "cell_type": "code",
   "execution_count": 23,
   "id": "a1387f56",
   "metadata": {},
   "outputs": [],
   "source": [
    "df.set_index('trace_id',inplace=True)"
   ]
  },
  {
   "cell_type": "code",
   "execution_count": 24,
   "id": "1878a567",
   "metadata": {},
   "outputs": [],
   "source": [
    "df['event_id']=df.groupby(df.index).cumcount()"
   ]
  },
  {
   "cell_type": "code",
   "execution_count": 25,
   "id": "49616e07",
   "metadata": {},
   "outputs": [
    {
     "data": {
      "text/plain": [
       "100000"
      ]
     },
     "execution_count": 25,
     "metadata": {},
     "output_type": "execute_result"
    }
   ],
   "source": [
    "len(df.index.unique())"
   ]
  },
  {
   "cell_type": "code",
   "execution_count": 26,
   "id": "c836e0a9",
   "metadata": {},
   "outputs": [
    {
     "data": {
      "text/plain": [
       "0    24778\n",
       "1    12611\n",
       "2    12594\n",
       "3    12552\n",
       "4     6341\n",
       "5     6330\n",
       "6     6302\n",
       "7     6224\n",
       "8     6184\n",
       "9     6084\n",
       "Name: activity, dtype: int64"
      ]
     },
     "execution_count": 26,
     "metadata": {},
     "output_type": "execute_result"
    },
    {
     "data": {
      "image/png": "[encoded data removed]",
      "text/plain": [
       "<Figure size 432x288 with 1 Axes>"
      ]
     },
     "metadata": {
      "needs_background": "light"
     },
     "output_type": "display_data"
    }
   ],
   "source": [
    "traces=df.groupby(df.index)['activity'].apply(lambda x:\"->\".join(list(x)))\n",
    "\n",
    "traces = traces.value_counts()\n",
    "\n",
    "traces.index = range(len(traces))\n",
    "\n",
    "traces.plot()\n",
    "traces"
   ]
  },
  {
   "cell_type": "markdown",
   "id": "e9ca48ac",
   "metadata": {},
   "source": [
    "## Deep Learning"
   ]
  },
  {
   "cell_type": "code",
   "execution_count": 27,
   "id": "a48d07b8",
   "metadata": {},
   "outputs": [],
   "source": [
    "from mppn.imports import *\n",
    "from mppn.preprocessing import *\n",
    "from mppn.pipeline import *\n",
    "from mppn.baselines import *"
   ]
  },
  {
   "cell_type": "code",
   "execution_count": 28,
   "id": "3929959b",
   "metadata": {},
   "outputs": [],
   "source": [
    "seed = 99\n",
    "splits = split_traces(df,validation_seed=seed,test_seed=seed)"
   ]
  },
  {
   "cell_type": "code",
   "execution_count": 29,
   "id": "a14adb2f",
   "metadata": {},
   "outputs": [
    {
     "data": {
      "text/html": [
       "<div>\n",
       "<style scoped>\n",
       "    .dataframe tbody tr th:only-of-type {\n",
       "        vertical-align: middle;\n",
       "    }\n",
       "\n",
       "    .dataframe tbody tr th {\n",
       "        vertical-align: top;\n",
       "    }\n",
       "\n",
       "    .dataframe thead th {\n",
       "        text-align: right;\n",
       "    }\n",
       "</style>\n",
       "<table border=\"1\" class=\"dataframe\">\n",
       "  <thead>\n",
       "    <tr style=\"text-align: right;\">\n",
       "      <th></th>\n",
       "      <th>activity</th>\n",
       "      <th>event_id</th>\n",
       "    </tr>\n",
       "    <tr>\n",
       "      <th>trace_id</th>\n",
       "      <th></th>\n",
       "      <th></th>\n",
       "    </tr>\n",
       "  </thead>\n",
       "  <tbody>\n",
       "    <tr>\n",
       "      <th>0</th>\n",
       "      <td>Invoice Accepted</td>\n",
       "      <td>0</td>\n",
       "    </tr>\n",
       "    <tr>\n",
       "      <th>0</th>\n",
       "      <td>Check Invoice</td>\n",
       "      <td>1</td>\n",
       "    </tr>\n",
       "    <tr>\n",
       "      <th>0</th>\n",
       "      <td>Archive Invoice</td>\n",
       "      <td>2</td>\n",
       "    </tr>\n",
       "    <tr>\n",
       "      <th>0</th>\n",
       "      <td>Pay Expenses</td>\n",
       "      <td>3</td>\n",
       "    </tr>\n",
       "    <tr>\n",
       "      <th>0</th>\n",
       "      <td>Check receipt</td>\n",
       "      <td>4</td>\n",
       "    </tr>\n",
       "    <tr>\n",
       "      <th>...</th>\n",
       "      <td>...</td>\n",
       "      <td>...</td>\n",
       "    </tr>\n",
       "    <tr>\n",
       "      <th>99999</th>\n",
       "      <td>Pay Expenses</td>\n",
       "      <td>1</td>\n",
       "    </tr>\n",
       "    <tr>\n",
       "      <th>99999</th>\n",
       "      <td>Check receipt</td>\n",
       "      <td>2</td>\n",
       "    </tr>\n",
       "    <tr>\n",
       "      <th>99999</th>\n",
       "      <td>Check Invoice</td>\n",
       "      <td>3</td>\n",
       "    </tr>\n",
       "    <tr>\n",
       "      <th>99999</th>\n",
       "      <td>Finish</td>\n",
       "      <td>4</td>\n",
       "    </tr>\n",
       "    <tr>\n",
       "      <th>99999</th>\n",
       "      <td>Archive Invoice</td>\n",
       "      <td>5</td>\n",
       "    </tr>\n",
       "  </tbody>\n",
       "</table>\n",
       "<p>600000 rows × 2 columns</p>\n",
       "</div>"
      ],
      "text/plain": [
       "                  activity  event_id\n",
       "trace_id                            \n",
       "0         Invoice Accepted         0\n",
       "0            Check Invoice         1\n",
       "0          Archive Invoice         2\n",
       "0             Pay Expenses         3\n",
       "0            Check receipt         4\n",
       "...                    ...       ...\n",
       "99999         Pay Expenses         1\n",
       "99999        Check receipt         2\n",
       "99999        Check Invoice         3\n",
       "99999               Finish         4\n",
       "99999      Archive Invoice         5\n",
       "\n",
       "[600000 rows x 2 columns]"
      ]
     },
     "execution_count": 29,
     "metadata": {},
     "output_type": "execute_result"
    }
   ],
   "source": [
    "df"
   ]
  },
  {
   "cell_type": "code",
   "execution_count": 30,
   "id": "763e2fc5",
   "metadata": {},
   "outputs": [
    {
     "name": "stdout",
     "output_type": "stream",
     "text": [
      "#traces: 100000 #events: 600000\n"
     ]
    },
    {
     "data": {
      "text/html": [
       "<table border=\"1\" class=\"dataframe\">\n",
       "  <thead>\n",
       "    <tr style=\"text-align: right;\">\n",
       "      <th></th>\n",
       "      <th>activity</th>\n",
       "    </tr>\n",
       "    <tr>\n",
       "      <th>trace_id</th>\n",
       "      <th></th>\n",
       "    </tr>\n",
       "  </thead>\n",
       "  <tbody>\n",
       "    <tr>\n",
       "      <th>27288</th>\n",
       "      <td>5</td>\n",
       "    </tr>\n",
       "    <tr>\n",
       "      <th>27288</th>\n",
       "      <td>6</td>\n",
       "    </tr>\n",
       "  </tbody>\n",
       "</table>"
      ],
      "text/plain": [
       "<IPython.core.display.HTML object>"
      ]
     },
     "metadata": {},
     "output_type": "display_data"
    },
    {
     "data": {
      "text/plain": [
       "(torch.Size([64, 5]), torch.Size([64]))"
      ]
     },
     "execution_count": 30,
     "metadata": {},
     "output_type": "execute_result"
    }
   ],
   "source": [
    "o=PPObj(df,[Categorify()],cat_names=['activity'],y_names='activity',splits=splits)\n",
    "o.show(max_n=2)\n",
    "dls=o.get_dls(windows=partial(subsequences_fast,min_ws=0))\n",
    "xcat,y=dls.one_batch()\n",
    "xcat.shape,y.shape"
   ]
  },
  {
   "cell_type": "code",
   "execution_count": 31,
   "id": "49934a86",
   "metadata": {},
   "outputs": [],
   "source": [
    "class Camargo_specialized(torch.nn.Module) :\n",
    "    def __init__(self, o) :\n",
    "        super().__init__()\n",
    "        hidden=25\n",
    "        vocab_act=len(o.procs.categorify['activity'])\n",
    "        emb_dim_act = int(sqrt(vocab_act))+1\n",
    "\n",
    "        self.emb_act = nn.Embedding(vocab_act,emb_dim_act)\n",
    "\n",
    "        self.lstm_act = nn.LSTM(emb_dim_act, hidden, batch_first=True, num_layers=2)\n",
    "\n",
    "        self.linear_act = nn.Linear(hidden, vocab_act)\n",
    "    def forward(self, xcat):\n",
    "        x_act = self.emb_act(xcat)\n",
    "        x_act,_ = self.lstm_act(x_act)\n",
    "        x_act = x_act[:,-1]\n",
    "        x_act = self.linear_act(x_act)\n",
    "        x_act = F.softmax(x_act,dim=1)\n",
    "\n",
    "        return x_act"
   ]
  },
  {
   "cell_type": "code",
   "execution_count": 32,
   "id": "ad708417",
   "metadata": {},
   "outputs": [],
   "source": [
    "m=Camargo_specialized(o)"
   ]
  },
  {
   "cell_type": "code",
   "execution_count": 33,
   "id": "e0a5dbe5",
   "metadata": {},
   "outputs": [],
   "source": [
    "p=m(xcat)"
   ]
  },
  {
   "cell_type": "code",
   "execution_count": 34,
   "id": "269380ff",
   "metadata": {},
   "outputs": [
    {
     "data": {
      "text/plain": [
       "tensor(1.9470, grad_fn=<NllLossBackward>)"
      ]
     },
     "execution_count": 34,
     "metadata": {},
     "output_type": "execute_result"
    }
   ],
   "source": [
    "F.cross_entropy(p,y)"
   ]
  },
  {
   "cell_type": "code",
   "execution_count": 35,
   "id": "57126055",
   "metadata": {},
   "outputs": [
    {
     "data": {
      "text/plain": [
       "TensorBase(0.0938)"
      ]
     },
     "execution_count": 35,
     "metadata": {},
     "output_type": "execute_result"
    }
   ],
   "source": [
    "accuracy(p,y)"
   ]
  },
  {
   "cell_type": "code",
   "execution_count": 36,
   "id": "253cf3e1",
   "metadata": {},
   "outputs": [],
   "source": [
    "def plot_confusion_matrix(m,color=\"light:b\",pct=False):\n",
    "    p=m(dls.valid_ds.inp[0].cuda())\n",
    "    p=p.argmax(dim=1).cpu()\n",
    "\n",
    "    y=dls.valid_ds.inp[1][0].cpu()\n",
    "\n",
    "    def pct_cm(cm):\n",
    "        m=np.zeros(cm.shape, dtype=float) \n",
    "        for i in range(len(cm[0])):\n",
    "            summe=sum(cm[:,i])\n",
    "            m[:,i]=(cm[:,i]/summe).round(2)\n",
    "        return(m)\n",
    "\n",
    "\n",
    "\n",
    "    pcm=confusion_matrix(y, p)\n",
    "    if pct:\n",
    "        pcm=pct_cm(pcm)\n",
    "    \n",
    "    vocab=o.categorify['activity'][y.unique().cpu().tolist()]\n",
    "\n",
    "    cm_cols=o.categorify['activity'][np.unique(p.unique().cpu().tolist()+y.unique().cpu().tolist())]\n",
    "\n",
    "\n",
    "   \n",
    "\n",
    "    df_cm = pd.DataFrame(pcm, index = cm_cols, columns = cm_cols)\n",
    "    plt.figure(figsize = (7, 7))\n",
    "    sn.heatmap(df_cm, annot=True, fmt='g', cbar=False, cmap=sn.color_palette(color, as_cmap=True))\n",
    "    plt.tight_layout()\n",
    "    plt.savefig(\"conf_matrix_model_1_2.png\")"
   ]
  },
  {
   "cell_type": "code",
   "execution_count": 37,
   "id": "aaae8321",
   "metadata": {},
   "outputs": [],
   "source": [
    "import random\n",
    "import networkx as nx\n",
    "import re\n",
    "\n",
    "class ModelBasedAssessment():\n",
    "    def __init__(self, reach_graph):\n",
    "\n",
    "        self.reachability_graph = reach_graph\n",
    "\n",
    "        self.paths = None\n",
    "        self.subpaths = None\n",
    "\n",
    "\n",
    "    def get_start_state(self):\n",
    "        \"\"\"\n",
    "        Get the first state, i.e. the starting state of the reachability graph.\n",
    "\n",
    "        :return:\n",
    "        \"\"\"\n",
    "\n",
    "        for s in self.reachability_graph.states:\n",
    "            if s.incoming == set():\n",
    "                return s\n",
    "\n",
    "    def get_start_node(self):\n",
    "        \"\"\"\n",
    "        Get the first node in the networkx graph\n",
    "\n",
    "        :return:\n",
    "        \"\"\"\n",
    "        start_state = self.get_start_state()\n",
    "        return start_state.name\n",
    "\n",
    "    def get_end_state(self):\n",
    "        \"\"\"\n",
    "        Get the last state, i.e. the end state of the reachability graph.\n",
    "\n",
    "        :return:\n",
    "        \"\"\"\n",
    "\n",
    "        for s in self.reachability_graph.states:\n",
    "            if s.outgoing == set():\n",
    "                return s\n",
    "\n",
    "\n",
    "    def indicator_function(self, y_hat, y):\n",
    "        if y_hat in y:\n",
    "            return 1\n",
    "        else:\n",
    "            return 0\n",
    "\n",
    "\n",
    "\n",
    "    def compute_accuracy(self, prefixes, predictions):\n",
    "        correct_pred = 0\n",
    "\n",
    "        #Case where no path have been computed as reachability graph was to massive. Replay the prefix in the graph.\n",
    "        if self.paths is None:\n",
    "            start_state = self.get_start_state()\n",
    "\n",
    "            for p_t, y_hat in zip(prefixes, predictions):\n",
    "                gt = self.replay_prefix(p_t, start_state)\n",
    "                #print(y_hat, gt)\n",
    "\n",
    "                correct_pred += self.indicator_function(y_hat, gt)\n",
    "\n",
    "        #If gt has been pre-computed.\n",
    "        else:\n",
    "            for p_t, y_hat in zip(prefixes, predictions):\n",
    "                gt = self.ground_truth[tuple(p_t)]\n",
    "                #print(y_hat, gt)\n",
    "                correct_pred += self.indicator_function(y_hat, gt)\n",
    "\n",
    "        accuracy = float(correct_pred/len(prefixes))\n",
    "\n",
    "        return accuracy\n",
    "\n",
    "\n",
    "    def replay_prefix(self, prefix, start_state):\n",
    "        \"\"\"\n",
    "        Replay the prefix to collect the ground truth.\n",
    "        Steps:\n",
    "        - Walk the reachability graph with the activity names util reaching the final state(s).\n",
    "        - All activates transitions from that state(s) form the ground truth which is returned.\n",
    "\n",
    "        :param prefix:          The prefix, i.e., the unfinished case.\n",
    "        :param start_state:     The state to start.\n",
    "\n",
    "        :return:                A list of possible next steps to happen.\n",
    "        \"\"\"\n",
    "\n",
    "        #print(f\"\\n\\n---------------------------------\\n{prefix}\\n-----------------------------------\\n\\n\")\n",
    "\n",
    "        \"\"\"Holds (current_state, reachable_state)\"\"\"\n",
    "        states = [(start_state, start_state)]\n",
    "\n",
    "        \"\"\"Holds (state, enabled_transitions)\"\"\"\n",
    "        enab_trans = self.get_enab_trans_from_state_set(states)\n",
    "\n",
    "        if self.check_for_silent_trans(enab_trans):\n",
    "            enab_trans, current_states = self.walk_silent_trans(enab_trans, states)\n",
    "\n",
    "        for act_name in prefix:\n",
    "            #print(\"\\n\")\n",
    "            #print(f\"Activity:                           {act_name}\")\n",
    "            #print(f\"Current states:                     {states}\")\n",
    "            #print(f\"Enabled transitions:                {enab_trans}\")\n",
    "            #print([t.name[5:len(t.name)-2] for (s, trans) in enab_trans for t in trans])\n",
    "\n",
    "            #Check if trans is in the set of the directly reachable transitions\n",
    "            if act_name in [t.name[5:len(t.name)-2] for (s, trans) in enab_trans for t in trans]:\n",
    "                #Collect all next states, possible many as transition names can be ambignous in the petri nets\n",
    "                states = []\n",
    "                for (from_state, trans) in enab_trans:\n",
    "                    for t in trans:\n",
    "                        if t.name[5:len(t.name)-2] == act_name:\n",
    "                            states.append((from_state, t.to_state))\n",
    "\n",
    "                #Collect directly reachable transitions\n",
    "                direct_trans = self.get_enab_trans_from_state_set(states)\n",
    "                #print(direct_trans)\n",
    "\n",
    "                if self.check_for_silent_trans(direct_trans):\n",
    "                    enab_trans, states = self.walk_silent_trans(direct_trans, states)\n",
    "\n",
    "                else:\n",
    "                    enab_trans = direct_trans\n",
    "\n",
    "            else:\n",
    "                #raise ValueError(f\"Cannot replay prefix {prefix}. {act_name} not in enabled transitions {enab_trans}\")\n",
    "                print(f\"Cannot replay prefix {prefix}. {act_name} not in enabled transitions {enab_trans}\")\n",
    "                return []\n",
    "        \n",
    "        gt = [t.name[5:len(t.name)-2] for (s, tr) in enab_trans for t in tr]\n",
    "        # print(p_t, y_hat)\n",
    "        #print(gt)\n",
    "        # print(\"\\n\")\n",
    "\n",
    "        return gt\n",
    "\n",
    "\n",
    "\n",
    "    def walk_silent_trans(self, direct_trans, states):\n",
    "        \"\"\"\n",
    "        Collect all states and transitions that can be reached from the current state by walking silent transitions.\n",
    "\n",
    "        :param direct_trans:        Directly enabled transitions (s, t) without silent transitions.\n",
    "        :param next_states:         Reachable states (s, s) from that transitions.\n",
    "        :return:\n",
    "        \"\"\"\n",
    "\n",
    "        def add_missing_transitions(old_trans, new_trans):\n",
    "            for (st, tr) in new_trans:\n",
    "                if st not in [s for (s, t) in old_trans]:\n",
    "                    trans.append((st, tr))\n",
    "                elif tr not in [t for (s, t) in old_trans]:\n",
    "                    trans.append((st, tr))\n",
    "\n",
    "\n",
    "        trans = direct_trans\n",
    "\n",
    "        while self.check_for_silent_trans(trans):\n",
    "            silent_trans = [(s, t) for (s, tr) in trans for t in tr if \"n\" in t.name]\n",
    "\n",
    "            \"\"\"Holds (state, to_state)\"\"\"\n",
    "            new_states_from_silent = []\n",
    "            for (s, t) in silent_trans:\n",
    "                new_states_from_silent.append((s, t.to_state))\n",
    "\n",
    "            new_trans = False\n",
    "            for (from_state, to_state) in new_states_from_silent:\n",
    "                if from_state not in [f for (f, t) in states]:\n",
    "                    states.append((from_state, to_state))\n",
    "                    new_trans = True\n",
    "                elif to_state not in [t for (f, t) in states]:\n",
    "                    states.append((from_state, to_state))\n",
    "                    new_trans = True\n",
    "\n",
    "\n",
    "            direct_trans = self.get_enab_trans_from_state_set(states)\n",
    "\n",
    "            #Break the loop if no new transitions have been found\n",
    "            if not new_trans:\n",
    "                #print(\"No new states found.\")\n",
    "                add_missing_transitions(trans, direct_trans)\n",
    "                break\n",
    "\n",
    "            #Otherwise add the new transitions to the reachable ones\n",
    "            else:\n",
    "                add_missing_transitions(trans, direct_trans)\n",
    "                #print(f\"New state(s) found. Adding {trans}\")\n",
    "\n",
    "        return trans, states\n",
    "\n",
    "\n",
    "    def check_for_silent_trans(self, trans):\n",
    "        \"\"\"\n",
    "        Checks whether a silent transition is in trans. A silent transition is one with the pattern [n][number] in pm4py.\n",
    "        :param trans:\n",
    "        :return:\n",
    "        \"\"\"\n",
    "        for (s, t) in trans:\n",
    "            for transition in t:\n",
    "                if re.search(\"^[n]+[\\d]\", transition.name):\n",
    "                    return True\n",
    "\n",
    "        return False\n",
    "\n",
    "    def get_enab_trans_from_state_set(self, states):\n",
    "        \"\"\"\n",
    "        Collect all reachable states from states as tuple (state, to_state).\n",
    "\n",
    "        :param states:\n",
    "        :return:\n",
    "        \"\"\"\n",
    "        enab_trans = [(to_state, to_state.outgoing) for (from_state, to_state) in states]\n",
    "        return enab_trans\n"
   ]
  },
  {
   "cell_type": "code",
   "execution_count": null,
   "id": "14220b37",
   "metadata": {},
   "outputs": [],
   "source": []
  },
  {
   "cell_type": "code",
   "execution_count": 38,
   "id": "cb1e51c0",
   "metadata": {},
   "outputs": [],
   "source": [
    "mba = ModelBasedAssessment(reach)"
   ]
  },
  {
   "cell_type": "code",
   "execution_count": 39,
   "id": "be9f3d29",
   "metadata": {},
   "outputs": [
    {
     "data": {
      "text/plain": [
       "1.0"
      ]
     },
     "execution_count": 39,
     "metadata": {},
     "output_type": "execute_result"
    }
   ],
   "source": [
    "mba.compute_accuracy([[\"Invoice Accepted\"]], [\"Pay Expenses\"])"
   ]
  },
  {
   "cell_type": "code",
   "execution_count": 40,
   "id": "a7316feb",
   "metadata": {},
   "outputs": [
    {
     "data": {
      "text/plain": [
       "0.0"
      ]
     },
     "execution_count": 40,
     "metadata": {},
     "output_type": "execute_result"
    }
   ],
   "source": [
    "mba.compute_accuracy([[\"Invoice Accepted\"]], [\"Invoice Accepted\"])"
   ]
  },
  {
   "cell_type": "code",
   "execution_count": 41,
   "id": "30126643",
   "metadata": {},
   "outputs": [
    {
     "data": {
      "text/plain": [
       "0.0"
      ]
     },
     "execution_count": 41,
     "metadata": {},
     "output_type": "execute_result"
    }
   ],
   "source": [
    "mba.compute_accuracy([[\"Invoice Accepted\"]], [\"Check receipt\"])"
   ]
  },
  {
   "cell_type": "code",
   "execution_count": 42,
   "id": "bfbfc5e4",
   "metadata": {},
   "outputs": [
    {
     "data": {
      "text/plain": [
       "1.0"
      ]
     },
     "execution_count": 42,
     "metadata": {},
     "output_type": "execute_result"
    }
   ],
   "source": [
    "mba.compute_accuracy([[\"Invoice Accepted\", \"Pay Expenses\"]], [\"Check receipt\"])"
   ]
  },
  {
   "cell_type": "code",
   "execution_count": 43,
   "id": "072bc664",
   "metadata": {},
   "outputs": [
    {
     "data": {
      "text/plain": [
       "0.0"
      ]
     },
     "execution_count": 43,
     "metadata": {},
     "output_type": "execute_result"
    }
   ],
   "source": [
    "mba.compute_accuracy([[\"Invoice Accepted\", \"Pay Expenses\"]], [\"Finish\"])"
   ]
  },
  {
   "cell_type": "markdown",
   "id": "96896812",
   "metadata": {},
   "source": [
    "### Simple-LSTM"
   ]
  },
  {
   "cell_type": "code",
   "execution_count": 44,
   "id": "7f09794e",
   "metadata": {},
   "outputs": [],
   "source": [
    "def training_loop(learn,epoch,print_output,lr):\n",
    "    '''\n",
    "    Basic training loop that uses learning rate finder and one cycle training.\n",
    "    See fastai docs for more information\n",
    "    '''\n",
    "    learn.fit(epoch, lr)\n",
    "    \n",
    "    \n",
    "def train_validate(dls,m,metrics=accuracy,loss=F.cross_entropy,epoch=20,print_output=True,model_dir=\".\",lr=5e-5,\n",
    "                   output_index=1,patience=3,min_delta=0.005,show_plot=True,store_path='tmp',model_name='.model'):\n",
    "    '''\n",
    "    Trains a model on the training set with early stopping based on the validation loss.\n",
    "    Afterwards, applies it to the test set.\n",
    "    '''\n",
    "    cbs = [CudaCallback,\n",
    "      EarlyStoppingCallback(monitor='valid_loss',min_delta=min_delta, patience=patience),\n",
    "      SaveModelCallback(fname=model_name)\n",
    "      ]\n",
    "    learn=Learner(dls, m, path=store_path, model_dir=model_dir, loss_func=loss ,metrics=metrics,cbs=cbs)\n",
    "\n",
    "    if print_output:\n",
    "        training_loop(learn,epoch,show_plot, lr=lr)\n",
    "        return learn.validate(dl=dls[2])[output_index]\n",
    "    else:\n",
    "        with HideOutput(),learn.no_bar(),learn.no_logging():\n",
    "            training_loop(learn,epoch,show_plot, lr=lr)\n",
    "            return learn.validate(dl=dls[2])[output_index]"
   ]
  },
  {
   "cell_type": "code",
   "execution_count": 45,
   "id": "8c4a3d00",
   "metadata": {},
   "outputs": [
    {
     "data": {
      "text/html": [
       "<table border=\"1\" class=\"dataframe\">\n",
       "  <thead>\n",
       "    <tr style=\"text-align: left;\">\n",
       "      <th>epoch</th>\n",
       "      <th>train_loss</th>\n",
       "      <th>valid_loss</th>\n",
       "      <th>accuracy</th>\n",
       "      <th>time</th>\n",
       "    </tr>\n",
       "  </thead>\n",
       "  <tbody>\n",
       "    <tr>\n",
       "      <td>0</td>\n",
       "      <td>1.663399</td>\n",
       "      <td>1.663301</td>\n",
       "      <td>0.524100</td>\n",
       "      <td>00:42</td>\n",
       "    </tr>\n",
       "    <tr>\n",
       "      <td>1</td>\n",
       "      <td>1.532417</td>\n",
       "      <td>1.523975</td>\n",
       "      <td>0.662450</td>\n",
       "      <td>00:41</td>\n",
       "    </tr>\n",
       "    <tr>\n",
       "      <td>2</td>\n",
       "      <td>1.497064</td>\n",
       "      <td>1.496212</td>\n",
       "      <td>0.662450</td>\n",
       "      <td>00:41</td>\n",
       "    </tr>\n",
       "    <tr>\n",
       "      <td>3</td>\n",
       "      <td>1.494236</td>\n",
       "      <td>1.492102</td>\n",
       "      <td>0.662450</td>\n",
       "      <td>00:42</td>\n",
       "    </tr>\n",
       "    <tr>\n",
       "      <td>4</td>\n",
       "      <td>1.483885</td>\n",
       "      <td>1.491071</td>\n",
       "      <td>0.662450</td>\n",
       "      <td>00:40</td>\n",
       "    </tr>\n",
       "    <tr>\n",
       "      <td>5</td>\n",
       "      <td>1.491468</td>\n",
       "      <td>1.490652</td>\n",
       "      <td>0.663150</td>\n",
       "      <td>00:42</td>\n",
       "    </tr>\n",
       "    <tr>\n",
       "      <td>6</td>\n",
       "      <td>1.493684</td>\n",
       "      <td>1.490451</td>\n",
       "      <td>0.663000</td>\n",
       "      <td>00:42</td>\n",
       "    </tr>\n",
       "    <tr>\n",
       "      <td>7</td>\n",
       "      <td>1.487260</td>\n",
       "      <td>1.490443</td>\n",
       "      <td>0.662450</td>\n",
       "      <td>00:42</td>\n",
       "    </tr>\n",
       "  </tbody>\n",
       "</table>"
      ],
      "text/plain": [
       "<IPython.core.display.HTML object>"
      ]
     },
     "metadata": {},
     "output_type": "display_data"
    },
    {
     "name": "stdout",
     "output_type": "stream",
     "text": [
      "Better model found at epoch 0 with valid_loss value: 1.6633012294769287.\n",
      "Better model found at epoch 1 with valid_loss value: 1.5239746570587158.\n",
      "Better model found at epoch 2 with valid_loss value: 1.4962120056152344.\n",
      "Better model found at epoch 3 with valid_loss value: 1.4921022653579712.\n",
      "Better model found at epoch 4 with valid_loss value: 1.4910706281661987.\n",
      "Better model found at epoch 5 with valid_loss value: 1.4906522035598755.\n",
      "Better model found at epoch 6 with valid_loss value: 1.4904507398605347.\n",
      "No improvement since epoch 4: early stopping\n"
     ]
    },
    {
     "data": {
      "text/html": [],
      "text/plain": [
       "<IPython.core.display.HTML object>"
      ]
     },
     "metadata": {},
     "output_type": "display_data"
    },
    {
     "name": "stdout",
     "output_type": "stream",
     "text": [
      "Better model found at epoch 0 with valid_loss value: 0.6621500253677368.\n"
     ]
    },
    {
     "data": {
      "text/plain": [
       "0.6621500253677368"
      ]
     },
     "execution_count": 45,
     "metadata": {},
     "output_type": "execute_result"
    }
   ],
   "source": [
    "m1=Camargo_specialized(o)\n",
    "train_validate(dls,m1,loss=F.cross_entropy,metrics=accuracy,epoch=20,lr=5e-5,print_output=True)"
   ]
  },
  {
   "cell_type": "code",
   "execution_count": 46,
   "id": "f143e44a",
   "metadata": {},
   "outputs": [
    {
     "data": {
      "image/png": "[encoded data removed]",
      "text/plain": [
       "<Figure size 504x504 with 1 Axes>"
      ]
     },
     "metadata": {
      "needs_background": "light"
     },
     "output_type": "display_data"
    }
   ],
   "source": [
    "plot_confusion_matrix(m1)"
   ]
  },
  {
   "cell_type": "code",
   "execution_count": 47,
   "id": "ff0b8ec1",
   "metadata": {},
   "outputs": [],
   "source": [
    "p=m1(dls.valid_ds.inp[0].cuda())\n",
    "p=p.argmax(dim=1).cpu()\n",
    "y=dls.valid_ds.inp[1][0].cpu()\n",
    "y = y.cpu().tolist()"
   ]
  },
  {
   "cell_type": "code",
   "execution_count": 48,
   "id": "0d440728",
   "metadata": {},
   "outputs": [],
   "source": [
    "v = o.categorify['activity']"
   ]
  },
  {
   "cell_type": "code",
   "execution_count": 49,
   "id": "d581385d",
   "metadata": {},
   "outputs": [],
   "source": [
    "y_enc = [v[a] for a in y]\n"
   ]
  },
  {
   "cell_type": "code",
   "execution_count": 50,
   "id": "f7c2d074",
   "metadata": {},
   "outputs": [],
   "source": [
    "x = dls.valid_ds.inp[0].cpu()"
   ]
  },
  {
   "cell_type": "code",
   "execution_count": 51,
   "id": "874b98c3",
   "metadata": {},
   "outputs": [],
   "source": [
    "x_enc = []\n",
    "\n",
    "for pref in x:\n",
    "    pref_enc = []\n",
    "    for a in pref:\n",
    "        if a != 0 and a != 7:\n",
    "            pref_enc.append(v[a])\n",
    "    \n",
    "    if pref_enc != []:\n",
    "        x_enc.append(pref_enc)\n"
   ]
  },
  {
   "cell_type": "code",
   "execution_count": 52,
   "id": "ef4ff8c0",
   "metadata": {},
   "outputs": [
    {
     "data": {
      "text/plain": [
       "['Invoice Accepted', 'Pay Expenses']"
      ]
     },
     "execution_count": 52,
     "metadata": {},
     "output_type": "execute_result"
    }
   ],
   "source": [
    "x_enc[1]"
   ]
  },
  {
   "cell_type": "code",
   "execution_count": 53,
   "id": "fa8da883",
   "metadata": {},
   "outputs": [],
   "source": [
    "mba = ModelBasedAssessment(reach)"
   ]
  },
  {
   "cell_type": "code",
   "execution_count": 54,
   "id": "6726a89a",
   "metadata": {},
   "outputs": [
    {
     "data": {
      "text/plain": [
       "1.0"
      ]
     },
     "execution_count": 54,
     "metadata": {},
     "output_type": "execute_result"
    }
   ],
   "source": [
    "mba.compute_accuracy(x_enc, y_enc)"
   ]
  },
  {
   "cell_type": "code",
   "execution_count": null,
   "id": "7deaf01f",
   "metadata": {},
   "outputs": [],
   "source": []
  }
 ],
 "metadata": {
  "kernelspec": {
   "display_name": "mppn",
   "language": "python",
   "name": "mppn"
  },
  "language_info": {
   "codemirror_mode": {
    "name": "ipython",
    "version": 3
   },
   "file_extension": ".py",
   "mimetype": "text/x-python",
   "name": "python",
   "nbconvert_exporter": "python",
   "pygments_lexer": "ipython3",
   "version": "3.7.10"
  },
  "toc": {
   "base_numbering": 1,
   "nav_menu": {},
   "number_sections": true,
   "sideBar": true,
   "skip_h1_title": true,
   "title_cell": "Table of Contents",
   "title_sidebar": "Contents",
   "toc_cell": true,
   "toc_position": {},
   "toc_section_display": true,
   "toc_window_display": true
  }
 },
 "nbformat": 4,
 "nbformat_minor": 5
}
