{
 "cells": [
  {
   "cell_type": "markdown",
   "id": "be9611df",
   "metadata": {
    "toc": true
   },
   "source": [
    "<h1>Table of Contents<span class=\"tocSkip\"></span></h1>\n",
    "<div class=\"toc\"><ul class=\"toc-item\"><li><ul class=\"toc-item\"><li><span><a href=\"#PDC\" data-toc-modified-id=\"PDC-0.1\"><span class=\"toc-item-num\">0.1&nbsp;&nbsp;</span>PDC</a></span></li></ul></li><li><span><a href=\"#Deep-Learning\" data-toc-modified-id=\"Deep-Learning-1\"><span class=\"toc-item-num\">1&nbsp;&nbsp;</span>Deep Learning</a></span><ul class=\"toc-item\"><li><span><a href=\"#Simple-LSTM\" data-toc-modified-id=\"Simple-LSTM-1.1\"><span class=\"toc-item-num\">1.1&nbsp;&nbsp;</span>Simple-LSTM</a></span></li></ul></li></ul></div>"
   ]
  },
  {
   "cell_type": "markdown",
   "id": "5472409c",
   "metadata": {},
   "source": [
    "# Experiment 2"
   ]
  },
  {
   "cell_type": "markdown",
   "id": "60b29333",
   "metadata": {},
   "source": []
  },
  {
   "cell_type": "markdown",
   "id": "fb175c6c",
   "metadata": {},
   "source": [
    "### PDC"
   ]
  },
  {
   "cell_type": "code",
   "execution_count": 1,
   "id": "3a1581d6",
   "metadata": {},
   "outputs": [],
   "source": [
    "from pm4py.objects.petri_net.obj import PetriNet, Marking\n",
    "from pm4py.objects.petri_net.utils import petri_utils\n",
    "from sklearn.metrics import confusion_matrix\n",
    "from pm4py.objects.petri_net.importer import importer as pn_importer\n",
    "from pm4py.objects.log.importer.xes import importer as xes_importer\n",
    "from pm4py.objects.conversion.log import converter as log_converter\n",
    "from pm4py.objects.petri_net.utils import reachability_graph\n",
    "from pm4py.visualization.transition_system import visualizer as ts_visualizer\n",
    "from pm4py.visualization.petri_net import visualizer as pn_visualizer\n",
    "import seaborn as sn\n",
    "import pandas as pd\n",
    "import matplotlib.pyplot as plt\n",
    "import glob\n",
    "import os\n",
    "\n",
    "from mppn.imports import *\n",
    "from mppn.preprocessing import *\n",
    "from mppn.pipeline import *\n",
    "from mppn.baselines import *"
   ]
  },
  {
   "cell_type": "code",
   "execution_count": 2,
   "id": "28826d8b",
   "metadata": {},
   "outputs": [
    {
     "data": {
      "text/plain": [
       "'2.2.15'"
      ]
     },
     "execution_count": 2,
     "metadata": {},
     "output_type": "execute_result"
    }
   ],
   "source": [
    "import pm4py\n",
    "pm4py.__version__"
   ]
  },
  {
   "cell_type": "code",
   "execution_count": 3,
   "id": "0487f68a",
   "metadata": {},
   "outputs": [],
   "source": [
    "pdc_models = {}\n",
    "pdc_logs = {}"
   ]
  },
  {
   "cell_type": "code",
   "execution_count": 4,
   "id": "f7fbce9e",
   "metadata": {},
   "outputs": [],
   "source": [
    "for net_path in os.listdir('data/pdc2020_models/Models/'):\n",
    "    pdc_models[net_path[9:16]] = pn_importer.apply('data/pdc2020_models/Models/' + net_path)"
   ]
  },
  {
   "cell_type": "code",
   "execution_count": 5,
   "id": "b987f240",
   "metadata": {},
   "outputs": [
    {
     "data": {
      "application/vnd.jupyter.widget-view+json": {
       "model_id": "1c3d52eabc544d3cacfde084eb3971ea",
       "version_major": 2,
       "version_minor": 0
      },
      "text/plain": [
       "parsing log, completed traces ::   0%|          | 0/1000 [00:00<?, ?it/s]"
      ]
     },
     "metadata": {},
     "output_type": "display_data"
    },
    {
     "data": {
      "application/vnd.jupyter.widget-view+json": {
       "model_id": "c7021ee6119b4e088ae4b08aa7e2ce27",
       "version_major": 2,
       "version_minor": 0
      },
      "text/plain": [
       "parsing log, completed traces ::   0%|          | 0/1000 [00:00<?, ?it/s]"
      ]
     },
     "metadata": {},
     "output_type": "display_data"
    },
    {
     "data": {
      "application/vnd.jupyter.widget-view+json": {
       "model_id": "ee1d4b23cc554d99961126f2d27d7583",
       "version_major": 2,
       "version_minor": 0
      },
      "text/plain": [
       "parsing log, completed traces ::   0%|          | 0/1000 [00:00<?, ?it/s]"
      ]
     },
     "metadata": {},
     "output_type": "display_data"
    },
    {
     "data": {
      "application/vnd.jupyter.widget-view+json": {
       "model_id": "84ab39f5d3a5438cbdf1235d60ed5a64",
       "version_major": 2,
       "version_minor": 0
      },
      "text/plain": [
       "parsing log, completed traces ::   0%|          | 0/1000 [00:00<?, ?it/s]"
      ]
     },
     "metadata": {},
     "output_type": "display_data"
    },
    {
     "data": {
      "application/vnd.jupyter.widget-view+json": {
       "model_id": "6756bec8259940c49ab29ab8ae8f89f6",
       "version_major": 2,
       "version_minor": 0
      },
      "text/plain": [
       "parsing log, completed traces ::   0%|          | 0/1000 [00:00<?, ?it/s]"
      ]
     },
     "metadata": {},
     "output_type": "display_data"
    },
    {
     "data": {
      "application/vnd.jupyter.widget-view+json": {
       "model_id": "bd9beca2732f44a8825aa93c98daadc5",
       "version_major": 2,
       "version_minor": 0
      },
      "text/plain": [
       "parsing log, completed traces ::   0%|          | 0/1000 [00:00<?, ?it/s]"
      ]
     },
     "metadata": {},
     "output_type": "display_data"
    },
    {
     "data": {
      "application/vnd.jupyter.widget-view+json": {
       "model_id": "bb95fef823284fb480191ee404d7b01b",
       "version_major": 2,
       "version_minor": 0
      },
      "text/plain": [
       "parsing log, completed traces ::   0%|          | 0/1000 [00:00<?, ?it/s]"
      ]
     },
     "metadata": {},
     "output_type": "display_data"
    },
    {
     "data": {
      "application/vnd.jupyter.widget-view+json": {
       "model_id": "1f0b63960bb24c20b8e515f2c8880f71",
       "version_major": 2,
       "version_minor": 0
      },
      "text/plain": [
       "parsing log, completed traces ::   0%|          | 0/1000 [00:00<?, ?it/s]"
      ]
     },
     "metadata": {},
     "output_type": "display_data"
    },
    {
     "data": {
      "application/vnd.jupyter.widget-view+json": {
       "model_id": "7b9a8b31034e4481b5d377668ed1e943",
       "version_major": 2,
       "version_minor": 0
      },
      "text/plain": [
       "parsing log, completed traces ::   0%|          | 0/1000 [00:00<?, ?it/s]"
      ]
     },
     "metadata": {},
     "output_type": "display_data"
    },
    {
     "data": {
      "application/vnd.jupyter.widget-view+json": {
       "model_id": "980371f7c3614df2be0f483114d5be73",
       "version_major": 2,
       "version_minor": 0
      },
      "text/plain": [
       "parsing log, completed traces ::   0%|          | 0/1000 [00:00<?, ?it/s]"
      ]
     },
     "metadata": {},
     "output_type": "display_data"
    },
    {
     "data": {
      "application/vnd.jupyter.widget-view+json": {
       "model_id": "257f3ace4a404f68ad65b692cbd920d8",
       "version_major": 2,
       "version_minor": 0
      },
      "text/plain": [
       "parsing log, completed traces ::   0%|          | 0/1000 [00:00<?, ?it/s]"
      ]
     },
     "metadata": {},
     "output_type": "display_data"
    },
    {
     "data": {
      "application/vnd.jupyter.widget-view+json": {
       "model_id": "d2ee6db3d40f4b5cadfb83eb17fde5a0",
       "version_major": 2,
       "version_minor": 0
      },
      "text/plain": [
       "parsing log, completed traces ::   0%|          | 0/1000 [00:00<?, ?it/s]"
      ]
     },
     "metadata": {},
     "output_type": "display_data"
    },
    {
     "data": {
      "application/vnd.jupyter.widget-view+json": {
       "model_id": "3f7afefd80b64af1bf25586764f05696",
       "version_major": 2,
       "version_minor": 0
      },
      "text/plain": [
       "parsing log, completed traces ::   0%|          | 0/1000 [00:00<?, ?it/s]"
      ]
     },
     "metadata": {},
     "output_type": "display_data"
    },
    {
     "data": {
      "application/vnd.jupyter.widget-view+json": {
       "model_id": "48e29d17706142dca26cc4c64d531776",
       "version_major": 2,
       "version_minor": 0
      },
      "text/plain": [
       "parsing log, completed traces ::   0%|          | 0/1000 [00:00<?, ?it/s]"
      ]
     },
     "metadata": {},
     "output_type": "display_data"
    },
    {
     "data": {
      "application/vnd.jupyter.widget-view+json": {
       "model_id": "251e40fc49c04344bb928f7db6a7c3eb",
       "version_major": 2,
       "version_minor": 0
      },
      "text/plain": [
       "parsing log, completed traces ::   0%|          | 0/1000 [00:00<?, ?it/s]"
      ]
     },
     "metadata": {},
     "output_type": "display_data"
    },
    {
     "data": {
      "application/vnd.jupyter.widget-view+json": {
       "model_id": "2275164eb9584248a1b3054f30d78229",
       "version_major": 2,
       "version_minor": 0
      },
      "text/plain": [
       "parsing log, completed traces ::   0%|          | 0/1000 [00:00<?, ?it/s]"
      ]
     },
     "metadata": {},
     "output_type": "display_data"
    },
    {
     "data": {
      "application/vnd.jupyter.widget-view+json": {
       "model_id": "0e893562d6a247cdaa97989eefe87e91",
       "version_major": 2,
       "version_minor": 0
      },
      "text/plain": [
       "parsing log, completed traces ::   0%|          | 0/1000 [00:00<?, ?it/s]"
      ]
     },
     "metadata": {},
     "output_type": "display_data"
    },
    {
     "data": {
      "application/vnd.jupyter.widget-view+json": {
       "model_id": "8c2dd62b28a24ea0b92331b467968cb0",
       "version_major": 2,
       "version_minor": 0
      },
      "text/plain": [
       "parsing log, completed traces ::   0%|          | 0/1000 [00:00<?, ?it/s]"
      ]
     },
     "metadata": {},
     "output_type": "display_data"
    },
    {
     "data": {
      "application/vnd.jupyter.widget-view+json": {
       "model_id": "d0ac2fb22bbe471cba44c2519ad6b967",
       "version_major": 2,
       "version_minor": 0
      },
      "text/plain": [
       "parsing log, completed traces ::   0%|          | 0/1000 [00:00<?, ?it/s]"
      ]
     },
     "metadata": {},
     "output_type": "display_data"
    },
    {
     "data": {
      "application/vnd.jupyter.widget-view+json": {
       "model_id": "a64fefabf0f84548aa752f70787726af",
       "version_major": 2,
       "version_minor": 0
      },
      "text/plain": [
       "parsing log, completed traces ::   0%|          | 0/1000 [00:00<?, ?it/s]"
      ]
     },
     "metadata": {},
     "output_type": "display_data"
    },
    {
     "data": {
      "application/vnd.jupyter.widget-view+json": {
       "model_id": "739d0b60be6b41ddb132541ee83178d3",
       "version_major": 2,
       "version_minor": 0
      },
      "text/plain": [
       "parsing log, completed traces ::   0%|          | 0/1000 [00:00<?, ?it/s]"
      ]
     },
     "metadata": {},
     "output_type": "display_data"
    },
    {
     "data": {
      "application/vnd.jupyter.widget-view+json": {
       "model_id": "2f841e207e074523b31ae7f1ee2c9435",
       "version_major": 2,
       "version_minor": 0
      },
      "text/plain": [
       "parsing log, completed traces ::   0%|          | 0/1000 [00:00<?, ?it/s]"
      ]
     },
     "metadata": {},
     "output_type": "display_data"
    },
    {
     "data": {
      "application/vnd.jupyter.widget-view+json": {
       "model_id": "3699d206fea94ae68ac19cdcf0e3b90d",
       "version_major": 2,
       "version_minor": 0
      },
      "text/plain": [
       "parsing log, completed traces ::   0%|          | 0/1000 [00:00<?, ?it/s]"
      ]
     },
     "metadata": {},
     "output_type": "display_data"
    },
    {
     "data": {
      "application/vnd.jupyter.widget-view+json": {
       "model_id": "baa85387f37d40a7a711ec119dd8d407",
       "version_major": 2,
       "version_minor": 0
      },
      "text/plain": [
       "parsing log, completed traces ::   0%|          | 0/1000 [00:00<?, ?it/s]"
      ]
     },
     "metadata": {},
     "output_type": "display_data"
    },
    {
     "data": {
      "application/vnd.jupyter.widget-view+json": {
       "model_id": "fafe2783af7d49188267d2136baddd80",
       "version_major": 2,
       "version_minor": 0
      },
      "text/plain": [
       "parsing log, completed traces ::   0%|          | 0/1000 [00:00<?, ?it/s]"
      ]
     },
     "metadata": {},
     "output_type": "display_data"
    },
    {
     "data": {
      "application/vnd.jupyter.widget-view+json": {
       "model_id": "9c3894a57ed64f779517a6d9271ce97b",
       "version_major": 2,
       "version_minor": 0
      },
      "text/plain": [
       "parsing log, completed traces ::   0%|          | 0/1000 [00:00<?, ?it/s]"
      ]
     },
     "metadata": {},
     "output_type": "display_data"
    },
    {
     "data": {
      "application/vnd.jupyter.widget-view+json": {
       "model_id": "05c3562e3bf048ecb01366e3cf53140d",
       "version_major": 2,
       "version_minor": 0
      },
      "text/plain": [
       "parsing log, completed traces ::   0%|          | 0/1000 [00:00<?, ?it/s]"
      ]
     },
     "metadata": {},
     "output_type": "display_data"
    },
    {
     "data": {
      "application/vnd.jupyter.widget-view+json": {
       "model_id": "e716ed2069514824adab49fedf8efe5d",
       "version_major": 2,
       "version_minor": 0
      },
      "text/plain": [
       "parsing log, completed traces ::   0%|          | 0/1000 [00:00<?, ?it/s]"
      ]
     },
     "metadata": {},
     "output_type": "display_data"
    },
    {
     "data": {
      "application/vnd.jupyter.widget-view+json": {
       "model_id": "2ff62a5dc2744cc8a716d36d4a0ecc8d",
       "version_major": 2,
       "version_minor": 0
      },
      "text/plain": [
       "parsing log, completed traces ::   0%|          | 0/1000 [00:00<?, ?it/s]"
      ]
     },
     "metadata": {},
     "output_type": "display_data"
    },
    {
     "data": {
      "application/vnd.jupyter.widget-view+json": {
       "model_id": "010765cb98db4d0483337864f65563de",
       "version_major": 2,
       "version_minor": 0
      },
      "text/plain": [
       "parsing log, completed traces ::   0%|          | 0/1000 [00:00<?, ?it/s]"
      ]
     },
     "metadata": {},
     "output_type": "display_data"
    },
    {
     "data": {
      "application/vnd.jupyter.widget-view+json": {
       "model_id": "4966b3e93595464e81d2d402ca7225dd",
       "version_major": 2,
       "version_minor": 0
      },
      "text/plain": [
       "parsing log, completed traces ::   0%|          | 0/1000 [00:00<?, ?it/s]"
      ]
     },
     "metadata": {},
     "output_type": "display_data"
    },
    {
     "data": {
      "application/vnd.jupyter.widget-view+json": {
       "model_id": "2e7b206739c940d3b4b5057cf6359750",
       "version_major": 2,
       "version_minor": 0
      },
      "text/plain": [
       "parsing log, completed traces ::   0%|          | 0/1000 [00:00<?, ?it/s]"
      ]
     },
     "metadata": {},
     "output_type": "display_data"
    },
    {
     "data": {
      "application/vnd.jupyter.widget-view+json": {
       "model_id": "0d77184a145c4b008eedb4c5b754e2c8",
       "version_major": 2,
       "version_minor": 0
      },
      "text/plain": [
       "parsing log, completed traces ::   0%|          | 0/1000 [00:00<?, ?it/s]"
      ]
     },
     "metadata": {},
     "output_type": "display_data"
    },
    {
     "data": {
      "application/vnd.jupyter.widget-view+json": {
       "model_id": "b39a6790c3ca40ac8dcdbb4f775de927",
       "version_major": 2,
       "version_minor": 0
      },
      "text/plain": [
       "parsing log, completed traces ::   0%|          | 0/1000 [00:00<?, ?it/s]"
      ]
     },
     "metadata": {},
     "output_type": "display_data"
    },
    {
     "data": {
      "application/vnd.jupyter.widget-view+json": {
       "model_id": "0b33e08ea56e40288406766814c87b27",
       "version_major": 2,
       "version_minor": 0
      },
      "text/plain": [
       "parsing log, completed traces ::   0%|          | 0/1000 [00:00<?, ?it/s]"
      ]
     },
     "metadata": {},
     "output_type": "display_data"
    },
    {
     "data": {
      "application/vnd.jupyter.widget-view+json": {
       "model_id": "0befb9129cb540169da43b3e58c60bfb",
       "version_major": 2,
       "version_minor": 0
      },
      "text/plain": [
       "parsing log, completed traces ::   0%|          | 0/1000 [00:00<?, ?it/s]"
      ]
     },
     "metadata": {},
     "output_type": "display_data"
    },
    {
     "data": {
      "application/vnd.jupyter.widget-view+json": {
       "model_id": "b07d2cefebe34f3dbb631da6f1d9a7cf",
       "version_major": 2,
       "version_minor": 0
      },
      "text/plain": [
       "parsing log, completed traces ::   0%|          | 0/1000 [00:00<?, ?it/s]"
      ]
     },
     "metadata": {},
     "output_type": "display_data"
    },
    {
     "data": {
      "application/vnd.jupyter.widget-view+json": {
       "model_id": "725805ad103442d9acc678c56a285082",
       "version_major": 2,
       "version_minor": 0
      },
      "text/plain": [
       "parsing log, completed traces ::   0%|          | 0/1000 [00:00<?, ?it/s]"
      ]
     },
     "metadata": {},
     "output_type": "display_data"
    },
    {
     "data": {
      "application/vnd.jupyter.widget-view+json": {
       "model_id": "d0cd815855df436eae00533783b972f9",
       "version_major": 2,
       "version_minor": 0
      },
      "text/plain": [
       "parsing log, completed traces ::   0%|          | 0/1000 [00:00<?, ?it/s]"
      ]
     },
     "metadata": {},
     "output_type": "display_data"
    },
    {
     "data": {
      "application/vnd.jupyter.widget-view+json": {
       "model_id": "0b95c2ec5f634d6a9ba552389c0f0adf",
       "version_major": 2,
       "version_minor": 0
      },
      "text/plain": [
       "parsing log, completed traces ::   0%|          | 0/1000 [00:00<?, ?it/s]"
      ]
     },
     "metadata": {},
     "output_type": "display_data"
    },
    {
     "data": {
      "application/vnd.jupyter.widget-view+json": {
       "model_id": "1bb0cdafc3854cf09d2a15178680282a",
       "version_major": 2,
       "version_minor": 0
      },
      "text/plain": [
       "parsing log, completed traces ::   0%|          | 0/1000 [00:00<?, ?it/s]"
      ]
     },
     "metadata": {},
     "output_type": "display_data"
    },
    {
     "data": {
      "application/vnd.jupyter.widget-view+json": {
       "model_id": "ba72904850314d6baac3ff9cf198e686",
       "version_major": 2,
       "version_minor": 0
      },
      "text/plain": [
       "parsing log, completed traces ::   0%|          | 0/1000 [00:00<?, ?it/s]"
      ]
     },
     "metadata": {},
     "output_type": "display_data"
    },
    {
     "data": {
      "application/vnd.jupyter.widget-view+json": {
       "model_id": "ae3e0e927b9e4e5c871a3e43411c6a57",
       "version_major": 2,
       "version_minor": 0
      },
      "text/plain": [
       "parsing log, completed traces ::   0%|          | 0/1000 [00:00<?, ?it/s]"
      ]
     },
     "metadata": {},
     "output_type": "display_data"
    },
    {
     "data": {
      "application/vnd.jupyter.widget-view+json": {
       "model_id": "a82bae7b9f5940ae94853c04985f0809",
       "version_major": 2,
       "version_minor": 0
      },
      "text/plain": [
       "parsing log, completed traces ::   0%|          | 0/1000 [00:00<?, ?it/s]"
      ]
     },
     "metadata": {},
     "output_type": "display_data"
    },
    {
     "data": {
      "application/vnd.jupyter.widget-view+json": {
       "model_id": "c0fd97b05ed94a449e189153411b2033",
       "version_major": 2,
       "version_minor": 0
      },
      "text/plain": [
       "parsing log, completed traces ::   0%|          | 0/1000 [00:00<?, ?it/s]"
      ]
     },
     "metadata": {},
     "output_type": "display_data"
    },
    {
     "data": {
      "application/vnd.jupyter.widget-view+json": {
       "model_id": "9d6ba46976e3485aaf4da1d23d44c8c7",
       "version_major": 2,
       "version_minor": 0
      },
      "text/plain": [
       "parsing log, completed traces ::   0%|          | 0/1000 [00:00<?, ?it/s]"
      ]
     },
     "metadata": {},
     "output_type": "display_data"
    },
    {
     "data": {
      "application/vnd.jupyter.widget-view+json": {
       "model_id": "eb59e3ca415a41a4bfec9fc3a560368f",
       "version_major": 2,
       "version_minor": 0
      },
      "text/plain": [
       "parsing log, completed traces ::   0%|          | 0/1000 [00:00<?, ?it/s]"
      ]
     },
     "metadata": {},
     "output_type": "display_data"
    },
    {
     "data": {
      "application/vnd.jupyter.widget-view+json": {
       "model_id": "681c0d20f5f543a0bd8ac412da1cb597",
       "version_major": 2,
       "version_minor": 0
      },
      "text/plain": [
       "parsing log, completed traces ::   0%|          | 0/1000 [00:00<?, ?it/s]"
      ]
     },
     "metadata": {},
     "output_type": "display_data"
    },
    {
     "data": {
      "application/vnd.jupyter.widget-view+json": {
       "model_id": "4e2831bfc30a4cad9ea352f638357832",
       "version_major": 2,
       "version_minor": 0
      },
      "text/plain": [
       "parsing log, completed traces ::   0%|          | 0/1000 [00:00<?, ?it/s]"
      ]
     },
     "metadata": {},
     "output_type": "display_data"
    },
    {
     "data": {
      "application/vnd.jupyter.widget-view+json": {
       "model_id": "df694b8067c048eb9d5f8f826496dfbe",
       "version_major": 2,
       "version_minor": 0
      },
      "text/plain": [
       "parsing log, completed traces ::   0%|          | 0/1000 [00:00<?, ?it/s]"
      ]
     },
     "metadata": {},
     "output_type": "display_data"
    },
    {
     "data": {
      "application/vnd.jupyter.widget-view+json": {
       "model_id": "ec7ac4f2f2714d47a5c8ac36497eb9b0",
       "version_major": 2,
       "version_minor": 0
      },
      "text/plain": [
       "parsing log, completed traces ::   0%|          | 0/1000 [00:00<?, ?it/s]"
      ]
     },
     "metadata": {},
     "output_type": "display_data"
    },
    {
     "data": {
      "application/vnd.jupyter.widget-view+json": {
       "model_id": "8ea548671e6049c38f64ca79772d0a78",
       "version_major": 2,
       "version_minor": 0
      },
      "text/plain": [
       "parsing log, completed traces ::   0%|          | 0/1000 [00:00<?, ?it/s]"
      ]
     },
     "metadata": {},
     "output_type": "display_data"
    },
    {
     "data": {
      "application/vnd.jupyter.widget-view+json": {
       "model_id": "580092ec58624201b8c7e90a5c26f2b1",
       "version_major": 2,
       "version_minor": 0
      },
      "text/plain": [
       "parsing log, completed traces ::   0%|          | 0/1000 [00:00<?, ?it/s]"
      ]
     },
     "metadata": {},
     "output_type": "display_data"
    },
    {
     "data": {
      "application/vnd.jupyter.widget-view+json": {
       "model_id": "e9a7fdff8ece4c6994e7b48514437878",
       "version_major": 2,
       "version_minor": 0
      },
      "text/plain": [
       "parsing log, completed traces ::   0%|          | 0/1000 [00:00<?, ?it/s]"
      ]
     },
     "metadata": {},
     "output_type": "display_data"
    },
    {
     "data": {
      "application/vnd.jupyter.widget-view+json": {
       "model_id": "523cc377dcf74cb194c44fd35c9d8afe",
       "version_major": 2,
       "version_minor": 0
      },
      "text/plain": [
       "parsing log, completed traces ::   0%|          | 0/1000 [00:00<?, ?it/s]"
      ]
     },
     "metadata": {},
     "output_type": "display_data"
    },
    {
     "data": {
      "application/vnd.jupyter.widget-view+json": {
       "model_id": "70b9145f73304bfbb9e25fc5d266242c",
       "version_major": 2,
       "version_minor": 0
      },
      "text/plain": [
       "parsing log, completed traces ::   0%|          | 0/1000 [00:00<?, ?it/s]"
      ]
     },
     "metadata": {},
     "output_type": "display_data"
    },
    {
     "data": {
      "application/vnd.jupyter.widget-view+json": {
       "model_id": "345fd7bcd70846e3a76a337c0628f150",
       "version_major": 2,
       "version_minor": 0
      },
      "text/plain": [
       "parsing log, completed traces ::   0%|          | 0/1000 [00:00<?, ?it/s]"
      ]
     },
     "metadata": {},
     "output_type": "display_data"
    },
    {
     "data": {
      "application/vnd.jupyter.widget-view+json": {
       "model_id": "5ecfef36996c4892b71c237199aeefcc",
       "version_major": 2,
       "version_minor": 0
      },
      "text/plain": [
       "parsing log, completed traces ::   0%|          | 0/1000 [00:00<?, ?it/s]"
      ]
     },
     "metadata": {},
     "output_type": "display_data"
    },
    {
     "data": {
      "application/vnd.jupyter.widget-view+json": {
       "model_id": "e036be684669482883fb3099b502164b",
       "version_major": 2,
       "version_minor": 0
      },
      "text/plain": [
       "parsing log, completed traces ::   0%|          | 0/1000 [00:00<?, ?it/s]"
      ]
     },
     "metadata": {},
     "output_type": "display_data"
    },
    {
     "data": {
      "application/vnd.jupyter.widget-view+json": {
       "model_id": "06ff27ec60b44e40ac264e6058de24b6",
       "version_major": 2,
       "version_minor": 0
      },
      "text/plain": [
       "parsing log, completed traces ::   0%|          | 0/1000 [00:00<?, ?it/s]"
      ]
     },
     "metadata": {},
     "output_type": "display_data"
    },
    {
     "data": {
      "application/vnd.jupyter.widget-view+json": {
       "model_id": "a950d15591704b10bf78d6b934c149e7",
       "version_major": 2,
       "version_minor": 0
      },
      "text/plain": [
       "parsing log, completed traces ::   0%|          | 0/1000 [00:00<?, ?it/s]"
      ]
     },
     "metadata": {},
     "output_type": "display_data"
    },
    {
     "data": {
      "application/vnd.jupyter.widget-view+json": {
       "model_id": "8502f9ce60a643dea2dfdceed2b619f1",
       "version_major": 2,
       "version_minor": 0
      },
      "text/plain": [
       "parsing log, completed traces ::   0%|          | 0/1000 [00:00<?, ?it/s]"
      ]
     },
     "metadata": {},
     "output_type": "display_data"
    },
    {
     "data": {
      "application/vnd.jupyter.widget-view+json": {
       "model_id": "2b44c6fa1a3844d6b3afafdd6069a971",
       "version_major": 2,
       "version_minor": 0
      },
      "text/plain": [
       "parsing log, completed traces ::   0%|          | 0/1000 [00:00<?, ?it/s]"
      ]
     },
     "metadata": {},
     "output_type": "display_data"
    },
    {
     "data": {
      "application/vnd.jupyter.widget-view+json": {
       "model_id": "2cb695f0cd984324a7738b481faecb40",
       "version_major": 2,
       "version_minor": 0
      },
      "text/plain": [
       "parsing log, completed traces ::   0%|          | 0/1000 [00:00<?, ?it/s]"
      ]
     },
     "metadata": {},
     "output_type": "display_data"
    },
    {
     "data": {
      "application/vnd.jupyter.widget-view+json": {
       "model_id": "9c71de1f12c34130b3a483c383104231",
       "version_major": 2,
       "version_minor": 0
      },
      "text/plain": [
       "parsing log, completed traces ::   0%|          | 0/1000 [00:00<?, ?it/s]"
      ]
     },
     "metadata": {},
     "output_type": "display_data"
    },
    {
     "data": {
      "application/vnd.jupyter.widget-view+json": {
       "model_id": "81d33d3368fc474b9a164ef87873ca9e",
       "version_major": 2,
       "version_minor": 0
      },
      "text/plain": [
       "parsing log, completed traces ::   0%|          | 0/1000 [00:00<?, ?it/s]"
      ]
     },
     "metadata": {},
     "output_type": "display_data"
    },
    {
     "data": {
      "application/vnd.jupyter.widget-view+json": {
       "model_id": "89b1bd5d164b4671a765556c6d4d3e49",
       "version_major": 2,
       "version_minor": 0
      },
      "text/plain": [
       "parsing log, completed traces ::   0%|          | 0/1000 [00:00<?, ?it/s]"
      ]
     },
     "metadata": {},
     "output_type": "display_data"
    },
    {
     "data": {
      "application/vnd.jupyter.widget-view+json": {
       "model_id": "a31ac5b52d3b4a99a4a0656b822d58e3",
       "version_major": 2,
       "version_minor": 0
      },
      "text/plain": [
       "parsing log, completed traces ::   0%|          | 0/1000 [00:00<?, ?it/s]"
      ]
     },
     "metadata": {},
     "output_type": "display_data"
    },
    {
     "data": {
      "application/vnd.jupyter.widget-view+json": {
       "model_id": "7c633cafcaa34a97a6f5ae9f422cd88a",
       "version_major": 2,
       "version_minor": 0
      },
      "text/plain": [
       "parsing log, completed traces ::   0%|          | 0/1000 [00:00<?, ?it/s]"
      ]
     },
     "metadata": {},
     "output_type": "display_data"
    },
    {
     "data": {
      "application/vnd.jupyter.widget-view+json": {
       "model_id": "345b09f69d9345c1a69acf97ceac3de9",
       "version_major": 2,
       "version_minor": 0
      },
      "text/plain": [
       "parsing log, completed traces ::   0%|          | 0/1000 [00:00<?, ?it/s]"
      ]
     },
     "metadata": {},
     "output_type": "display_data"
    },
    {
     "data": {
      "application/vnd.jupyter.widget-view+json": {
       "model_id": "5ef9a9d2dd244d439e91c24f1f1b7f26",
       "version_major": 2,
       "version_minor": 0
      },
      "text/plain": [
       "parsing log, completed traces ::   0%|          | 0/1000 [00:00<?, ?it/s]"
      ]
     },
     "metadata": {},
     "output_type": "display_data"
    },
    {
     "data": {
      "application/vnd.jupyter.widget-view+json": {
       "model_id": "6974bb8cee3b4e6ab4f33276838e3a22",
       "version_major": 2,
       "version_minor": 0
      },
      "text/plain": [
       "parsing log, completed traces ::   0%|          | 0/1000 [00:00<?, ?it/s]"
      ]
     },
     "metadata": {},
     "output_type": "display_data"
    },
    {
     "data": {
      "application/vnd.jupyter.widget-view+json": {
       "model_id": "e9743e9749a64142a873621316e26d51",
       "version_major": 2,
       "version_minor": 0
      },
      "text/plain": [
       "parsing log, completed traces ::   0%|          | 0/1000 [00:00<?, ?it/s]"
      ]
     },
     "metadata": {},
     "output_type": "display_data"
    },
    {
     "data": {
      "application/vnd.jupyter.widget-view+json": {
       "model_id": "fd119608db1a4c0381a5aac78f853ddb",
       "version_major": 2,
       "version_minor": 0
      },
      "text/plain": [
       "parsing log, completed traces ::   0%|          | 0/1000 [00:00<?, ?it/s]"
      ]
     },
     "metadata": {},
     "output_type": "display_data"
    },
    {
     "data": {
      "application/vnd.jupyter.widget-view+json": {
       "model_id": "9c156fbfd40a4ea1a1507b1a5c7f1238",
       "version_major": 2,
       "version_minor": 0
      },
      "text/plain": [
       "parsing log, completed traces ::   0%|          | 0/1000 [00:00<?, ?it/s]"
      ]
     },
     "metadata": {},
     "output_type": "display_data"
    },
    {
     "data": {
      "application/vnd.jupyter.widget-view+json": {
       "model_id": "2c03a282e0c445fa885801ea45d875b2",
       "version_major": 2,
       "version_minor": 0
      },
      "text/plain": [
       "parsing log, completed traces ::   0%|          | 0/1000 [00:00<?, ?it/s]"
      ]
     },
     "metadata": {},
     "output_type": "display_data"
    },
    {
     "data": {
      "application/vnd.jupyter.widget-view+json": {
       "model_id": "1f16458a82a442c7a46e3e739d190a74",
       "version_major": 2,
       "version_minor": 0
      },
      "text/plain": [
       "parsing log, completed traces ::   0%|          | 0/1000 [00:00<?, ?it/s]"
      ]
     },
     "metadata": {},
     "output_type": "display_data"
    },
    {
     "data": {
      "application/vnd.jupyter.widget-view+json": {
       "model_id": "689752157fce460290a4698f79532aa9",
       "version_major": 2,
       "version_minor": 0
      },
      "text/plain": [
       "parsing log, completed traces ::   0%|          | 0/1000 [00:00<?, ?it/s]"
      ]
     },
     "metadata": {},
     "output_type": "display_data"
    },
    {
     "data": {
      "application/vnd.jupyter.widget-view+json": {
       "model_id": "fb427998f8514f96a8674358ef53d591",
       "version_major": 2,
       "version_minor": 0
      },
      "text/plain": [
       "parsing log, completed traces ::   0%|          | 0/1000 [00:00<?, ?it/s]"
      ]
     },
     "metadata": {},
     "output_type": "display_data"
    },
    {
     "data": {
      "application/vnd.jupyter.widget-view+json": {
       "model_id": "d6ab9f2ec25f484ba3572cc284ed8bee",
       "version_major": 2,
       "version_minor": 0
      },
      "text/plain": [
       "parsing log, completed traces ::   0%|          | 0/1000 [00:00<?, ?it/s]"
      ]
     },
     "metadata": {},
     "output_type": "display_data"
    },
    {
     "data": {
      "application/vnd.jupyter.widget-view+json": {
       "model_id": "3a4c4705ac8b4043865328162145a557",
       "version_major": 2,
       "version_minor": 0
      },
      "text/plain": [
       "parsing log, completed traces ::   0%|          | 0/1000 [00:00<?, ?it/s]"
      ]
     },
     "metadata": {},
     "output_type": "display_data"
    },
    {
     "data": {
      "application/vnd.jupyter.widget-view+json": {
       "model_id": "c5b0723864174910a9d495f2c933ae36",
       "version_major": 2,
       "version_minor": 0
      },
      "text/plain": [
       "parsing log, completed traces ::   0%|          | 0/1000 [00:00<?, ?it/s]"
      ]
     },
     "metadata": {},
     "output_type": "display_data"
    },
    {
     "data": {
      "application/vnd.jupyter.widget-view+json": {
       "model_id": "5ea6ac849dbd4db6b8ca0274332d9df5",
       "version_major": 2,
       "version_minor": 0
      },
      "text/plain": [
       "parsing log, completed traces ::   0%|          | 0/1000 [00:00<?, ?it/s]"
      ]
     },
     "metadata": {},
     "output_type": "display_data"
    },
    {
     "data": {
      "application/vnd.jupyter.widget-view+json": {
       "model_id": "27dc3e8b5f404d64a7a667aea35a33df",
       "version_major": 2,
       "version_minor": 0
      },
      "text/plain": [
       "parsing log, completed traces ::   0%|          | 0/1000 [00:00<?, ?it/s]"
      ]
     },
     "metadata": {},
     "output_type": "display_data"
    },
    {
     "data": {
      "application/vnd.jupyter.widget-view+json": {
       "model_id": "f262be8e31aa400499cfceda89d7f3ac",
       "version_major": 2,
       "version_minor": 0
      },
      "text/plain": [
       "parsing log, completed traces ::   0%|          | 0/1000 [00:00<?, ?it/s]"
      ]
     },
     "metadata": {},
     "output_type": "display_data"
    },
    {
     "data": {
      "application/vnd.jupyter.widget-view+json": {
       "model_id": "681d86febbf34ade8aa080808d1b28b9",
       "version_major": 2,
       "version_minor": 0
      },
      "text/plain": [
       "parsing log, completed traces ::   0%|          | 0/1000 [00:00<?, ?it/s]"
      ]
     },
     "metadata": {},
     "output_type": "display_data"
    },
    {
     "data": {
      "application/vnd.jupyter.widget-view+json": {
       "model_id": "56fa5fb82bfe469b96490645f20cff54",
       "version_major": 2,
       "version_minor": 0
      },
      "text/plain": [
       "parsing log, completed traces ::   0%|          | 0/1000 [00:00<?, ?it/s]"
      ]
     },
     "metadata": {},
     "output_type": "display_data"
    },
    {
     "data": {
      "application/vnd.jupyter.widget-view+json": {
       "model_id": "e1dc45f0bab542a4ae239232a3fe5df0",
       "version_major": 2,
       "version_minor": 0
      },
      "text/plain": [
       "parsing log, completed traces ::   0%|          | 0/1000 [00:00<?, ?it/s]"
      ]
     },
     "metadata": {},
     "output_type": "display_data"
    },
    {
     "data": {
      "application/vnd.jupyter.widget-view+json": {
       "model_id": "fa61ed046fb349db9abdd192848313c5",
       "version_major": 2,
       "version_minor": 0
      },
      "text/plain": [
       "parsing log, completed traces ::   0%|          | 0/1000 [00:00<?, ?it/s]"
      ]
     },
     "metadata": {},
     "output_type": "display_data"
    },
    {
     "data": {
      "application/vnd.jupyter.widget-view+json": {
       "model_id": "c782982f9eff4d239ba8bb605b7f6086",
       "version_major": 2,
       "version_minor": 0
      },
      "text/plain": [
       "parsing log, completed traces ::   0%|          | 0/1000 [00:00<?, ?it/s]"
      ]
     },
     "metadata": {},
     "output_type": "display_data"
    },
    {
     "data": {
      "application/vnd.jupyter.widget-view+json": {
       "model_id": "e81fbfd2d50145cb9f797b09fb1160b8",
       "version_major": 2,
       "version_minor": 0
      },
      "text/plain": [
       "parsing log, completed traces ::   0%|          | 0/1000 [00:00<?, ?it/s]"
      ]
     },
     "metadata": {},
     "output_type": "display_data"
    },
    {
     "data": {
      "application/vnd.jupyter.widget-view+json": {
       "model_id": "13a6ce21dc024138a2acdd11a4206892",
       "version_major": 2,
       "version_minor": 0
      },
      "text/plain": [
       "parsing log, completed traces ::   0%|          | 0/1000 [00:00<?, ?it/s]"
      ]
     },
     "metadata": {},
     "output_type": "display_data"
    },
    {
     "data": {
      "application/vnd.jupyter.widget-view+json": {
       "model_id": "e71e7fa095134b9085bbc0053738f800",
       "version_major": 2,
       "version_minor": 0
      },
      "text/plain": [
       "parsing log, completed traces ::   0%|          | 0/1000 [00:00<?, ?it/s]"
      ]
     },
     "metadata": {},
     "output_type": "display_data"
    },
    {
     "data": {
      "application/vnd.jupyter.widget-view+json": {
       "model_id": "02ca04dd69074b1aa178d8e8bcde5977",
       "version_major": 2,
       "version_minor": 0
      },
      "text/plain": [
       "parsing log, completed traces ::   0%|          | 0/1000 [00:00<?, ?it/s]"
      ]
     },
     "metadata": {},
     "output_type": "display_data"
    },
    {
     "data": {
      "application/vnd.jupyter.widget-view+json": {
       "model_id": "991d7a41756248d2a39ae6078d6e5822",
       "version_major": 2,
       "version_minor": 0
      },
      "text/plain": [
       "parsing log, completed traces ::   0%|          | 0/1000 [00:00<?, ?it/s]"
      ]
     },
     "metadata": {},
     "output_type": "display_data"
    },
    {
     "data": {
      "application/vnd.jupyter.widget-view+json": {
       "model_id": "cdd1fc3c26dd4879b537450907ee8548",
       "version_major": 2,
       "version_minor": 0
      },
      "text/plain": [
       "parsing log, completed traces ::   0%|          | 0/1000 [00:00<?, ?it/s]"
      ]
     },
     "metadata": {},
     "output_type": "display_data"
    },
    {
     "data": {
      "application/vnd.jupyter.widget-view+json": {
       "model_id": "3d79e0a6a82d4ef788d4eb7b5bdd0669",
       "version_major": 2,
       "version_minor": 0
      },
      "text/plain": [
       "parsing log, completed traces ::   0%|          | 0/1000 [00:00<?, ?it/s]"
      ]
     },
     "metadata": {},
     "output_type": "display_data"
    },
    {
     "data": {
      "application/vnd.jupyter.widget-view+json": {
       "model_id": "6f876b9bf63548c6bd0732ea035cd479",
       "version_major": 2,
       "version_minor": 0
      },
      "text/plain": [
       "parsing log, completed traces ::   0%|          | 0/1000 [00:00<?, ?it/s]"
      ]
     },
     "metadata": {},
     "output_type": "display_data"
    },
    {
     "data": {
      "application/vnd.jupyter.widget-view+json": {
       "model_id": "61540b8fe72b4969bf1283485c927638",
       "version_major": 2,
       "version_minor": 0
      },
      "text/plain": [
       "parsing log, completed traces ::   0%|          | 0/1000 [00:00<?, ?it/s]"
      ]
     },
     "metadata": {},
     "output_type": "display_data"
    },
    {
     "data": {
      "application/vnd.jupyter.widget-view+json": {
       "model_id": "289f5bedd71d496bb2b8f863739d2493",
       "version_major": 2,
       "version_minor": 0
      },
      "text/plain": [
       "parsing log, completed traces ::   0%|          | 0/1000 [00:00<?, ?it/s]"
      ]
     },
     "metadata": {},
     "output_type": "display_data"
    },
    {
     "data": {
      "application/vnd.jupyter.widget-view+json": {
       "model_id": "d357f986c4114311a5180d8484fd8fb0",
       "version_major": 2,
       "version_minor": 0
      },
      "text/plain": [
       "parsing log, completed traces ::   0%|          | 0/1000 [00:00<?, ?it/s]"
      ]
     },
     "metadata": {},
     "output_type": "display_data"
    },
    {
     "data": {
      "application/vnd.jupyter.widget-view+json": {
       "model_id": "b0c43ffa146e46fe8cf17c2014ca03b1",
       "version_major": 2,
       "version_minor": 0
      },
      "text/plain": [
       "parsing log, completed traces ::   0%|          | 0/1000 [00:00<?, ?it/s]"
      ]
     },
     "metadata": {},
     "output_type": "display_data"
    },
    {
     "data": {
      "application/vnd.jupyter.widget-view+json": {
       "model_id": "c043e7357de64b14bbb7eedcd1c69fae",
       "version_major": 2,
       "version_minor": 0
      },
      "text/plain": [
       "parsing log, completed traces ::   0%|          | 0/1000 [00:00<?, ?it/s]"
      ]
     },
     "metadata": {},
     "output_type": "display_data"
    },
    {
     "data": {
      "application/vnd.jupyter.widget-view+json": {
       "model_id": "88bdfc38d3514c1a8f4ef8042fdeb2f5",
       "version_major": 2,
       "version_minor": 0
      },
      "text/plain": [
       "parsing log, completed traces ::   0%|          | 0/1000 [00:00<?, ?it/s]"
      ]
     },
     "metadata": {},
     "output_type": "display_data"
    },
    {
     "data": {
      "application/vnd.jupyter.widget-view+json": {
       "model_id": "2481f329d0194466b401af492059eed6",
       "version_major": 2,
       "version_minor": 0
      },
      "text/plain": [
       "parsing log, completed traces ::   0%|          | 0/1000 [00:00<?, ?it/s]"
      ]
     },
     "metadata": {},
     "output_type": "display_data"
    },
    {
     "data": {
      "application/vnd.jupyter.widget-view+json": {
       "model_id": "0150fae1524b4612b9dd10684c8b6a49",
       "version_major": 2,
       "version_minor": 0
      },
      "text/plain": [
       "parsing log, completed traces ::   0%|          | 0/1000 [00:00<?, ?it/s]"
      ]
     },
     "metadata": {},
     "output_type": "display_data"
    },
    {
     "data": {
      "application/vnd.jupyter.widget-view+json": {
       "model_id": "35ad73407dbc4683a46cae4092748700",
       "version_major": 2,
       "version_minor": 0
      },
      "text/plain": [
       "parsing log, completed traces ::   0%|          | 0/1000 [00:00<?, ?it/s]"
      ]
     },
     "metadata": {},
     "output_type": "display_data"
    },
    {
     "data": {
      "application/vnd.jupyter.widget-view+json": {
       "model_id": "3f1a9353b9c943189197fc974eb38cd8",
       "version_major": 2,
       "version_minor": 0
      },
      "text/plain": [
       "parsing log, completed traces ::   0%|          | 0/1000 [00:00<?, ?it/s]"
      ]
     },
     "metadata": {},
     "output_type": "display_data"
    },
    {
     "data": {
      "application/vnd.jupyter.widget-view+json": {
       "model_id": "745d9541b6944407a915a7d645020d10",
       "version_major": 2,
       "version_minor": 0
      },
      "text/plain": [
       "parsing log, completed traces ::   0%|          | 0/1000 [00:00<?, ?it/s]"
      ]
     },
     "metadata": {},
     "output_type": "display_data"
    },
    {
     "data": {
      "application/vnd.jupyter.widget-view+json": {
       "model_id": "8f01de4bcc2e4b5693f6542acb977a30",
       "version_major": 2,
       "version_minor": 0
      },
      "text/plain": [
       "parsing log, completed traces ::   0%|          | 0/1000 [00:00<?, ?it/s]"
      ]
     },
     "metadata": {},
     "output_type": "display_data"
    },
    {
     "data": {
      "application/vnd.jupyter.widget-view+json": {
       "model_id": "f571ad1242b14940886bc818d8d75835",
       "version_major": 2,
       "version_minor": 0
      },
      "text/plain": [
       "parsing log, completed traces ::   0%|          | 0/1000 [00:00<?, ?it/s]"
      ]
     },
     "metadata": {},
     "output_type": "display_data"
    },
    {
     "data": {
      "application/vnd.jupyter.widget-view+json": {
       "model_id": "690ca5b369a74984a85f48dde164c758",
       "version_major": 2,
       "version_minor": 0
      },
      "text/plain": [
       "parsing log, completed traces ::   0%|          | 0/1000 [00:00<?, ?it/s]"
      ]
     },
     "metadata": {},
     "output_type": "display_data"
    },
    {
     "data": {
      "application/vnd.jupyter.widget-view+json": {
       "model_id": "5af754403451450cafcf50d7fb1d15f2",
       "version_major": 2,
       "version_minor": 0
      },
      "text/plain": [
       "parsing log, completed traces ::   0%|          | 0/1000 [00:00<?, ?it/s]"
      ]
     },
     "metadata": {},
     "output_type": "display_data"
    },
    {
     "data": {
      "application/vnd.jupyter.widget-view+json": {
       "model_id": "0f945950550444458d38ffcf6e71af7b",
       "version_major": 2,
       "version_minor": 0
      },
      "text/plain": [
       "parsing log, completed traces ::   0%|          | 0/1000 [00:00<?, ?it/s]"
      ]
     },
     "metadata": {},
     "output_type": "display_data"
    },
    {
     "data": {
      "application/vnd.jupyter.widget-view+json": {
       "model_id": "fc5f460f77384dd8899ebadd8bec919b",
       "version_major": 2,
       "version_minor": 0
      },
      "text/plain": [
       "parsing log, completed traces ::   0%|          | 0/1000 [00:00<?, ?it/s]"
      ]
     },
     "metadata": {},
     "output_type": "display_data"
    },
    {
     "data": {
      "application/vnd.jupyter.widget-view+json": {
       "model_id": "9ecab25d6aa64f3f9e1136f081166c8f",
       "version_major": 2,
       "version_minor": 0
      },
      "text/plain": [
       "parsing log, completed traces ::   0%|          | 0/1000 [00:00<?, ?it/s]"
      ]
     },
     "metadata": {},
     "output_type": "display_data"
    },
    {
     "data": {
      "application/vnd.jupyter.widget-view+json": {
       "model_id": "69fd0ecb6ef44a098aa161d199b2cbd0",
       "version_major": 2,
       "version_minor": 0
      },
      "text/plain": [
       "parsing log, completed traces ::   0%|          | 0/1000 [00:00<?, ?it/s]"
      ]
     },
     "metadata": {},
     "output_type": "display_data"
    },
    {
     "data": {
      "application/vnd.jupyter.widget-view+json": {
       "model_id": "70399e88b339431bbcdfd24db4b21377",
       "version_major": 2,
       "version_minor": 0
      },
      "text/plain": [
       "parsing log, completed traces ::   0%|          | 0/1000 [00:00<?, ?it/s]"
      ]
     },
     "metadata": {},
     "output_type": "display_data"
    },
    {
     "data": {
      "application/vnd.jupyter.widget-view+json": {
       "model_id": "5aac10114eb840ca85674abef357bdac",
       "version_major": 2,
       "version_minor": 0
      },
      "text/plain": [
       "parsing log, completed traces ::   0%|          | 0/1000 [00:00<?, ?it/s]"
      ]
     },
     "metadata": {},
     "output_type": "display_data"
    },
    {
     "data": {
      "application/vnd.jupyter.widget-view+json": {
       "model_id": "f64a20ed66a049a7947921e53ef0717c",
       "version_major": 2,
       "version_minor": 0
      },
      "text/plain": [
       "parsing log, completed traces ::   0%|          | 0/1000 [00:00<?, ?it/s]"
      ]
     },
     "metadata": {},
     "output_type": "display_data"
    },
    {
     "data": {
      "application/vnd.jupyter.widget-view+json": {
       "model_id": "6a7c111c64c847afb53027a67ce2dc37",
       "version_major": 2,
       "version_minor": 0
      },
      "text/plain": [
       "parsing log, completed traces ::   0%|          | 0/1000 [00:00<?, ?it/s]"
      ]
     },
     "metadata": {},
     "output_type": "display_data"
    },
    {
     "data": {
      "application/vnd.jupyter.widget-view+json": {
       "model_id": "31466474034f4374bd3ee2e8948869aa",
       "version_major": 2,
       "version_minor": 0
      },
      "text/plain": [
       "parsing log, completed traces ::   0%|          | 0/1000 [00:00<?, ?it/s]"
      ]
     },
     "metadata": {},
     "output_type": "display_data"
    },
    {
     "data": {
      "application/vnd.jupyter.widget-view+json": {
       "model_id": "1a8ef1ae477c4c5790968ed89a1cf96c",
       "version_major": 2,
       "version_minor": 0
      },
      "text/plain": [
       "parsing log, completed traces ::   0%|          | 0/1000 [00:00<?, ?it/s]"
      ]
     },
     "metadata": {},
     "output_type": "display_data"
    },
    {
     "data": {
      "application/vnd.jupyter.widget-view+json": {
       "model_id": "0829bfed78e44c0ea098383eb01f94b8",
       "version_major": 2,
       "version_minor": 0
      },
      "text/plain": [
       "parsing log, completed traces ::   0%|          | 0/1000 [00:00<?, ?it/s]"
      ]
     },
     "metadata": {},
     "output_type": "display_data"
    },
    {
     "data": {
      "application/vnd.jupyter.widget-view+json": {
       "model_id": "d0341f1fcaf34f8e81a44d9689bb23d8",
       "version_major": 2,
       "version_minor": 0
      },
      "text/plain": [
       "parsing log, completed traces ::   0%|          | 0/1000 [00:00<?, ?it/s]"
      ]
     },
     "metadata": {},
     "output_type": "display_data"
    },
    {
     "data": {
      "application/vnd.jupyter.widget-view+json": {
       "model_id": "fa143475cf854e679312be0434e8cc85",
       "version_major": 2,
       "version_minor": 0
      },
      "text/plain": [
       "parsing log, completed traces ::   0%|          | 0/1000 [00:00<?, ?it/s]"
      ]
     },
     "metadata": {},
     "output_type": "display_data"
    },
    {
     "data": {
      "application/vnd.jupyter.widget-view+json": {
       "model_id": "2b1c44e88f9244b483a9c608c4e80bf4",
       "version_major": 2,
       "version_minor": 0
      },
      "text/plain": [
       "parsing log, completed traces ::   0%|          | 0/1000 [00:00<?, ?it/s]"
      ]
     },
     "metadata": {},
     "output_type": "display_data"
    },
    {
     "data": {
      "application/vnd.jupyter.widget-view+json": {
       "model_id": "4aa1f74dd3454434bb4dbf34a29723b6",
       "version_major": 2,
       "version_minor": 0
      },
      "text/plain": [
       "parsing log, completed traces ::   0%|          | 0/1000 [00:00<?, ?it/s]"
      ]
     },
     "metadata": {},
     "output_type": "display_data"
    },
    {
     "data": {
      "application/vnd.jupyter.widget-view+json": {
       "model_id": "c7dea8872d3f4715bcb436519dd7dfec",
       "version_major": 2,
       "version_minor": 0
      },
      "text/plain": [
       "parsing log, completed traces ::   0%|          | 0/1000 [00:00<?, ?it/s]"
      ]
     },
     "metadata": {},
     "output_type": "display_data"
    },
    {
     "data": {
      "application/vnd.jupyter.widget-view+json": {
       "model_id": "494c0cc62b8341da813ad9f7e4be3bae",
       "version_major": 2,
       "version_minor": 0
      },
      "text/plain": [
       "parsing log, completed traces ::   0%|          | 0/1000 [00:00<?, ?it/s]"
      ]
     },
     "metadata": {},
     "output_type": "display_data"
    },
    {
     "data": {
      "application/vnd.jupyter.widget-view+json": {
       "model_id": "88751d1a15df42ffa0e21a9c7527c559",
       "version_major": 2,
       "version_minor": 0
      },
      "text/plain": [
       "parsing log, completed traces ::   0%|          | 0/1000 [00:00<?, ?it/s]"
      ]
     },
     "metadata": {},
     "output_type": "display_data"
    },
    {
     "data": {
      "application/vnd.jupyter.widget-view+json": {
       "model_id": "a49499a3b5b344cb9c5ad2421d1b842d",
       "version_major": 2,
       "version_minor": 0
      },
      "text/plain": [
       "parsing log, completed traces ::   0%|          | 0/1000 [00:00<?, ?it/s]"
      ]
     },
     "metadata": {},
     "output_type": "display_data"
    },
    {
     "data": {
      "application/vnd.jupyter.widget-view+json": {
       "model_id": "57585da16aa64c6994833be5655edfd9",
       "version_major": 2,
       "version_minor": 0
      },
      "text/plain": [
       "parsing log, completed traces ::   0%|          | 0/1000 [00:00<?, ?it/s]"
      ]
     },
     "metadata": {},
     "output_type": "display_data"
    },
    {
     "data": {
      "application/vnd.jupyter.widget-view+json": {
       "model_id": "513b5793e6f94a239a96b06128619a45",
       "version_major": 2,
       "version_minor": 0
      },
      "text/plain": [
       "parsing log, completed traces ::   0%|          | 0/1000 [00:00<?, ?it/s]"
      ]
     },
     "metadata": {},
     "output_type": "display_data"
    },
    {
     "data": {
      "application/vnd.jupyter.widget-view+json": {
       "model_id": "ec7b3a68d8244177a9ca1a198a27b05d",
       "version_major": 2,
       "version_minor": 0
      },
      "text/plain": [
       "parsing log, completed traces ::   0%|          | 0/1000 [00:00<?, ?it/s]"
      ]
     },
     "metadata": {},
     "output_type": "display_data"
    },
    {
     "data": {
      "application/vnd.jupyter.widget-view+json": {
       "model_id": "03f51399ec4f4039aa28f111d60cdee8",
       "version_major": 2,
       "version_minor": 0
      },
      "text/plain": [
       "parsing log, completed traces ::   0%|          | 0/1000 [00:00<?, ?it/s]"
      ]
     },
     "metadata": {},
     "output_type": "display_data"
    },
    {
     "data": {
      "application/vnd.jupyter.widget-view+json": {
       "model_id": "e84ba7b01ab642d084863d293a41acf4",
       "version_major": 2,
       "version_minor": 0
      },
      "text/plain": [
       "parsing log, completed traces ::   0%|          | 0/1000 [00:00<?, ?it/s]"
      ]
     },
     "metadata": {},
     "output_type": "display_data"
    },
    {
     "data": {
      "application/vnd.jupyter.widget-view+json": {
       "model_id": "adb72fc54bcd45c1b0d85e2ae807f8f4",
       "version_major": 2,
       "version_minor": 0
      },
      "text/plain": [
       "parsing log, completed traces ::   0%|          | 0/1000 [00:00<?, ?it/s]"
      ]
     },
     "metadata": {},
     "output_type": "display_data"
    },
    {
     "data": {
      "application/vnd.jupyter.widget-view+json": {
       "model_id": "0314feb1224b4d938968513bd8daf3da",
       "version_major": 2,
       "version_minor": 0
      },
      "text/plain": [
       "parsing log, completed traces ::   0%|          | 0/1000 [00:00<?, ?it/s]"
      ]
     },
     "metadata": {},
     "output_type": "display_data"
    },
    {
     "data": {
      "application/vnd.jupyter.widget-view+json": {
       "model_id": "c83b2067d8464b7b888db0addd02d1e0",
       "version_major": 2,
       "version_minor": 0
      },
      "text/plain": [
       "parsing log, completed traces ::   0%|          | 0/1000 [00:00<?, ?it/s]"
      ]
     },
     "metadata": {},
     "output_type": "display_data"
    },
    {
     "data": {
      "application/vnd.jupyter.widget-view+json": {
       "model_id": "f74c7a5703f04bc8bc8f76d7a8e166a7",
       "version_major": 2,
       "version_minor": 0
      },
      "text/plain": [
       "parsing log, completed traces ::   0%|          | 0/1000 [00:00<?, ?it/s]"
      ]
     },
     "metadata": {},
     "output_type": "display_data"
    },
    {
     "data": {
      "application/vnd.jupyter.widget-view+json": {
       "model_id": "978534cf6ee94842811b3ae29c4b8501",
       "version_major": 2,
       "version_minor": 0
      },
      "text/plain": [
       "parsing log, completed traces ::   0%|          | 0/1000 [00:00<?, ?it/s]"
      ]
     },
     "metadata": {},
     "output_type": "display_data"
    },
    {
     "data": {
      "application/vnd.jupyter.widget-view+json": {
       "model_id": "ca62617e9c1e4665b8b8d768c96a52be",
       "version_major": 2,
       "version_minor": 0
      },
      "text/plain": [
       "parsing log, completed traces ::   0%|          | 0/1000 [00:00<?, ?it/s]"
      ]
     },
     "metadata": {},
     "output_type": "display_data"
    },
    {
     "data": {
      "application/vnd.jupyter.widget-view+json": {
       "model_id": "d27b7dc50cff49f49c0cf6e0cc4d8aa3",
       "version_major": 2,
       "version_minor": 0
      },
      "text/plain": [
       "parsing log, completed traces ::   0%|          | 0/1000 [00:00<?, ?it/s]"
      ]
     },
     "metadata": {},
     "output_type": "display_data"
    },
    {
     "data": {
      "application/vnd.jupyter.widget-view+json": {
       "model_id": "31dc2197080a4e65913317a7cda07785",
       "version_major": 2,
       "version_minor": 0
      },
      "text/plain": [
       "parsing log, completed traces ::   0%|          | 0/1000 [00:00<?, ?it/s]"
      ]
     },
     "metadata": {},
     "output_type": "display_data"
    },
    {
     "data": {
      "application/vnd.jupyter.widget-view+json": {
       "model_id": "7faad33260e74359b20d72b0c9716188",
       "version_major": 2,
       "version_minor": 0
      },
      "text/plain": [
       "parsing log, completed traces ::   0%|          | 0/1000 [00:00<?, ?it/s]"
      ]
     },
     "metadata": {},
     "output_type": "display_data"
    },
    {
     "data": {
      "application/vnd.jupyter.widget-view+json": {
       "model_id": "d8e4453062b74c919ec12af17f53ad46",
       "version_major": 2,
       "version_minor": 0
      },
      "text/plain": [
       "parsing log, completed traces ::   0%|          | 0/1000 [00:00<?, ?it/s]"
      ]
     },
     "metadata": {},
     "output_type": "display_data"
    },
    {
     "data": {
      "application/vnd.jupyter.widget-view+json": {
       "model_id": "340aa8ed24dc4c59abaf9be739303b57",
       "version_major": 2,
       "version_minor": 0
      },
      "text/plain": [
       "parsing log, completed traces ::   0%|          | 0/1000 [00:00<?, ?it/s]"
      ]
     },
     "metadata": {},
     "output_type": "display_data"
    },
    {
     "data": {
      "application/vnd.jupyter.widget-view+json": {
       "model_id": "cd4524e2c1ef49ad8a4fb7d6c34d5837",
       "version_major": 2,
       "version_minor": 0
      },
      "text/plain": [
       "parsing log, completed traces ::   0%|          | 0/1000 [00:00<?, ?it/s]"
      ]
     },
     "metadata": {},
     "output_type": "display_data"
    },
    {
     "data": {
      "application/vnd.jupyter.widget-view+json": {
       "model_id": "e64ba20c7f2a4c78840a6a02ed0a25e1",
       "version_major": 2,
       "version_minor": 0
      },
      "text/plain": [
       "parsing log, completed traces ::   0%|          | 0/1000 [00:00<?, ?it/s]"
      ]
     },
     "metadata": {},
     "output_type": "display_data"
    },
    {
     "data": {
      "application/vnd.jupyter.widget-view+json": {
       "model_id": "d382e61451494bcfb42463b18de51965",
       "version_major": 2,
       "version_minor": 0
      },
      "text/plain": [
       "parsing log, completed traces ::   0%|          | 0/1000 [00:00<?, ?it/s]"
      ]
     },
     "metadata": {},
     "output_type": "display_data"
    },
    {
     "data": {
      "application/vnd.jupyter.widget-view+json": {
       "model_id": "874d737620914ab4a3390aea5009f0e5",
       "version_major": 2,
       "version_minor": 0
      },
      "text/plain": [
       "parsing log, completed traces ::   0%|          | 0/1000 [00:00<?, ?it/s]"
      ]
     },
     "metadata": {},
     "output_type": "display_data"
    },
    {
     "data": {
      "application/vnd.jupyter.widget-view+json": {
       "model_id": "cdf111abc7e343f2a8e851b9c56b4b8e",
       "version_major": 2,
       "version_minor": 0
      },
      "text/plain": [
       "parsing log, completed traces ::   0%|          | 0/1000 [00:00<?, ?it/s]"
      ]
     },
     "metadata": {},
     "output_type": "display_data"
    },
    {
     "data": {
      "application/vnd.jupyter.widget-view+json": {
       "model_id": "da7c625441224b08a65b10e85c88e914",
       "version_major": 2,
       "version_minor": 0
      },
      "text/plain": [
       "parsing log, completed traces ::   0%|          | 0/1000 [00:00<?, ?it/s]"
      ]
     },
     "metadata": {},
     "output_type": "display_data"
    },
    {
     "data": {
      "application/vnd.jupyter.widget-view+json": {
       "model_id": "570533d716064dd1a3e4232ec1400947",
       "version_major": 2,
       "version_minor": 0
      },
      "text/plain": [
       "parsing log, completed traces ::   0%|          | 0/1000 [00:00<?, ?it/s]"
      ]
     },
     "metadata": {},
     "output_type": "display_data"
    },
    {
     "data": {
      "application/vnd.jupyter.widget-view+json": {
       "model_id": "c72e1269b7274b10817816db6f923673",
       "version_major": 2,
       "version_minor": 0
      },
      "text/plain": [
       "parsing log, completed traces ::   0%|          | 0/1000 [00:00<?, ?it/s]"
      ]
     },
     "metadata": {},
     "output_type": "display_data"
    },
    {
     "data": {
      "application/vnd.jupyter.widget-view+json": {
       "model_id": "bf25db265ef548a5bfad3ec7b018299d",
       "version_major": 2,
       "version_minor": 0
      },
      "text/plain": [
       "parsing log, completed traces ::   0%|          | 0/1000 [00:00<?, ?it/s]"
      ]
     },
     "metadata": {},
     "output_type": "display_data"
    },
    {
     "data": {
      "application/vnd.jupyter.widget-view+json": {
       "model_id": "dc76eb142fd14e2ea54d869a7157b02f",
       "version_major": 2,
       "version_minor": 0
      },
      "text/plain": [
       "parsing log, completed traces ::   0%|          | 0/1000 [00:00<?, ?it/s]"
      ]
     },
     "metadata": {},
     "output_type": "display_data"
    },
    {
     "data": {
      "application/vnd.jupyter.widget-view+json": {
       "model_id": "6907316cbfe443f4abe4e94df5dfce04",
       "version_major": 2,
       "version_minor": 0
      },
      "text/plain": [
       "parsing log, completed traces ::   0%|          | 0/1000 [00:00<?, ?it/s]"
      ]
     },
     "metadata": {},
     "output_type": "display_data"
    },
    {
     "data": {
      "application/vnd.jupyter.widget-view+json": {
       "model_id": "cc4f803fb9a04ff0a8b0306f5eec59b8",
       "version_major": 2,
       "version_minor": 0
      },
      "text/plain": [
       "parsing log, completed traces ::   0%|          | 0/1000 [00:00<?, ?it/s]"
      ]
     },
     "metadata": {},
     "output_type": "display_data"
    },
    {
     "data": {
      "application/vnd.jupyter.widget-view+json": {
       "model_id": "3135d6e279f14f31a6c3e817fc803cd5",
       "version_major": 2,
       "version_minor": 0
      },
      "text/plain": [
       "parsing log, completed traces ::   0%|          | 0/1000 [00:00<?, ?it/s]"
      ]
     },
     "metadata": {},
     "output_type": "display_data"
    },
    {
     "data": {
      "application/vnd.jupyter.widget-view+json": {
       "model_id": "1d258c0279ea41749fe2489b42e54109",
       "version_major": 2,
       "version_minor": 0
      },
      "text/plain": [
       "parsing log, completed traces ::   0%|          | 0/1000 [00:00<?, ?it/s]"
      ]
     },
     "metadata": {},
     "output_type": "display_data"
    },
    {
     "data": {
      "application/vnd.jupyter.widget-view+json": {
       "model_id": "725cb46a974449fa9518bd4579d6c5ff",
       "version_major": 2,
       "version_minor": 0
      },
      "text/plain": [
       "parsing log, completed traces ::   0%|          | 0/1000 [00:00<?, ?it/s]"
      ]
     },
     "metadata": {},
     "output_type": "display_data"
    },
    {
     "data": {
      "application/vnd.jupyter.widget-view+json": {
       "model_id": "df0dbcae05494f9f898546998794a7f8",
       "version_major": 2,
       "version_minor": 0
      },
      "text/plain": [
       "parsing log, completed traces ::   0%|          | 0/1000 [00:00<?, ?it/s]"
      ]
     },
     "metadata": {},
     "output_type": "display_data"
    },
    {
     "data": {
      "application/vnd.jupyter.widget-view+json": {
       "model_id": "2058808d0a624bef9d5382aff328a072",
       "version_major": 2,
       "version_minor": 0
      },
      "text/plain": [
       "parsing log, completed traces ::   0%|          | 0/1000 [00:00<?, ?it/s]"
      ]
     },
     "metadata": {},
     "output_type": "display_data"
    },
    {
     "data": {
      "application/vnd.jupyter.widget-view+json": {
       "model_id": "7fedfdcba7d1432cb4c06fe88836a69d",
       "version_major": 2,
       "version_minor": 0
      },
      "text/plain": [
       "parsing log, completed traces ::   0%|          | 0/1000 [00:00<?, ?it/s]"
      ]
     },
     "metadata": {},
     "output_type": "display_data"
    },
    {
     "data": {
      "application/vnd.jupyter.widget-view+json": {
       "model_id": "ed7fcb128cc2402db70458833d0558e0",
       "version_major": 2,
       "version_minor": 0
      },
      "text/plain": [
       "parsing log, completed traces ::   0%|          | 0/1000 [00:00<?, ?it/s]"
      ]
     },
     "metadata": {},
     "output_type": "display_data"
    },
    {
     "data": {
      "application/vnd.jupyter.widget-view+json": {
       "model_id": "edb8581eb17c42adbb5c0469b4a5942a",
       "version_major": 2,
       "version_minor": 0
      },
      "text/plain": [
       "parsing log, completed traces ::   0%|          | 0/1000 [00:00<?, ?it/s]"
      ]
     },
     "metadata": {},
     "output_type": "display_data"
    },
    {
     "data": {
      "application/vnd.jupyter.widget-view+json": {
       "model_id": "9b398df86f364ca4845d80ccc645d867",
       "version_major": 2,
       "version_minor": 0
      },
      "text/plain": [
       "parsing log, completed traces ::   0%|          | 0/1000 [00:00<?, ?it/s]"
      ]
     },
     "metadata": {},
     "output_type": "display_data"
    },
    {
     "data": {
      "application/vnd.jupyter.widget-view+json": {
       "model_id": "a66da53a15904a44bb5782e960170d4a",
       "version_major": 2,
       "version_minor": 0
      },
      "text/plain": [
       "parsing log, completed traces ::   0%|          | 0/1000 [00:00<?, ?it/s]"
      ]
     },
     "metadata": {},
     "output_type": "display_data"
    },
    {
     "data": {
      "application/vnd.jupyter.widget-view+json": {
       "model_id": "c226297c32f54d67bb3460dde8173c0b",
       "version_major": 2,
       "version_minor": 0
      },
      "text/plain": [
       "parsing log, completed traces ::   0%|          | 0/1000 [00:00<?, ?it/s]"
      ]
     },
     "metadata": {},
     "output_type": "display_data"
    },
    {
     "data": {
      "application/vnd.jupyter.widget-view+json": {
       "model_id": "157adf5a15eb4114873e2e1e2fbf6b00",
       "version_major": 2,
       "version_minor": 0
      },
      "text/plain": [
       "parsing log, completed traces ::   0%|          | 0/1000 [00:00<?, ?it/s]"
      ]
     },
     "metadata": {},
     "output_type": "display_data"
    },
    {
     "data": {
      "application/vnd.jupyter.widget-view+json": {
       "model_id": "72b0c47ed6a040c39086de9e8275ccbb",
       "version_major": 2,
       "version_minor": 0
      },
      "text/plain": [
       "parsing log, completed traces ::   0%|          | 0/1000 [00:00<?, ?it/s]"
      ]
     },
     "metadata": {},
     "output_type": "display_data"
    },
    {
     "data": {
      "application/vnd.jupyter.widget-view+json": {
       "model_id": "406a6cfb08fd44538502921f597a2738",
       "version_major": 2,
       "version_minor": 0
      },
      "text/plain": [
       "parsing log, completed traces ::   0%|          | 0/1000 [00:00<?, ?it/s]"
      ]
     },
     "metadata": {},
     "output_type": "display_data"
    },
    {
     "data": {
      "application/vnd.jupyter.widget-view+json": {
       "model_id": "f86dbe5356ed48d7ae4f44a5fcbd7ad3",
       "version_major": 2,
       "version_minor": 0
      },
      "text/plain": [
       "parsing log, completed traces ::   0%|          | 0/1000 [00:00<?, ?it/s]"
      ]
     },
     "metadata": {},
     "output_type": "display_data"
    },
    {
     "data": {
      "application/vnd.jupyter.widget-view+json": {
       "model_id": "27b84a8e1e5848bdb7397dd5a0113b14",
       "version_major": 2,
       "version_minor": 0
      },
      "text/plain": [
       "parsing log, completed traces ::   0%|          | 0/1000 [00:00<?, ?it/s]"
      ]
     },
     "metadata": {},
     "output_type": "display_data"
    },
    {
     "data": {
      "application/vnd.jupyter.widget-view+json": {
       "model_id": "4ca9e67a9058415187985ea838dda061",
       "version_major": 2,
       "version_minor": 0
      },
      "text/plain": [
       "parsing log, completed traces ::   0%|          | 0/1000 [00:00<?, ?it/s]"
      ]
     },
     "metadata": {},
     "output_type": "display_data"
    },
    {
     "data": {
      "application/vnd.jupyter.widget-view+json": {
       "model_id": "45625aaf874f4ccf93ec178aa9340195",
       "version_major": 2,
       "version_minor": 0
      },
      "text/plain": [
       "parsing log, completed traces ::   0%|          | 0/1000 [00:00<?, ?it/s]"
      ]
     },
     "metadata": {},
     "output_type": "display_data"
    },
    {
     "data": {
      "application/vnd.jupyter.widget-view+json": {
       "model_id": "8552d1acc2e84fdb80ba958bf9e347a8",
       "version_major": 2,
       "version_minor": 0
      },
      "text/plain": [
       "parsing log, completed traces ::   0%|          | 0/1000 [00:00<?, ?it/s]"
      ]
     },
     "metadata": {},
     "output_type": "display_data"
    },
    {
     "data": {
      "application/vnd.jupyter.widget-view+json": {
       "model_id": "2a45fa7c04ad4711813d4f9c6fbcc7f7",
       "version_major": 2,
       "version_minor": 0
      },
      "text/plain": [
       "parsing log, completed traces ::   0%|          | 0/1000 [00:00<?, ?it/s]"
      ]
     },
     "metadata": {},
     "output_type": "display_data"
    },
    {
     "data": {
      "application/vnd.jupyter.widget-view+json": {
       "model_id": "0c8c0f6bd5db4f3a971acdaf5ecf5092",
       "version_major": 2,
       "version_minor": 0
      },
      "text/plain": [
       "parsing log, completed traces ::   0%|          | 0/1000 [00:00<?, ?it/s]"
      ]
     },
     "metadata": {},
     "output_type": "display_data"
    },
    {
     "data": {
      "application/vnd.jupyter.widget-view+json": {
       "model_id": "9fb53ab8ddbb408fb5e8ae6686b6fbd8",
       "version_major": 2,
       "version_minor": 0
      },
      "text/plain": [
       "parsing log, completed traces ::   0%|          | 0/1000 [00:00<?, ?it/s]"
      ]
     },
     "metadata": {},
     "output_type": "display_data"
    },
    {
     "data": {
      "application/vnd.jupyter.widget-view+json": {
       "model_id": "5eb20763e73d40b2ad2a065df69f6da8",
       "version_major": 2,
       "version_minor": 0
      },
      "text/plain": [
       "parsing log, completed traces ::   0%|          | 0/1000 [00:00<?, ?it/s]"
      ]
     },
     "metadata": {},
     "output_type": "display_data"
    },
    {
     "data": {
      "application/vnd.jupyter.widget-view+json": {
       "model_id": "81cef8f414c14e84bc7678e6ecd5bb13",
       "version_major": 2,
       "version_minor": 0
      },
      "text/plain": [
       "parsing log, completed traces ::   0%|          | 0/1000 [00:00<?, ?it/s]"
      ]
     },
     "metadata": {},
     "output_type": "display_data"
    },
    {
     "data": {
      "application/vnd.jupyter.widget-view+json": {
       "model_id": "d3ac6929d03c4885812fefb8282608c6",
       "version_major": 2,
       "version_minor": 0
      },
      "text/plain": [
       "parsing log, completed traces ::   0%|          | 0/1000 [00:00<?, ?it/s]"
      ]
     },
     "metadata": {},
     "output_type": "display_data"
    },
    {
     "data": {
      "application/vnd.jupyter.widget-view+json": {
       "model_id": "79997ad0958a4c42824b9464f8957f9b",
       "version_major": 2,
       "version_minor": 0
      },
      "text/plain": [
       "parsing log, completed traces ::   0%|          | 0/1000 [00:00<?, ?it/s]"
      ]
     },
     "metadata": {},
     "output_type": "display_data"
    },
    {
     "data": {
      "application/vnd.jupyter.widget-view+json": {
       "model_id": "4fbbcd370ed64f0da36cf8d00a71f114",
       "version_major": 2,
       "version_minor": 0
      },
      "text/plain": [
       "parsing log, completed traces ::   0%|          | 0/1000 [00:00<?, ?it/s]"
      ]
     },
     "metadata": {},
     "output_type": "display_data"
    },
    {
     "data": {
      "application/vnd.jupyter.widget-view+json": {
       "model_id": "e422a691030c4d97b8f207590a99bb30",
       "version_major": 2,
       "version_minor": 0
      },
      "text/plain": [
       "parsing log, completed traces ::   0%|          | 0/1000 [00:00<?, ?it/s]"
      ]
     },
     "metadata": {},
     "output_type": "display_data"
    },
    {
     "data": {
      "application/vnd.jupyter.widget-view+json": {
       "model_id": "5612908866574c2398a6ea542065d6e9",
       "version_major": 2,
       "version_minor": 0
      },
      "text/plain": [
       "parsing log, completed traces ::   0%|          | 0/1000 [00:00<?, ?it/s]"
      ]
     },
     "metadata": {},
     "output_type": "display_data"
    },
    {
     "data": {
      "application/vnd.jupyter.widget-view+json": {
       "model_id": "67ce1a991f234900b09a628c62af2554",
       "version_major": 2,
       "version_minor": 0
      },
      "text/plain": [
       "parsing log, completed traces ::   0%|          | 0/1000 [00:00<?, ?it/s]"
      ]
     },
     "metadata": {},
     "output_type": "display_data"
    },
    {
     "data": {
      "application/vnd.jupyter.widget-view+json": {
       "model_id": "e3bebae2f2c94c0a96b11fbfc25d89ec",
       "version_major": 2,
       "version_minor": 0
      },
      "text/plain": [
       "parsing log, completed traces ::   0%|          | 0/1000 [00:00<?, ?it/s]"
      ]
     },
     "metadata": {},
     "output_type": "display_data"
    },
    {
     "data": {
      "application/vnd.jupyter.widget-view+json": {
       "model_id": "8e1c04307cf248d6aff7121523ac0db6",
       "version_major": 2,
       "version_minor": 0
      },
      "text/plain": [
       "parsing log, completed traces ::   0%|          | 0/1000 [00:00<?, ?it/s]"
      ]
     },
     "metadata": {},
     "output_type": "display_data"
    }
   ],
   "source": [
    "for log_path in os.listdir('data/pdc2020_training/Training Logs/'):\n",
    "\n",
    "    log = xes_importer.apply('data/pdc2020_training/Training Logs/' + log_path)\n",
    "    df = log_converter.apply(log, variant=log_converter.Variants.TO_DATA_FRAME)    \n",
    "    \n",
    "    df.rename({'concept:name':'activity','case:concept:name':'trace_id'},axis=1,inplace=True)\n",
    "    df['event_id'] = df.groupby('trace_id').cumcount() \n",
    "    df['trace_id'] = df['trace_id'].str.split(' ').str[1]\n",
    "    df.index = df.trace_id\n",
    "    \n",
    "    pdc_logs[log_path[9:16]] = df"
   ]
  },
  {
   "cell_type": "code",
   "execution_count": 6,
   "id": "c7c67bbe",
   "metadata": {},
   "outputs": [
    {
     "data": {
      "text/plain": [
       "(['1100000',\n",
       "  '1110010',\n",
       "  '1100110',\n",
       "  '1110100',\n",
       "  '0001010',\n",
       "  '0201000',\n",
       "  '0010010',\n",
       "  '1001100',\n",
       "  '1001000',\n",
       "  '0001000',\n",
       "  '0100100',\n",
       "  '1010100',\n",
       "  '1001110',\n",
       "  '0211110',\n",
       "  '1101110',\n",
       "  '1011000',\n",
       "  '0111110',\n",
       "  '1011100',\n",
       "  '0210100',\n",
       "  '0200000',\n",
       "  '1000110',\n",
       "  '0101010',\n",
       "  '0210110',\n",
       "  '1210110',\n",
       "  '0211000',\n",
       "  '1200100',\n",
       "  '1101000',\n",
       "  '1001010',\n",
       "  '1201100',\n",
       "  '1201000',\n",
       "  '0100110',\n",
       "  '0011000',\n",
       "  '0200100',\n",
       "  '0011010',\n",
       "  '1010010',\n",
       "  '0110110',\n",
       "  '0211100',\n",
       "  '1110110',\n",
       "  '0101100',\n",
       "  '1211010',\n",
       "  '0010000',\n",
       "  '0210000',\n",
       "  '0000110',\n",
       "  '0201010',\n",
       "  '0101000',\n",
       "  '0211010',\n",
       "  '1111010',\n",
       "  '0111010',\n",
       "  '1101100',\n",
       "  '1211100',\n",
       "  '1011010',\n",
       "  '1100010',\n",
       "  '0111100',\n",
       "  '1210000',\n",
       "  '1000010',\n",
       "  '1100100',\n",
       "  '1000000',\n",
       "  '0000100',\n",
       "  '1111110',\n",
       "  '1010000',\n",
       "  '1201010',\n",
       "  '1210010',\n",
       "  '0110100',\n",
       "  '1200010',\n",
       "  '0000010',\n",
       "  '0000000',\n",
       "  '0011110',\n",
       "  '0001110',\n",
       "  '0111000',\n",
       "  '1010110',\n",
       "  '0110000',\n",
       "  '1210100',\n",
       "  '1101010',\n",
       "  '1200000',\n",
       "  '0110010',\n",
       "  '0100010',\n",
       "  '0201100',\n",
       "  '0100000',\n",
       "  '0010100',\n",
       "  '0200110',\n",
       "  '1211000',\n",
       "  '0001100',\n",
       "  '1111100',\n",
       "  '1201110',\n",
       "  '1200110',\n",
       "  '1211110',\n",
       "  '0101110',\n",
       "  '1110000',\n",
       "  '0011100',\n",
       "  '0210010',\n",
       "  '0200010',\n",
       "  '1000100',\n",
       "  '1111000',\n",
       "  '1011110',\n",
       "  '0201110',\n",
       "  '0010110'],\n",
       " ['1210001',\n",
       "  '0000001',\n",
       "  '1001001',\n",
       "  '0210000',\n",
       "  '1200000',\n",
       "  '0001100',\n",
       "  '1211101',\n",
       "  '0010000',\n",
       "  '1111100',\n",
       "  '1101101',\n",
       "  '0211000',\n",
       "  '1110100',\n",
       "  '1000101',\n",
       "  '0210100',\n",
       "  '1211010',\n",
       "  '0201101',\n",
       "  '1201111',\n",
       "  '0111011',\n",
       "  '0010011',\n",
       "  '1200101',\n",
       "  '0010100',\n",
       "  '1100110',\n",
       "  '1000010',\n",
       "  '0001101',\n",
       "  '1110000',\n",
       "  '1111000',\n",
       "  '1000001',\n",
       "  '1210110',\n",
       "  '1201000',\n",
       "  '1211011',\n",
       "  '1201110',\n",
       "  '0010001',\n",
       "  '0201000',\n",
       "  '1100100',\n",
       "  '0000111',\n",
       "  '0001011',\n",
       "  '0100011',\n",
       "  '1210101',\n",
       "  '1000111',\n",
       "  '0201111',\n",
       "  '0110010',\n",
       "  '1101100',\n",
       "  '0211010',\n",
       "  '1211100',\n",
       "  '0111110',\n",
       "  '0210011',\n",
       "  '1001010',\n",
       "  '1011000',\n",
       "  '1111111',\n",
       "  '0200011',\n",
       "  '1201001',\n",
       "  '0011101',\n",
       "  '0100000',\n",
       "  '0100110',\n",
       "  '1101010',\n",
       "  '1001000',\n",
       "  '1100111',\n",
       "  '0101111',\n",
       "  '0100100',\n",
       "  '0000100',\n",
       "  '1111110',\n",
       "  '1201011',\n",
       "  '1201010',\n",
       "  '1011010',\n",
       "  '0210111',\n",
       "  '1111011',\n",
       "  '1211111',\n",
       "  '1110101',\n",
       "  '0201010',\n",
       "  '0101100',\n",
       "  '0101110',\n",
       "  '0211111',\n",
       "  '1001101',\n",
       "  '0011111',\n",
       "  '0010110',\n",
       "  '1210100',\n",
       "  '1200111',\n",
       "  '0101011',\n",
       "  '0200110',\n",
       "  '1110111',\n",
       "  '0011110',\n",
       "  '1010100',\n",
       "  '0001001',\n",
       "  '0201100',\n",
       "  '1100000',\n",
       "  '1111001',\n",
       "  '0111100',\n",
       "  '0211101',\n",
       "  '1110110',\n",
       "  '1200110',\n",
       "  '1001111',\n",
       "  '0210110',\n",
       "  '1010111',\n",
       "  '1000011',\n",
       "  '0210101',\n",
       "  '0110111',\n",
       "  '1010110',\n",
       "  '1211001',\n",
       "  '0000110',\n",
       "  '1211110',\n",
       "  '0001000',\n",
       "  '0010101',\n",
       "  '0211001',\n",
       "  '0011010',\n",
       "  '0111010',\n",
       "  '0211011',\n",
       "  '0200001',\n",
       "  '1210011',\n",
       "  '0011100',\n",
       "  '0110100',\n",
       "  '1201101',\n",
       "  '1010001',\n",
       "  '1101001',\n",
       "  '1101011',\n",
       "  '0200000',\n",
       "  '1011001',\n",
       "  '1210111',\n",
       "  '1200011',\n",
       "  '0201001',\n",
       "  '1210000',\n",
       "  '0100101',\n",
       "  '1000110',\n",
       "  '0100010',\n",
       "  '1010011',\n",
       "  '0110110',\n",
       "  '1200100',\n",
       "  '1110011',\n",
       "  '0201110',\n",
       "  '0101010',\n",
       "  '0111001',\n",
       "  '0100001',\n",
       "  '0001110',\n",
       "  '1011100',\n",
       "  '1000000',\n",
       "  '1101000',\n",
       "  '1100011',\n",
       "  '1210010',\n",
       "  '0211110',\n",
       "  '1111101',\n",
       "  '0200100',\n",
       "  '0000101',\n",
       "  '1001011',\n",
       "  '0111000',\n",
       "  '0111101',\n",
       "  '1211000',\n",
       "  '0200010',\n",
       "  '0101000',\n",
       "  '1200010',\n",
       "  '0110101',\n",
       "  '1010101',\n",
       "  '0000010',\n",
       "  '1001110',\n",
       "  '1200001',\n",
       "  '0110000',\n",
       "  '0110001',\n",
       "  '0210001',\n",
       "  '0010111',\n",
       "  '1101111',\n",
       "  '1100001',\n",
       "  '1011110',\n",
       "  '1000100',\n",
       "  '0200111',\n",
       "  '0011000',\n",
       "  '0011011',\n",
       "  '1010000',\n",
       "  '0000011',\n",
       "  '1201100',\n",
       "  '0100111',\n",
       "  '0111111',\n",
       "  '1010010',\n",
       "  '0101101',\n",
       "  '1110001',\n",
       "  '0210010',\n",
       "  '0211100',\n",
       "  '0200101',\n",
       "  '1100101',\n",
       "  '0011001',\n",
       "  '0010010',\n",
       "  '1011011',\n",
       "  '1001100',\n",
       "  '0001111',\n",
       "  '1011111',\n",
       "  '1110010',\n",
       "  '1100010',\n",
       "  '1101110',\n",
       "  '0201011',\n",
       "  '1011101',\n",
       "  '0101001',\n",
       "  '0110011',\n",
       "  '1111010',\n",
       "  '0000000',\n",
       "  '0001010'])"
      ]
     },
     "execution_count": 6,
     "metadata": {},
     "output_type": "execute_result"
    }
   ],
   "source": [
    "list(pdc_models.keys()), list(pdc_logs.keys())"
   ]
  },
  {
   "cell_type": "code",
   "execution_count": 7,
   "id": "13cd2048",
   "metadata": {},
   "outputs": [],
   "source": [
    "pdc_names = pdc_models.keys()"
   ]
  },
  {
   "cell_type": "code",
   "execution_count": 8,
   "id": "7de878b3",
   "metadata": {},
   "outputs": [],
   "source": [
    "import random\n",
    "import networkx as nx\n",
    "import re\n",
    "\n",
    "class ModelBasedAssessment():\n",
    "    def __init__(self, reach_graph):\n",
    "\n",
    "        self.reachability_graph = reach_graph\n",
    "\n",
    "        self.paths = None\n",
    "        self.subpaths = None\n",
    "\n",
    "\n",
    "    def get_start_state(self):\n",
    "        \"\"\"\n",
    "        Get the first state, i.e. the starting state of the reachability graph.\n",
    "\n",
    "        :return:\n",
    "        \"\"\"\n",
    "\n",
    "        for s in self.reachability_graph.states:\n",
    "            if s.incoming == set():\n",
    "                return s\n",
    "\n",
    "    def get_start_node(self):\n",
    "        \"\"\"\n",
    "        Get the first node in the networkx graph\n",
    "\n",
    "        :return:\n",
    "        \"\"\"\n",
    "        start_state = self.get_start_state()\n",
    "        return start_state.name\n",
    "\n",
    "    def get_end_state(self):\n",
    "        \"\"\"\n",
    "        Get the last state, i.e. the end state of the reachability graph.\n",
    "\n",
    "        :return:\n",
    "        \"\"\"\n",
    "\n",
    "        for s in self.reachability_graph.states:\n",
    "            if s.outgoing == set():\n",
    "                return s\n",
    "\n",
    "\n",
    "    def indicator_function(self, y_hat, y):\n",
    "        if y_hat in y:\n",
    "            return 1\n",
    "        else:\n",
    "            return 0\n",
    "\n",
    "\n",
    "\n",
    "    def compute_accuracy(self, prefixes, predictions):\n",
    "        correct_pred = 0\n",
    "\n",
    "        #Case where no path have been computed as reachability graph was to massive. Replay the prefix in the graph.\n",
    "        if self.paths is None:\n",
    "            start_state = self.get_start_state()\n",
    "\n",
    "            for p_t, y_hat in zip(prefixes, predictions):\n",
    "                gt = self.replay_prefix(p_t, start_state)\n",
    "                #print(p_t, y_hat, gt)\n",
    "\n",
    "                correct_pred += self.indicator_function(y_hat, gt)\n",
    "\n",
    "        #If gt has been pre-computed.\n",
    "        else:\n",
    "            for p_t, y_hat in zip(prefixes, predictions):\n",
    "                gt = self.ground_truth[tuple(p_t)]\n",
    "                #print(y_hat, gt)\n",
    "                correct_pred += self.indicator_function(y_hat, gt)\n",
    "\n",
    "        accuracy = float(correct_pred/len(prefixes))\n",
    "\n",
    "        return accuracy\n",
    "\n",
    "\n",
    "    def replay_prefix(self, prefix, start_state):\n",
    "        \"\"\"\n",
    "        Replay the prefix to collect the ground truth.\n",
    "        Steps:\n",
    "        - Walk the reachability graph with the activity names util reaching the final state(s).\n",
    "        - All activates transitions from that state(s) form the ground truth which is returned.\n",
    "\n",
    "        :param prefix:          The prefix, i.e., the unfinished case.\n",
    "        :param start_state:     The state to start.\n",
    "\n",
    "        :return:                A list of possible next steps to happen.\n",
    "        \"\"\"\n",
    "\n",
    "        #print(f\"\\n\\n---------------------------------\\n{prefix}\\n-----------------------------------\\n\\n\")\n",
    "\n",
    "        \"\"\"Holds (current_state, reachable_state)\"\"\"\n",
    "        states = [(start_state, start_state)]\n",
    "\n",
    "        \"\"\"Holds (state, enabled_transitions)\"\"\"\n",
    "        enab_trans = self.get_enab_trans_from_state_set(states)\n",
    "\n",
    "        if self.check_for_silent_trans(enab_trans):\n",
    "            enab_trans, current_states = self.walk_silent_trans(enab_trans, states)\n",
    "\n",
    "        for act_name in prefix:\n",
    "            #print(\"\\n\")\n",
    "            #print(f\"Activity:                           {act_name}\")\n",
    "            #print(f\"Current states:                     {states}\")\n",
    "            #print(f\"Enabled transitions:                {enab_trans}\")\n",
    "            #print([t.name.split(\"'\")[1] for (s, trans) in enab_trans for t in trans])\n",
    "\n",
    "            #Check if trans is in the set of the directly reachable transitions\n",
    "            if act_name in self.strip_trans_names(enab_trans):\n",
    "                #Collect all next states, possible many as transition names can be ambignous in the petri nets\n",
    "                states = []\n",
    "                for (from_state, trans) in enab_trans:\n",
    "                    for t in trans:\n",
    "                        if t.name == act_name:\n",
    "                            states.append((from_state, t.to_state))\n",
    "\n",
    "\n",
    "                #Collect directly reachable transitions\n",
    "                direct_trans = self.get_enab_trans_from_state_set(states)\n",
    "                #print(direct_trans)\n",
    "\n",
    "                if self.check_for_silent_trans(direct_trans):\n",
    "                    enab_trans, states = self.walk_silent_trans(direct_trans, states)\n",
    "\n",
    "                else:\n",
    "                    enab_trans = direct_trans\n",
    "\n",
    "            else:\n",
    "                #raise ValueError(f\"Cannot replay prefix {prefix}. {act_name} not in enabled transitions {enab_trans}\")\n",
    "                print(f\"Cannot replay prefix {prefix}. {act_name} not in enabled transitions {enab_trans}\")\n",
    "                return []\n",
    "        \n",
    "        gt = self.strip_trans_names(enab_trans)\n",
    "        #print(p_t, y_hat)\n",
    "        #print(gt)\n",
    "        #print(\"\\n\")\n",
    "\n",
    "        return gt\n",
    "\n",
    "\n",
    "\n",
    "    def walk_silent_trans(self, direct_trans, states):\n",
    "        \"\"\"\n",
    "        Collect all states and transitions that can be reached from the current state by walking silent transitions.\n",
    "\n",
    "        :param direct_trans:        Directly enabled transitions (s, t) without silent transitions.\n",
    "        :param next_states:         Reachable states (s, s) from that transitions.\n",
    "        :return:\n",
    "        \"\"\"\n",
    "\n",
    "        def add_missing_transitions(old_trans, new_trans):\n",
    "            for (st, tr) in new_trans:\n",
    "                if st not in [s for (s, t) in old_trans]:\n",
    "                    trans.append((st, tr))\n",
    "                elif tr not in [t for (s, t) in old_trans]:\n",
    "                    trans.append((st, tr))\n",
    "\n",
    "\n",
    "        trans = direct_trans\n",
    "\n",
    "        while self.check_for_silent_trans(trans):\n",
    "            silent_trans = [(s, t) for (s, tr) in trans for t in tr if \"n\" in t.name]\n",
    "\n",
    "            \"\"\"Holds (state, to_state)\"\"\"\n",
    "            new_states_from_silent = []\n",
    "            for (s, t) in silent_trans:\n",
    "                new_states_from_silent.append((s, t.to_state))\n",
    "\n",
    "            new_trans = False\n",
    "            for (from_state, to_state) in new_states_from_silent:\n",
    "                if from_state not in [f for (f, t) in states]:\n",
    "                    states.append((from_state, to_state))\n",
    "                    new_trans = True\n",
    "                elif to_state not in [t for (f, t) in states]:\n",
    "                    states.append((from_state, to_state))\n",
    "                    new_trans = True\n",
    "\n",
    "\n",
    "            direct_trans = self.get_enab_trans_from_state_set(states)\n",
    "\n",
    "            #Break the loop if no new transitions have been found\n",
    "            if not new_trans:\n",
    "                #print(\"No new states found.\")\n",
    "                add_missing_transitions(trans, direct_trans)\n",
    "                break\n",
    "\n",
    "            #Otherwise add the new transitions to the reachable ones\n",
    "            else:\n",
    "                add_missing_transitions(trans, direct_trans)\n",
    "                #print(f\"New state(s) found. Adding {trans}\")\n",
    "\n",
    "        return trans, states\n",
    "\n",
    "\n",
    "    def check_for_silent_trans(self, trans):\n",
    "        \"\"\"\n",
    "        Checks whether a silent transition is in trans. A silent transition is one with the pattern [n][number] in pm4py.\n",
    "        :param trans:\n",
    "        :return:\n",
    "        \"\"\"\n",
    "        for (s, t) in trans:\n",
    "            for transition in t:\n",
    "                if re.search(\"^[n]+[\\d]\", transition.name):\n",
    "                    return True\n",
    "\n",
    "        return False\n",
    "\n",
    "    def get_enab_trans_from_state_set(self, states):\n",
    "        \"\"\"\n",
    "        Collect all reachable states from states as tuple (state, to_state).\n",
    "\n",
    "        :param states:\n",
    "        :return:\n",
    "        \"\"\"\n",
    "        enab_trans = [(to_state, to_state.outgoing) for (from_state, to_state) in states]\n",
    "        return enab_trans\n",
    "    \n",
    "    def strip_trans_names(self, enab_trans):\n",
    "        \"\"\"\n",
    "        As we are only interested in the transition name we need to extract it.\n",
    "        \"\"\"\n",
    "        return [t.name for (s, trans) in enab_trans for t in trans]        \n"
   ]
  },
  {
   "cell_type": "code",
   "execution_count": 32,
   "id": "c6d984a5",
   "metadata": {},
   "outputs": [
    {
     "data": {
      "image/png": "[encoded data removed]",
      "text/plain": [
       "<IPython.core.display.Image object>"
      ]
     },
     "metadata": {},
     "output_type": "display_data"
    }
   ],
   "source": [
    "log = pdc_logs['1100000']\n",
    "model = pdc_models['1100000']\n",
    "reach = reachability_graph.construct_reachability_graph(model[0], model[1])\n",
    "mba = ModelBasedAssessment(reach)\n",
    "\n",
    "gviz = pn_visualizer.apply(model[0], model[1])\n",
    "ts_visualizer.view(gviz)"
   ]
  },
  {
   "cell_type": "code",
   "execution_count": 37,
   "id": "7bc886fa",
   "metadata": {},
   "outputs": [
    {
     "data": {
      "text/plain": [
       "1.0"
      ]
     },
     "execution_count": 37,
     "metadata": {},
     "output_type": "execute_result"
    }
   ],
   "source": [
    "mba.compute_accuracy(prefixes=[['t11', 't26']], predictions=['t36'])"
   ]
  },
  {
   "cell_type": "code",
   "execution_count": 38,
   "id": "857d7579",
   "metadata": {},
   "outputs": [
    {
     "data": {
      "text/plain": [
       "0.0"
      ]
     },
     "execution_count": 38,
     "metadata": {},
     "output_type": "execute_result"
    }
   ],
   "source": [
    "mba.compute_accuracy(prefixes=[['t11', 't26']], predictions=['t44'])"
   ]
  },
  {
   "cell_type": "code",
   "execution_count": 39,
   "id": "325ec4f5",
   "metadata": {},
   "outputs": [
    {
     "data": {
      "text/plain": [
       "0.5"
      ]
     },
     "execution_count": 39,
     "metadata": {},
     "output_type": "execute_result"
    }
   ],
   "source": [
    "mba.compute_accuracy(prefixes=[['t11', 't26'], ['t11', 't26']], predictions=['t44', 't36'])"
   ]
  },
  {
   "cell_type": "markdown",
   "id": "e9ca48ac",
   "metadata": {},
   "source": [
    "## Deep Learning"
   ]
  },
  {
   "cell_type": "code",
   "execution_count": 24,
   "id": "3929959b",
   "metadata": {},
   "outputs": [],
   "source": [
    "seed = 99"
   ]
  },
  {
   "cell_type": "code",
   "execution_count": 25,
   "id": "d4666a13",
   "metadata": {},
   "outputs": [],
   "source": [
    "class Simple_LSTM(torch.nn.Module) :\n",
    "    def __init__(self, o) :\n",
    "        super().__init__()\n",
    "        hidden=25\n",
    "        vocab_act=len(o.procs.categorify['activity'])\n",
    "        emb_dim_act = int(vocab_act)+1\n",
    "        self.emb_act = nn.Embedding(vocab_act,emb_dim_act)\n",
    "        self.lstm_act = nn.LSTM(emb_dim_act, hidden, batch_first=True, num_layers=2)\n",
    "        self.linear_act = nn.Linear(hidden, vocab_act)\n",
    "        \n",
    "    def forward(self, xcat):\n",
    "        x_act = self.emb_act(xcat)\n",
    "        x_act,_ = self.lstm_act(x_act)\n",
    "        x_act = x_act[:,-1]\n",
    "        x_act = self.linear_act(x_act)\n",
    "        x_act = F.softmax(x_act,dim=1)\n",
    "\n",
    "        return x_act"
   ]
  },
  {
   "cell_type": "code",
   "execution_count": null,
   "id": "1bb57650",
   "metadata": {},
   "outputs": [],
   "source": []
  },
  {
   "cell_type": "markdown",
   "id": "96896812",
   "metadata": {},
   "source": [
    "### Simple-LSTM"
   ]
  },
  {
   "cell_type": "code",
   "execution_count": 40,
   "id": "ed125374",
   "metadata": {},
   "outputs": [],
   "source": [
    "def training_loop(learn,epoch,print_output,lr):\n",
    "    '''\n",
    "    Basic training loop that uses learning rate finder and one cycle training.\n",
    "    See fastai docs for more information\n",
    "    '''\n",
    "    learn.fit(epoch, lr)\n",
    "    \n",
    "    \n",
    "def train_validate(dls,m,metrics=accuracy,loss=F.cross_entropy,epoch=20,print_output=True,model_dir=\".\",lr=5e-5,\n",
    "                   output_index=1,patience=3,min_delta=0.005,show_plot=True,store_path='tmp',model_name='.model'):\n",
    "    '''\n",
    "    Trains a model on the training set with early stopping based on the validation loss.\n",
    "    Afterwards, applies it to the test set.\n",
    "    '''\n",
    "    cbs = [CudaCallback,\n",
    "      EarlyStoppingCallback(monitor='valid_loss',min_delta=min_delta, patience=patience),\n",
    "      SaveModelCallback(fname=model_name)\n",
    "      ]\n",
    "    learn=Learner(dls, m, path=store_path, model_dir=model_dir, loss_func=loss ,metrics=metrics,cbs=cbs)\n",
    "\n",
    "    if print_output:\n",
    "        training_loop(learn,epoch,show_plot, lr=lr)\n",
    "        return learn.validate(dl=dls[2])[output_index]\n",
    "    else:\n",
    "        with HideOutput(),learn.no_bar(),learn.no_logging():\n",
    "            training_loop(learn,epoch,show_plot, lr=lr)\n",
    "            return learn.validate(dl=dls[2])[output_index]"
   ]
  },
  {
   "cell_type": "code",
   "execution_count": 41,
   "id": "0513fffe",
   "metadata": {},
   "outputs": [],
   "source": [
    "def decode_prefix(x):\n",
    "    x_enc = []\n",
    "\n",
    "    for pref in x:\n",
    "        pref_enc = []\n",
    "        for a in pref:\n",
    "            #Skip the padding token\n",
    "            if a != 0:\n",
    "                pref_enc.append(v[a])\n",
    "\n",
    "        if pref_enc != []:\n",
    "            x_enc.append(pref_enc)\n",
    "            \n",
    "    return x_enc"
   ]
  },
  {
   "cell_type": "code",
   "execution_count": 45,
   "id": "953bdff2",
   "metadata": {},
   "outputs": [],
   "source": [
    "pd_results = pd.DataFrame(columns=[\"Net\", \"Case-based Accuracy\", \"Model-based Accuracy\"])"
   ]
  },
  {
   "cell_type": "code",
   "execution_count": 46,
   "id": "5aafc0a8",
   "metadata": {},
   "outputs": [
    {
     "data": {
      "text/html": [
       "<table border=\"1\" class=\"dataframe\">\n",
       "  <thead>\n",
       "    <tr style=\"text-align: left;\">\n",
       "      <th>epoch</th>\n",
       "      <th>train_loss</th>\n",
       "      <th>valid_loss</th>\n",
       "      <th>accuracy</th>\n",
       "      <th>time</th>\n",
       "    </tr>\n",
       "  </thead>\n",
       "  <tbody>\n",
       "    <tr>\n",
       "      <td>0</td>\n",
       "      <td>3.179259</td>\n",
       "      <td>3.125557</td>\n",
       "      <td>0.431253</td>\n",
       "      <td>00:06</td>\n",
       "    </tr>\n",
       "    <tr>\n",
       "      <td>1</td>\n",
       "      <td>3.032570</td>\n",
       "      <td>3.023907</td>\n",
       "      <td>0.527540</td>\n",
       "      <td>00:06</td>\n",
       "    </tr>\n",
       "    <tr>\n",
       "      <td>2</td>\n",
       "      <td>3.032391</td>\n",
       "      <td>3.018466</td>\n",
       "      <td>0.529988</td>\n",
       "      <td>00:06</td>\n",
       "    </tr>\n",
       "    <tr>\n",
       "      <td>3</td>\n",
       "      <td>2.998214</td>\n",
       "      <td>2.982580</td>\n",
       "      <td>0.565891</td>\n",
       "      <td>00:06</td>\n",
       "    </tr>\n",
       "    <tr>\n",
       "      <td>4</td>\n",
       "      <td>2.997203</td>\n",
       "      <td>2.977151</td>\n",
       "      <td>0.569563</td>\n",
       "      <td>00:06</td>\n",
       "    </tr>\n",
       "    <tr>\n",
       "      <td>5</td>\n",
       "      <td>2.990565</td>\n",
       "      <td>2.974221</td>\n",
       "      <td>0.573643</td>\n",
       "      <td>00:06</td>\n",
       "    </tr>\n",
       "    <tr>\n",
       "      <td>6</td>\n",
       "      <td>2.971518</td>\n",
       "      <td>2.946388</td>\n",
       "      <td>0.603835</td>\n",
       "      <td>00:06</td>\n",
       "    </tr>\n",
       "    <tr>\n",
       "      <td>7</td>\n",
       "      <td>2.971338</td>\n",
       "      <td>2.937461</td>\n",
       "      <td>0.612811</td>\n",
       "      <td>00:06</td>\n",
       "    </tr>\n",
       "    <tr>\n",
       "      <td>8</td>\n",
       "      <td>2.946835</td>\n",
       "      <td>2.931458</td>\n",
       "      <td>0.617299</td>\n",
       "      <td>00:06</td>\n",
       "    </tr>\n",
       "    <tr>\n",
       "      <td>9</td>\n",
       "      <td>2.945280</td>\n",
       "      <td>2.935350</td>\n",
       "      <td>0.613627</td>\n",
       "      <td>00:06</td>\n",
       "    </tr>\n",
       "    <tr>\n",
       "      <td>10</td>\n",
       "      <td>2.948100</td>\n",
       "      <td>2.934250</td>\n",
       "      <td>0.616483</td>\n",
       "      <td>00:06</td>\n",
       "    </tr>\n",
       "    <tr>\n",
       "      <td>11</td>\n",
       "      <td>2.940171</td>\n",
       "      <td>2.933574</td>\n",
       "      <td>0.616891</td>\n",
       "      <td>00:06</td>\n",
       "    </tr>\n",
       "  </tbody>\n",
       "</table>"
      ],
      "text/plain": [
       "<IPython.core.display.HTML object>"
      ]
     },
     "metadata": {},
     "output_type": "display_data"
    },
    {
     "name": "stdout",
     "output_type": "stream",
     "text": [
      "Better model found at epoch 0 with valid_loss value: 3.125556707382202.\n",
      "Better model found at epoch 1 with valid_loss value: 3.023906707763672.\n",
      "Better model found at epoch 2 with valid_loss value: 3.018465995788574.\n",
      "Better model found at epoch 3 with valid_loss value: 2.9825801849365234.\n",
      "Better model found at epoch 4 with valid_loss value: 2.9771511554718018.\n",
      "Better model found at epoch 5 with valid_loss value: 2.9742205142974854.\n",
      "Better model found at epoch 6 with valid_loss value: 2.9463882446289062.\n",
      "Better model found at epoch 7 with valid_loss value: 2.9374608993530273.\n",
      "Better model found at epoch 8 with valid_loss value: 2.93145751953125.\n",
      "No improvement since epoch 8: early stopping\n"
     ]
    },
    {
     "data": {
      "text/html": [],
      "text/plain": [
       "<IPython.core.display.HTML object>"
      ]
     },
     "metadata": {},
     "output_type": "display_data"
    },
    {
     "name": "stdout",
     "output_type": "stream",
     "text": [
      "Better model found at epoch 0 with valid_loss value: 0.596644401550293.\n",
      "       Net  Case-based Accuracy  Model-based Accuracy\n",
      "0  1100000             0.596644                   1.0\n"
     ]
    },
    {
     "data": {
      "text/html": [
       "<table border=\"1\" class=\"dataframe\">\n",
       "  <thead>\n",
       "    <tr style=\"text-align: left;\">\n",
       "      <th>epoch</th>\n",
       "      <th>train_loss</th>\n",
       "      <th>valid_loss</th>\n",
       "      <th>accuracy</th>\n",
       "      <th>time</th>\n",
       "    </tr>\n",
       "  </thead>\n",
       "  <tbody>\n",
       "    <tr>\n",
       "      <td>0</td>\n",
       "      <td>3.043307</td>\n",
       "      <td>2.943509</td>\n",
       "      <td>0.530636</td>\n",
       "      <td>00:05</td>\n",
       "    </tr>\n",
       "    <tr>\n",
       "      <td>1</td>\n",
       "      <td>2.889896</td>\n",
       "      <td>2.845130</td>\n",
       "      <td>0.619075</td>\n",
       "      <td>00:05</td>\n",
       "    </tr>\n",
       "    <tr>\n",
       "      <td>2</td>\n",
       "      <td>2.811834</td>\n",
       "      <td>2.800979</td>\n",
       "      <td>0.658960</td>\n",
       "      <td>00:05</td>\n",
       "    </tr>\n",
       "    <tr>\n",
       "      <td>3</td>\n",
       "      <td>2.808797</td>\n",
       "      <td>2.774920</td>\n",
       "      <td>0.684971</td>\n",
       "      <td>00:05</td>\n",
       "    </tr>\n",
       "    <tr>\n",
       "      <td>4</td>\n",
       "      <td>2.797488</td>\n",
       "      <td>2.773210</td>\n",
       "      <td>0.684971</td>\n",
       "      <td>00:05</td>\n",
       "    </tr>\n",
       "    <tr>\n",
       "      <td>5</td>\n",
       "      <td>2.775888</td>\n",
       "      <td>2.745613</td>\n",
       "      <td>0.712139</td>\n",
       "      <td>00:05</td>\n",
       "    </tr>\n",
       "    <tr>\n",
       "      <td>6</td>\n",
       "      <td>2.764126</td>\n",
       "      <td>2.729172</td>\n",
       "      <td>0.734104</td>\n",
       "      <td>00:05</td>\n",
       "    </tr>\n",
       "    <tr>\n",
       "      <td>7</td>\n",
       "      <td>2.758323</td>\n",
       "      <td>2.728850</td>\n",
       "      <td>0.734104</td>\n",
       "      <td>00:05</td>\n",
       "    </tr>\n",
       "    <tr>\n",
       "      <td>8</td>\n",
       "      <td>2.738233</td>\n",
       "      <td>2.723444</td>\n",
       "      <td>0.731792</td>\n",
       "      <td>00:04</td>\n",
       "    </tr>\n",
       "    <tr>\n",
       "      <td>9</td>\n",
       "      <td>2.742008</td>\n",
       "      <td>2.716563</td>\n",
       "      <td>0.747399</td>\n",
       "      <td>00:05</td>\n",
       "    </tr>\n",
       "    <tr>\n",
       "      <td>10</td>\n",
       "      <td>2.737503</td>\n",
       "      <td>2.716179</td>\n",
       "      <td>0.741040</td>\n",
       "      <td>00:05</td>\n",
       "    </tr>\n",
       "    <tr>\n",
       "      <td>11</td>\n",
       "      <td>2.739645</td>\n",
       "      <td>2.720574</td>\n",
       "      <td>0.733526</td>\n",
       "      <td>00:05</td>\n",
       "    </tr>\n",
       "    <tr>\n",
       "      <td>12</td>\n",
       "      <td>2.733171</td>\n",
       "      <td>2.709877</td>\n",
       "      <td>0.748555</td>\n",
       "      <td>00:04</td>\n",
       "    </tr>\n",
       "    <tr>\n",
       "      <td>13</td>\n",
       "      <td>2.730948</td>\n",
       "      <td>2.718151</td>\n",
       "      <td>0.737572</td>\n",
       "      <td>00:05</td>\n",
       "    </tr>\n",
       "    <tr>\n",
       "      <td>14</td>\n",
       "      <td>2.732050</td>\n",
       "      <td>2.711283</td>\n",
       "      <td>0.746243</td>\n",
       "      <td>00:05</td>\n",
       "    </tr>\n",
       "    <tr>\n",
       "      <td>15</td>\n",
       "      <td>2.727941</td>\n",
       "      <td>2.718088</td>\n",
       "      <td>0.740462</td>\n",
       "      <td>00:05</td>\n",
       "    </tr>\n",
       "  </tbody>\n",
       "</table>"
      ],
      "text/plain": [
       "<IPython.core.display.HTML object>"
      ]
     },
     "metadata": {},
     "output_type": "display_data"
    },
    {
     "name": "stdout",
     "output_type": "stream",
     "text": [
      "Better model found at epoch 0 with valid_loss value: 2.943509340286255.\n",
      "Better model found at epoch 1 with valid_loss value: 2.845130205154419.\n",
      "Better model found at epoch 2 with valid_loss value: 2.800978899002075.\n",
      "Better model found at epoch 3 with valid_loss value: 2.7749197483062744.\n",
      "Better model found at epoch 4 with valid_loss value: 2.773210048675537.\n",
      "Better model found at epoch 5 with valid_loss value: 2.7456133365631104.\n",
      "Better model found at epoch 6 with valid_loss value: 2.729172468185425.\n",
      "Better model found at epoch 7 with valid_loss value: 2.7288503646850586.\n",
      "Better model found at epoch 8 with valid_loss value: 2.7234442234039307.\n",
      "Better model found at epoch 9 with valid_loss value: 2.7165634632110596.\n",
      "Better model found at epoch 10 with valid_loss value: 2.7161786556243896.\n",
      "Better model found at epoch 12 with valid_loss value: 2.7098774909973145.\n",
      "No improvement since epoch 12: early stopping\n"
     ]
    },
    {
     "data": {
      "text/html": [],
      "text/plain": [
       "<IPython.core.display.HTML object>"
      ]
     },
     "metadata": {},
     "output_type": "display_data"
    },
    {
     "name": "stdout",
     "output_type": "stream",
     "text": [
      "Better model found at epoch 0 with valid_loss value: 0.7213155627250671.\n",
      "       Net  Case-based Accuracy  Model-based Accuracy\n",
      "0  1100000             0.596644                   1.0\n",
      "1  1110010             0.721316                   1.0\n"
     ]
    },
    {
     "data": {
      "text/html": [
       "<table border=\"1\" class=\"dataframe\">\n",
       "  <thead>\n",
       "    <tr style=\"text-align: left;\">\n",
       "      <th>epoch</th>\n",
       "      <th>train_loss</th>\n",
       "      <th>valid_loss</th>\n",
       "      <th>accuracy</th>\n",
       "      <th>time</th>\n",
       "    </tr>\n",
       "  </thead>\n",
       "  <tbody>\n",
       "    <tr>\n",
       "      <td>0</td>\n",
       "      <td>3.101776</td>\n",
       "      <td>3.045415</td>\n",
       "      <td>0.424346</td>\n",
       "      <td>00:06</td>\n",
       "    </tr>\n",
       "    <tr>\n",
       "      <td>1</td>\n",
       "      <td>2.937343</td>\n",
       "      <td>2.911833</td>\n",
       "      <td>0.551650</td>\n",
       "      <td>00:06</td>\n",
       "    </tr>\n",
       "    <tr>\n",
       "      <td>2</td>\n",
       "      <td>2.917510</td>\n",
       "      <td>2.904422</td>\n",
       "      <td>0.554222</td>\n",
       "      <td>00:06</td>\n",
       "    </tr>\n",
       "    <tr>\n",
       "      <td>3</td>\n",
       "      <td>2.914773</td>\n",
       "      <td>2.902447</td>\n",
       "      <td>0.556794</td>\n",
       "      <td>00:06</td>\n",
       "    </tr>\n",
       "    <tr>\n",
       "      <td>4</td>\n",
       "      <td>2.908834</td>\n",
       "      <td>2.897775</td>\n",
       "      <td>0.559794</td>\n",
       "      <td>00:06</td>\n",
       "    </tr>\n",
       "    <tr>\n",
       "      <td>5</td>\n",
       "      <td>2.905448</td>\n",
       "      <td>2.894063</td>\n",
       "      <td>0.565795</td>\n",
       "      <td>00:06</td>\n",
       "    </tr>\n",
       "    <tr>\n",
       "      <td>6</td>\n",
       "      <td>2.903577</td>\n",
       "      <td>2.893537</td>\n",
       "      <td>0.564081</td>\n",
       "      <td>00:06</td>\n",
       "    </tr>\n",
       "    <tr>\n",
       "      <td>7</td>\n",
       "      <td>2.912765</td>\n",
       "      <td>2.896095</td>\n",
       "      <td>0.562366</td>\n",
       "      <td>00:06</td>\n",
       "    </tr>\n",
       "  </tbody>\n",
       "</table>"
      ],
      "text/plain": [
       "<IPython.core.display.HTML object>"
      ]
     },
     "metadata": {},
     "output_type": "display_data"
    },
    {
     "name": "stdout",
     "output_type": "stream",
     "text": [
      "Better model found at epoch 0 with valid_loss value: 3.045414924621582.\n",
      "Better model found at epoch 1 with valid_loss value: 2.911832571029663.\n",
      "Better model found at epoch 2 with valid_loss value: 2.9044220447540283.\n",
      "Better model found at epoch 3 with valid_loss value: 2.902447462081909.\n",
      "Better model found at epoch 4 with valid_loss value: 2.8977749347686768.\n",
      "Better model found at epoch 5 with valid_loss value: 2.8940629959106445.\n",
      "Better model found at epoch 6 with valid_loss value: 2.8935368061065674.\n",
      "No improvement since epoch 4: early stopping\n"
     ]
    },
    {
     "data": {
      "text/html": [],
      "text/plain": [
       "<IPython.core.display.HTML object>"
      ]
     },
     "metadata": {},
     "output_type": "display_data"
    },
    {
     "name": "stdout",
     "output_type": "stream",
     "text": [
      "Better model found at epoch 0 with valid_loss value: 0.545378565788269.\n",
      "       Net  Case-based Accuracy  Model-based Accuracy\n",
      "0  1100000             0.596644                   1.0\n",
      "1  1110010             0.721316                   1.0\n",
      "2  1100110             0.545379                   1.0\n"
     ]
    },
    {
     "data": {
      "text/html": [
       "<table border=\"1\" class=\"dataframe\">\n",
       "  <thead>\n",
       "    <tr style=\"text-align: left;\">\n",
       "      <th>epoch</th>\n",
       "      <th>train_loss</th>\n",
       "      <th>valid_loss</th>\n",
       "      <th>accuracy</th>\n",
       "      <th>time</th>\n",
       "    </tr>\n",
       "  </thead>\n",
       "  <tbody>\n",
       "    <tr>\n",
       "      <td>0</td>\n",
       "      <td>3.078407</td>\n",
       "      <td>3.049586</td>\n",
       "      <td>0.518160</td>\n",
       "      <td>00:05</td>\n",
       "    </tr>\n",
       "    <tr>\n",
       "      <td>1</td>\n",
       "      <td>2.951776</td>\n",
       "      <td>2.982423</td>\n",
       "      <td>0.572034</td>\n",
       "      <td>00:05</td>\n",
       "    </tr>\n",
       "    <tr>\n",
       "      <td>2</td>\n",
       "      <td>2.923654</td>\n",
       "      <td>2.970774</td>\n",
       "      <td>0.579298</td>\n",
       "      <td>00:04</td>\n",
       "    </tr>\n",
       "    <tr>\n",
       "      <td>3</td>\n",
       "      <td>2.917155</td>\n",
       "      <td>2.973219</td>\n",
       "      <td>0.576877</td>\n",
       "      <td>00:05</td>\n",
       "    </tr>\n",
       "    <tr>\n",
       "      <td>4</td>\n",
       "      <td>2.906054</td>\n",
       "      <td>2.944187</td>\n",
       "      <td>0.604722</td>\n",
       "      <td>00:05</td>\n",
       "    </tr>\n",
       "    <tr>\n",
       "      <td>5</td>\n",
       "      <td>2.888800</td>\n",
       "      <td>2.945527</td>\n",
       "      <td>0.602300</td>\n",
       "      <td>00:05</td>\n",
       "    </tr>\n",
       "    <tr>\n",
       "      <td>6</td>\n",
       "      <td>2.878766</td>\n",
       "      <td>2.924653</td>\n",
       "      <td>0.625303</td>\n",
       "      <td>00:04</td>\n",
       "    </tr>\n",
       "    <tr>\n",
       "      <td>7</td>\n",
       "      <td>2.869600</td>\n",
       "      <td>2.915624</td>\n",
       "      <td>0.634383</td>\n",
       "      <td>00:05</td>\n",
       "    </tr>\n",
       "    <tr>\n",
       "      <td>8</td>\n",
       "      <td>2.861375</td>\n",
       "      <td>2.917117</td>\n",
       "      <td>0.633172</td>\n",
       "      <td>00:05</td>\n",
       "    </tr>\n",
       "    <tr>\n",
       "      <td>9</td>\n",
       "      <td>2.862458</td>\n",
       "      <td>2.913436</td>\n",
       "      <td>0.636804</td>\n",
       "      <td>00:05</td>\n",
       "    </tr>\n",
       "    <tr>\n",
       "      <td>10</td>\n",
       "      <td>2.866127</td>\n",
       "      <td>2.911678</td>\n",
       "      <td>0.637409</td>\n",
       "      <td>00:04</td>\n",
       "    </tr>\n",
       "  </tbody>\n",
       "</table>"
      ],
      "text/plain": [
       "<IPython.core.display.HTML object>"
      ]
     },
     "metadata": {},
     "output_type": "display_data"
    },
    {
     "name": "stdout",
     "output_type": "stream",
     "text": [
      "Better model found at epoch 0 with valid_loss value: 3.049586057662964.\n",
      "Better model found at epoch 1 with valid_loss value: 2.9824228286743164.\n",
      "Better model found at epoch 2 with valid_loss value: 2.970773696899414.\n",
      "Better model found at epoch 4 with valid_loss value: 2.9441869258880615.\n",
      "Better model found at epoch 6 with valid_loss value: 2.924652576446533.\n",
      "Better model found at epoch 7 with valid_loss value: 2.9156243801116943.\n",
      "Better model found at epoch 9 with valid_loss value: 2.913435935974121.\n",
      "No improvement since epoch 7: early stopping\n"
     ]
    },
    {
     "data": {
      "text/html": [],
      "text/plain": [
       "<IPython.core.display.HTML object>"
      ]
     },
     "metadata": {},
     "output_type": "display_data"
    },
    {
     "name": "stdout",
     "output_type": "stream",
     "text": [
      "Better model found at epoch 0 with valid_loss value: 0.6689326763153076.\n",
      "       Net  Case-based Accuracy  Model-based Accuracy\n",
      "0  1100000             0.596644                   1.0\n",
      "1  1110010             0.721316                   1.0\n",
      "2  1100110             0.545379                   1.0\n",
      "3  1110100             0.668933                   1.0\n"
     ]
    },
    {
     "data": {
      "text/html": [
       "<table border=\"1\" class=\"dataframe\">\n",
       "  <thead>\n",
       "    <tr style=\"text-align: left;\">\n",
       "      <th>epoch</th>\n",
       "      <th>train_loss</th>\n",
       "      <th>valid_loss</th>\n",
       "      <th>accuracy</th>\n",
       "      <th>time</th>\n",
       "    </tr>\n",
       "  </thead>\n",
       "  <tbody>\n",
       "    <tr>\n",
       "      <td>0</td>\n",
       "      <td>2.517511</td>\n",
       "      <td>2.475625</td>\n",
       "      <td>0.345455</td>\n",
       "      <td>00:02</td>\n",
       "    </tr>\n",
       "    <tr>\n",
       "      <td>1</td>\n",
       "      <td>2.412609</td>\n",
       "      <td>2.380216</td>\n",
       "      <td>0.444318</td>\n",
       "      <td>00:02</td>\n",
       "    </tr>\n",
       "    <tr>\n",
       "      <td>2</td>\n",
       "      <td>2.364638</td>\n",
       "      <td>2.369031</td>\n",
       "      <td>0.451136</td>\n",
       "      <td>00:02</td>\n",
       "    </tr>\n",
       "    <tr>\n",
       "      <td>3</td>\n",
       "      <td>2.352397</td>\n",
       "      <td>2.350859</td>\n",
       "      <td>0.472727</td>\n",
       "      <td>00:02</td>\n",
       "    </tr>\n",
       "    <tr>\n",
       "      <td>4</td>\n",
       "      <td>2.328386</td>\n",
       "      <td>2.351998</td>\n",
       "      <td>0.465909</td>\n",
       "      <td>00:02</td>\n",
       "    </tr>\n",
       "    <tr>\n",
       "      <td>5</td>\n",
       "      <td>2.321709</td>\n",
       "      <td>2.328861</td>\n",
       "      <td>0.492045</td>\n",
       "      <td>00:02</td>\n",
       "    </tr>\n",
       "    <tr>\n",
       "      <td>6</td>\n",
       "      <td>2.318683</td>\n",
       "      <td>2.334608</td>\n",
       "      <td>0.481818</td>\n",
       "      <td>00:02</td>\n",
       "    </tr>\n",
       "    <tr>\n",
       "      <td>7</td>\n",
       "      <td>2.316111</td>\n",
       "      <td>2.331082</td>\n",
       "      <td>0.487500</td>\n",
       "      <td>00:02</td>\n",
       "    </tr>\n",
       "    <tr>\n",
       "      <td>8</td>\n",
       "      <td>2.314365</td>\n",
       "      <td>2.332125</td>\n",
       "      <td>0.488636</td>\n",
       "      <td>00:02</td>\n",
       "    </tr>\n",
       "  </tbody>\n",
       "</table>"
      ],
      "text/plain": [
       "<IPython.core.display.HTML object>"
      ]
     },
     "metadata": {},
     "output_type": "display_data"
    },
    {
     "name": "stdout",
     "output_type": "stream",
     "text": [
      "Better model found at epoch 0 with valid_loss value: 2.4756252765655518.\n",
      "Better model found at epoch 1 with valid_loss value: 2.380216121673584.\n",
      "Better model found at epoch 2 with valid_loss value: 2.3690309524536133.\n",
      "Better model found at epoch 3 with valid_loss value: 2.3508594036102295.\n",
      "Better model found at epoch 5 with valid_loss value: 2.3288607597351074.\n",
      "No improvement since epoch 5: early stopping\n"
     ]
    },
    {
     "data": {
      "text/html": [],
      "text/plain": [
       "<IPython.core.display.HTML object>"
      ]
     },
     "metadata": {},
     "output_type": "display_data"
    },
    {
     "name": "stdout",
     "output_type": "stream",
     "text": [
      "Better model found at epoch 0 with valid_loss value: 0.47409090399742126.\n",
      "       Net  Case-based Accuracy  Model-based Accuracy\n",
      "0  1100000             0.596644                   1.0\n",
      "1  1110010             0.721316                   1.0\n",
      "2  1100110             0.545379                   1.0\n",
      "3  1110100             0.668933                   1.0\n",
      "4  0001010             0.474091                   1.0\n"
     ]
    },
    {
     "data": {
      "text/html": [
       "<table border=\"1\" class=\"dataframe\">\n",
       "  <thead>\n",
       "    <tr style=\"text-align: left;\">\n",
       "      <th>epoch</th>\n",
       "      <th>train_loss</th>\n",
       "      <th>valid_loss</th>\n",
       "      <th>accuracy</th>\n",
       "      <th>time</th>\n",
       "    </tr>\n",
       "  </thead>\n",
       "  <tbody>\n",
       "    <tr>\n",
       "      <td>0</td>\n",
       "      <td>2.944251</td>\n",
       "      <td>2.911423</td>\n",
       "      <td>0.381901</td>\n",
       "      <td>00:06</td>\n",
       "    </tr>\n",
       "    <tr>\n",
       "      <td>1</td>\n",
       "      <td>2.829440</td>\n",
       "      <td>2.832254</td>\n",
       "      <td>0.456206</td>\n",
       "      <td>00:06</td>\n",
       "    </tr>\n",
       "    <tr>\n",
       "      <td>2</td>\n",
       "      <td>2.814312</td>\n",
       "      <td>2.803224</td>\n",
       "      <td>0.488169</td>\n",
       "      <td>00:05</td>\n",
       "    </tr>\n",
       "    <tr>\n",
       "      <td>3</td>\n",
       "      <td>2.795270</td>\n",
       "      <td>2.780987</td>\n",
       "      <td>0.507264</td>\n",
       "      <td>00:06</td>\n",
       "    </tr>\n",
       "    <tr>\n",
       "      <td>4</td>\n",
       "      <td>2.788814</td>\n",
       "      <td>2.784313</td>\n",
       "      <td>0.503113</td>\n",
       "      <td>00:06</td>\n",
       "    </tr>\n",
       "    <tr>\n",
       "      <td>5</td>\n",
       "      <td>2.772475</td>\n",
       "      <td>2.769195</td>\n",
       "      <td>0.520133</td>\n",
       "      <td>00:06</td>\n",
       "    </tr>\n",
       "    <tr>\n",
       "      <td>6</td>\n",
       "      <td>2.777977</td>\n",
       "      <td>2.764318</td>\n",
       "      <td>0.523869</td>\n",
       "      <td>00:06</td>\n",
       "    </tr>\n",
       "    <tr>\n",
       "      <td>7</td>\n",
       "      <td>2.768737</td>\n",
       "      <td>2.765653</td>\n",
       "      <td>0.520133</td>\n",
       "      <td>00:06</td>\n",
       "    </tr>\n",
       "    <tr>\n",
       "      <td>8</td>\n",
       "      <td>2.772806</td>\n",
       "      <td>2.762156</td>\n",
       "      <td>0.524699</td>\n",
       "      <td>00:05</td>\n",
       "    </tr>\n",
       "    <tr>\n",
       "      <td>9</td>\n",
       "      <td>2.766480</td>\n",
       "      <td>2.760242</td>\n",
       "      <td>0.525529</td>\n",
       "      <td>00:06</td>\n",
       "    </tr>\n",
       "    <tr>\n",
       "      <td>10</td>\n",
       "      <td>2.758282</td>\n",
       "      <td>2.757402</td>\n",
       "      <td>0.530095</td>\n",
       "      <td>00:06</td>\n",
       "    </tr>\n",
       "    <tr>\n",
       "      <td>11</td>\n",
       "      <td>2.759888</td>\n",
       "      <td>2.755883</td>\n",
       "      <td>0.530511</td>\n",
       "      <td>00:06</td>\n",
       "    </tr>\n",
       "    <tr>\n",
       "      <td>12</td>\n",
       "      <td>2.766979</td>\n",
       "      <td>2.760545</td>\n",
       "      <td>0.527605</td>\n",
       "      <td>00:06</td>\n",
       "    </tr>\n",
       "    <tr>\n",
       "      <td>13</td>\n",
       "      <td>2.757961</td>\n",
       "      <td>2.761156</td>\n",
       "      <td>0.525944</td>\n",
       "      <td>00:06</td>\n",
       "    </tr>\n",
       "    <tr>\n",
       "      <td>14</td>\n",
       "      <td>2.766991</td>\n",
       "      <td>2.755177</td>\n",
       "      <td>0.530926</td>\n",
       "      <td>00:06</td>\n",
       "    </tr>\n",
       "  </tbody>\n",
       "</table>"
      ],
      "text/plain": [
       "<IPython.core.display.HTML object>"
      ]
     },
     "metadata": {},
     "output_type": "display_data"
    },
    {
     "name": "stdout",
     "output_type": "stream",
     "text": [
      "Better model found at epoch 0 with valid_loss value: 2.9114229679107666.\n",
      "Better model found at epoch 1 with valid_loss value: 2.8322536945343018.\n",
      "Better model found at epoch 2 with valid_loss value: 2.8032236099243164.\n",
      "Better model found at epoch 3 with valid_loss value: 2.7809865474700928.\n",
      "Better model found at epoch 5 with valid_loss value: 2.769195318222046.\n",
      "Better model found at epoch 6 with valid_loss value: 2.764317750930786.\n",
      "Better model found at epoch 8 with valid_loss value: 2.762155771255493.\n",
      "Better model found at epoch 9 with valid_loss value: 2.760241985321045.\n",
      "Better model found at epoch 10 with valid_loss value: 2.7574024200439453.\n",
      "Better model found at epoch 11 with valid_loss value: 2.755882501602173.\n",
      "No improvement since epoch 11: early stopping\n"
     ]
    },
    {
     "data": {
      "text/html": [],
      "text/plain": [
       "<IPython.core.display.HTML object>"
      ]
     },
     "metadata": {},
     "output_type": "display_data"
    },
    {
     "name": "stdout",
     "output_type": "stream",
     "text": [
      "Better model found at epoch 0 with valid_loss value: 0.502810001373291.\n",
      "       Net  Case-based Accuracy  Model-based Accuracy\n",
      "0  1100000             0.596644                   1.0\n",
      "1  1110010             0.721316                   1.0\n",
      "2  1100110             0.545379                   1.0\n",
      "3  1110100             0.668933                   1.0\n",
      "4  0001010             0.474091                   1.0\n",
      "5  0201000             0.502810                   1.0\n"
     ]
    },
    {
     "data": {
      "text/html": [
       "<table border=\"1\" class=\"dataframe\">\n",
       "  <thead>\n",
       "    <tr style=\"text-align: left;\">\n",
       "      <th>epoch</th>\n",
       "      <th>train_loss</th>\n",
       "      <th>valid_loss</th>\n",
       "      <th>accuracy</th>\n",
       "      <th>time</th>\n",
       "    </tr>\n",
       "  </thead>\n",
       "  <tbody>\n",
       "    <tr>\n",
       "      <td>0</td>\n",
       "      <td>2.720185</td>\n",
       "      <td>2.611344</td>\n",
       "      <td>0.460910</td>\n",
       "      <td>00:02</td>\n",
       "    </tr>\n",
       "    <tr>\n",
       "      <td>1</td>\n",
       "      <td>2.568200</td>\n",
       "      <td>2.550265</td>\n",
       "      <td>0.483081</td>\n",
       "      <td>00:02</td>\n",
       "    </tr>\n",
       "    <tr>\n",
       "      <td>2</td>\n",
       "      <td>2.461923</td>\n",
       "      <td>2.423272</td>\n",
       "      <td>0.619603</td>\n",
       "      <td>00:02</td>\n",
       "    </tr>\n",
       "    <tr>\n",
       "      <td>3</td>\n",
       "      <td>2.394966</td>\n",
       "      <td>2.401499</td>\n",
       "      <td>0.633606</td>\n",
       "      <td>00:02</td>\n",
       "    </tr>\n",
       "    <tr>\n",
       "      <td>4</td>\n",
       "      <td>2.359060</td>\n",
       "      <td>2.380687</td>\n",
       "      <td>0.654609</td>\n",
       "      <td>00:02</td>\n",
       "    </tr>\n",
       "    <tr>\n",
       "      <td>5</td>\n",
       "      <td>2.342274</td>\n",
       "      <td>2.374764</td>\n",
       "      <td>0.660443</td>\n",
       "      <td>00:02</td>\n",
       "    </tr>\n",
       "    <tr>\n",
       "      <td>6</td>\n",
       "      <td>2.344228</td>\n",
       "      <td>2.367567</td>\n",
       "      <td>0.666278</td>\n",
       "      <td>00:02</td>\n",
       "    </tr>\n",
       "    <tr>\n",
       "      <td>7</td>\n",
       "      <td>2.341150</td>\n",
       "      <td>2.367044</td>\n",
       "      <td>0.666278</td>\n",
       "      <td>00:02</td>\n",
       "    </tr>\n",
       "    <tr>\n",
       "      <td>8</td>\n",
       "      <td>2.339121</td>\n",
       "      <td>2.364966</td>\n",
       "      <td>0.667445</td>\n",
       "      <td>00:02</td>\n",
       "    </tr>\n",
       "    <tr>\n",
       "      <td>9</td>\n",
       "      <td>2.335383</td>\n",
       "      <td>2.366529</td>\n",
       "      <td>0.665111</td>\n",
       "      <td>00:02</td>\n",
       "    </tr>\n",
       "  </tbody>\n",
       "</table>"
      ],
      "text/plain": [
       "<IPython.core.display.HTML object>"
      ]
     },
     "metadata": {},
     "output_type": "display_data"
    },
    {
     "name": "stdout",
     "output_type": "stream",
     "text": [
      "Better model found at epoch 0 with valid_loss value: 2.6113440990448.\n",
      "Better model found at epoch 1 with valid_loss value: 2.550264835357666.\n",
      "Better model found at epoch 2 with valid_loss value: 2.423272132873535.\n",
      "Better model found at epoch 3 with valid_loss value: 2.401499032974243.\n",
      "Better model found at epoch 4 with valid_loss value: 2.3806865215301514.\n",
      "Better model found at epoch 5 with valid_loss value: 2.3747639656066895.\n",
      "Better model found at epoch 6 with valid_loss value: 2.3675665855407715.\n",
      "Better model found at epoch 7 with valid_loss value: 2.3670437335968018.\n",
      "Better model found at epoch 8 with valid_loss value: 2.3649656772613525.\n",
      "No improvement since epoch 6: early stopping\n"
     ]
    },
    {
     "data": {
      "text/html": [],
      "text/plain": [
       "<IPython.core.display.HTML object>"
      ]
     },
     "metadata": {},
     "output_type": "display_data"
    },
    {
     "name": "stdout",
     "output_type": "stream",
     "text": [
      "Better model found at epoch 0 with valid_loss value: 0.69580078125.\n",
      "       Net  Case-based Accuracy  Model-based Accuracy\n",
      "0  1100000             0.596644                   1.0\n",
      "1  1110010             0.721316                   1.0\n",
      "2  1100110             0.545379                   1.0\n",
      "3  1110100             0.668933                   1.0\n",
      "4  0001010             0.474091                   1.0\n",
      "5  0201000             0.502810                   1.0\n",
      "6  0010010             0.695801                   1.0\n"
     ]
    },
    {
     "data": {
      "text/html": [
       "<table border=\"1\" class=\"dataframe\">\n",
       "  <thead>\n",
       "    <tr style=\"text-align: left;\">\n",
       "      <th>epoch</th>\n",
       "      <th>train_loss</th>\n",
       "      <th>valid_loss</th>\n",
       "      <th>accuracy</th>\n",
       "      <th>time</th>\n",
       "    </tr>\n",
       "  </thead>\n",
       "  <tbody>\n",
       "    <tr>\n",
       "      <td>0</td>\n",
       "      <td>2.678535</td>\n",
       "      <td>2.597883</td>\n",
       "      <td>0.371505</td>\n",
       "      <td>00:02</td>\n",
       "    </tr>\n",
       "    <tr>\n",
       "      <td>1</td>\n",
       "      <td>2.553846</td>\n",
       "      <td>2.506893</td>\n",
       "      <td>0.444740</td>\n",
       "      <td>00:02</td>\n",
       "    </tr>\n",
       "    <tr>\n",
       "      <td>2</td>\n",
       "      <td>2.495957</td>\n",
       "      <td>2.466074</td>\n",
       "      <td>0.472703</td>\n",
       "      <td>00:02</td>\n",
       "    </tr>\n",
       "    <tr>\n",
       "      <td>3</td>\n",
       "      <td>2.457594</td>\n",
       "      <td>2.455945</td>\n",
       "      <td>0.474035</td>\n",
       "      <td>00:02</td>\n",
       "    </tr>\n",
       "    <tr>\n",
       "      <td>4</td>\n",
       "      <td>2.445992</td>\n",
       "      <td>2.446715</td>\n",
       "      <td>0.480692</td>\n",
       "      <td>00:02</td>\n",
       "    </tr>\n",
       "    <tr>\n",
       "      <td>5</td>\n",
       "      <td>2.442258</td>\n",
       "      <td>2.444860</td>\n",
       "      <td>0.483356</td>\n",
       "      <td>00:02</td>\n",
       "    </tr>\n",
       "    <tr>\n",
       "      <td>6</td>\n",
       "      <td>2.434741</td>\n",
       "      <td>2.437855</td>\n",
       "      <td>0.495340</td>\n",
       "      <td>00:02</td>\n",
       "    </tr>\n",
       "    <tr>\n",
       "      <td>7</td>\n",
       "      <td>2.429880</td>\n",
       "      <td>2.434098</td>\n",
       "      <td>0.496671</td>\n",
       "      <td>00:02</td>\n",
       "    </tr>\n",
       "    <tr>\n",
       "      <td>8</td>\n",
       "      <td>2.410312</td>\n",
       "      <td>2.419248</td>\n",
       "      <td>0.508655</td>\n",
       "      <td>00:02</td>\n",
       "    </tr>\n",
       "    <tr>\n",
       "      <td>9</td>\n",
       "      <td>2.400239</td>\n",
       "      <td>2.404807</td>\n",
       "      <td>0.527297</td>\n",
       "      <td>00:02</td>\n",
       "    </tr>\n",
       "    <tr>\n",
       "      <td>10</td>\n",
       "      <td>2.395442</td>\n",
       "      <td>2.406336</td>\n",
       "      <td>0.524634</td>\n",
       "      <td>00:02</td>\n",
       "    </tr>\n",
       "    <tr>\n",
       "      <td>11</td>\n",
       "      <td>2.388884</td>\n",
       "      <td>2.402587</td>\n",
       "      <td>0.529960</td>\n",
       "      <td>00:02</td>\n",
       "    </tr>\n",
       "    <tr>\n",
       "      <td>12</td>\n",
       "      <td>2.385344</td>\n",
       "      <td>2.408107</td>\n",
       "      <td>0.524634</td>\n",
       "      <td>00:02</td>\n",
       "    </tr>\n",
       "  </tbody>\n",
       "</table>"
      ],
      "text/plain": [
       "<IPython.core.display.HTML object>"
      ]
     },
     "metadata": {},
     "output_type": "display_data"
    },
    {
     "name": "stdout",
     "output_type": "stream",
     "text": [
      "Better model found at epoch 0 with valid_loss value: 2.5978827476501465.\n",
      "Better model found at epoch 1 with valid_loss value: 2.5068931579589844.\n",
      "Better model found at epoch 2 with valid_loss value: 2.466073989868164.\n",
      "Better model found at epoch 3 with valid_loss value: 2.455944776535034.\n",
      "Better model found at epoch 4 with valid_loss value: 2.4467153549194336.\n",
      "Better model found at epoch 5 with valid_loss value: 2.4448604583740234.\n",
      "Better model found at epoch 6 with valid_loss value: 2.4378552436828613.\n",
      "Better model found at epoch 7 with valid_loss value: 2.4340975284576416.\n",
      "Better model found at epoch 8 with valid_loss value: 2.41924786567688.\n",
      "Better model found at epoch 9 with valid_loss value: 2.4048073291778564.\n",
      "Better model found at epoch 11 with valid_loss value: 2.4025866985321045.\n",
      "No improvement since epoch 9: early stopping\n"
     ]
    },
    {
     "data": {
      "text/html": [],
      "text/plain": [
       "<IPython.core.display.HTML object>"
      ]
     },
     "metadata": {},
     "output_type": "display_data"
    },
    {
     "name": "stdout",
     "output_type": "stream",
     "text": [
      "Better model found at epoch 0 with valid_loss value: 0.5389507412910461.\n",
      "       Net  Case-based Accuracy  Model-based Accuracy\n",
      "0  1100000             0.596644                   1.0\n",
      "1  1110010             0.721316                   1.0\n",
      "2  1100110             0.545379                   1.0\n",
      "3  1110100             0.668933                   1.0\n",
      "4  0001010             0.474091                   1.0\n",
      "5  0201000             0.502810                   1.0\n",
      "6  0010010             0.695801                   1.0\n",
      "7  1001100             0.538951                   1.0\n"
     ]
    },
    {
     "data": {
      "text/html": [
       "<table border=\"1\" class=\"dataframe\">\n",
       "  <thead>\n",
       "    <tr style=\"text-align: left;\">\n",
       "      <th>epoch</th>\n",
       "      <th>train_loss</th>\n",
       "      <th>valid_loss</th>\n",
       "      <th>accuracy</th>\n",
       "      <th>time</th>\n",
       "    </tr>\n",
       "  </thead>\n",
       "  <tbody>\n",
       "    <tr>\n",
       "      <td>0</td>\n",
       "      <td>2.627141</td>\n",
       "      <td>2.561081</td>\n",
       "      <td>0.378409</td>\n",
       "      <td>00:02</td>\n",
       "    </tr>\n",
       "    <tr>\n",
       "      <td>1</td>\n",
       "      <td>2.518224</td>\n",
       "      <td>2.496491</td>\n",
       "      <td>0.443182</td>\n",
       "      <td>00:02</td>\n",
       "    </tr>\n",
       "    <tr>\n",
       "      <td>2</td>\n",
       "      <td>2.462717</td>\n",
       "      <td>2.434707</td>\n",
       "      <td>0.505682</td>\n",
       "      <td>00:02</td>\n",
       "    </tr>\n",
       "    <tr>\n",
       "      <td>3</td>\n",
       "      <td>2.422573</td>\n",
       "      <td>2.414943</td>\n",
       "      <td>0.525000</td>\n",
       "      <td>00:02</td>\n",
       "    </tr>\n",
       "    <tr>\n",
       "      <td>4</td>\n",
       "      <td>2.390365</td>\n",
       "      <td>2.385377</td>\n",
       "      <td>0.555682</td>\n",
       "      <td>00:02</td>\n",
       "    </tr>\n",
       "    <tr>\n",
       "      <td>5</td>\n",
       "      <td>2.379239</td>\n",
       "      <td>2.388686</td>\n",
       "      <td>0.550000</td>\n",
       "      <td>00:02</td>\n",
       "    </tr>\n",
       "    <tr>\n",
       "      <td>6</td>\n",
       "      <td>2.374616</td>\n",
       "      <td>2.386563</td>\n",
       "      <td>0.540909</td>\n",
       "      <td>00:02</td>\n",
       "    </tr>\n",
       "    <tr>\n",
       "      <td>7</td>\n",
       "      <td>2.368275</td>\n",
       "      <td>2.388789</td>\n",
       "      <td>0.537500</td>\n",
       "      <td>00:02</td>\n",
       "    </tr>\n",
       "  </tbody>\n",
       "</table>"
      ],
      "text/plain": [
       "<IPython.core.display.HTML object>"
      ]
     },
     "metadata": {},
     "output_type": "display_data"
    },
    {
     "name": "stdout",
     "output_type": "stream",
     "text": [
      "Better model found at epoch 0 with valid_loss value: 2.5610806941986084.\n",
      "Better model found at epoch 1 with valid_loss value: 2.4964911937713623.\n",
      "Better model found at epoch 2 with valid_loss value: 2.4347071647644043.\n",
      "Better model found at epoch 3 with valid_loss value: 2.414942502975464.\n",
      "Better model found at epoch 4 with valid_loss value: 2.3853774070739746.\n",
      "No improvement since epoch 4: early stopping\n"
     ]
    },
    {
     "data": {
      "text/html": [],
      "text/plain": [
       "<IPython.core.display.HTML object>"
      ]
     },
     "metadata": {},
     "output_type": "display_data"
    },
    {
     "name": "stdout",
     "output_type": "stream",
     "text": [
      "Better model found at epoch 0 with valid_loss value: 0.5381818413734436.\n",
      "       Net  Case-based Accuracy  Model-based Accuracy\n",
      "0  1100000             0.596644                   1.0\n",
      "1  1110010             0.721316                   1.0\n",
      "2  1100110             0.545379                   1.0\n",
      "3  1110100             0.668933                   1.0\n",
      "4  0001010             0.474091                   1.0\n",
      "5  0201000             0.502810                   1.0\n",
      "6  0010010             0.695801                   1.0\n",
      "7  1001100             0.538951                   1.0\n",
      "8  1001000             0.538182                   1.0\n"
     ]
    },
    {
     "data": {
      "text/html": [
       "<table border=\"1\" class=\"dataframe\">\n",
       "  <thead>\n",
       "    <tr style=\"text-align: left;\">\n",
       "      <th>epoch</th>\n",
       "      <th>train_loss</th>\n",
       "      <th>valid_loss</th>\n",
       "      <th>accuracy</th>\n",
       "      <th>time</th>\n",
       "    </tr>\n",
       "  </thead>\n",
       "  <tbody>\n",
       "    <tr>\n",
       "      <td>0</td>\n",
       "      <td>2.614093</td>\n",
       "      <td>2.537737</td>\n",
       "      <td>0.415909</td>\n",
       "      <td>00:03</td>\n",
       "    </tr>\n",
       "    <tr>\n",
       "      <td>1</td>\n",
       "      <td>2.521903</td>\n",
       "      <td>2.516219</td>\n",
       "      <td>0.417045</td>\n",
       "      <td>00:02</td>\n",
       "    </tr>\n",
       "    <tr>\n",
       "      <td>2</td>\n",
       "      <td>2.479042</td>\n",
       "      <td>2.471230</td>\n",
       "      <td>0.464773</td>\n",
       "      <td>00:02</td>\n",
       "    </tr>\n",
       "    <tr>\n",
       "      <td>3</td>\n",
       "      <td>2.457414</td>\n",
       "      <td>2.456501</td>\n",
       "      <td>0.477273</td>\n",
       "      <td>00:02</td>\n",
       "    </tr>\n",
       "    <tr>\n",
       "      <td>4</td>\n",
       "      <td>2.445907</td>\n",
       "      <td>2.450889</td>\n",
       "      <td>0.480682</td>\n",
       "      <td>00:02</td>\n",
       "    </tr>\n",
       "    <tr>\n",
       "      <td>5</td>\n",
       "      <td>2.443305</td>\n",
       "      <td>2.450110</td>\n",
       "      <td>0.480682</td>\n",
       "      <td>00:02</td>\n",
       "    </tr>\n",
       "    <tr>\n",
       "      <td>6</td>\n",
       "      <td>2.441862</td>\n",
       "      <td>2.443420</td>\n",
       "      <td>0.481818</td>\n",
       "      <td>00:02</td>\n",
       "    </tr>\n",
       "    <tr>\n",
       "      <td>7</td>\n",
       "      <td>2.422478</td>\n",
       "      <td>2.442192</td>\n",
       "      <td>0.484091</td>\n",
       "      <td>00:02</td>\n",
       "    </tr>\n",
       "    <tr>\n",
       "      <td>8</td>\n",
       "      <td>2.418911</td>\n",
       "      <td>2.441314</td>\n",
       "      <td>0.488636</td>\n",
       "      <td>00:02</td>\n",
       "    </tr>\n",
       "    <tr>\n",
       "      <td>9</td>\n",
       "      <td>2.418566</td>\n",
       "      <td>2.432544</td>\n",
       "      <td>0.497727</td>\n",
       "      <td>00:02</td>\n",
       "    </tr>\n",
       "    <tr>\n",
       "      <td>10</td>\n",
       "      <td>2.416600</td>\n",
       "      <td>2.431953</td>\n",
       "      <td>0.498864</td>\n",
       "      <td>00:02</td>\n",
       "    </tr>\n",
       "    <tr>\n",
       "      <td>11</td>\n",
       "      <td>2.415204</td>\n",
       "      <td>2.429915</td>\n",
       "      <td>0.501136</td>\n",
       "      <td>00:02</td>\n",
       "    </tr>\n",
       "    <tr>\n",
       "      <td>12</td>\n",
       "      <td>2.426953</td>\n",
       "      <td>2.434550</td>\n",
       "      <td>0.487500</td>\n",
       "      <td>00:02</td>\n",
       "    </tr>\n",
       "  </tbody>\n",
       "</table>"
      ],
      "text/plain": [
       "<IPython.core.display.HTML object>"
      ]
     },
     "metadata": {},
     "output_type": "display_data"
    },
    {
     "name": "stdout",
     "output_type": "stream",
     "text": [
      "Better model found at epoch 0 with valid_loss value: 2.537736654281616.\n",
      "Better model found at epoch 1 with valid_loss value: 2.5162193775177.\n",
      "Better model found at epoch 2 with valid_loss value: 2.4712297916412354.\n",
      "Better model found at epoch 3 with valid_loss value: 2.4565012454986572.\n",
      "Better model found at epoch 4 with valid_loss value: 2.4508893489837646.\n",
      "Better model found at epoch 5 with valid_loss value: 2.4501099586486816.\n",
      "Better model found at epoch 6 with valid_loss value: 2.44342041015625.\n",
      "Better model found at epoch 7 with valid_loss value: 2.442192316055298.\n",
      "Better model found at epoch 8 with valid_loss value: 2.4413135051727295.\n",
      "Better model found at epoch 9 with valid_loss value: 2.432543992996216.\n",
      "Better model found at epoch 10 with valid_loss value: 2.431952714920044.\n",
      "Better model found at epoch 11 with valid_loss value: 2.429915189743042.\n",
      "No improvement since epoch 9: early stopping\n"
     ]
    },
    {
     "data": {
      "text/html": [],
      "text/plain": [
       "<IPython.core.display.HTML object>"
      ]
     },
     "metadata": {},
     "output_type": "display_data"
    },
    {
     "name": "stdout",
     "output_type": "stream",
     "text": [
      "Better model found at epoch 0 with valid_loss value: 0.5068181753158569.\n",
      "       Net  Case-based Accuracy  Model-based Accuracy\n",
      "0  1100000             0.596644                   1.0\n",
      "1  1110010             0.721316                   1.0\n",
      "2  1100110             0.545379                   1.0\n",
      "3  1110100             0.668933                   1.0\n",
      "4  0001010             0.474091                   1.0\n",
      "5  0201000             0.502810                   1.0\n",
      "6  0010010             0.695801                   1.0\n",
      "7  1001100             0.538951                   1.0\n",
      "8  1001000             0.538182                   1.0\n",
      "9  0001000             0.506818                   1.0\n"
     ]
    },
    {
     "data": {
      "text/html": [
       "<table border=\"1\" class=\"dataframe\">\n",
       "  <thead>\n",
       "    <tr style=\"text-align: left;\">\n",
       "      <th>epoch</th>\n",
       "      <th>train_loss</th>\n",
       "      <th>valid_loss</th>\n",
       "      <th>accuracy</th>\n",
       "      <th>time</th>\n",
       "    </tr>\n",
       "  </thead>\n",
       "  <tbody>\n",
       "    <tr>\n",
       "      <td>0</td>\n",
       "      <td>3.231566</td>\n",
       "      <td>3.212553</td>\n",
       "      <td>0.348904</td>\n",
       "      <td>00:05</td>\n",
       "    </tr>\n",
       "    <tr>\n",
       "      <td>1</td>\n",
       "      <td>3.053534</td>\n",
       "      <td>3.068746</td>\n",
       "      <td>0.487131</td>\n",
       "      <td>00:06</td>\n",
       "    </tr>\n",
       "    <tr>\n",
       "      <td>2</td>\n",
       "      <td>3.035776</td>\n",
       "      <td>3.049297</td>\n",
       "      <td>0.500953</td>\n",
       "      <td>00:06</td>\n",
       "    </tr>\n",
       "    <tr>\n",
       "      <td>3</td>\n",
       "      <td>3.028152</td>\n",
       "      <td>3.043082</td>\n",
       "      <td>0.506673</td>\n",
       "      <td>00:06</td>\n",
       "    </tr>\n",
       "    <tr>\n",
       "      <td>4</td>\n",
       "      <td>3.024018</td>\n",
       "      <td>3.038335</td>\n",
       "      <td>0.513823</td>\n",
       "      <td>00:06</td>\n",
       "    </tr>\n",
       "    <tr>\n",
       "      <td>5</td>\n",
       "      <td>3.010609</td>\n",
       "      <td>3.036891</td>\n",
       "      <td>0.515253</td>\n",
       "      <td>00:06</td>\n",
       "    </tr>\n",
       "    <tr>\n",
       "      <td>6</td>\n",
       "      <td>3.000961</td>\n",
       "      <td>3.039073</td>\n",
       "      <td>0.510486</td>\n",
       "      <td>00:06</td>\n",
       "    </tr>\n",
       "    <tr>\n",
       "      <td>7</td>\n",
       "      <td>2.997736</td>\n",
       "      <td>3.025646</td>\n",
       "      <td>0.522879</td>\n",
       "      <td>00:06</td>\n",
       "    </tr>\n",
       "    <tr>\n",
       "      <td>8</td>\n",
       "      <td>2.995451</td>\n",
       "      <td>3.024078</td>\n",
       "      <td>0.526215</td>\n",
       "      <td>00:06</td>\n",
       "    </tr>\n",
       "    <tr>\n",
       "      <td>9</td>\n",
       "      <td>2.990008</td>\n",
       "      <td>3.025393</td>\n",
       "      <td>0.522879</td>\n",
       "      <td>00:06</td>\n",
       "    </tr>\n",
       "    <tr>\n",
       "      <td>10</td>\n",
       "      <td>2.996487</td>\n",
       "      <td>3.023549</td>\n",
       "      <td>0.525262</td>\n",
       "      <td>00:06</td>\n",
       "    </tr>\n",
       "  </tbody>\n",
       "</table>"
      ],
      "text/plain": [
       "<IPython.core.display.HTML object>"
      ]
     },
     "metadata": {},
     "output_type": "display_data"
    },
    {
     "name": "stdout",
     "output_type": "stream",
     "text": [
      "Better model found at epoch 0 with valid_loss value: 3.212552547454834.\n",
      "Better model found at epoch 1 with valid_loss value: 3.068746328353882.\n",
      "Better model found at epoch 2 with valid_loss value: 3.049297332763672.\n",
      "Better model found at epoch 3 with valid_loss value: 3.043081760406494.\n",
      "Better model found at epoch 4 with valid_loss value: 3.038334846496582.\n",
      "Better model found at epoch 5 with valid_loss value: 3.0368905067443848.\n",
      "Better model found at epoch 7 with valid_loss value: 3.0256459712982178.\n",
      "Better model found at epoch 8 with valid_loss value: 3.024077892303467.\n",
      "No improvement since epoch 7: early stopping\n"
     ]
    },
    {
     "data": {
      "text/html": [],
      "text/plain": [
       "<IPython.core.display.HTML object>"
      ]
     },
     "metadata": {},
     "output_type": "display_data"
    },
    {
     "name": "stdout",
     "output_type": "stream",
     "text": [
      "Better model found at epoch 0 with valid_loss value: 0.5455749034881592.\n",
      "        Net  Case-based Accuracy  Model-based Accuracy\n",
      "0   1100000             0.596644                   1.0\n",
      "1   1110010             0.721316                   1.0\n",
      "2   1100110             0.545379                   1.0\n",
      "3   1110100             0.668933                   1.0\n",
      "4   0001010             0.474091                   1.0\n",
      "5   0201000             0.502810                   1.0\n",
      "6   0010010             0.695801                   1.0\n",
      "7   1001100             0.538951                   1.0\n",
      "8   1001000             0.538182                   1.0\n",
      "9   0001000             0.506818                   1.0\n",
      "10  0100100             0.545575                   1.0\n"
     ]
    },
    {
     "data": {
      "text/html": [
       "<table border=\"1\" class=\"dataframe\">\n",
       "  <thead>\n",
       "    <tr style=\"text-align: left;\">\n",
       "      <th>epoch</th>\n",
       "      <th>train_loss</th>\n",
       "      <th>valid_loss</th>\n",
       "      <th>accuracy</th>\n",
       "      <th>time</th>\n",
       "    </tr>\n",
       "  </thead>\n",
       "  <tbody>\n",
       "    <tr>\n",
       "      <td>0</td>\n",
       "      <td>2.827178</td>\n",
       "      <td>2.731910</td>\n",
       "      <td>0.399460</td>\n",
       "      <td>00:02</td>\n",
       "    </tr>\n",
       "    <tr>\n",
       "      <td>1</td>\n",
       "      <td>2.647006</td>\n",
       "      <td>2.588357</td>\n",
       "      <td>0.545209</td>\n",
       "      <td>00:02</td>\n",
       "    </tr>\n",
       "    <tr>\n",
       "      <td>2</td>\n",
       "      <td>2.567393</td>\n",
       "      <td>2.542722</td>\n",
       "      <td>0.585695</td>\n",
       "      <td>00:02</td>\n",
       "    </tr>\n",
       "    <tr>\n",
       "      <td>3</td>\n",
       "      <td>2.543228</td>\n",
       "      <td>2.539685</td>\n",
       "      <td>0.585695</td>\n",
       "      <td>00:02</td>\n",
       "    </tr>\n",
       "    <tr>\n",
       "      <td>4</td>\n",
       "      <td>2.542521</td>\n",
       "      <td>2.540525</td>\n",
       "      <td>0.584345</td>\n",
       "      <td>00:02</td>\n",
       "    </tr>\n",
       "    <tr>\n",
       "      <td>5</td>\n",
       "      <td>2.534293</td>\n",
       "      <td>2.539266</td>\n",
       "      <td>0.585695</td>\n",
       "      <td>00:02</td>\n",
       "    </tr>\n",
       "  </tbody>\n",
       "</table>"
      ],
      "text/plain": [
       "<IPython.core.display.HTML object>"
      ]
     },
     "metadata": {},
     "output_type": "display_data"
    },
    {
     "name": "stdout",
     "output_type": "stream",
     "text": [
      "Better model found at epoch 0 with valid_loss value: 2.731909990310669.\n",
      "Better model found at epoch 1 with valid_loss value: 2.588357448577881.\n",
      "Better model found at epoch 2 with valid_loss value: 2.54272198677063.\n",
      "Better model found at epoch 3 with valid_loss value: 2.5396852493286133.\n",
      "No improvement since epoch 2: early stopping\n"
     ]
    },
    {
     "data": {
      "text/html": [],
      "text/plain": [
       "<IPython.core.display.HTML object>"
      ]
     },
     "metadata": {},
     "output_type": "display_data"
    },
    {
     "name": "stdout",
     "output_type": "stream",
     "text": [
      "Better model found at epoch 0 with valid_loss value: 0.5670995712280273.\n",
      "        Net  Case-based Accuracy  Model-based Accuracy\n",
      "0   1100000             0.596644                   1.0\n",
      "1   1110010             0.721316                   1.0\n",
      "2   1100110             0.545379                   1.0\n",
      "3   1110100             0.668933                   1.0\n",
      "4   0001010             0.474091                   1.0\n",
      "5   0201000             0.502810                   1.0\n",
      "6   0010010             0.695801                   1.0\n",
      "7   1001100             0.538951                   1.0\n",
      "8   1001000             0.538182                   1.0\n",
      "9   0001000             0.506818                   1.0\n",
      "10  0100100             0.545575                   1.0\n",
      "11  1010100             0.567100                   1.0\n"
     ]
    },
    {
     "data": {
      "text/html": [
       "<table border=\"1\" class=\"dataframe\">\n",
       "  <thead>\n",
       "    <tr style=\"text-align: left;\">\n",
       "      <th>epoch</th>\n",
       "      <th>train_loss</th>\n",
       "      <th>valid_loss</th>\n",
       "      <th>accuracy</th>\n",
       "      <th>time</th>\n",
       "    </tr>\n",
       "  </thead>\n",
       "  <tbody>\n",
       "    <tr>\n",
       "      <td>0</td>\n",
       "      <td>2.577878</td>\n",
       "      <td>2.524267</td>\n",
       "      <td>0.308411</td>\n",
       "      <td>00:02</td>\n",
       "    </tr>\n",
       "    <tr>\n",
       "      <td>1</td>\n",
       "      <td>2.467472</td>\n",
       "      <td>2.413607</td>\n",
       "      <td>0.425901</td>\n",
       "      <td>00:02</td>\n",
       "    </tr>\n",
       "    <tr>\n",
       "      <td>2</td>\n",
       "      <td>2.370275</td>\n",
       "      <td>2.322694</td>\n",
       "      <td>0.516689</td>\n",
       "      <td>00:02</td>\n",
       "    </tr>\n",
       "    <tr>\n",
       "      <td>3</td>\n",
       "      <td>2.317193</td>\n",
       "      <td>2.284794</td>\n",
       "      <td>0.535380</td>\n",
       "      <td>00:02</td>\n",
       "    </tr>\n",
       "    <tr>\n",
       "      <td>4</td>\n",
       "      <td>2.292435</td>\n",
       "      <td>2.278057</td>\n",
       "      <td>0.539386</td>\n",
       "      <td>00:02</td>\n",
       "    </tr>\n",
       "    <tr>\n",
       "      <td>5</td>\n",
       "      <td>2.292822</td>\n",
       "      <td>2.279977</td>\n",
       "      <td>0.539386</td>\n",
       "      <td>00:02</td>\n",
       "    </tr>\n",
       "    <tr>\n",
       "      <td>6</td>\n",
       "      <td>2.289014</td>\n",
       "      <td>2.273728</td>\n",
       "      <td>0.544726</td>\n",
       "      <td>00:02</td>\n",
       "    </tr>\n",
       "    <tr>\n",
       "      <td>7</td>\n",
       "      <td>2.291092</td>\n",
       "      <td>2.276000</td>\n",
       "      <td>0.540721</td>\n",
       "      <td>00:02</td>\n",
       "    </tr>\n",
       "  </tbody>\n",
       "</table>"
      ],
      "text/plain": [
       "<IPython.core.display.HTML object>"
      ]
     },
     "metadata": {},
     "output_type": "display_data"
    },
    {
     "name": "stdout",
     "output_type": "stream",
     "text": [
      "Better model found at epoch 0 with valid_loss value: 2.5242669582366943.\n",
      "Better model found at epoch 1 with valid_loss value: 2.413606882095337.\n",
      "Better model found at epoch 2 with valid_loss value: 2.3226940631866455.\n",
      "Better model found at epoch 3 with valid_loss value: 2.284794330596924.\n",
      "Better model found at epoch 4 with valid_loss value: 2.278057098388672.\n",
      "Better model found at epoch 6 with valid_loss value: 2.273728370666504.\n",
      "No improvement since epoch 4: early stopping\n"
     ]
    },
    {
     "data": {
      "text/html": [],
      "text/plain": [
       "<IPython.core.display.HTML object>"
      ]
     },
     "metadata": {},
     "output_type": "display_data"
    },
    {
     "name": "stdout",
     "output_type": "stream",
     "text": [
      "Better model found at epoch 0 with valid_loss value: 0.5126315951347351.\n",
      "        Net  Case-based Accuracy  Model-based Accuracy\n",
      "0   1100000             0.596644                   1.0\n",
      "1   1110010             0.721316                   1.0\n",
      "2   1100110             0.545379                   1.0\n",
      "3   1110100             0.668933                   1.0\n",
      "4   0001010             0.474091                   1.0\n",
      "5   0201000             0.502810                   1.0\n",
      "6   0010010             0.695801                   1.0\n",
      "7   1001100             0.538951                   1.0\n",
      "8   1001000             0.538182                   1.0\n",
      "9   0001000             0.506818                   1.0\n",
      "10  0100100             0.545575                   1.0\n",
      "11  1010100             0.567100                   1.0\n",
      "12  1001110             0.512632                   1.0\n"
     ]
    },
    {
     "data": {
      "text/html": [
       "<table border=\"1\" class=\"dataframe\">\n",
       "  <thead>\n",
       "    <tr style=\"text-align: left;\">\n",
       "      <th>epoch</th>\n",
       "      <th>train_loss</th>\n",
       "      <th>valid_loss</th>\n",
       "      <th>accuracy</th>\n",
       "      <th>time</th>\n",
       "    </tr>\n",
       "  </thead>\n",
       "  <tbody>\n",
       "    <tr>\n",
       "      <td>0</td>\n",
       "      <td>2.838219</td>\n",
       "      <td>2.765121</td>\n",
       "      <td>0.469586</td>\n",
       "      <td>00:05</td>\n",
       "    </tr>\n",
       "    <tr>\n",
       "      <td>1</td>\n",
       "      <td>2.733383</td>\n",
       "      <td>2.726736</td>\n",
       "      <td>0.481144</td>\n",
       "      <td>00:05</td>\n",
       "    </tr>\n",
       "    <tr>\n",
       "      <td>2</td>\n",
       "      <td>2.716340</td>\n",
       "      <td>2.693976</td>\n",
       "      <td>0.522506</td>\n",
       "      <td>00:05</td>\n",
       "    </tr>\n",
       "    <tr>\n",
       "      <td>3</td>\n",
       "      <td>2.669046</td>\n",
       "      <td>2.661027</td>\n",
       "      <td>0.547445</td>\n",
       "      <td>00:05</td>\n",
       "    </tr>\n",
       "    <tr>\n",
       "      <td>4</td>\n",
       "      <td>2.666050</td>\n",
       "      <td>2.657116</td>\n",
       "      <td>0.549270</td>\n",
       "      <td>00:05</td>\n",
       "    </tr>\n",
       "    <tr>\n",
       "      <td>5</td>\n",
       "      <td>2.657946</td>\n",
       "      <td>2.657122</td>\n",
       "      <td>0.550487</td>\n",
       "      <td>00:05</td>\n",
       "    </tr>\n",
       "    <tr>\n",
       "      <td>6</td>\n",
       "      <td>2.656313</td>\n",
       "      <td>2.652084</td>\n",
       "      <td>0.555961</td>\n",
       "      <td>00:05</td>\n",
       "    </tr>\n",
       "    <tr>\n",
       "      <td>7</td>\n",
       "      <td>2.665234</td>\n",
       "      <td>2.651473</td>\n",
       "      <td>0.557178</td>\n",
       "      <td>00:05</td>\n",
       "    </tr>\n",
       "    <tr>\n",
       "      <td>8</td>\n",
       "      <td>2.665367</td>\n",
       "      <td>2.650968</td>\n",
       "      <td>0.552920</td>\n",
       "      <td>00:05</td>\n",
       "    </tr>\n",
       "    <tr>\n",
       "      <td>9</td>\n",
       "      <td>2.662249</td>\n",
       "      <td>2.651078</td>\n",
       "      <td>0.555961</td>\n",
       "      <td>00:05</td>\n",
       "    </tr>\n",
       "  </tbody>\n",
       "</table>"
      ],
      "text/plain": [
       "<IPython.core.display.HTML object>"
      ]
     },
     "metadata": {},
     "output_type": "display_data"
    },
    {
     "name": "stdout",
     "output_type": "stream",
     "text": [
      "Better model found at epoch 0 with valid_loss value: 2.7651212215423584.\n",
      "Better model found at epoch 1 with valid_loss value: 2.726736068725586.\n",
      "Better model found at epoch 2 with valid_loss value: 2.6939756870269775.\n",
      "Better model found at epoch 3 with valid_loss value: 2.661027193069458.\n",
      "Better model found at epoch 4 with valid_loss value: 2.6571156978607178.\n",
      "Better model found at epoch 6 with valid_loss value: 2.6520843505859375.\n",
      "Better model found at epoch 7 with valid_loss value: 2.651472568511963.\n",
      "Better model found at epoch 8 with valid_loss value: 2.650968074798584.\n",
      "No improvement since epoch 6: early stopping\n"
     ]
    },
    {
     "data": {
      "text/html": [],
      "text/plain": [
       "<IPython.core.display.HTML object>"
      ]
     },
     "metadata": {},
     "output_type": "display_data"
    },
    {
     "name": "stdout",
     "output_type": "stream",
     "text": [
      "Better model found at epoch 0 with valid_loss value: 0.5380577445030212.\n",
      "        Net  Case-based Accuracy  Model-based Accuracy\n",
      "0   1100000             0.596644                   1.0\n",
      "1   1110010             0.721316                   1.0\n",
      "2   1100110             0.545379                   1.0\n",
      "3   1110100             0.668933                   1.0\n",
      "4   0001010             0.474091                   1.0\n",
      "5   0201000             0.502810                   1.0\n",
      "6   0010010             0.695801                   1.0\n",
      "7   1001100             0.538951                   1.0\n",
      "8   1001000             0.538182                   1.0\n",
      "9   0001000             0.506818                   1.0\n",
      "10  0100100             0.545575                   1.0\n",
      "11  1010100             0.567100                   1.0\n",
      "12  1001110             0.512632                   1.0\n",
      "13  0211110             0.538058                   1.0\n"
     ]
    },
    {
     "data": {
      "text/html": [
       "<table border=\"1\" class=\"dataframe\">\n",
       "  <thead>\n",
       "    <tr style=\"text-align: left;\">\n",
       "      <th>epoch</th>\n",
       "      <th>train_loss</th>\n",
       "      <th>valid_loss</th>\n",
       "      <th>accuracy</th>\n",
       "      <th>time</th>\n",
       "    </tr>\n",
       "  </thead>\n",
       "  <tbody>\n",
       "    <tr>\n",
       "      <td>0</td>\n",
       "      <td>2.808939</td>\n",
       "      <td>2.769567</td>\n",
       "      <td>0.437249</td>\n",
       "      <td>00:05</td>\n",
       "    </tr>\n",
       "    <tr>\n",
       "      <td>1</td>\n",
       "      <td>2.667593</td>\n",
       "      <td>2.651648</td>\n",
       "      <td>0.561605</td>\n",
       "      <td>00:05</td>\n",
       "    </tr>\n",
       "    <tr>\n",
       "      <td>2</td>\n",
       "      <td>2.645436</td>\n",
       "      <td>2.630409</td>\n",
       "      <td>0.581662</td>\n",
       "      <td>00:05</td>\n",
       "    </tr>\n",
       "    <tr>\n",
       "      <td>3</td>\n",
       "      <td>2.638819</td>\n",
       "      <td>2.626283</td>\n",
       "      <td>0.584527</td>\n",
       "      <td>00:05</td>\n",
       "    </tr>\n",
       "    <tr>\n",
       "      <td>4</td>\n",
       "      <td>2.632519</td>\n",
       "      <td>2.623000</td>\n",
       "      <td>0.585100</td>\n",
       "      <td>00:05</td>\n",
       "    </tr>\n",
       "    <tr>\n",
       "      <td>5</td>\n",
       "      <td>2.634849</td>\n",
       "      <td>2.623606</td>\n",
       "      <td>0.583381</td>\n",
       "      <td>00:05</td>\n",
       "    </tr>\n",
       "    <tr>\n",
       "      <td>6</td>\n",
       "      <td>2.624815</td>\n",
       "      <td>2.618243</td>\n",
       "      <td>0.590831</td>\n",
       "      <td>00:05</td>\n",
       "    </tr>\n",
       "    <tr>\n",
       "      <td>7</td>\n",
       "      <td>2.623162</td>\n",
       "      <td>2.615721</td>\n",
       "      <td>0.593123</td>\n",
       "      <td>00:05</td>\n",
       "    </tr>\n",
       "    <tr>\n",
       "      <td>8</td>\n",
       "      <td>2.638847</td>\n",
       "      <td>2.623168</td>\n",
       "      <td>0.584527</td>\n",
       "      <td>00:05</td>\n",
       "    </tr>\n",
       "    <tr>\n",
       "      <td>9</td>\n",
       "      <td>2.628955</td>\n",
       "      <td>2.611244</td>\n",
       "      <td>0.593696</td>\n",
       "      <td>00:05</td>\n",
       "    </tr>\n",
       "    <tr>\n",
       "      <td>10</td>\n",
       "      <td>2.626350</td>\n",
       "      <td>2.615750</td>\n",
       "      <td>0.593123</td>\n",
       "      <td>00:05</td>\n",
       "    </tr>\n",
       "  </tbody>\n",
       "</table>"
      ],
      "text/plain": [
       "<IPython.core.display.HTML object>"
      ]
     },
     "metadata": {},
     "output_type": "display_data"
    },
    {
     "name": "stdout",
     "output_type": "stream",
     "text": [
      "Better model found at epoch 0 with valid_loss value: 2.7695672512054443.\n",
      "Better model found at epoch 1 with valid_loss value: 2.6516475677490234.\n",
      "Better model found at epoch 2 with valid_loss value: 2.630408525466919.\n",
      "Better model found at epoch 3 with valid_loss value: 2.6262834072113037.\n",
      "Better model found at epoch 4 with valid_loss value: 2.622999906539917.\n",
      "Better model found at epoch 6 with valid_loss value: 2.6182425022125244.\n",
      "Better model found at epoch 7 with valid_loss value: 2.6157214641571045.\n",
      "Better model found at epoch 9 with valid_loss value: 2.6112444400787354.\n",
      "No improvement since epoch 7: early stopping\n"
     ]
    },
    {
     "data": {
      "text/html": [],
      "text/plain": [
       "<IPython.core.display.HTML object>"
      ]
     },
     "metadata": {},
     "output_type": "display_data"
    },
    {
     "name": "stdout",
     "output_type": "stream",
     "text": [
      "Better model found at epoch 0 with valid_loss value: 0.5833509564399719.\n",
      "        Net  Case-based Accuracy  Model-based Accuracy\n",
      "0   1100000             0.596644                   1.0\n",
      "1   1110010             0.721316                   1.0\n",
      "2   1100110             0.545379                   1.0\n",
      "3   1110100             0.668933                   1.0\n",
      "4   0001010             0.474091                   1.0\n",
      "5   0201000             0.502810                   1.0\n",
      "6   0010010             0.695801                   1.0\n",
      "7   1001100             0.538951                   1.0\n",
      "8   1001000             0.538182                   1.0\n",
      "9   0001000             0.506818                   1.0\n",
      "10  0100100             0.545575                   1.0\n",
      "11  1010100             0.567100                   1.0\n",
      "12  1001110             0.512632                   1.0\n",
      "13  0211110             0.538058                   1.0\n",
      "14  1101110             0.583351                   1.0\n"
     ]
    },
    {
     "data": {
      "text/html": [
       "<table border=\"1\" class=\"dataframe\">\n",
       "  <thead>\n",
       "    <tr style=\"text-align: left;\">\n",
       "      <th>epoch</th>\n",
       "      <th>train_loss</th>\n",
       "      <th>valid_loss</th>\n",
       "      <th>accuracy</th>\n",
       "      <th>time</th>\n",
       "    </tr>\n",
       "  </thead>\n",
       "  <tbody>\n",
       "    <tr>\n",
       "      <td>0</td>\n",
       "      <td>2.710369</td>\n",
       "      <td>2.608846</td>\n",
       "      <td>0.437722</td>\n",
       "      <td>00:02</td>\n",
       "    </tr>\n",
       "    <tr>\n",
       "      <td>1</td>\n",
       "      <td>2.514844</td>\n",
       "      <td>2.425279</td>\n",
       "      <td>0.519573</td>\n",
       "      <td>00:02</td>\n",
       "    </tr>\n",
       "    <tr>\n",
       "      <td>2</td>\n",
       "      <td>2.445080</td>\n",
       "      <td>2.411502</td>\n",
       "      <td>0.517794</td>\n",
       "      <td>00:02</td>\n",
       "    </tr>\n",
       "    <tr>\n",
       "      <td>3</td>\n",
       "      <td>2.421753</td>\n",
       "      <td>2.397327</td>\n",
       "      <td>0.526690</td>\n",
       "      <td>00:02</td>\n",
       "    </tr>\n",
       "    <tr>\n",
       "      <td>4</td>\n",
       "      <td>2.395210</td>\n",
       "      <td>2.364761</td>\n",
       "      <td>0.558719</td>\n",
       "      <td>00:02</td>\n",
       "    </tr>\n",
       "    <tr>\n",
       "      <td>5</td>\n",
       "      <td>2.354136</td>\n",
       "      <td>2.305420</td>\n",
       "      <td>0.653025</td>\n",
       "      <td>00:02</td>\n",
       "    </tr>\n",
       "    <tr>\n",
       "      <td>6</td>\n",
       "      <td>2.292005</td>\n",
       "      <td>2.234391</td>\n",
       "      <td>0.708185</td>\n",
       "      <td>00:02</td>\n",
       "    </tr>\n",
       "    <tr>\n",
       "      <td>7</td>\n",
       "      <td>2.237867</td>\n",
       "      <td>2.205854</td>\n",
       "      <td>0.731317</td>\n",
       "      <td>00:02</td>\n",
       "    </tr>\n",
       "    <tr>\n",
       "      <td>8</td>\n",
       "      <td>2.216005</td>\n",
       "      <td>2.198605</td>\n",
       "      <td>0.736655</td>\n",
       "      <td>00:02</td>\n",
       "    </tr>\n",
       "    <tr>\n",
       "      <td>9</td>\n",
       "      <td>2.208304</td>\n",
       "      <td>2.193465</td>\n",
       "      <td>0.738434</td>\n",
       "      <td>00:02</td>\n",
       "    </tr>\n",
       "    <tr>\n",
       "      <td>10</td>\n",
       "      <td>2.207034</td>\n",
       "      <td>2.196144</td>\n",
       "      <td>0.734875</td>\n",
       "      <td>00:02</td>\n",
       "    </tr>\n",
       "    <tr>\n",
       "      <td>11</td>\n",
       "      <td>2.202934</td>\n",
       "      <td>2.187651</td>\n",
       "      <td>0.747331</td>\n",
       "      <td>00:02</td>\n",
       "    </tr>\n",
       "    <tr>\n",
       "      <td>12</td>\n",
       "      <td>2.199552</td>\n",
       "      <td>2.187892</td>\n",
       "      <td>0.745552</td>\n",
       "      <td>00:02</td>\n",
       "    </tr>\n",
       "    <tr>\n",
       "      <td>13</td>\n",
       "      <td>2.200886</td>\n",
       "      <td>2.193465</td>\n",
       "      <td>0.738434</td>\n",
       "      <td>00:02</td>\n",
       "    </tr>\n",
       "    <tr>\n",
       "      <td>14</td>\n",
       "      <td>2.196140</td>\n",
       "      <td>2.186770</td>\n",
       "      <td>0.743772</td>\n",
       "      <td>00:02</td>\n",
       "    </tr>\n",
       "  </tbody>\n",
       "</table>"
      ],
      "text/plain": [
       "<IPython.core.display.HTML object>"
      ]
     },
     "metadata": {},
     "output_type": "display_data"
    },
    {
     "name": "stdout",
     "output_type": "stream",
     "text": [
      "Better model found at epoch 0 with valid_loss value: 2.6088459491729736.\n",
      "Better model found at epoch 1 with valid_loss value: 2.425278902053833.\n",
      "Better model found at epoch 2 with valid_loss value: 2.4115021228790283.\n",
      "Better model found at epoch 3 with valid_loss value: 2.397326707839966.\n",
      "Better model found at epoch 4 with valid_loss value: 2.3647608757019043.\n",
      "Better model found at epoch 5 with valid_loss value: 2.305419683456421.\n",
      "Better model found at epoch 6 with valid_loss value: 2.2343909740448.\n",
      "Better model found at epoch 7 with valid_loss value: 2.2058541774749756.\n",
      "Better model found at epoch 8 with valid_loss value: 2.1986048221588135.\n",
      "Better model found at epoch 9 with valid_loss value: 2.193464517593384.\n",
      "Better model found at epoch 11 with valid_loss value: 2.1876511573791504.\n",
      "No improvement since epoch 11: early stopping\n"
     ]
    },
    {
     "data": {
      "text/html": [],
      "text/plain": [
       "<IPython.core.display.HTML object>"
      ]
     },
     "metadata": {},
     "output_type": "display_data"
    },
    {
     "name": "stdout",
     "output_type": "stream",
     "text": [
      "Better model found at epoch 0 with valid_loss value: 0.7324888110160828.\n",
      "        Net  Case-based Accuracy  Model-based Accuracy\n",
      "0   1100000             0.596644                   1.0\n",
      "1   1110010             0.721316                   1.0\n",
      "2   1100110             0.545379                   1.0\n",
      "3   1110100             0.668933                   1.0\n",
      "4   0001010             0.474091                   1.0\n",
      "5   0201000             0.502810                   1.0\n",
      "6   0010010             0.695801                   1.0\n",
      "7   1001100             0.538951                   1.0\n",
      "8   1001000             0.538182                   1.0\n",
      "9   0001000             0.506818                   1.0\n",
      "10  0100100             0.545575                   1.0\n",
      "11  1010100             0.567100                   1.0\n",
      "12  1001110             0.512632                   1.0\n",
      "13  0211110             0.538058                   1.0\n",
      "14  1101110             0.583351                   1.0\n",
      "15  1011000             0.732489                   1.0\n"
     ]
    },
    {
     "data": {
      "text/html": [
       "<table border=\"1\" class=\"dataframe\">\n",
       "  <thead>\n",
       "    <tr style=\"text-align: left;\">\n",
       "      <th>epoch</th>\n",
       "      <th>train_loss</th>\n",
       "      <th>valid_loss</th>\n",
       "      <th>accuracy</th>\n",
       "      <th>time</th>\n",
       "    </tr>\n",
       "  </thead>\n",
       "  <tbody>\n",
       "    <tr>\n",
       "      <td>0</td>\n",
       "      <td>2.824817</td>\n",
       "      <td>2.805638</td>\n",
       "      <td>0.407028</td>\n",
       "      <td>00:04</td>\n",
       "    </tr>\n",
       "    <tr>\n",
       "      <td>1</td>\n",
       "      <td>2.716059</td>\n",
       "      <td>2.743565</td>\n",
       "      <td>0.467057</td>\n",
       "      <td>00:04</td>\n",
       "    </tr>\n",
       "    <tr>\n",
       "      <td>2</td>\n",
       "      <td>2.665144</td>\n",
       "      <td>2.664405</td>\n",
       "      <td>0.546120</td>\n",
       "      <td>00:04</td>\n",
       "    </tr>\n",
       "    <tr>\n",
       "      <td>3</td>\n",
       "      <td>2.586882</td>\n",
       "      <td>2.600487</td>\n",
       "      <td>0.612006</td>\n",
       "      <td>00:04</td>\n",
       "    </tr>\n",
       "    <tr>\n",
       "      <td>4</td>\n",
       "      <td>2.571420</td>\n",
       "      <td>2.592233</td>\n",
       "      <td>0.617862</td>\n",
       "      <td>00:04</td>\n",
       "    </tr>\n",
       "    <tr>\n",
       "      <td>5</td>\n",
       "      <td>2.557966</td>\n",
       "      <td>2.589839</td>\n",
       "      <td>0.620791</td>\n",
       "      <td>00:04</td>\n",
       "    </tr>\n",
       "    <tr>\n",
       "      <td>6</td>\n",
       "      <td>2.565682</td>\n",
       "      <td>2.589007</td>\n",
       "      <td>0.620059</td>\n",
       "      <td>00:04</td>\n",
       "    </tr>\n",
       "    <tr>\n",
       "      <td>7</td>\n",
       "      <td>2.564919</td>\n",
       "      <td>2.590747</td>\n",
       "      <td>0.617130</td>\n",
       "      <td>00:04</td>\n",
       "    </tr>\n",
       "  </tbody>\n",
       "</table>"
      ],
      "text/plain": [
       "<IPython.core.display.HTML object>"
      ]
     },
     "metadata": {},
     "output_type": "display_data"
    },
    {
     "name": "stdout",
     "output_type": "stream",
     "text": [
      "Better model found at epoch 0 with valid_loss value: 2.805638074874878.\n",
      "Better model found at epoch 1 with valid_loss value: 2.743565320968628.\n",
      "Better model found at epoch 2 with valid_loss value: 2.6644046306610107.\n",
      "Better model found at epoch 3 with valid_loss value: 2.600486993789673.\n",
      "Better model found at epoch 4 with valid_loss value: 2.5922327041625977.\n",
      "Better model found at epoch 5 with valid_loss value: 2.589838981628418.\n",
      "Better model found at epoch 6 with valid_loss value: 2.5890071392059326.\n",
      "No improvement since epoch 4: early stopping\n"
     ]
    },
    {
     "data": {
      "text/html": [],
      "text/plain": [
       "<IPython.core.display.HTML object>"
      ]
     },
     "metadata": {},
     "output_type": "display_data"
    },
    {
     "name": "stdout",
     "output_type": "stream",
     "text": [
      "Better model found at epoch 0 with valid_loss value: 0.6397727131843567.\n",
      "        Net  Case-based Accuracy  Model-based Accuracy\n",
      "0   1100000             0.596644                   1.0\n",
      "1   1110010             0.721316                   1.0\n",
      "2   1100110             0.545379                   1.0\n",
      "3   1110100             0.668933                   1.0\n",
      "4   0001010             0.474091                   1.0\n",
      "5   0201000             0.502810                   1.0\n",
      "6   0010010             0.695801                   1.0\n",
      "7   1001100             0.538951                   1.0\n",
      "8   1001000             0.538182                   1.0\n",
      "9   0001000             0.506818                   1.0\n",
      "10  0100100             0.545575                   1.0\n",
      "11  1010100             0.567100                   1.0\n",
      "12  1001110             0.512632                   1.0\n",
      "13  0211110             0.538058                   1.0\n",
      "14  1101110             0.583351                   1.0\n",
      "15  1011000             0.732489                   1.0\n",
      "16  0111110             0.639773                   1.0\n"
     ]
    },
    {
     "data": {
      "text/html": [
       "<table border=\"1\" class=\"dataframe\">\n",
       "  <thead>\n",
       "    <tr style=\"text-align: left;\">\n",
       "      <th>epoch</th>\n",
       "      <th>train_loss</th>\n",
       "      <th>valid_loss</th>\n",
       "      <th>accuracy</th>\n",
       "      <th>time</th>\n",
       "    </tr>\n",
       "  </thead>\n",
       "  <tbody>\n",
       "    <tr>\n",
       "      <td>0</td>\n",
       "      <td>2.677365</td>\n",
       "      <td>2.548501</td>\n",
       "      <td>0.471491</td>\n",
       "      <td>00:02</td>\n",
       "    </tr>\n",
       "    <tr>\n",
       "      <td>1</td>\n",
       "      <td>2.500232</td>\n",
       "      <td>2.436411</td>\n",
       "      <td>0.508772</td>\n",
       "      <td>00:02</td>\n",
       "    </tr>\n",
       "    <tr>\n",
       "      <td>2</td>\n",
       "      <td>2.422317</td>\n",
       "      <td>2.356349</td>\n",
       "      <td>0.589912</td>\n",
       "      <td>00:02</td>\n",
       "    </tr>\n",
       "    <tr>\n",
       "      <td>3</td>\n",
       "      <td>2.364951</td>\n",
       "      <td>2.335953</td>\n",
       "      <td>0.598684</td>\n",
       "      <td>00:02</td>\n",
       "    </tr>\n",
       "    <tr>\n",
       "      <td>4</td>\n",
       "      <td>2.333513</td>\n",
       "      <td>2.309474</td>\n",
       "      <td>0.631579</td>\n",
       "      <td>00:02</td>\n",
       "    </tr>\n",
       "    <tr>\n",
       "      <td>5</td>\n",
       "      <td>2.323952</td>\n",
       "      <td>2.307087</td>\n",
       "      <td>0.629386</td>\n",
       "      <td>00:02</td>\n",
       "    </tr>\n",
       "    <tr>\n",
       "      <td>6</td>\n",
       "      <td>2.312470</td>\n",
       "      <td>2.304795</td>\n",
       "      <td>0.618421</td>\n",
       "      <td>00:02</td>\n",
       "    </tr>\n",
       "    <tr>\n",
       "      <td>7</td>\n",
       "      <td>2.308410</td>\n",
       "      <td>2.309486</td>\n",
       "      <td>0.616228</td>\n",
       "      <td>00:02</td>\n",
       "    </tr>\n",
       "  </tbody>\n",
       "</table>"
      ],
      "text/plain": [
       "<IPython.core.display.HTML object>"
      ]
     },
     "metadata": {},
     "output_type": "display_data"
    },
    {
     "name": "stdout",
     "output_type": "stream",
     "text": [
      "Better model found at epoch 0 with valid_loss value: 2.548501491546631.\n",
      "Better model found at epoch 1 with valid_loss value: 2.4364113807678223.\n",
      "Better model found at epoch 2 with valid_loss value: 2.356349229812622.\n",
      "Better model found at epoch 3 with valid_loss value: 2.3359534740448.\n",
      "Better model found at epoch 4 with valid_loss value: 2.309474229812622.\n",
      "Better model found at epoch 5 with valid_loss value: 2.3070871829986572.\n",
      "Better model found at epoch 6 with valid_loss value: 2.304795026779175.\n",
      "No improvement since epoch 4: early stopping\n"
     ]
    },
    {
     "data": {
      "text/html": [],
      "text/plain": [
       "<IPython.core.display.HTML object>"
      ]
     },
     "metadata": {},
     "output_type": "display_data"
    },
    {
     "name": "stdout",
     "output_type": "stream",
     "text": [
      "Better model found at epoch 0 with valid_loss value: 0.6196615695953369.\n",
      "        Net  Case-based Accuracy  Model-based Accuracy\n",
      "0   1100000             0.596644                   1.0\n",
      "1   1110010             0.721316                   1.0\n",
      "2   1100110             0.545379                   1.0\n",
      "3   1110100             0.668933                   1.0\n",
      "4   0001010             0.474091                   1.0\n",
      "5   0201000             0.502810                   1.0\n",
      "6   0010010             0.695801                   1.0\n",
      "7   1001100             0.538951                   1.0\n",
      "8   1001000             0.538182                   1.0\n",
      "9   0001000             0.506818                   1.0\n",
      "10  0100100             0.545575                   1.0\n",
      "11  1010100             0.567100                   1.0\n",
      "12  1001110             0.512632                   1.0\n",
      "13  0211110             0.538058                   1.0\n",
      "14  1101110             0.583351                   1.0\n",
      "15  1011000             0.732489                   1.0\n",
      "16  0111110             0.639773                   1.0\n",
      "17  1011100             0.619662                   1.0\n"
     ]
    },
    {
     "data": {
      "text/html": [
       "<table border=\"1\" class=\"dataframe\">\n",
       "  <thead>\n",
       "    <tr style=\"text-align: left;\">\n",
       "      <th>epoch</th>\n",
       "      <th>train_loss</th>\n",
       "      <th>valid_loss</th>\n",
       "      <th>accuracy</th>\n",
       "      <th>time</th>\n",
       "    </tr>\n",
       "  </thead>\n",
       "  <tbody>\n",
       "    <tr>\n",
       "      <td>0</td>\n",
       "      <td>3.211316</td>\n",
       "      <td>3.146791</td>\n",
       "      <td>0.524554</td>\n",
       "      <td>00:05</td>\n",
       "    </tr>\n",
       "    <tr>\n",
       "      <td>1</td>\n",
       "      <td>3.110271</td>\n",
       "      <td>3.109995</td>\n",
       "      <td>0.549665</td>\n",
       "      <td>00:05</td>\n",
       "    </tr>\n",
       "    <tr>\n",
       "      <td>2</td>\n",
       "      <td>3.085325</td>\n",
       "      <td>3.095616</td>\n",
       "      <td>0.563616</td>\n",
       "      <td>00:05</td>\n",
       "    </tr>\n",
       "    <tr>\n",
       "      <td>3</td>\n",
       "      <td>3.062632</td>\n",
       "      <td>3.070779</td>\n",
       "      <td>0.588170</td>\n",
       "      <td>00:05</td>\n",
       "    </tr>\n",
       "    <tr>\n",
       "      <td>4</td>\n",
       "      <td>3.045282</td>\n",
       "      <td>3.061215</td>\n",
       "      <td>0.597656</td>\n",
       "      <td>00:05</td>\n",
       "    </tr>\n",
       "    <tr>\n",
       "      <td>5</td>\n",
       "      <td>3.045794</td>\n",
       "      <td>3.059658</td>\n",
       "      <td>0.597656</td>\n",
       "      <td>00:05</td>\n",
       "    </tr>\n",
       "    <tr>\n",
       "      <td>6</td>\n",
       "      <td>3.034468</td>\n",
       "      <td>3.041735</td>\n",
       "      <td>0.615513</td>\n",
       "      <td>00:05</td>\n",
       "    </tr>\n",
       "    <tr>\n",
       "      <td>7</td>\n",
       "      <td>3.023737</td>\n",
       "      <td>3.041598</td>\n",
       "      <td>0.616629</td>\n",
       "      <td>00:05</td>\n",
       "    </tr>\n",
       "    <tr>\n",
       "      <td>8</td>\n",
       "      <td>3.012679</td>\n",
       "      <td>3.039955</td>\n",
       "      <td>0.617746</td>\n",
       "      <td>00:05</td>\n",
       "    </tr>\n",
       "    <tr>\n",
       "      <td>9</td>\n",
       "      <td>3.026406</td>\n",
       "      <td>3.037249</td>\n",
       "      <td>0.622210</td>\n",
       "      <td>00:05</td>\n",
       "    </tr>\n",
       "  </tbody>\n",
       "</table>"
      ],
      "text/plain": [
       "<IPython.core.display.HTML object>"
      ]
     },
     "metadata": {},
     "output_type": "display_data"
    },
    {
     "name": "stdout",
     "output_type": "stream",
     "text": [
      "Better model found at epoch 0 with valid_loss value: 3.1467909812927246.\n",
      "Better model found at epoch 1 with valid_loss value: 3.109994888305664.\n",
      "Better model found at epoch 2 with valid_loss value: 3.095616102218628.\n",
      "Better model found at epoch 3 with valid_loss value: 3.0707790851593018.\n",
      "Better model found at epoch 4 with valid_loss value: 3.0612149238586426.\n",
      "Better model found at epoch 5 with valid_loss value: 3.0596582889556885.\n",
      "Better model found at epoch 6 with valid_loss value: 3.0417346954345703.\n",
      "Better model found at epoch 7 with valid_loss value: 3.041597604751587.\n",
      "Better model found at epoch 8 with valid_loss value: 3.0399551391601562.\n",
      "No improvement since epoch 6: early stopping\n"
     ]
    },
    {
     "data": {
      "text/html": [],
      "text/plain": [
       "<IPython.core.display.HTML object>"
      ]
     },
     "metadata": {},
     "output_type": "display_data"
    },
    {
     "name": "stdout",
     "output_type": "stream",
     "text": [
      "Better model found at epoch 0 with valid_loss value: 0.6158563494682312.\n",
      "        Net  Case-based Accuracy  Model-based Accuracy\n",
      "0   1100000             0.596644                   1.0\n",
      "1   1110010             0.721316                   1.0\n",
      "2   1100110             0.545379                   1.0\n",
      "3   1110100             0.668933                   1.0\n",
      "4   0001010             0.474091                   1.0\n",
      "5   0201000             0.502810                   1.0\n",
      "6   0010010             0.695801                   1.0\n",
      "7   1001100             0.538951                   1.0\n",
      "8   1001000             0.538182                   1.0\n",
      "9   0001000             0.506818                   1.0\n",
      "10  0100100             0.545575                   1.0\n",
      "11  1010100             0.567100                   1.0\n",
      "12  1001110             0.512632                   1.0\n",
      "13  0211110             0.538058                   1.0\n",
      "14  1101110             0.583351                   1.0\n",
      "15  1011000             0.732489                   1.0\n",
      "16  0111110             0.639773                   1.0\n",
      "17  1011100             0.619662                   1.0\n",
      "18  0210100             0.615856                   1.0\n"
     ]
    },
    {
     "data": {
      "text/html": [
       "<table border=\"1\" class=\"dataframe\">\n",
       "  <thead>\n",
       "    <tr style=\"text-align: left;\">\n",
       "      <th>epoch</th>\n",
       "      <th>train_loss</th>\n",
       "      <th>valid_loss</th>\n",
       "      <th>accuracy</th>\n",
       "      <th>time</th>\n",
       "    </tr>\n",
       "  </thead>\n",
       "  <tbody>\n",
       "    <tr>\n",
       "      <td>0</td>\n",
       "      <td>3.291821</td>\n",
       "      <td>3.242616</td>\n",
       "      <td>0.426357</td>\n",
       "      <td>00:05</td>\n",
       "    </tr>\n",
       "    <tr>\n",
       "      <td>1</td>\n",
       "      <td>3.181958</td>\n",
       "      <td>3.144460</td>\n",
       "      <td>0.524747</td>\n",
       "      <td>00:05</td>\n",
       "    </tr>\n",
       "    <tr>\n",
       "      <td>2</td>\n",
       "      <td>3.142058</td>\n",
       "      <td>3.123181</td>\n",
       "      <td>0.539058</td>\n",
       "      <td>00:05</td>\n",
       "    </tr>\n",
       "    <tr>\n",
       "      <td>3</td>\n",
       "      <td>3.120122</td>\n",
       "      <td>3.113204</td>\n",
       "      <td>0.549791</td>\n",
       "      <td>00:05</td>\n",
       "    </tr>\n",
       "    <tr>\n",
       "      <td>4</td>\n",
       "      <td>3.120539</td>\n",
       "      <td>3.108139</td>\n",
       "      <td>0.551580</td>\n",
       "      <td>00:05</td>\n",
       "    </tr>\n",
       "    <tr>\n",
       "      <td>5</td>\n",
       "      <td>3.112526</td>\n",
       "      <td>3.108665</td>\n",
       "      <td>0.551580</td>\n",
       "      <td>00:05</td>\n",
       "    </tr>\n",
       "    <tr>\n",
       "      <td>6</td>\n",
       "      <td>3.100405</td>\n",
       "      <td>3.103747</td>\n",
       "      <td>0.555158</td>\n",
       "      <td>00:05</td>\n",
       "    </tr>\n",
       "    <tr>\n",
       "      <td>7</td>\n",
       "      <td>3.101222</td>\n",
       "      <td>3.104730</td>\n",
       "      <td>0.553369</td>\n",
       "      <td>00:05</td>\n",
       "    </tr>\n",
       "  </tbody>\n",
       "</table>"
      ],
      "text/plain": [
       "<IPython.core.display.HTML object>"
      ]
     },
     "metadata": {},
     "output_type": "display_data"
    },
    {
     "name": "stdout",
     "output_type": "stream",
     "text": [
      "Better model found at epoch 0 with valid_loss value: 3.2426164150238037.\n",
      "Better model found at epoch 1 with valid_loss value: 3.144460439682007.\n",
      "Better model found at epoch 2 with valid_loss value: 3.1231813430786133.\n",
      "Better model found at epoch 3 with valid_loss value: 3.113203525543213.\n",
      "Better model found at epoch 4 with valid_loss value: 3.1081387996673584.\n",
      "Better model found at epoch 6 with valid_loss value: 3.1037471294403076.\n",
      "No improvement since epoch 4: early stopping\n"
     ]
    },
    {
     "data": {
      "text/html": [],
      "text/plain": [
       "<IPython.core.display.HTML object>"
      ]
     },
     "metadata": {},
     "output_type": "display_data"
    },
    {
     "name": "stdout",
     "output_type": "stream",
     "text": [
      "Better model found at epoch 0 with valid_loss value: 0.5368490815162659.\n",
      "        Net  Case-based Accuracy  Model-based Accuracy\n",
      "0   1100000             0.596644                   1.0\n",
      "1   1110010             0.721316                   1.0\n",
      "2   1100110             0.545379                   1.0\n",
      "3   1110100             0.668933                   1.0\n",
      "4   0001010             0.474091                   1.0\n",
      "5   0201000             0.502810                   1.0\n",
      "6   0010010             0.695801                   1.0\n",
      "7   1001100             0.538951                   1.0\n",
      "8   1001000             0.538182                   1.0\n",
      "9   0001000             0.506818                   1.0\n",
      "10  0100100             0.545575                   1.0\n",
      "11  1010100             0.567100                   1.0\n",
      "12  1001110             0.512632                   1.0\n",
      "13  0211110             0.538058                   1.0\n",
      "14  1101110             0.583351                   1.0\n",
      "15  1011000             0.732489                   1.0\n",
      "16  0111110             0.639773                   1.0\n",
      "17  1011100             0.619662                   1.0\n",
      "18  0210100             0.615856                   1.0\n",
      "19  0200000             0.536849                   1.0\n"
     ]
    },
    {
     "data": {
      "text/html": [
       "<table border=\"1\" class=\"dataframe\">\n",
       "  <thead>\n",
       "    <tr style=\"text-align: left;\">\n",
       "      <th>epoch</th>\n",
       "      <th>train_loss</th>\n",
       "      <th>valid_loss</th>\n",
       "      <th>accuracy</th>\n",
       "      <th>time</th>\n",
       "    </tr>\n",
       "  </thead>\n",
       "  <tbody>\n",
       "    <tr>\n",
       "      <td>0</td>\n",
       "      <td>2.684478</td>\n",
       "      <td>2.621763</td>\n",
       "      <td>0.427239</td>\n",
       "      <td>00:03</td>\n",
       "    </tr>\n",
       "    <tr>\n",
       "      <td>1</td>\n",
       "      <td>2.600409</td>\n",
       "      <td>2.559681</td>\n",
       "      <td>0.493470</td>\n",
       "      <td>00:03</td>\n",
       "    </tr>\n",
       "    <tr>\n",
       "      <td>2</td>\n",
       "      <td>2.543962</td>\n",
       "      <td>2.519899</td>\n",
       "      <td>0.517724</td>\n",
       "      <td>00:03</td>\n",
       "    </tr>\n",
       "    <tr>\n",
       "      <td>3</td>\n",
       "      <td>2.524686</td>\n",
       "      <td>2.502471</td>\n",
       "      <td>0.531716</td>\n",
       "      <td>00:03</td>\n",
       "    </tr>\n",
       "    <tr>\n",
       "      <td>4</td>\n",
       "      <td>2.503707</td>\n",
       "      <td>2.492531</td>\n",
       "      <td>0.541978</td>\n",
       "      <td>00:03</td>\n",
       "    </tr>\n",
       "    <tr>\n",
       "      <td>5</td>\n",
       "      <td>2.492764</td>\n",
       "      <td>2.501455</td>\n",
       "      <td>0.529851</td>\n",
       "      <td>00:03</td>\n",
       "    </tr>\n",
       "    <tr>\n",
       "      <td>6</td>\n",
       "      <td>2.490664</td>\n",
       "      <td>2.491142</td>\n",
       "      <td>0.540112</td>\n",
       "      <td>00:03</td>\n",
       "    </tr>\n",
       "    <tr>\n",
       "      <td>7</td>\n",
       "      <td>2.484521</td>\n",
       "      <td>2.486832</td>\n",
       "      <td>0.547575</td>\n",
       "      <td>00:03</td>\n",
       "    </tr>\n",
       "    <tr>\n",
       "      <td>8</td>\n",
       "      <td>2.470392</td>\n",
       "      <td>2.499779</td>\n",
       "      <td>0.532649</td>\n",
       "      <td>00:03</td>\n",
       "    </tr>\n",
       "    <tr>\n",
       "      <td>9</td>\n",
       "      <td>2.468161</td>\n",
       "      <td>2.492070</td>\n",
       "      <td>0.541045</td>\n",
       "      <td>00:03</td>\n",
       "    </tr>\n",
       "    <tr>\n",
       "      <td>10</td>\n",
       "      <td>2.460412</td>\n",
       "      <td>2.490272</td>\n",
       "      <td>0.542910</td>\n",
       "      <td>00:03</td>\n",
       "    </tr>\n",
       "  </tbody>\n",
       "</table>"
      ],
      "text/plain": [
       "<IPython.core.display.HTML object>"
      ]
     },
     "metadata": {},
     "output_type": "display_data"
    },
    {
     "name": "stdout",
     "output_type": "stream",
     "text": [
      "Better model found at epoch 0 with valid_loss value: 2.621763229370117.\n",
      "Better model found at epoch 1 with valid_loss value: 2.5596811771392822.\n",
      "Better model found at epoch 2 with valid_loss value: 2.5198986530303955.\n",
      "Better model found at epoch 3 with valid_loss value: 2.5024712085723877.\n",
      "Better model found at epoch 4 with valid_loss value: 2.4925308227539062.\n",
      "Better model found at epoch 6 with valid_loss value: 2.4911415576934814.\n",
      "Better model found at epoch 7 with valid_loss value: 2.4868321418762207.\n",
      "No improvement since epoch 7: early stopping\n"
     ]
    },
    {
     "data": {
      "text/html": [],
      "text/plain": [
       "<IPython.core.display.HTML object>"
      ]
     },
     "metadata": {},
     "output_type": "display_data"
    },
    {
     "name": "stdout",
     "output_type": "stream",
     "text": [
      "Better model found at epoch 0 with valid_loss value: 0.5397599339485168.\n",
      "        Net  Case-based Accuracy  Model-based Accuracy\n",
      "0   1100000             0.596644                   1.0\n",
      "1   1110010             0.721316                   1.0\n",
      "2   1100110             0.545379                   1.0\n",
      "3   1110100             0.668933                   1.0\n",
      "4   0001010             0.474091                   1.0\n",
      "5   0201000             0.502810                   1.0\n",
      "6   0010010             0.695801                   1.0\n",
      "7   1001100             0.538951                   1.0\n",
      "8   1001000             0.538182                   1.0\n",
      "9   0001000             0.506818                   1.0\n",
      "10  0100100             0.545575                   1.0\n",
      "11  1010100             0.567100                   1.0\n",
      "12  1001110             0.512632                   1.0\n",
      "13  0211110             0.538058                   1.0\n",
      "14  1101110             0.583351                   1.0\n",
      "15  1011000             0.732489                   1.0\n",
      "16  0111110             0.639773                   1.0\n",
      "17  1011100             0.619662                   1.0\n",
      "18  0210100             0.615856                   1.0\n",
      "19  0200000             0.536849                   1.0\n",
      "20  1000110             0.539760                   1.0\n"
     ]
    },
    {
     "data": {
      "text/html": [
       "<table border=\"1\" class=\"dataframe\">\n",
       "  <thead>\n",
       "    <tr style=\"text-align: left;\">\n",
       "      <th>epoch</th>\n",
       "      <th>train_loss</th>\n",
       "      <th>valid_loss</th>\n",
       "      <th>accuracy</th>\n",
       "      <th>time</th>\n",
       "    </tr>\n",
       "  </thead>\n",
       "  <tbody>\n",
       "    <tr>\n",
       "      <td>0</td>\n",
       "      <td>2.799999</td>\n",
       "      <td>2.746448</td>\n",
       "      <td>0.477174</td>\n",
       "      <td>00:05</td>\n",
       "    </tr>\n",
       "    <tr>\n",
       "      <td>1</td>\n",
       "      <td>2.699703</td>\n",
       "      <td>2.696026</td>\n",
       "      <td>0.518020</td>\n",
       "      <td>00:05</td>\n",
       "    </tr>\n",
       "    <tr>\n",
       "      <td>2</td>\n",
       "      <td>2.649043</td>\n",
       "      <td>2.654180</td>\n",
       "      <td>0.559827</td>\n",
       "      <td>00:05</td>\n",
       "    </tr>\n",
       "    <tr>\n",
       "      <td>3</td>\n",
       "      <td>2.640738</td>\n",
       "      <td>2.636531</td>\n",
       "      <td>0.572321</td>\n",
       "      <td>00:05</td>\n",
       "    </tr>\n",
       "    <tr>\n",
       "      <td>4</td>\n",
       "      <td>2.612664</td>\n",
       "      <td>2.629608</td>\n",
       "      <td>0.579529</td>\n",
       "      <td>00:05</td>\n",
       "    </tr>\n",
       "    <tr>\n",
       "      <td>5</td>\n",
       "      <td>2.623892</td>\n",
       "      <td>2.627511</td>\n",
       "      <td>0.582893</td>\n",
       "      <td>00:05</td>\n",
       "    </tr>\n",
       "    <tr>\n",
       "      <td>6</td>\n",
       "      <td>2.614732</td>\n",
       "      <td>2.626841</td>\n",
       "      <td>0.580490</td>\n",
       "      <td>00:05</td>\n",
       "    </tr>\n",
       "    <tr>\n",
       "      <td>7</td>\n",
       "      <td>2.617146</td>\n",
       "      <td>2.620251</td>\n",
       "      <td>0.588179</td>\n",
       "      <td>00:05</td>\n",
       "    </tr>\n",
       "    <tr>\n",
       "      <td>8</td>\n",
       "      <td>2.606794</td>\n",
       "      <td>2.623106</td>\n",
       "      <td>0.586257</td>\n",
       "      <td>00:05</td>\n",
       "    </tr>\n",
       "    <tr>\n",
       "      <td>9</td>\n",
       "      <td>2.603706</td>\n",
       "      <td>2.623436</td>\n",
       "      <td>0.580010</td>\n",
       "      <td>00:05</td>\n",
       "    </tr>\n",
       "    <tr>\n",
       "      <td>10</td>\n",
       "      <td>2.607212</td>\n",
       "      <td>2.622224</td>\n",
       "      <td>0.582412</td>\n",
       "      <td>00:05</td>\n",
       "    </tr>\n",
       "  </tbody>\n",
       "</table>"
      ],
      "text/plain": [
       "<IPython.core.display.HTML object>"
      ]
     },
     "metadata": {},
     "output_type": "display_data"
    },
    {
     "name": "stdout",
     "output_type": "stream",
     "text": [
      "Better model found at epoch 0 with valid_loss value: 2.746448278427124.\n",
      "Better model found at epoch 1 with valid_loss value: 2.69602632522583.\n",
      "Better model found at epoch 2 with valid_loss value: 2.654179573059082.\n",
      "Better model found at epoch 3 with valid_loss value: 2.636531114578247.\n",
      "Better model found at epoch 4 with valid_loss value: 2.629607677459717.\n",
      "Better model found at epoch 5 with valid_loss value: 2.6275112628936768.\n",
      "Better model found at epoch 6 with valid_loss value: 2.626840591430664.\n",
      "Better model found at epoch 7 with valid_loss value: 2.620251417160034.\n",
      "No improvement since epoch 7: early stopping\n"
     ]
    },
    {
     "data": {
      "text/html": [],
      "text/plain": [
       "<IPython.core.display.HTML object>"
      ]
     },
     "metadata": {},
     "output_type": "display_data"
    },
    {
     "name": "stdout",
     "output_type": "stream",
     "text": [
      "Better model found at epoch 0 with valid_loss value: 0.5950639843940735.\n",
      "        Net  Case-based Accuracy  Model-based Accuracy\n",
      "0   1100000             0.596644                   1.0\n",
      "1   1110010             0.721316                   1.0\n",
      "2   1100110             0.545379                   1.0\n",
      "3   1110100             0.668933                   1.0\n",
      "4   0001010             0.474091                   1.0\n",
      "5   0201000             0.502810                   1.0\n",
      "6   0010010             0.695801                   1.0\n",
      "7   1001100             0.538951                   1.0\n",
      "8   1001000             0.538182                   1.0\n",
      "9   0001000             0.506818                   1.0\n",
      "10  0100100             0.545575                   1.0\n",
      "11  1010100             0.567100                   1.0\n",
      "12  1001110             0.512632                   1.0\n",
      "13  0211110             0.538058                   1.0\n",
      "14  1101110             0.583351                   1.0\n",
      "15  1011000             0.732489                   1.0\n",
      "16  0111110             0.639773                   1.0\n",
      "17  1011100             0.619662                   1.0\n",
      "18  0210100             0.615856                   1.0\n",
      "19  0200000             0.536849                   1.0\n",
      "20  1000110             0.539760                   1.0\n",
      "21  0101010             0.595064                   1.0\n"
     ]
    },
    {
     "data": {
      "text/html": [
       "<table border=\"1\" class=\"dataframe\">\n",
       "  <thead>\n",
       "    <tr style=\"text-align: left;\">\n",
       "      <th>epoch</th>\n",
       "      <th>train_loss</th>\n",
       "      <th>valid_loss</th>\n",
       "      <th>accuracy</th>\n",
       "      <th>time</th>\n",
       "    </tr>\n",
       "  </thead>\n",
       "  <tbody>\n",
       "    <tr>\n",
       "      <td>0</td>\n",
       "      <td>3.139602</td>\n",
       "      <td>3.062238</td>\n",
       "      <td>0.502652</td>\n",
       "      <td>00:05</td>\n",
       "    </tr>\n",
       "    <tr>\n",
       "      <td>1</td>\n",
       "      <td>3.033788</td>\n",
       "      <td>3.007755</td>\n",
       "      <td>0.549794</td>\n",
       "      <td>00:05</td>\n",
       "    </tr>\n",
       "    <tr>\n",
       "      <td>2</td>\n",
       "      <td>2.968260</td>\n",
       "      <td>2.946048</td>\n",
       "      <td>0.606953</td>\n",
       "      <td>00:05</td>\n",
       "    </tr>\n",
       "    <tr>\n",
       "      <td>3</td>\n",
       "      <td>2.936943</td>\n",
       "      <td>2.924300</td>\n",
       "      <td>0.628757</td>\n",
       "      <td>00:05</td>\n",
       "    </tr>\n",
       "    <tr>\n",
       "      <td>4</td>\n",
       "      <td>2.930764</td>\n",
       "      <td>2.932748</td>\n",
       "      <td>0.618739</td>\n",
       "      <td>00:05</td>\n",
       "    </tr>\n",
       "    <tr>\n",
       "      <td>5</td>\n",
       "      <td>2.916313</td>\n",
       "      <td>2.928000</td>\n",
       "      <td>0.622864</td>\n",
       "      <td>00:05</td>\n",
       "    </tr>\n",
       "    <tr>\n",
       "      <td>6</td>\n",
       "      <td>2.929302</td>\n",
       "      <td>2.923992</td>\n",
       "      <td>0.624042</td>\n",
       "      <td>00:05</td>\n",
       "    </tr>\n",
       "  </tbody>\n",
       "</table>"
      ],
      "text/plain": [
       "<IPython.core.display.HTML object>"
      ]
     },
     "metadata": {},
     "output_type": "display_data"
    },
    {
     "name": "stdout",
     "output_type": "stream",
     "text": [
      "Better model found at epoch 0 with valid_loss value: 3.0622384548187256.\n",
      "Better model found at epoch 1 with valid_loss value: 3.0077550411224365.\n",
      "Better model found at epoch 2 with valid_loss value: 2.9460484981536865.\n",
      "Better model found at epoch 3 with valid_loss value: 2.924299955368042.\n",
      "No improvement since epoch 3: early stopping\n"
     ]
    },
    {
     "data": {
      "text/html": [],
      "text/plain": [
       "<IPython.core.display.HTML object>"
      ]
     },
     "metadata": {},
     "output_type": "display_data"
    },
    {
     "name": "stdout",
     "output_type": "stream",
     "text": [
      "Better model found at epoch 0 with valid_loss value: 0.6216088533401489.\n",
      "        Net  Case-based Accuracy  Model-based Accuracy\n",
      "0   1100000             0.596644                   1.0\n",
      "1   1110010             0.721316                   1.0\n",
      "2   1100110             0.545379                   1.0\n",
      "3   1110100             0.668933                   1.0\n",
      "4   0001010             0.474091                   1.0\n",
      "5   0201000             0.502810                   1.0\n",
      "6   0010010             0.695801                   1.0\n",
      "7   1001100             0.538951                   1.0\n",
      "8   1001000             0.538182                   1.0\n",
      "9   0001000             0.506818                   1.0\n",
      "10  0100100             0.545575                   1.0\n",
      "11  1010100             0.567100                   1.0\n",
      "12  1001110             0.512632                   1.0\n",
      "13  0211110             0.538058                   1.0\n",
      "14  1101110             0.583351                   1.0\n",
      "15  1011000             0.732489                   1.0\n",
      "16  0111110             0.639773                   1.0\n",
      "17  1011100             0.619662                   1.0\n",
      "18  0210100             0.615856                   1.0\n",
      "19  0200000             0.536849                   1.0\n",
      "20  1000110             0.539760                   1.0\n",
      "21  0101010             0.595064                   1.0\n",
      "22  0210110             0.621609                   1.0\n"
     ]
    },
    {
     "data": {
      "text/html": [
       "<table border=\"1\" class=\"dataframe\">\n",
       "  <thead>\n",
       "    <tr style=\"text-align: left;\">\n",
       "      <th>epoch</th>\n",
       "      <th>train_loss</th>\n",
       "      <th>valid_loss</th>\n",
       "      <th>accuracy</th>\n",
       "      <th>time</th>\n",
       "    </tr>\n",
       "  </thead>\n",
       "  <tbody>\n",
       "    <tr>\n",
       "      <td>0</td>\n",
       "      <td>3.100260</td>\n",
       "      <td>3.065472</td>\n",
       "      <td>0.508134</td>\n",
       "      <td>00:05</td>\n",
       "    </tr>\n",
       "    <tr>\n",
       "      <td>1</td>\n",
       "      <td>2.955803</td>\n",
       "      <td>2.960801</td>\n",
       "      <td>0.596529</td>\n",
       "      <td>00:05</td>\n",
       "    </tr>\n",
       "    <tr>\n",
       "      <td>2</td>\n",
       "      <td>2.920719</td>\n",
       "      <td>2.939176</td>\n",
       "      <td>0.613341</td>\n",
       "      <td>00:05</td>\n",
       "    </tr>\n",
       "    <tr>\n",
       "      <td>3</td>\n",
       "      <td>2.894817</td>\n",
       "      <td>2.920864</td>\n",
       "      <td>0.627440</td>\n",
       "      <td>00:05</td>\n",
       "    </tr>\n",
       "    <tr>\n",
       "      <td>4</td>\n",
       "      <td>2.882070</td>\n",
       "      <td>2.918365</td>\n",
       "      <td>0.631779</td>\n",
       "      <td>00:05</td>\n",
       "    </tr>\n",
       "    <tr>\n",
       "      <td>5</td>\n",
       "      <td>2.881890</td>\n",
       "      <td>2.918889</td>\n",
       "      <td>0.629067</td>\n",
       "      <td>00:05</td>\n",
       "    </tr>\n",
       "    <tr>\n",
       "      <td>6</td>\n",
       "      <td>2.880084</td>\n",
       "      <td>2.920793</td>\n",
       "      <td>0.626898</td>\n",
       "      <td>00:05</td>\n",
       "    </tr>\n",
       "  </tbody>\n",
       "</table>"
      ],
      "text/plain": [
       "<IPython.core.display.HTML object>"
      ]
     },
     "metadata": {},
     "output_type": "display_data"
    },
    {
     "name": "stdout",
     "output_type": "stream",
     "text": [
      "Better model found at epoch 0 with valid_loss value: 3.06547212600708.\n",
      "Better model found at epoch 1 with valid_loss value: 2.9608006477355957.\n",
      "Better model found at epoch 2 with valid_loss value: 2.939175605773926.\n",
      "Better model found at epoch 3 with valid_loss value: 2.9208641052246094.\n",
      "Better model found at epoch 4 with valid_loss value: 2.918365240097046.\n",
      "No improvement since epoch 3: early stopping\n"
     ]
    },
    {
     "data": {
      "text/html": [],
      "text/plain": [
       "<IPython.core.display.HTML object>"
      ]
     },
     "metadata": {},
     "output_type": "display_data"
    },
    {
     "name": "stdout",
     "output_type": "stream",
     "text": [
      "Better model found at epoch 0 with valid_loss value: 0.6619718074798584.\n",
      "        Net  Case-based Accuracy  Model-based Accuracy\n",
      "0   1100000             0.596644                   1.0\n",
      "1   1110010             0.721316                   1.0\n",
      "2   1100110             0.545379                   1.0\n",
      "3   1110100             0.668933                   1.0\n",
      "4   0001010             0.474091                   1.0\n",
      "5   0201000             0.502810                   1.0\n",
      "6   0010010             0.695801                   1.0\n",
      "7   1001100             0.538951                   1.0\n",
      "8   1001000             0.538182                   1.0\n",
      "9   0001000             0.506818                   1.0\n",
      "10  0100100             0.545575                   1.0\n",
      "11  1010100             0.567100                   1.0\n",
      "12  1001110             0.512632                   1.0\n",
      "13  0211110             0.538058                   1.0\n",
      "14  1101110             0.583351                   1.0\n",
      "15  1011000             0.732489                   1.0\n",
      "16  0111110             0.639773                   1.0\n",
      "17  1011100             0.619662                   1.0\n",
      "18  0210100             0.615856                   1.0\n",
      "19  0200000             0.536849                   1.0\n",
      "20  1000110             0.539760                   1.0\n",
      "21  0101010             0.595064                   1.0\n",
      "22  0210110             0.621609                   1.0\n",
      "23  1210110             0.661972                   1.0\n"
     ]
    },
    {
     "data": {
      "text/html": [
       "<table border=\"1\" class=\"dataframe\">\n",
       "  <thead>\n",
       "    <tr style=\"text-align: left;\">\n",
       "      <th>epoch</th>\n",
       "      <th>train_loss</th>\n",
       "      <th>valid_loss</th>\n",
       "      <th>accuracy</th>\n",
       "      <th>time</th>\n",
       "    </tr>\n",
       "  </thead>\n",
       "  <tbody>\n",
       "    <tr>\n",
       "      <td>0</td>\n",
       "      <td>2.850040</td>\n",
       "      <td>2.798986</td>\n",
       "      <td>0.497875</td>\n",
       "      <td>00:05</td>\n",
       "    </tr>\n",
       "    <tr>\n",
       "      <td>1</td>\n",
       "      <td>2.753888</td>\n",
       "      <td>2.755359</td>\n",
       "      <td>0.530662</td>\n",
       "      <td>00:05</td>\n",
       "    </tr>\n",
       "    <tr>\n",
       "      <td>2</td>\n",
       "      <td>2.714385</td>\n",
       "      <td>2.730791</td>\n",
       "      <td>0.556770</td>\n",
       "      <td>00:05</td>\n",
       "    </tr>\n",
       "    <tr>\n",
       "      <td>3</td>\n",
       "      <td>2.722141</td>\n",
       "      <td>2.731477</td>\n",
       "      <td>0.556770</td>\n",
       "      <td>00:05</td>\n",
       "    </tr>\n",
       "    <tr>\n",
       "      <td>4</td>\n",
       "      <td>2.715769</td>\n",
       "      <td>2.727231</td>\n",
       "      <td>0.557377</td>\n",
       "      <td>00:05</td>\n",
       "    </tr>\n",
       "    <tr>\n",
       "      <td>5</td>\n",
       "      <td>2.695427</td>\n",
       "      <td>2.714684</td>\n",
       "      <td>0.565877</td>\n",
       "      <td>00:05</td>\n",
       "    </tr>\n",
       "    <tr>\n",
       "      <td>6</td>\n",
       "      <td>2.697499</td>\n",
       "      <td>2.713928</td>\n",
       "      <td>0.571342</td>\n",
       "      <td>00:05</td>\n",
       "    </tr>\n",
       "    <tr>\n",
       "      <td>7</td>\n",
       "      <td>2.689183</td>\n",
       "      <td>2.713086</td>\n",
       "      <td>0.570735</td>\n",
       "      <td>00:05</td>\n",
       "    </tr>\n",
       "    <tr>\n",
       "      <td>8</td>\n",
       "      <td>2.685657</td>\n",
       "      <td>2.710320</td>\n",
       "      <td>0.578021</td>\n",
       "      <td>00:05</td>\n",
       "    </tr>\n",
       "  </tbody>\n",
       "</table>"
      ],
      "text/plain": [
       "<IPython.core.display.HTML object>"
      ]
     },
     "metadata": {},
     "output_type": "display_data"
    },
    {
     "name": "stdout",
     "output_type": "stream",
     "text": [
      "Better model found at epoch 0 with valid_loss value: 2.7989864349365234.\n",
      "Better model found at epoch 1 with valid_loss value: 2.755359172821045.\n",
      "Better model found at epoch 2 with valid_loss value: 2.730790615081787.\n",
      "Better model found at epoch 4 with valid_loss value: 2.7272307872772217.\n",
      "Better model found at epoch 5 with valid_loss value: 2.714684247970581.\n",
      "Better model found at epoch 6 with valid_loss value: 2.713927984237671.\n",
      "Better model found at epoch 7 with valid_loss value: 2.713085651397705.\n",
      "No improvement since epoch 5: early stopping\n"
     ]
    },
    {
     "data": {
      "text/html": [],
      "text/plain": [
       "<IPython.core.display.HTML object>"
      ]
     },
     "metadata": {},
     "output_type": "display_data"
    },
    {
     "name": "stdout",
     "output_type": "stream",
     "text": [
      "Better model found at epoch 0 with valid_loss value: 0.5829518437385559.\n",
      "        Net  Case-based Accuracy  Model-based Accuracy\n",
      "0   1100000             0.596644                   1.0\n",
      "1   1110010             0.721316                   1.0\n",
      "2   1100110             0.545379                   1.0\n",
      "3   1110100             0.668933                   1.0\n",
      "4   0001010             0.474091                   1.0\n",
      "5   0201000             0.502810                   1.0\n",
      "6   0010010             0.695801                   1.0\n",
      "7   1001100             0.538951                   1.0\n",
      "8   1001000             0.538182                   1.0\n",
      "9   0001000             0.506818                   1.0\n",
      "10  0100100             0.545575                   1.0\n",
      "11  1010100             0.567100                   1.0\n",
      "12  1001110             0.512632                   1.0\n",
      "13  0211110             0.538058                   1.0\n",
      "14  1101110             0.583351                   1.0\n",
      "15  1011000             0.732489                   1.0\n",
      "16  0111110             0.639773                   1.0\n",
      "17  1011100             0.619662                   1.0\n",
      "18  0210100             0.615856                   1.0\n",
      "19  0200000             0.536849                   1.0\n",
      "20  1000110             0.539760                   1.0\n",
      "21  0101010             0.595064                   1.0\n",
      "22  0210110             0.621609                   1.0\n",
      "23  1210110             0.661972                   1.0\n",
      "24  0211000             0.582952                   1.0\n"
     ]
    },
    {
     "data": {
      "text/html": [
       "<table border=\"1\" class=\"dataframe\">\n",
       "  <thead>\n",
       "    <tr style=\"text-align: left;\">\n",
       "      <th>epoch</th>\n",
       "      <th>train_loss</th>\n",
       "      <th>valid_loss</th>\n",
       "      <th>accuracy</th>\n",
       "      <th>time</th>\n",
       "    </tr>\n",
       "  </thead>\n",
       "  <tbody>\n",
       "    <tr>\n",
       "      <td>0</td>\n",
       "      <td>3.281441</td>\n",
       "      <td>3.270498</td>\n",
       "      <td>0.395391</td>\n",
       "      <td>00:05</td>\n",
       "    </tr>\n",
       "    <tr>\n",
       "      <td>1</td>\n",
       "      <td>3.162848</td>\n",
       "      <td>3.157566</td>\n",
       "      <td>0.502937</td>\n",
       "      <td>00:05</td>\n",
       "    </tr>\n",
       "    <tr>\n",
       "      <td>2</td>\n",
       "      <td>3.121721</td>\n",
       "      <td>3.128464</td>\n",
       "      <td>0.534117</td>\n",
       "      <td>00:05</td>\n",
       "    </tr>\n",
       "    <tr>\n",
       "      <td>3</td>\n",
       "      <td>3.104625</td>\n",
       "      <td>3.122607</td>\n",
       "      <td>0.536376</td>\n",
       "      <td>00:05</td>\n",
       "    </tr>\n",
       "    <tr>\n",
       "      <td>4</td>\n",
       "      <td>3.106213</td>\n",
       "      <td>3.119173</td>\n",
       "      <td>0.537732</td>\n",
       "      <td>00:05</td>\n",
       "    </tr>\n",
       "    <tr>\n",
       "      <td>5</td>\n",
       "      <td>3.117747</td>\n",
       "      <td>3.125863</td>\n",
       "      <td>0.531857</td>\n",
       "      <td>00:05</td>\n",
       "    </tr>\n",
       "    <tr>\n",
       "      <td>6</td>\n",
       "      <td>3.100991</td>\n",
       "      <td>3.121608</td>\n",
       "      <td>0.535924</td>\n",
       "      <td>00:05</td>\n",
       "    </tr>\n",
       "  </tbody>\n",
       "</table>"
      ],
      "text/plain": [
       "<IPython.core.display.HTML object>"
      ]
     },
     "metadata": {},
     "output_type": "display_data"
    },
    {
     "name": "stdout",
     "output_type": "stream",
     "text": [
      "Better model found at epoch 0 with valid_loss value: 3.2704977989196777.\n",
      "Better model found at epoch 1 with valid_loss value: 3.1575660705566406.\n",
      "Better model found at epoch 2 with valid_loss value: 3.1284642219543457.\n",
      "Better model found at epoch 3 with valid_loss value: 3.122607469558716.\n",
      "Better model found at epoch 4 with valid_loss value: 3.1191725730895996.\n",
      "No improvement since epoch 3: early stopping\n"
     ]
    },
    {
     "data": {
      "text/html": [],
      "text/plain": [
       "<IPython.core.display.HTML object>"
      ]
     },
     "metadata": {},
     "output_type": "display_data"
    },
    {
     "name": "stdout",
     "output_type": "stream",
     "text": [
      "Better model found at epoch 0 with valid_loss value: 0.5446194410324097.\n",
      "        Net  Case-based Accuracy  Model-based Accuracy\n",
      "0   1100000             0.596644                   1.0\n",
      "1   1110010             0.721316                   1.0\n",
      "2   1100110             0.545379                   1.0\n",
      "3   1110100             0.668933                   1.0\n",
      "4   0001010             0.474091                   1.0\n",
      "5   0201000             0.502810                   1.0\n",
      "6   0010010             0.695801                   1.0\n",
      "7   1001100             0.538951                   1.0\n",
      "8   1001000             0.538182                   1.0\n",
      "9   0001000             0.506818                   1.0\n",
      "10  0100100             0.545575                   1.0\n",
      "11  1010100             0.567100                   1.0\n",
      "12  1001110             0.512632                   1.0\n",
      "13  0211110             0.538058                   1.0\n",
      "14  1101110             0.583351                   1.0\n",
      "15  1011000             0.732489                   1.0\n",
      "16  0111110             0.639773                   1.0\n",
      "17  1011100             0.619662                   1.0\n",
      "18  0210100             0.615856                   1.0\n",
      "19  0200000             0.536849                   1.0\n",
      "20  1000110             0.539760                   1.0\n",
      "21  0101010             0.595064                   1.0\n",
      "22  0210110             0.621609                   1.0\n",
      "23  1210110             0.661972                   1.0\n",
      "24  0211000             0.582952                   1.0\n",
      "25  1200100             0.544619                   1.0\n"
     ]
    },
    {
     "data": {
      "text/html": [
       "<table border=\"1\" class=\"dataframe\">\n",
       "  <thead>\n",
       "    <tr style=\"text-align: left;\">\n",
       "      <th>epoch</th>\n",
       "      <th>train_loss</th>\n",
       "      <th>valid_loss</th>\n",
       "      <th>accuracy</th>\n",
       "      <th>time</th>\n",
       "    </tr>\n",
       "  </thead>\n",
       "  <tbody>\n",
       "    <tr>\n",
       "      <td>0</td>\n",
       "      <td>2.878604</td>\n",
       "      <td>2.863102</td>\n",
       "      <td>0.428641</td>\n",
       "      <td>00:05</td>\n",
       "    </tr>\n",
       "    <tr>\n",
       "      <td>1</td>\n",
       "      <td>2.786390</td>\n",
       "      <td>2.765937</td>\n",
       "      <td>0.543299</td>\n",
       "      <td>00:05</td>\n",
       "    </tr>\n",
       "    <tr>\n",
       "      <td>2</td>\n",
       "      <td>2.702049</td>\n",
       "      <td>2.703336</td>\n",
       "      <td>0.584906</td>\n",
       "      <td>00:05</td>\n",
       "    </tr>\n",
       "    <tr>\n",
       "      <td>3</td>\n",
       "      <td>2.689447</td>\n",
       "      <td>2.694653</td>\n",
       "      <td>0.594098</td>\n",
       "      <td>00:05</td>\n",
       "    </tr>\n",
       "    <tr>\n",
       "      <td>4</td>\n",
       "      <td>2.669300</td>\n",
       "      <td>2.664082</td>\n",
       "      <td>0.621190</td>\n",
       "      <td>00:05</td>\n",
       "    </tr>\n",
       "    <tr>\n",
       "      <td>5</td>\n",
       "      <td>2.665204</td>\n",
       "      <td>2.659898</td>\n",
       "      <td>0.624577</td>\n",
       "      <td>00:05</td>\n",
       "    </tr>\n",
       "    <tr>\n",
       "      <td>6</td>\n",
       "      <td>2.662029</td>\n",
       "      <td>2.657370</td>\n",
       "      <td>0.627963</td>\n",
       "      <td>00:05</td>\n",
       "    </tr>\n",
       "    <tr>\n",
       "      <td>7</td>\n",
       "      <td>2.665389</td>\n",
       "      <td>2.654310</td>\n",
       "      <td>0.629898</td>\n",
       "      <td>00:05</td>\n",
       "    </tr>\n",
       "    <tr>\n",
       "      <td>8</td>\n",
       "      <td>2.669738</td>\n",
       "      <td>2.653778</td>\n",
       "      <td>0.630382</td>\n",
       "      <td>00:05</td>\n",
       "    </tr>\n",
       "    <tr>\n",
       "      <td>9</td>\n",
       "      <td>2.661873</td>\n",
       "      <td>2.654478</td>\n",
       "      <td>0.630866</td>\n",
       "      <td>00:05</td>\n",
       "    </tr>\n",
       "  </tbody>\n",
       "</table>"
      ],
      "text/plain": [
       "<IPython.core.display.HTML object>"
      ]
     },
     "metadata": {},
     "output_type": "display_data"
    },
    {
     "name": "stdout",
     "output_type": "stream",
     "text": [
      "Better model found at epoch 0 with valid_loss value: 2.8631021976470947.\n",
      "Better model found at epoch 1 with valid_loss value: 2.765936851501465.\n",
      "Better model found at epoch 2 with valid_loss value: 2.703336477279663.\n",
      "Better model found at epoch 3 with valid_loss value: 2.694652557373047.\n",
      "Better model found at epoch 4 with valid_loss value: 2.6640822887420654.\n",
      "Better model found at epoch 5 with valid_loss value: 2.659897565841675.\n",
      "Better model found at epoch 6 with valid_loss value: 2.6573703289031982.\n",
      "Better model found at epoch 7 with valid_loss value: 2.6543095111846924.\n",
      "Better model found at epoch 8 with valid_loss value: 2.653777837753296.\n",
      "No improvement since epoch 6: early stopping\n"
     ]
    },
    {
     "data": {
      "text/html": [],
      "text/plain": [
       "<IPython.core.display.HTML object>"
      ]
     },
     "metadata": {},
     "output_type": "display_data"
    },
    {
     "name": "stdout",
     "output_type": "stream",
     "text": [
      "Better model found at epoch 0 with valid_loss value: 0.6208886504173279.\n",
      "        Net  Case-based Accuracy  Model-based Accuracy\n",
      "0   1100000             0.596644                   1.0\n",
      "1   1110010             0.721316                   1.0\n",
      "2   1100110             0.545379                   1.0\n",
      "3   1110100             0.668933                   1.0\n",
      "4   0001010             0.474091                   1.0\n",
      "5   0201000             0.502810                   1.0\n",
      "6   0010010             0.695801                   1.0\n",
      "7   1001100             0.538951                   1.0\n",
      "8   1001000             0.538182                   1.0\n",
      "9   0001000             0.506818                   1.0\n",
      "10  0100100             0.545575                   1.0\n",
      "11  1010100             0.567100                   1.0\n",
      "12  1001110             0.512632                   1.0\n",
      "13  0211110             0.538058                   1.0\n",
      "14  1101110             0.583351                   1.0\n",
      "15  1011000             0.732489                   1.0\n",
      "16  0111110             0.639773                   1.0\n",
      "17  1011100             0.619662                   1.0\n",
      "18  0210100             0.615856                   1.0\n",
      "19  0200000             0.536849                   1.0\n",
      "20  1000110             0.539760                   1.0\n",
      "21  0101010             0.595064                   1.0\n",
      "22  0210110             0.621609                   1.0\n",
      "23  1210110             0.661972                   1.0\n",
      "24  0211000             0.582952                   1.0\n",
      "25  1200100             0.544619                   1.0\n",
      "26  1101000             0.620889                   1.0\n"
     ]
    },
    {
     "data": {
      "text/html": [
       "<table border=\"1\" class=\"dataframe\">\n",
       "  <thead>\n",
       "    <tr style=\"text-align: left;\">\n",
       "      <th>epoch</th>\n",
       "      <th>train_loss</th>\n",
       "      <th>valid_loss</th>\n",
       "      <th>accuracy</th>\n",
       "      <th>time</th>\n",
       "    </tr>\n",
       "  </thead>\n",
       "  <tbody>\n",
       "    <tr>\n",
       "      <td>0</td>\n",
       "      <td>2.540592</td>\n",
       "      <td>2.466213</td>\n",
       "      <td>0.381818</td>\n",
       "      <td>00:02</td>\n",
       "    </tr>\n",
       "    <tr>\n",
       "      <td>1</td>\n",
       "      <td>2.426073</td>\n",
       "      <td>2.401260</td>\n",
       "      <td>0.420455</td>\n",
       "      <td>00:02</td>\n",
       "    </tr>\n",
       "    <tr>\n",
       "      <td>2</td>\n",
       "      <td>2.393665</td>\n",
       "      <td>2.397708</td>\n",
       "      <td>0.414773</td>\n",
       "      <td>00:02</td>\n",
       "    </tr>\n",
       "    <tr>\n",
       "      <td>3</td>\n",
       "      <td>2.365448</td>\n",
       "      <td>2.343121</td>\n",
       "      <td>0.477273</td>\n",
       "      <td>00:02</td>\n",
       "    </tr>\n",
       "    <tr>\n",
       "      <td>4</td>\n",
       "      <td>2.303455</td>\n",
       "      <td>2.276080</td>\n",
       "      <td>0.545455</td>\n",
       "      <td>00:02</td>\n",
       "    </tr>\n",
       "    <tr>\n",
       "      <td>5</td>\n",
       "      <td>2.274347</td>\n",
       "      <td>2.276840</td>\n",
       "      <td>0.546591</td>\n",
       "      <td>00:02</td>\n",
       "    </tr>\n",
       "    <tr>\n",
       "      <td>6</td>\n",
       "      <td>2.275237</td>\n",
       "      <td>2.269872</td>\n",
       "      <td>0.547727</td>\n",
       "      <td>00:02</td>\n",
       "    </tr>\n",
       "    <tr>\n",
       "      <td>7</td>\n",
       "      <td>2.272727</td>\n",
       "      <td>2.265804</td>\n",
       "      <td>0.553409</td>\n",
       "      <td>00:02</td>\n",
       "    </tr>\n",
       "    <tr>\n",
       "      <td>8</td>\n",
       "      <td>2.271345</td>\n",
       "      <td>2.260788</td>\n",
       "      <td>0.556818</td>\n",
       "      <td>00:02</td>\n",
       "    </tr>\n",
       "    <tr>\n",
       "      <td>9</td>\n",
       "      <td>2.271032</td>\n",
       "      <td>2.261130</td>\n",
       "      <td>0.559091</td>\n",
       "      <td>00:02</td>\n",
       "    </tr>\n",
       "    <tr>\n",
       "      <td>10</td>\n",
       "      <td>2.263914</td>\n",
       "      <td>2.259012</td>\n",
       "      <td>0.560227</td>\n",
       "      <td>00:02</td>\n",
       "    </tr>\n",
       "    <tr>\n",
       "      <td>11</td>\n",
       "      <td>2.250810</td>\n",
       "      <td>2.235883</td>\n",
       "      <td>0.584091</td>\n",
       "      <td>00:02</td>\n",
       "    </tr>\n",
       "    <tr>\n",
       "      <td>12</td>\n",
       "      <td>2.247936</td>\n",
       "      <td>2.240468</td>\n",
       "      <td>0.576136</td>\n",
       "      <td>00:02</td>\n",
       "    </tr>\n",
       "    <tr>\n",
       "      <td>13</td>\n",
       "      <td>2.246018</td>\n",
       "      <td>2.235947</td>\n",
       "      <td>0.582955</td>\n",
       "      <td>00:02</td>\n",
       "    </tr>\n",
       "    <tr>\n",
       "      <td>14</td>\n",
       "      <td>2.242125</td>\n",
       "      <td>2.240388</td>\n",
       "      <td>0.577273</td>\n",
       "      <td>00:02</td>\n",
       "    </tr>\n",
       "  </tbody>\n",
       "</table>"
      ],
      "text/plain": [
       "<IPython.core.display.HTML object>"
      ]
     },
     "metadata": {},
     "output_type": "display_data"
    },
    {
     "name": "stdout",
     "output_type": "stream",
     "text": [
      "Better model found at epoch 0 with valid_loss value: 2.466212511062622.\n",
      "Better model found at epoch 1 with valid_loss value: 2.401259660720825.\n",
      "Better model found at epoch 2 with valid_loss value: 2.3977084159851074.\n",
      "Better model found at epoch 3 with valid_loss value: 2.343120813369751.\n",
      "Better model found at epoch 4 with valid_loss value: 2.2760801315307617.\n",
      "Better model found at epoch 6 with valid_loss value: 2.269871950149536.\n",
      "Better model found at epoch 7 with valid_loss value: 2.265803813934326.\n",
      "Better model found at epoch 8 with valid_loss value: 2.2607877254486084.\n",
      "Better model found at epoch 10 with valid_loss value: 2.259011745452881.\n",
      "Better model found at epoch 11 with valid_loss value: 2.2358832359313965.\n",
      "No improvement since epoch 11: early stopping\n"
     ]
    },
    {
     "data": {
      "text/html": [],
      "text/plain": [
       "<IPython.core.display.HTML object>"
      ]
     },
     "metadata": {},
     "output_type": "display_data"
    },
    {
     "name": "stdout",
     "output_type": "stream",
     "text": [
      "Better model found at epoch 0 with valid_loss value: 0.5654545426368713.\n",
      "        Net  Case-based Accuracy  Model-based Accuracy\n",
      "0   1100000             0.596644                   1.0\n",
      "1   1110010             0.721316                   1.0\n",
      "2   1100110             0.545379                   1.0\n",
      "3   1110100             0.668933                   1.0\n",
      "4   0001010             0.474091                   1.0\n",
      "5   0201000             0.502810                   1.0\n",
      "6   0010010             0.695801                   1.0\n",
      "7   1001100             0.538951                   1.0\n",
      "8   1001000             0.538182                   1.0\n",
      "9   0001000             0.506818                   1.0\n",
      "10  0100100             0.545575                   1.0\n",
      "11  1010100             0.567100                   1.0\n",
      "12  1001110             0.512632                   1.0\n",
      "13  0211110             0.538058                   1.0\n",
      "14  1101110             0.583351                   1.0\n",
      "15  1011000             0.732489                   1.0\n",
      "16  0111110             0.639773                   1.0\n",
      "17  1011100             0.619662                   1.0\n",
      "18  0210100             0.615856                   1.0\n",
      "19  0200000             0.536849                   1.0\n",
      "20  1000110             0.539760                   1.0\n",
      "21  0101010             0.595064                   1.0\n",
      "22  0210110             0.621609                   1.0\n",
      "23  1210110             0.661972                   1.0\n",
      "24  0211000             0.582952                   1.0\n",
      "25  1200100             0.544619                   1.0\n",
      "26  1101000             0.620889                   1.0\n",
      "27  1001010             0.565455                   1.0\n"
     ]
    },
    {
     "data": {
      "text/html": [
       "<table border=\"1\" class=\"dataframe\">\n",
       "  <thead>\n",
       "    <tr style=\"text-align: left;\">\n",
       "      <th>epoch</th>\n",
       "      <th>train_loss</th>\n",
       "      <th>valid_loss</th>\n",
       "      <th>accuracy</th>\n",
       "      <th>time</th>\n",
       "    </tr>\n",
       "  </thead>\n",
       "  <tbody>\n",
       "    <tr>\n",
       "      <td>0</td>\n",
       "      <td>2.923957</td>\n",
       "      <td>2.879486</td>\n",
       "      <td>0.420440</td>\n",
       "      <td>00:06</td>\n",
       "    </tr>\n",
       "    <tr>\n",
       "      <td>1</td>\n",
       "      <td>2.787751</td>\n",
       "      <td>2.792288</td>\n",
       "      <td>0.495472</td>\n",
       "      <td>00:06</td>\n",
       "    </tr>\n",
       "    <tr>\n",
       "      <td>2</td>\n",
       "      <td>2.790052</td>\n",
       "      <td>2.789569</td>\n",
       "      <td>0.498060</td>\n",
       "      <td>00:06</td>\n",
       "    </tr>\n",
       "    <tr>\n",
       "      <td>3</td>\n",
       "      <td>2.784738</td>\n",
       "      <td>2.776190</td>\n",
       "      <td>0.509702</td>\n",
       "      <td>00:06</td>\n",
       "    </tr>\n",
       "    <tr>\n",
       "      <td>4</td>\n",
       "      <td>2.768382</td>\n",
       "      <td>2.780772</td>\n",
       "      <td>0.504097</td>\n",
       "      <td>00:06</td>\n",
       "    </tr>\n",
       "    <tr>\n",
       "      <td>5</td>\n",
       "      <td>2.760690</td>\n",
       "      <td>2.768818</td>\n",
       "      <td>0.517464</td>\n",
       "      <td>00:06</td>\n",
       "    </tr>\n",
       "    <tr>\n",
       "      <td>6</td>\n",
       "      <td>2.759647</td>\n",
       "      <td>2.761048</td>\n",
       "      <td>0.526089</td>\n",
       "      <td>00:06</td>\n",
       "    </tr>\n",
       "    <tr>\n",
       "      <td>7</td>\n",
       "      <td>2.754609</td>\n",
       "      <td>2.768197</td>\n",
       "      <td>0.517464</td>\n",
       "      <td>00:06</td>\n",
       "    </tr>\n",
       "    <tr>\n",
       "      <td>8</td>\n",
       "      <td>2.757748</td>\n",
       "      <td>2.764005</td>\n",
       "      <td>0.521345</td>\n",
       "      <td>00:06</td>\n",
       "    </tr>\n",
       "    <tr>\n",
       "      <td>9</td>\n",
       "      <td>2.746202</td>\n",
       "      <td>2.747235</td>\n",
       "      <td>0.539888</td>\n",
       "      <td>00:05</td>\n",
       "    </tr>\n",
       "    <tr>\n",
       "      <td>10</td>\n",
       "      <td>2.748214</td>\n",
       "      <td>2.747898</td>\n",
       "      <td>0.536869</td>\n",
       "      <td>00:06</td>\n",
       "    </tr>\n",
       "    <tr>\n",
       "      <td>11</td>\n",
       "      <td>2.762972</td>\n",
       "      <td>2.746898</td>\n",
       "      <td>0.537301</td>\n",
       "      <td>00:06</td>\n",
       "    </tr>\n",
       "    <tr>\n",
       "      <td>12</td>\n",
       "      <td>2.747231</td>\n",
       "      <td>2.735935</td>\n",
       "      <td>0.551962</td>\n",
       "      <td>00:06</td>\n",
       "    </tr>\n",
       "    <tr>\n",
       "      <td>13</td>\n",
       "      <td>2.744694</td>\n",
       "      <td>2.739161</td>\n",
       "      <td>0.548081</td>\n",
       "      <td>00:06</td>\n",
       "    </tr>\n",
       "    <tr>\n",
       "      <td>14</td>\n",
       "      <td>2.735802</td>\n",
       "      <td>2.735888</td>\n",
       "      <td>0.550237</td>\n",
       "      <td>00:06</td>\n",
       "    </tr>\n",
       "    <tr>\n",
       "      <td>15</td>\n",
       "      <td>2.728053</td>\n",
       "      <td>2.737236</td>\n",
       "      <td>0.549375</td>\n",
       "      <td>00:06</td>\n",
       "    </tr>\n",
       "  </tbody>\n",
       "</table>"
      ],
      "text/plain": [
       "<IPython.core.display.HTML object>"
      ]
     },
     "metadata": {},
     "output_type": "display_data"
    },
    {
     "name": "stdout",
     "output_type": "stream",
     "text": [
      "Better model found at epoch 0 with valid_loss value: 2.879486083984375.\n",
      "Better model found at epoch 1 with valid_loss value: 2.792287826538086.\n",
      "Better model found at epoch 2 with valid_loss value: 2.789569139480591.\n",
      "Better model found at epoch 3 with valid_loss value: 2.7761900424957275.\n",
      "Better model found at epoch 5 with valid_loss value: 2.7688183784484863.\n",
      "Better model found at epoch 6 with valid_loss value: 2.761047601699829.\n",
      "Better model found at epoch 9 with valid_loss value: 2.747234582901001.\n",
      "Better model found at epoch 11 with valid_loss value: 2.7468976974487305.\n",
      "Better model found at epoch 12 with valid_loss value: 2.7359354496002197.\n",
      "Better model found at epoch 14 with valid_loss value: 2.7358877658843994.\n",
      "No improvement since epoch 12: early stopping\n"
     ]
    },
    {
     "data": {
      "text/html": [],
      "text/plain": [
       "<IPython.core.display.HTML object>"
      ]
     },
     "metadata": {},
     "output_type": "display_data"
    },
    {
     "name": "stdout",
     "output_type": "stream",
     "text": [
      "Better model found at epoch 0 with valid_loss value: 0.5537603497505188.\n",
      "        Net  Case-based Accuracy  Model-based Accuracy\n",
      "0   1100000             0.596644                   1.0\n",
      "1   1110010             0.721316                   1.0\n",
      "2   1100110             0.545379                   1.0\n",
      "3   1110100             0.668933                   1.0\n",
      "4   0001010             0.474091                   1.0\n",
      "5   0201000             0.502810                   1.0\n",
      "6   0010010             0.695801                   1.0\n",
      "7   1001100             0.538951                   1.0\n",
      "8   1001000             0.538182                   1.0\n",
      "9   0001000             0.506818                   1.0\n",
      "10  0100100             0.545575                   1.0\n",
      "11  1010100             0.567100                   1.0\n",
      "12  1001110             0.512632                   1.0\n",
      "13  0211110             0.538058                   1.0\n",
      "14  1101110             0.583351                   1.0\n",
      "15  1011000             0.732489                   1.0\n",
      "16  0111110             0.639773                   1.0\n",
      "17  1011100             0.619662                   1.0\n",
      "18  0210100             0.615856                   1.0\n",
      "19  0200000             0.536849                   1.0\n",
      "20  1000110             0.539760                   1.0\n",
      "21  0101010             0.595064                   1.0\n",
      "22  0210110             0.621609                   1.0\n",
      "23  1210110             0.661972                   1.0\n",
      "24  0211000             0.582952                   1.0\n",
      "25  1200100             0.544619                   1.0\n",
      "26  1101000             0.620889                   1.0\n",
      "27  1001010             0.565455                   1.0\n",
      "28  1201100             0.553760                   1.0\n"
     ]
    },
    {
     "data": {
      "text/html": [
       "<table border=\"1\" class=\"dataframe\">\n",
       "  <thead>\n",
       "    <tr style=\"text-align: left;\">\n",
       "      <th>epoch</th>\n",
       "      <th>train_loss</th>\n",
       "      <th>valid_loss</th>\n",
       "      <th>accuracy</th>\n",
       "      <th>time</th>\n",
       "    </tr>\n",
       "  </thead>\n",
       "  <tbody>\n",
       "    <tr>\n",
       "      <td>0</td>\n",
       "      <td>2.916456</td>\n",
       "      <td>2.856380</td>\n",
       "      <td>0.452295</td>\n",
       "      <td>00:06</td>\n",
       "    </tr>\n",
       "    <tr>\n",
       "      <td>1</td>\n",
       "      <td>2.818747</td>\n",
       "      <td>2.792810</td>\n",
       "      <td>0.501800</td>\n",
       "      <td>00:06</td>\n",
       "    </tr>\n",
       "    <tr>\n",
       "      <td>2</td>\n",
       "      <td>2.796419</td>\n",
       "      <td>2.763615</td>\n",
       "      <td>0.523402</td>\n",
       "      <td>00:06</td>\n",
       "    </tr>\n",
       "    <tr>\n",
       "      <td>3</td>\n",
       "      <td>2.748721</td>\n",
       "      <td>2.726487</td>\n",
       "      <td>0.561656</td>\n",
       "      <td>00:06</td>\n",
       "    </tr>\n",
       "    <tr>\n",
       "      <td>4</td>\n",
       "      <td>2.737468</td>\n",
       "      <td>2.730342</td>\n",
       "      <td>0.557156</td>\n",
       "      <td>00:06</td>\n",
       "    </tr>\n",
       "    <tr>\n",
       "      <td>5</td>\n",
       "      <td>2.737008</td>\n",
       "      <td>2.729988</td>\n",
       "      <td>0.554905</td>\n",
       "      <td>00:06</td>\n",
       "    </tr>\n",
       "    <tr>\n",
       "      <td>6</td>\n",
       "      <td>2.738854</td>\n",
       "      <td>2.734128</td>\n",
       "      <td>0.547705</td>\n",
       "      <td>00:06</td>\n",
       "    </tr>\n",
       "  </tbody>\n",
       "</table>"
      ],
      "text/plain": [
       "<IPython.core.display.HTML object>"
      ]
     },
     "metadata": {},
     "output_type": "display_data"
    },
    {
     "name": "stdout",
     "output_type": "stream",
     "text": [
      "Better model found at epoch 0 with valid_loss value: 2.8563802242279053.\n",
      "Better model found at epoch 1 with valid_loss value: 2.7928102016448975.\n",
      "Better model found at epoch 2 with valid_loss value: 2.7636146545410156.\n",
      "Better model found at epoch 3 with valid_loss value: 2.726486921310425.\n",
      "No improvement since epoch 3: early stopping\n"
     ]
    },
    {
     "data": {
      "text/html": [],
      "text/plain": [
       "<IPython.core.display.HTML object>"
      ]
     },
     "metadata": {},
     "output_type": "display_data"
    },
    {
     "name": "stdout",
     "output_type": "stream",
     "text": [
      "Better model found at epoch 0 with valid_loss value: 0.5444049835205078.\n",
      "        Net  Case-based Accuracy  Model-based Accuracy\n",
      "0   1100000             0.596644                   1.0\n",
      "1   1110010             0.721316                   1.0\n",
      "2   1100110             0.545379                   1.0\n",
      "3   1110100             0.668933                   1.0\n",
      "4   0001010             0.474091                   1.0\n",
      "5   0201000             0.502810                   1.0\n",
      "6   0010010             0.695801                   1.0\n",
      "7   1001100             0.538951                   1.0\n",
      "8   1001000             0.538182                   1.0\n",
      "9   0001000             0.506818                   1.0\n",
      "10  0100100             0.545575                   1.0\n",
      "11  1010100             0.567100                   1.0\n",
      "12  1001110             0.512632                   1.0\n",
      "13  0211110             0.538058                   1.0\n",
      "14  1101110             0.583351                   1.0\n",
      "15  1011000             0.732489                   1.0\n",
      "16  0111110             0.639773                   1.0\n",
      "17  1011100             0.619662                   1.0\n",
      "18  0210100             0.615856                   1.0\n",
      "19  0200000             0.536849                   1.0\n",
      "20  1000110             0.539760                   1.0\n",
      "21  0101010             0.595064                   1.0\n",
      "22  0210110             0.621609                   1.0\n",
      "23  1210110             0.661972                   1.0\n",
      "24  0211000             0.582952                   1.0\n",
      "25  1200100             0.544619                   1.0\n",
      "26  1101000             0.620889                   1.0\n",
      "27  1001010             0.565455                   1.0\n",
      "28  1201100             0.553760                   1.0\n",
      "29  1201000             0.544405                   1.0\n"
     ]
    },
    {
     "data": {
      "text/html": [
       "<table border=\"1\" class=\"dataframe\">\n",
       "  <thead>\n",
       "    <tr style=\"text-align: left;\">\n",
       "      <th>epoch</th>\n",
       "      <th>train_loss</th>\n",
       "      <th>valid_loss</th>\n",
       "      <th>accuracy</th>\n",
       "      <th>time</th>\n",
       "    </tr>\n",
       "  </thead>\n",
       "  <tbody>\n",
       "    <tr>\n",
       "      <td>0</td>\n",
       "      <td>3.076183</td>\n",
       "      <td>3.048964</td>\n",
       "      <td>0.415801</td>\n",
       "      <td>00:06</td>\n",
       "    </tr>\n",
       "    <tr>\n",
       "      <td>1</td>\n",
       "      <td>2.989532</td>\n",
       "      <td>2.970838</td>\n",
       "      <td>0.492099</td>\n",
       "      <td>00:06</td>\n",
       "    </tr>\n",
       "    <tr>\n",
       "      <td>2</td>\n",
       "      <td>2.973305</td>\n",
       "      <td>2.953486</td>\n",
       "      <td>0.507449</td>\n",
       "      <td>00:06</td>\n",
       "    </tr>\n",
       "    <tr>\n",
       "      <td>3</td>\n",
       "      <td>2.942356</td>\n",
       "      <td>2.922923</td>\n",
       "      <td>0.538149</td>\n",
       "      <td>00:06</td>\n",
       "    </tr>\n",
       "    <tr>\n",
       "      <td>4</td>\n",
       "      <td>2.937675</td>\n",
       "      <td>2.920030</td>\n",
       "      <td>0.541761</td>\n",
       "      <td>00:06</td>\n",
       "    </tr>\n",
       "    <tr>\n",
       "      <td>5</td>\n",
       "      <td>2.926650</td>\n",
       "      <td>2.912219</td>\n",
       "      <td>0.545372</td>\n",
       "      <td>00:06</td>\n",
       "    </tr>\n",
       "    <tr>\n",
       "      <td>6</td>\n",
       "      <td>2.923299</td>\n",
       "      <td>2.904940</td>\n",
       "      <td>0.554402</td>\n",
       "      <td>00:06</td>\n",
       "    </tr>\n",
       "    <tr>\n",
       "      <td>7</td>\n",
       "      <td>2.925638</td>\n",
       "      <td>2.905233</td>\n",
       "      <td>0.555305</td>\n",
       "      <td>00:06</td>\n",
       "    </tr>\n",
       "    <tr>\n",
       "      <td>8</td>\n",
       "      <td>2.911434</td>\n",
       "      <td>2.904714</td>\n",
       "      <td>0.554853</td>\n",
       "      <td>00:06</td>\n",
       "    </tr>\n",
       "    <tr>\n",
       "      <td>9</td>\n",
       "      <td>2.916817</td>\n",
       "      <td>2.900541</td>\n",
       "      <td>0.560722</td>\n",
       "      <td>00:06</td>\n",
       "    </tr>\n",
       "  </tbody>\n",
       "</table>"
      ],
      "text/plain": [
       "<IPython.core.display.HTML object>"
      ]
     },
     "metadata": {},
     "output_type": "display_data"
    },
    {
     "name": "stdout",
     "output_type": "stream",
     "text": [
      "Better model found at epoch 0 with valid_loss value: 3.0489635467529297.\n",
      "Better model found at epoch 1 with valid_loss value: 2.9708375930786133.\n",
      "Better model found at epoch 2 with valid_loss value: 2.953486442565918.\n",
      "Better model found at epoch 3 with valid_loss value: 2.9229228496551514.\n",
      "Better model found at epoch 4 with valid_loss value: 2.920029878616333.\n",
      "Better model found at epoch 5 with valid_loss value: 2.912219285964966.\n",
      "Better model found at epoch 6 with valid_loss value: 2.904939889907837.\n",
      "Better model found at epoch 8 with valid_loss value: 2.9047141075134277.\n",
      "No improvement since epoch 6: early stopping\n"
     ]
    },
    {
     "data": {
      "text/html": [],
      "text/plain": [
       "<IPython.core.display.HTML object>"
      ]
     },
     "metadata": {},
     "output_type": "display_data"
    },
    {
     "name": "stdout",
     "output_type": "stream",
     "text": [
      "Better model found at epoch 0 with valid_loss value: 0.5412811636924744.\n",
      "        Net  Case-based Accuracy  Model-based Accuracy\n",
      "0   1100000             0.596644                   1.0\n",
      "1   1110010             0.721316                   1.0\n",
      "2   1100110             0.545379                   1.0\n",
      "3   1110100             0.668933                   1.0\n",
      "4   0001010             0.474091                   1.0\n",
      "5   0201000             0.502810                   1.0\n",
      "6   0010010             0.695801                   1.0\n",
      "7   1001100             0.538951                   1.0\n",
      "8   1001000             0.538182                   1.0\n",
      "9   0001000             0.506818                   1.0\n",
      "10  0100100             0.545575                   1.0\n",
      "11  1010100             0.567100                   1.0\n",
      "12  1001110             0.512632                   1.0\n",
      "13  0211110             0.538058                   1.0\n",
      "14  1101110             0.583351                   1.0\n",
      "15  1011000             0.732489                   1.0\n",
      "16  0111110             0.639773                   1.0\n",
      "17  1011100             0.619662                   1.0\n",
      "18  0210100             0.615856                   1.0\n",
      "19  0200000             0.536849                   1.0\n",
      "20  1000110             0.539760                   1.0\n",
      "21  0101010             0.595064                   1.0\n",
      "22  0210110             0.621609                   1.0\n",
      "23  1210110             0.661972                   1.0\n",
      "24  0211000             0.582952                   1.0\n",
      "25  1200100             0.544619                   1.0\n",
      "26  1101000             0.620889                   1.0\n",
      "27  1001010             0.565455                   1.0\n",
      "28  1201100             0.553760                   1.0\n",
      "29  1201000             0.544405                   1.0\n",
      "30  0100110             0.541281                   1.0\n"
     ]
    },
    {
     "data": {
      "text/html": [
       "<table border=\"1\" class=\"dataframe\">\n",
       "  <thead>\n",
       "    <tr style=\"text-align: left;\">\n",
       "      <th>epoch</th>\n",
       "      <th>train_loss</th>\n",
       "      <th>valid_loss</th>\n",
       "      <th>accuracy</th>\n",
       "      <th>time</th>\n",
       "    </tr>\n",
       "  </thead>\n",
       "  <tbody>\n",
       "    <tr>\n",
       "      <td>0</td>\n",
       "      <td>2.660015</td>\n",
       "      <td>2.483318</td>\n",
       "      <td>0.505455</td>\n",
       "      <td>00:02</td>\n",
       "    </tr>\n",
       "    <tr>\n",
       "      <td>1</td>\n",
       "      <td>2.467343</td>\n",
       "      <td>2.396680</td>\n",
       "      <td>0.530909</td>\n",
       "      <td>00:02</td>\n",
       "    </tr>\n",
       "    <tr>\n",
       "      <td>2</td>\n",
       "      <td>2.373591</td>\n",
       "      <td>2.290002</td>\n",
       "      <td>0.658182</td>\n",
       "      <td>00:02</td>\n",
       "    </tr>\n",
       "    <tr>\n",
       "      <td>3</td>\n",
       "      <td>2.318450</td>\n",
       "      <td>2.271800</td>\n",
       "      <td>0.660000</td>\n",
       "      <td>00:02</td>\n",
       "    </tr>\n",
       "    <tr>\n",
       "      <td>4</td>\n",
       "      <td>2.293661</td>\n",
       "      <td>2.271546</td>\n",
       "      <td>0.652727</td>\n",
       "      <td>00:02</td>\n",
       "    </tr>\n",
       "    <tr>\n",
       "      <td>5</td>\n",
       "      <td>2.280503</td>\n",
       "      <td>2.261383</td>\n",
       "      <td>0.660000</td>\n",
       "      <td>00:02</td>\n",
       "    </tr>\n",
       "    <tr>\n",
       "      <td>6</td>\n",
       "      <td>2.276535</td>\n",
       "      <td>2.256996</td>\n",
       "      <td>0.670909</td>\n",
       "      <td>00:02</td>\n",
       "    </tr>\n",
       "    <tr>\n",
       "      <td>7</td>\n",
       "      <td>2.270395</td>\n",
       "      <td>2.258127</td>\n",
       "      <td>0.669091</td>\n",
       "      <td>00:02</td>\n",
       "    </tr>\n",
       "    <tr>\n",
       "      <td>8</td>\n",
       "      <td>2.263402</td>\n",
       "      <td>2.260659</td>\n",
       "      <td>0.672727</td>\n",
       "      <td>00:02</td>\n",
       "    </tr>\n",
       "  </tbody>\n",
       "</table>"
      ],
      "text/plain": [
       "<IPython.core.display.HTML object>"
      ]
     },
     "metadata": {},
     "output_type": "display_data"
    },
    {
     "name": "stdout",
     "output_type": "stream",
     "text": [
      "Better model found at epoch 0 with valid_loss value: 2.4833176136016846.\n",
      "Better model found at epoch 1 with valid_loss value: 2.3966803550720215.\n",
      "Better model found at epoch 2 with valid_loss value: 2.2900021076202393.\n",
      "Better model found at epoch 3 with valid_loss value: 2.2718000411987305.\n",
      "Better model found at epoch 4 with valid_loss value: 2.271545648574829.\n",
      "Better model found at epoch 5 with valid_loss value: 2.261383056640625.\n",
      "Better model found at epoch 6 with valid_loss value: 2.2569963932037354.\n",
      "No improvement since epoch 5: early stopping\n"
     ]
    },
    {
     "data": {
      "text/html": [],
      "text/plain": [
       "<IPython.core.display.HTML object>"
      ]
     },
     "metadata": {},
     "output_type": "display_data"
    },
    {
     "name": "stdout",
     "output_type": "stream",
     "text": [
      "Better model found at epoch 0 with valid_loss value: 0.6598591804504395.\n",
      "        Net  Case-based Accuracy  Model-based Accuracy\n",
      "0   1100000             0.596644                   1.0\n",
      "1   1110010             0.721316                   1.0\n",
      "2   1100110             0.545379                   1.0\n",
      "3   1110100             0.668933                   1.0\n",
      "4   0001010             0.474091                   1.0\n",
      "5   0201000             0.502810                   1.0\n",
      "6   0010010             0.695801                   1.0\n",
      "7   1001100             0.538951                   1.0\n",
      "8   1001000             0.538182                   1.0\n",
      "9   0001000             0.506818                   1.0\n",
      "10  0100100             0.545575                   1.0\n",
      "11  1010100             0.567100                   1.0\n",
      "12  1001110             0.512632                   1.0\n",
      "13  0211110             0.538058                   1.0\n",
      "14  1101110             0.583351                   1.0\n",
      "15  1011000             0.732489                   1.0\n",
      "16  0111110             0.639773                   1.0\n",
      "17  1011100             0.619662                   1.0\n",
      "18  0210100             0.615856                   1.0\n",
      "19  0200000             0.536849                   1.0\n",
      "20  1000110             0.539760                   1.0\n",
      "21  0101010             0.595064                   1.0\n",
      "22  0210110             0.621609                   1.0\n",
      "23  1210110             0.661972                   1.0\n",
      "24  0211000             0.582952                   1.0\n",
      "25  1200100             0.544619                   1.0\n",
      "26  1101000             0.620889                   1.0\n",
      "27  1001010             0.565455                   1.0\n",
      "28  1201100             0.553760                   1.0\n",
      "29  1201000             0.544405                   1.0\n",
      "30  0100110             0.541281                   1.0\n",
      "31  0011000             0.659859                   1.0\n"
     ]
    },
    {
     "data": {
      "text/html": [
       "<table border=\"1\" class=\"dataframe\">\n",
       "  <thead>\n",
       "    <tr style=\"text-align: left;\">\n",
       "      <th>epoch</th>\n",
       "      <th>train_loss</th>\n",
       "      <th>valid_loss</th>\n",
       "      <th>accuracy</th>\n",
       "      <th>time</th>\n",
       "    </tr>\n",
       "  </thead>\n",
       "  <tbody>\n",
       "    <tr>\n",
       "      <td>0</td>\n",
       "      <td>3.359982</td>\n",
       "      <td>3.333660</td>\n",
       "      <td>0.323786</td>\n",
       "      <td>00:05</td>\n",
       "    </tr>\n",
       "    <tr>\n",
       "      <td>1</td>\n",
       "      <td>3.264400</td>\n",
       "      <td>3.242512</td>\n",
       "      <td>0.422816</td>\n",
       "      <td>00:05</td>\n",
       "    </tr>\n",
       "    <tr>\n",
       "      <td>2</td>\n",
       "      <td>3.215818</td>\n",
       "      <td>3.213906</td>\n",
       "      <td>0.442718</td>\n",
       "      <td>00:05</td>\n",
       "    </tr>\n",
       "    <tr>\n",
       "      <td>3</td>\n",
       "      <td>3.210855</td>\n",
       "      <td>3.203906</td>\n",
       "      <td>0.453883</td>\n",
       "      <td>00:05</td>\n",
       "    </tr>\n",
       "    <tr>\n",
       "      <td>4</td>\n",
       "      <td>3.162597</td>\n",
       "      <td>3.171755</td>\n",
       "      <td>0.488350</td>\n",
       "      <td>00:05</td>\n",
       "    </tr>\n",
       "    <tr>\n",
       "      <td>5</td>\n",
       "      <td>3.158463</td>\n",
       "      <td>3.168297</td>\n",
       "      <td>0.488350</td>\n",
       "      <td>00:05</td>\n",
       "    </tr>\n",
       "    <tr>\n",
       "      <td>6</td>\n",
       "      <td>3.161565</td>\n",
       "      <td>3.151606</td>\n",
       "      <td>0.507767</td>\n",
       "      <td>00:05</td>\n",
       "    </tr>\n",
       "    <tr>\n",
       "      <td>7</td>\n",
       "      <td>3.145779</td>\n",
       "      <td>3.154277</td>\n",
       "      <td>0.503883</td>\n",
       "      <td>00:05</td>\n",
       "    </tr>\n",
       "    <tr>\n",
       "      <td>8</td>\n",
       "      <td>3.149342</td>\n",
       "      <td>3.135544</td>\n",
       "      <td>0.522816</td>\n",
       "      <td>00:05</td>\n",
       "    </tr>\n",
       "    <tr>\n",
       "      <td>9</td>\n",
       "      <td>3.139163</td>\n",
       "      <td>3.131042</td>\n",
       "      <td>0.526214</td>\n",
       "      <td>00:05</td>\n",
       "    </tr>\n",
       "    <tr>\n",
       "      <td>10</td>\n",
       "      <td>3.130222</td>\n",
       "      <td>3.132890</td>\n",
       "      <td>0.524272</td>\n",
       "      <td>00:05</td>\n",
       "    </tr>\n",
       "    <tr>\n",
       "      <td>11</td>\n",
       "      <td>3.132873</td>\n",
       "      <td>3.130534</td>\n",
       "      <td>0.527184</td>\n",
       "      <td>00:05</td>\n",
       "    </tr>\n",
       "    <tr>\n",
       "      <td>12</td>\n",
       "      <td>3.135165</td>\n",
       "      <td>3.129595</td>\n",
       "      <td>0.527184</td>\n",
       "      <td>00:05</td>\n",
       "    </tr>\n",
       "    <tr>\n",
       "      <td>13</td>\n",
       "      <td>3.123993</td>\n",
       "      <td>3.122029</td>\n",
       "      <td>0.534951</td>\n",
       "      <td>00:05</td>\n",
       "    </tr>\n",
       "    <tr>\n",
       "      <td>14</td>\n",
       "      <td>3.127865</td>\n",
       "      <td>3.122726</td>\n",
       "      <td>0.533495</td>\n",
       "      <td>00:05</td>\n",
       "    </tr>\n",
       "    <tr>\n",
       "      <td>15</td>\n",
       "      <td>3.128469</td>\n",
       "      <td>3.119359</td>\n",
       "      <td>0.536408</td>\n",
       "      <td>00:05</td>\n",
       "    </tr>\n",
       "    <tr>\n",
       "      <td>16</td>\n",
       "      <td>3.124251</td>\n",
       "      <td>3.119774</td>\n",
       "      <td>0.536893</td>\n",
       "      <td>00:05</td>\n",
       "    </tr>\n",
       "  </tbody>\n",
       "</table>"
      ],
      "text/plain": [
       "<IPython.core.display.HTML object>"
      ]
     },
     "metadata": {},
     "output_type": "display_data"
    },
    {
     "name": "stdout",
     "output_type": "stream",
     "text": [
      "Better model found at epoch 0 with valid_loss value: 3.333660125732422.\n",
      "Better model found at epoch 1 with valid_loss value: 3.2425122261047363.\n",
      "Better model found at epoch 2 with valid_loss value: 3.2139058113098145.\n",
      "Better model found at epoch 3 with valid_loss value: 3.2039060592651367.\n",
      "Better model found at epoch 4 with valid_loss value: 3.171754837036133.\n",
      "Better model found at epoch 5 with valid_loss value: 3.168297052383423.\n",
      "Better model found at epoch 6 with valid_loss value: 3.1516060829162598.\n",
      "Better model found at epoch 8 with valid_loss value: 3.1355443000793457.\n",
      "Better model found at epoch 9 with valid_loss value: 3.131042242050171.\n",
      "Better model found at epoch 11 with valid_loss value: 3.1305336952209473.\n",
      "Better model found at epoch 12 with valid_loss value: 3.1295952796936035.\n",
      "Better model found at epoch 13 with valid_loss value: 3.1220288276672363.\n",
      "Better model found at epoch 15 with valid_loss value: 3.1193594932556152.\n",
      "No improvement since epoch 13: early stopping\n"
     ]
    },
    {
     "data": {
      "text/html": [],
      "text/plain": [
       "<IPython.core.display.HTML object>"
      ]
     },
     "metadata": {},
     "output_type": "display_data"
    },
    {
     "name": "stdout",
     "output_type": "stream",
     "text": [
      "Better model found at epoch 0 with valid_loss value: 0.5254948735237122.\n",
      "        Net  Case-based Accuracy  Model-based Accuracy\n",
      "0   1100000             0.596644                   1.0\n",
      "1   1110010             0.721316                   1.0\n",
      "2   1100110             0.545379                   1.0\n",
      "3   1110100             0.668933                   1.0\n",
      "4   0001010             0.474091                   1.0\n",
      "5   0201000             0.502810                   1.0\n",
      "6   0010010             0.695801                   1.0\n",
      "7   1001100             0.538951                   1.0\n",
      "8   1001000             0.538182                   1.0\n",
      "9   0001000             0.506818                   1.0\n",
      "10  0100100             0.545575                   1.0\n",
      "11  1010100             0.567100                   1.0\n",
      "12  1001110             0.512632                   1.0\n",
      "13  0211110             0.538058                   1.0\n",
      "14  1101110             0.583351                   1.0\n",
      "15  1011000             0.732489                   1.0\n",
      "16  0111110             0.639773                   1.0\n",
      "17  1011100             0.619662                   1.0\n",
      "18  0210100             0.615856                   1.0\n",
      "19  0200000             0.536849                   1.0\n",
      "20  1000110             0.539760                   1.0\n",
      "21  0101010             0.595064                   1.0\n",
      "22  0210110             0.621609                   1.0\n",
      "23  1210110             0.661972                   1.0\n",
      "24  0211000             0.582952                   1.0\n",
      "25  1200100             0.544619                   1.0\n",
      "26  1101000             0.620889                   1.0\n",
      "27  1001010             0.565455                   1.0\n",
      "28  1201100             0.553760                   1.0\n",
      "29  1201000             0.544405                   1.0\n",
      "30  0100110             0.541281                   1.0\n",
      "31  0011000             0.659859                   1.0\n",
      "32  0200100             0.525495                   1.0\n"
     ]
    },
    {
     "data": {
      "text/html": [
       "<table border=\"1\" class=\"dataframe\">\n",
       "  <thead>\n",
       "    <tr style=\"text-align: left;\">\n",
       "      <th>epoch</th>\n",
       "      <th>train_loss</th>\n",
       "      <th>valid_loss</th>\n",
       "      <th>accuracy</th>\n",
       "      <th>time</th>\n",
       "    </tr>\n",
       "  </thead>\n",
       "  <tbody>\n",
       "    <tr>\n",
       "      <td>0</td>\n",
       "      <td>2.561255</td>\n",
       "      <td>2.475404</td>\n",
       "      <td>0.375427</td>\n",
       "      <td>00:02</td>\n",
       "    </tr>\n",
       "    <tr>\n",
       "      <td>1</td>\n",
       "      <td>2.432320</td>\n",
       "      <td>2.373375</td>\n",
       "      <td>0.488055</td>\n",
       "      <td>00:02</td>\n",
       "    </tr>\n",
       "    <tr>\n",
       "      <td>2</td>\n",
       "      <td>2.295683</td>\n",
       "      <td>2.259022</td>\n",
       "      <td>0.564846</td>\n",
       "      <td>00:02</td>\n",
       "    </tr>\n",
       "    <tr>\n",
       "      <td>3</td>\n",
       "      <td>2.210966</td>\n",
       "      <td>2.221390</td>\n",
       "      <td>0.602389</td>\n",
       "      <td>00:02</td>\n",
       "    </tr>\n",
       "    <tr>\n",
       "      <td>4</td>\n",
       "      <td>2.170374</td>\n",
       "      <td>2.203462</td>\n",
       "      <td>0.617747</td>\n",
       "      <td>00:02</td>\n",
       "    </tr>\n",
       "    <tr>\n",
       "      <td>5</td>\n",
       "      <td>2.164442</td>\n",
       "      <td>2.202928</td>\n",
       "      <td>0.616041</td>\n",
       "      <td>00:02</td>\n",
       "    </tr>\n",
       "    <tr>\n",
       "      <td>6</td>\n",
       "      <td>2.154502</td>\n",
       "      <td>2.207555</td>\n",
       "      <td>0.614334</td>\n",
       "      <td>00:02</td>\n",
       "    </tr>\n",
       "    <tr>\n",
       "      <td>7</td>\n",
       "      <td>2.151658</td>\n",
       "      <td>2.200817</td>\n",
       "      <td>0.616041</td>\n",
       "      <td>00:02</td>\n",
       "    </tr>\n",
       "  </tbody>\n",
       "</table>"
      ],
      "text/plain": [
       "<IPython.core.display.HTML object>"
      ]
     },
     "metadata": {},
     "output_type": "display_data"
    },
    {
     "name": "stdout",
     "output_type": "stream",
     "text": [
      "Better model found at epoch 0 with valid_loss value: 2.4754042625427246.\n",
      "Better model found at epoch 1 with valid_loss value: 2.3733747005462646.\n",
      "Better model found at epoch 2 with valid_loss value: 2.2590222358703613.\n",
      "Better model found at epoch 3 with valid_loss value: 2.2213897705078125.\n",
      "Better model found at epoch 4 with valid_loss value: 2.2034621238708496.\n",
      "Better model found at epoch 5 with valid_loss value: 2.202928304672241.\n",
      "No improvement since epoch 4: early stopping\n"
     ]
    },
    {
     "data": {
      "text/html": [],
      "text/plain": [
       "<IPython.core.display.HTML object>"
      ]
     },
     "metadata": {},
     "output_type": "display_data"
    },
    {
     "name": "stdout",
     "output_type": "stream",
     "text": [
      "Better model found at epoch 0 with valid_loss value: 0.6354748606681824.\n",
      "        Net  Case-based Accuracy  Model-based Accuracy\n",
      "0   1100000             0.596644                   1.0\n",
      "1   1110010             0.721316                   1.0\n",
      "2   1100110             0.545379                   1.0\n",
      "3   1110100             0.668933                   1.0\n",
      "4   0001010             0.474091                   1.0\n",
      "5   0201000             0.502810                   1.0\n",
      "6   0010010             0.695801                   1.0\n",
      "7   1001100             0.538951                   1.0\n",
      "8   1001000             0.538182                   1.0\n",
      "9   0001000             0.506818                   1.0\n",
      "10  0100100             0.545575                   1.0\n",
      "11  1010100             0.567100                   1.0\n",
      "12  1001110             0.512632                   1.0\n",
      "13  0211110             0.538058                   1.0\n",
      "14  1101110             0.583351                   1.0\n",
      "15  1011000             0.732489                   1.0\n",
      "16  0111110             0.639773                   1.0\n",
      "17  1011100             0.619662                   1.0\n",
      "18  0210100             0.615856                   1.0\n",
      "19  0200000             0.536849                   1.0\n",
      "20  1000110             0.539760                   1.0\n",
      "21  0101010             0.595064                   1.0\n",
      "22  0210110             0.621609                   1.0\n",
      "23  1210110             0.661972                   1.0\n",
      "24  0211000             0.582952                   1.0\n",
      "25  1200100             0.544619                   1.0\n",
      "26  1101000             0.620889                   1.0\n",
      "27  1001010             0.565455                   1.0\n",
      "28  1201100             0.553760                   1.0\n",
      "29  1201000             0.544405                   1.0\n",
      "30  0100110             0.541281                   1.0\n",
      "31  0011000             0.659859                   1.0\n",
      "32  0200100             0.525495                   1.0\n",
      "33  0011010             0.635475                   1.0\n"
     ]
    },
    {
     "data": {
      "text/html": [
       "<table border=\"1\" class=\"dataframe\">\n",
       "  <thead>\n",
       "    <tr style=\"text-align: left;\">\n",
       "      <th>epoch</th>\n",
       "      <th>train_loss</th>\n",
       "      <th>valid_loss</th>\n",
       "      <th>accuracy</th>\n",
       "      <th>time</th>\n",
       "    </tr>\n",
       "  </thead>\n",
       "  <tbody>\n",
       "    <tr>\n",
       "      <td>0</td>\n",
       "      <td>2.735767</td>\n",
       "      <td>2.616524</td>\n",
       "      <td>0.448190</td>\n",
       "      <td>00:02</td>\n",
       "    </tr>\n",
       "    <tr>\n",
       "      <td>1</td>\n",
       "      <td>2.477107</td>\n",
       "      <td>2.407918</td>\n",
       "      <td>0.644195</td>\n",
       "      <td>00:02</td>\n",
       "    </tr>\n",
       "    <tr>\n",
       "      <td>2</td>\n",
       "      <td>2.391492</td>\n",
       "      <td>2.384670</td>\n",
       "      <td>0.650437</td>\n",
       "      <td>00:02</td>\n",
       "    </tr>\n",
       "    <tr>\n",
       "      <td>3</td>\n",
       "      <td>2.375318</td>\n",
       "      <td>2.376835</td>\n",
       "      <td>0.655431</td>\n",
       "      <td>00:02</td>\n",
       "    </tr>\n",
       "    <tr>\n",
       "      <td>4</td>\n",
       "      <td>2.349770</td>\n",
       "      <td>2.345606</td>\n",
       "      <td>0.699126</td>\n",
       "      <td>00:02</td>\n",
       "    </tr>\n",
       "    <tr>\n",
       "      <td>5</td>\n",
       "      <td>2.328990</td>\n",
       "      <td>2.330220</td>\n",
       "      <td>0.705368</td>\n",
       "      <td>00:02</td>\n",
       "    </tr>\n",
       "    <tr>\n",
       "      <td>6</td>\n",
       "      <td>2.308990</td>\n",
       "      <td>2.326529</td>\n",
       "      <td>0.704120</td>\n",
       "      <td>00:02</td>\n",
       "    </tr>\n",
       "    <tr>\n",
       "      <td>7</td>\n",
       "      <td>2.307794</td>\n",
       "      <td>2.322644</td>\n",
       "      <td>0.709114</td>\n",
       "      <td>00:02</td>\n",
       "    </tr>\n",
       "    <tr>\n",
       "      <td>8</td>\n",
       "      <td>2.295615</td>\n",
       "      <td>2.321737</td>\n",
       "      <td>0.705368</td>\n",
       "      <td>00:02</td>\n",
       "    </tr>\n",
       "    <tr>\n",
       "      <td>9</td>\n",
       "      <td>2.303836</td>\n",
       "      <td>2.322592</td>\n",
       "      <td>0.704120</td>\n",
       "      <td>00:02</td>\n",
       "    </tr>\n",
       "    <tr>\n",
       "      <td>10</td>\n",
       "      <td>2.302380</td>\n",
       "      <td>2.321806</td>\n",
       "      <td>0.704120</td>\n",
       "      <td>00:02</td>\n",
       "    </tr>\n",
       "  </tbody>\n",
       "</table>"
      ],
      "text/plain": [
       "<IPython.core.display.HTML object>"
      ]
     },
     "metadata": {},
     "output_type": "display_data"
    },
    {
     "name": "stdout",
     "output_type": "stream",
     "text": [
      "Better model found at epoch 0 with valid_loss value: 2.6165237426757812.\n",
      "Better model found at epoch 1 with valid_loss value: 2.4079182147979736.\n",
      "Better model found at epoch 2 with valid_loss value: 2.3846702575683594.\n",
      "Better model found at epoch 3 with valid_loss value: 2.3768351078033447.\n",
      "Better model found at epoch 4 with valid_loss value: 2.3456060886383057.\n",
      "Better model found at epoch 5 with valid_loss value: 2.3302202224731445.\n",
      "Better model found at epoch 6 with valid_loss value: 2.326529026031494.\n",
      "Better model found at epoch 7 with valid_loss value: 2.322643995285034.\n",
      "Better model found at epoch 8 with valid_loss value: 2.321737289428711.\n",
      "No improvement since epoch 7: early stopping\n"
     ]
    },
    {
     "data": {
      "text/html": [],
      "text/plain": [
       "<IPython.core.display.HTML object>"
      ]
     },
     "metadata": {},
     "output_type": "display_data"
    },
    {
     "name": "stdout",
     "output_type": "stream",
     "text": [
      "Better model found at epoch 0 with valid_loss value: 0.7072243094444275.\n",
      "        Net  Case-based Accuracy  Model-based Accuracy\n",
      "0   1100000             0.596644                   1.0\n",
      "1   1110010             0.721316                   1.0\n",
      "2   1100110             0.545379                   1.0\n",
      "3   1110100             0.668933                   1.0\n",
      "4   0001010             0.474091                   1.0\n",
      "5   0201000             0.502810                   1.0\n",
      "6   0010010             0.695801                   1.0\n",
      "7   1001100             0.538951                   1.0\n",
      "8   1001000             0.538182                   1.0\n",
      "9   0001000             0.506818                   1.0\n",
      "10  0100100             0.545575                   1.0\n",
      "11  1010100             0.567100                   1.0\n",
      "12  1001110             0.512632                   1.0\n",
      "13  0211110             0.538058                   1.0\n",
      "14  1101110             0.583351                   1.0\n",
      "15  1011000             0.732489                   1.0\n",
      "16  0111110             0.639773                   1.0\n",
      "17  1011100             0.619662                   1.0\n",
      "18  0210100             0.615856                   1.0\n",
      "19  0200000             0.536849                   1.0\n",
      "20  1000110             0.539760                   1.0\n",
      "21  0101010             0.595064                   1.0\n",
      "22  0210110             0.621609                   1.0\n",
      "23  1210110             0.661972                   1.0\n",
      "24  0211000             0.582952                   1.0\n",
      "25  1200100             0.544619                   1.0\n",
      "26  1101000             0.620889                   1.0\n",
      "27  1001010             0.565455                   1.0\n",
      "28  1201100             0.553760                   1.0\n",
      "29  1201000             0.544405                   1.0\n",
      "30  0100110             0.541281                   1.0\n",
      "31  0011000             0.659859                   1.0\n",
      "32  0200100             0.525495                   1.0\n",
      "33  0011010             0.635475                   1.0\n",
      "34  1010010             0.707224                   1.0\n"
     ]
    },
    {
     "data": {
      "text/html": [
       "<table border=\"1\" class=\"dataframe\">\n",
       "  <thead>\n",
       "    <tr style=\"text-align: left;\">\n",
       "      <th>epoch</th>\n",
       "      <th>train_loss</th>\n",
       "      <th>valid_loss</th>\n",
       "      <th>accuracy</th>\n",
       "      <th>time</th>\n",
       "    </tr>\n",
       "  </thead>\n",
       "  <tbody>\n",
       "    <tr>\n",
       "      <td>0</td>\n",
       "      <td>3.038460</td>\n",
       "      <td>2.985674</td>\n",
       "      <td>0.481088</td>\n",
       "      <td>00:05</td>\n",
       "    </tr>\n",
       "    <tr>\n",
       "      <td>1</td>\n",
       "      <td>2.951410</td>\n",
       "      <td>2.911969</td>\n",
       "      <td>0.550763</td>\n",
       "      <td>00:05</td>\n",
       "    </tr>\n",
       "    <tr>\n",
       "      <td>2</td>\n",
       "      <td>2.888252</td>\n",
       "      <td>2.866796</td>\n",
       "      <td>0.593895</td>\n",
       "      <td>00:05</td>\n",
       "    </tr>\n",
       "    <tr>\n",
       "      <td>3</td>\n",
       "      <td>2.876162</td>\n",
       "      <td>2.864782</td>\n",
       "      <td>0.594559</td>\n",
       "      <td>00:05</td>\n",
       "    </tr>\n",
       "    <tr>\n",
       "      <td>4</td>\n",
       "      <td>2.845689</td>\n",
       "      <td>2.825361</td>\n",
       "      <td>0.635700</td>\n",
       "      <td>00:05</td>\n",
       "    </tr>\n",
       "    <tr>\n",
       "      <td>5</td>\n",
       "      <td>2.839872</td>\n",
       "      <td>2.820026</td>\n",
       "      <td>0.636364</td>\n",
       "      <td>00:05</td>\n",
       "    </tr>\n",
       "    <tr>\n",
       "      <td>6</td>\n",
       "      <td>2.828856</td>\n",
       "      <td>2.821035</td>\n",
       "      <td>0.636364</td>\n",
       "      <td>00:05</td>\n",
       "    </tr>\n",
       "    <tr>\n",
       "      <td>7</td>\n",
       "      <td>2.816006</td>\n",
       "      <td>2.805751</td>\n",
       "      <td>0.654280</td>\n",
       "      <td>00:04</td>\n",
       "    </tr>\n",
       "    <tr>\n",
       "      <td>8</td>\n",
       "      <td>2.810564</td>\n",
       "      <td>2.797491</td>\n",
       "      <td>0.666224</td>\n",
       "      <td>00:05</td>\n",
       "    </tr>\n",
       "    <tr>\n",
       "      <td>9</td>\n",
       "      <td>2.800722</td>\n",
       "      <td>2.795188</td>\n",
       "      <td>0.662243</td>\n",
       "      <td>00:05</td>\n",
       "    </tr>\n",
       "    <tr>\n",
       "      <td>10</td>\n",
       "      <td>2.792963</td>\n",
       "      <td>2.796394</td>\n",
       "      <td>0.661579</td>\n",
       "      <td>00:04</td>\n",
       "    </tr>\n",
       "    <tr>\n",
       "      <td>11</td>\n",
       "      <td>2.806399</td>\n",
       "      <td>2.795326</td>\n",
       "      <td>0.662243</td>\n",
       "      <td>00:05</td>\n",
       "    </tr>\n",
       "  </tbody>\n",
       "</table>"
      ],
      "text/plain": [
       "<IPython.core.display.HTML object>"
      ]
     },
     "metadata": {},
     "output_type": "display_data"
    },
    {
     "name": "stdout",
     "output_type": "stream",
     "text": [
      "Better model found at epoch 0 with valid_loss value: 2.9856739044189453.\n",
      "Better model found at epoch 1 with valid_loss value: 2.9119694232940674.\n",
      "Better model found at epoch 2 with valid_loss value: 2.866795539855957.\n",
      "Better model found at epoch 3 with valid_loss value: 2.8647823333740234.\n",
      "Better model found at epoch 4 with valid_loss value: 2.825361490249634.\n",
      "Better model found at epoch 5 with valid_loss value: 2.820026397705078.\n",
      "Better model found at epoch 7 with valid_loss value: 2.805750846862793.\n",
      "Better model found at epoch 8 with valid_loss value: 2.7974908351898193.\n",
      "Better model found at epoch 9 with valid_loss value: 2.7951879501342773.\n",
      "No improvement since epoch 8: early stopping\n"
     ]
    },
    {
     "data": {
      "text/html": [],
      "text/plain": [
       "<IPython.core.display.HTML object>"
      ]
     },
     "metadata": {},
     "output_type": "display_data"
    },
    {
     "name": "stdout",
     "output_type": "stream",
     "text": [
      "Better model found at epoch 0 with valid_loss value: 0.658088207244873.\n",
      "        Net  Case-based Accuracy  Model-based Accuracy\n",
      "0   1100000             0.596644                   1.0\n",
      "1   1110010             0.721316                   1.0\n",
      "2   1100110             0.545379                   1.0\n",
      "3   1110100             0.668933                   1.0\n",
      "4   0001010             0.474091                   1.0\n",
      "5   0201000             0.502810                   1.0\n",
      "6   0010010             0.695801                   1.0\n",
      "7   1001100             0.538951                   1.0\n",
      "8   1001000             0.538182                   1.0\n",
      "9   0001000             0.506818                   1.0\n",
      "10  0100100             0.545575                   1.0\n",
      "11  1010100             0.567100                   1.0\n",
      "12  1001110             0.512632                   1.0\n",
      "13  0211110             0.538058                   1.0\n",
      "14  1101110             0.583351                   1.0\n",
      "15  1011000             0.732489                   1.0\n",
      "16  0111110             0.639773                   1.0\n",
      "17  1011100             0.619662                   1.0\n",
      "18  0210100             0.615856                   1.0\n",
      "19  0200000             0.536849                   1.0\n",
      "20  1000110             0.539760                   1.0\n",
      "21  0101010             0.595064                   1.0\n",
      "22  0210110             0.621609                   1.0\n",
      "23  1210110             0.661972                   1.0\n",
      "24  0211000             0.582952                   1.0\n",
      "25  1200100             0.544619                   1.0\n",
      "26  1101000             0.620889                   1.0\n",
      "27  1001010             0.565455                   1.0\n",
      "28  1201100             0.553760                   1.0\n",
      "29  1201000             0.544405                   1.0\n",
      "30  0100110             0.541281                   1.0\n",
      "31  0011000             0.659859                   1.0\n",
      "32  0200100             0.525495                   1.0\n",
      "33  0011010             0.635475                   1.0\n",
      "34  1010010             0.707224                   1.0\n",
      "35  0110110             0.658088                   1.0\n"
     ]
    },
    {
     "data": {
      "text/html": [
       "<table border=\"1\" class=\"dataframe\">\n",
       "  <thead>\n",
       "    <tr style=\"text-align: left;\">\n",
       "      <th>epoch</th>\n",
       "      <th>train_loss</th>\n",
       "      <th>valid_loss</th>\n",
       "      <th>accuracy</th>\n",
       "      <th>time</th>\n",
       "    </tr>\n",
       "  </thead>\n",
       "  <tbody>\n",
       "    <tr>\n",
       "      <td>0</td>\n",
       "      <td>2.918857</td>\n",
       "      <td>2.890028</td>\n",
       "      <td>0.403759</td>\n",
       "      <td>00:05</td>\n",
       "    </tr>\n",
       "    <tr>\n",
       "      <td>1</td>\n",
       "      <td>2.806118</td>\n",
       "      <td>2.786951</td>\n",
       "      <td>0.499028</td>\n",
       "      <td>00:05</td>\n",
       "    </tr>\n",
       "    <tr>\n",
       "      <td>2</td>\n",
       "      <td>2.775913</td>\n",
       "      <td>2.784100</td>\n",
       "      <td>0.502268</td>\n",
       "      <td>00:05</td>\n",
       "    </tr>\n",
       "    <tr>\n",
       "      <td>3</td>\n",
       "      <td>2.740732</td>\n",
       "      <td>2.748447</td>\n",
       "      <td>0.541154</td>\n",
       "      <td>00:05</td>\n",
       "    </tr>\n",
       "    <tr>\n",
       "      <td>4</td>\n",
       "      <td>2.731453</td>\n",
       "      <td>2.737506</td>\n",
       "      <td>0.548931</td>\n",
       "      <td>00:05</td>\n",
       "    </tr>\n",
       "    <tr>\n",
       "      <td>5</td>\n",
       "      <td>2.729429</td>\n",
       "      <td>2.732001</td>\n",
       "      <td>0.554763</td>\n",
       "      <td>00:05</td>\n",
       "    </tr>\n",
       "    <tr>\n",
       "      <td>6</td>\n",
       "      <td>2.723471</td>\n",
       "      <td>2.730567</td>\n",
       "      <td>0.556060</td>\n",
       "      <td>00:05</td>\n",
       "    </tr>\n",
       "    <tr>\n",
       "      <td>7</td>\n",
       "      <td>2.725475</td>\n",
       "      <td>2.727802</td>\n",
       "      <td>0.560596</td>\n",
       "      <td>00:05</td>\n",
       "    </tr>\n",
       "    <tr>\n",
       "      <td>8</td>\n",
       "      <td>2.719658</td>\n",
       "      <td>2.725050</td>\n",
       "      <td>0.562541</td>\n",
       "      <td>00:05</td>\n",
       "    </tr>\n",
       "    <tr>\n",
       "      <td>9</td>\n",
       "      <td>2.716261</td>\n",
       "      <td>2.721633</td>\n",
       "      <td>0.563837</td>\n",
       "      <td>00:05</td>\n",
       "    </tr>\n",
       "    <tr>\n",
       "      <td>10</td>\n",
       "      <td>2.723277</td>\n",
       "      <td>2.722711</td>\n",
       "      <td>0.564485</td>\n",
       "      <td>00:05</td>\n",
       "    </tr>\n",
       "    <tr>\n",
       "      <td>11</td>\n",
       "      <td>2.716583</td>\n",
       "      <td>2.724726</td>\n",
       "      <td>0.562541</td>\n",
       "      <td>00:05</td>\n",
       "    </tr>\n",
       "  </tbody>\n",
       "</table>"
      ],
      "text/plain": [
       "<IPython.core.display.HTML object>"
      ]
     },
     "metadata": {},
     "output_type": "display_data"
    },
    {
     "name": "stdout",
     "output_type": "stream",
     "text": [
      "Better model found at epoch 0 with valid_loss value: 2.8900275230407715.\n",
      "Better model found at epoch 1 with valid_loss value: 2.7869505882263184.\n",
      "Better model found at epoch 2 with valid_loss value: 2.784100294113159.\n",
      "Better model found at epoch 3 with valid_loss value: 2.7484469413757324.\n",
      "Better model found at epoch 4 with valid_loss value: 2.7375056743621826.\n",
      "Better model found at epoch 5 with valid_loss value: 2.7320010662078857.\n",
      "Better model found at epoch 6 with valid_loss value: 2.7305667400360107.\n",
      "Better model found at epoch 7 with valid_loss value: 2.727802038192749.\n",
      "Better model found at epoch 8 with valid_loss value: 2.7250499725341797.\n",
      "Better model found at epoch 9 with valid_loss value: 2.7216334342956543.\n",
      "No improvement since epoch 8: early stopping\n"
     ]
    },
    {
     "data": {
      "text/html": [],
      "text/plain": [
       "<IPython.core.display.HTML object>"
      ]
     },
     "metadata": {},
     "output_type": "display_data"
    },
    {
     "name": "stdout",
     "output_type": "stream",
     "text": [
      "Better model found at epoch 0 with valid_loss value: 0.5583637356758118.\n",
      "        Net  Case-based Accuracy  Model-based Accuracy\n",
      "0   1100000             0.596644                   1.0\n",
      "1   1110010             0.721316                   1.0\n",
      "2   1100110             0.545379                   1.0\n",
      "3   1110100             0.668933                   1.0\n",
      "4   0001010             0.474091                   1.0\n",
      "5   0201000             0.502810                   1.0\n",
      "6   0010010             0.695801                   1.0\n",
      "7   1001100             0.538951                   1.0\n",
      "8   1001000             0.538182                   1.0\n",
      "9   0001000             0.506818                   1.0\n",
      "10  0100100             0.545575                   1.0\n",
      "11  1010100             0.567100                   1.0\n",
      "12  1001110             0.512632                   1.0\n",
      "13  0211110             0.538058                   1.0\n",
      "14  1101110             0.583351                   1.0\n",
      "15  1011000             0.732489                   1.0\n",
      "16  0111110             0.639773                   1.0\n",
      "17  1011100             0.619662                   1.0\n",
      "18  0210100             0.615856                   1.0\n",
      "19  0200000             0.536849                   1.0\n",
      "20  1000110             0.539760                   1.0\n",
      "21  0101010             0.595064                   1.0\n",
      "22  0210110             0.621609                   1.0\n",
      "23  1210110             0.661972                   1.0\n",
      "24  0211000             0.582952                   1.0\n",
      "25  1200100             0.544619                   1.0\n",
      "26  1101000             0.620889                   1.0\n",
      "27  1001010             0.565455                   1.0\n",
      "28  1201100             0.553760                   1.0\n",
      "29  1201000             0.544405                   1.0\n",
      "30  0100110             0.541281                   1.0\n",
      "31  0011000             0.659859                   1.0\n",
      "32  0200100             0.525495                   1.0\n",
      "33  0011010             0.635475                   1.0\n",
      "34  1010010             0.707224                   1.0\n",
      "35  0110110             0.658088                   1.0\n",
      "36  0211100             0.558364                   1.0\n"
     ]
    },
    {
     "data": {
      "text/html": [
       "<table border=\"1\" class=\"dataframe\">\n",
       "  <thead>\n",
       "    <tr style=\"text-align: left;\">\n",
       "      <th>epoch</th>\n",
       "      <th>train_loss</th>\n",
       "      <th>valid_loss</th>\n",
       "      <th>accuracy</th>\n",
       "      <th>time</th>\n",
       "    </tr>\n",
       "  </thead>\n",
       "  <tbody>\n",
       "    <tr>\n",
       "      <td>0</td>\n",
       "      <td>3.029322</td>\n",
       "      <td>2.928247</td>\n",
       "      <td>0.551887</td>\n",
       "      <td>00:05</td>\n",
       "    </tr>\n",
       "    <tr>\n",
       "      <td>1</td>\n",
       "      <td>2.861646</td>\n",
       "      <td>2.844608</td>\n",
       "      <td>0.617925</td>\n",
       "      <td>00:05</td>\n",
       "    </tr>\n",
       "    <tr>\n",
       "      <td>2</td>\n",
       "      <td>2.848538</td>\n",
       "      <td>2.834900</td>\n",
       "      <td>0.625337</td>\n",
       "      <td>00:05</td>\n",
       "    </tr>\n",
       "    <tr>\n",
       "      <td>3</td>\n",
       "      <td>2.834080</td>\n",
       "      <td>2.803564</td>\n",
       "      <td>0.656334</td>\n",
       "      <td>00:05</td>\n",
       "    </tr>\n",
       "    <tr>\n",
       "      <td>4</td>\n",
       "      <td>2.812456</td>\n",
       "      <td>2.794754</td>\n",
       "      <td>0.667116</td>\n",
       "      <td>00:05</td>\n",
       "    </tr>\n",
       "    <tr>\n",
       "      <td>5</td>\n",
       "      <td>2.788960</td>\n",
       "      <td>2.773134</td>\n",
       "      <td>0.685984</td>\n",
       "      <td>00:05</td>\n",
       "    </tr>\n",
       "    <tr>\n",
       "      <td>6</td>\n",
       "      <td>2.780954</td>\n",
       "      <td>2.767061</td>\n",
       "      <td>0.692048</td>\n",
       "      <td>00:05</td>\n",
       "    </tr>\n",
       "    <tr>\n",
       "      <td>7</td>\n",
       "      <td>2.781704</td>\n",
       "      <td>2.769983</td>\n",
       "      <td>0.690027</td>\n",
       "      <td>00:05</td>\n",
       "    </tr>\n",
       "    <tr>\n",
       "      <td>8</td>\n",
       "      <td>2.774895</td>\n",
       "      <td>2.763544</td>\n",
       "      <td>0.695418</td>\n",
       "      <td>00:05</td>\n",
       "    </tr>\n",
       "    <tr>\n",
       "      <td>9</td>\n",
       "      <td>2.777485</td>\n",
       "      <td>2.765396</td>\n",
       "      <td>0.692048</td>\n",
       "      <td>00:05</td>\n",
       "    </tr>\n",
       "  </tbody>\n",
       "</table>"
      ],
      "text/plain": [
       "<IPython.core.display.HTML object>"
      ]
     },
     "metadata": {},
     "output_type": "display_data"
    },
    {
     "name": "stdout",
     "output_type": "stream",
     "text": [
      "Better model found at epoch 0 with valid_loss value: 2.9282474517822266.\n",
      "Better model found at epoch 1 with valid_loss value: 2.8446080684661865.\n",
      "Better model found at epoch 2 with valid_loss value: 2.834899663925171.\n",
      "Better model found at epoch 3 with valid_loss value: 2.8035638332366943.\n",
      "Better model found at epoch 4 with valid_loss value: 2.7947537899017334.\n",
      "Better model found at epoch 5 with valid_loss value: 2.773134231567383.\n",
      "Better model found at epoch 6 with valid_loss value: 2.7670609951019287.\n",
      "Better model found at epoch 8 with valid_loss value: 2.7635443210601807.\n",
      "No improvement since epoch 6: early stopping\n"
     ]
    },
    {
     "data": {
      "text/html": [],
      "text/plain": [
       "<IPython.core.display.HTML object>"
      ]
     },
     "metadata": {},
     "output_type": "display_data"
    },
    {
     "name": "stdout",
     "output_type": "stream",
     "text": [
      "Better model found at epoch 0 with valid_loss value: 0.6748591661453247.\n",
      "        Net  Case-based Accuracy  Model-based Accuracy\n",
      "0   1100000             0.596644                   1.0\n",
      "1   1110010             0.721316                   1.0\n",
      "2   1100110             0.545379                   1.0\n",
      "3   1110100             0.668933                   1.0\n",
      "4   0001010             0.474091                   1.0\n",
      "5   0201000             0.502810                   1.0\n",
      "6   0010010             0.695801                   1.0\n",
      "7   1001100             0.538951                   1.0\n",
      "8   1001000             0.538182                   1.0\n",
      "9   0001000             0.506818                   1.0\n",
      "10  0100100             0.545575                   1.0\n",
      "11  1010100             0.567100                   1.0\n",
      "12  1001110             0.512632                   1.0\n",
      "13  0211110             0.538058                   1.0\n",
      "14  1101110             0.583351                   1.0\n",
      "15  1011000             0.732489                   1.0\n",
      "16  0111110             0.639773                   1.0\n",
      "17  1011100             0.619662                   1.0\n",
      "18  0210100             0.615856                   1.0\n",
      "19  0200000             0.536849                   1.0\n",
      "20  1000110             0.539760                   1.0\n",
      "21  0101010             0.595064                   1.0\n",
      "22  0210110             0.621609                   1.0\n",
      "23  1210110             0.661972                   1.0\n",
      "24  0211000             0.582952                   1.0\n",
      "25  1200100             0.544619                   1.0\n",
      "26  1101000             0.620889                   1.0\n",
      "27  1001010             0.565455                   1.0\n",
      "28  1201100             0.553760                   1.0\n",
      "29  1201000             0.544405                   1.0\n",
      "30  0100110             0.541281                   1.0\n",
      "31  0011000             0.659859                   1.0\n",
      "32  0200100             0.525495                   1.0\n",
      "33  0011010             0.635475                   1.0\n",
      "34  1010010             0.707224                   1.0\n",
      "35  0110110             0.658088                   1.0\n",
      "36  0211100             0.558364                   1.0\n",
      "37  1110110             0.674859                   1.0\n"
     ]
    },
    {
     "data": {
      "text/html": [
       "<table border=\"1\" class=\"dataframe\">\n",
       "  <thead>\n",
       "    <tr style=\"text-align: left;\">\n",
       "      <th>epoch</th>\n",
       "      <th>train_loss</th>\n",
       "      <th>valid_loss</th>\n",
       "      <th>accuracy</th>\n",
       "      <th>time</th>\n",
       "    </tr>\n",
       "  </thead>\n",
       "  <tbody>\n",
       "    <tr>\n",
       "      <td>0</td>\n",
       "      <td>2.875347</td>\n",
       "      <td>2.846077</td>\n",
       "      <td>0.447947</td>\n",
       "      <td>00:05</td>\n",
       "    </tr>\n",
       "    <tr>\n",
       "      <td>1</td>\n",
       "      <td>2.778073</td>\n",
       "      <td>2.777921</td>\n",
       "      <td>0.511939</td>\n",
       "      <td>00:05</td>\n",
       "    </tr>\n",
       "    <tr>\n",
       "      <td>2</td>\n",
       "      <td>2.768058</td>\n",
       "      <td>2.764333</td>\n",
       "      <td>0.520535</td>\n",
       "      <td>00:05</td>\n",
       "    </tr>\n",
       "    <tr>\n",
       "      <td>3</td>\n",
       "      <td>2.758870</td>\n",
       "      <td>2.763554</td>\n",
       "      <td>0.522445</td>\n",
       "      <td>00:05</td>\n",
       "    </tr>\n",
       "    <tr>\n",
       "      <td>4</td>\n",
       "      <td>2.760761</td>\n",
       "      <td>2.760469</td>\n",
       "      <td>0.525788</td>\n",
       "      <td>00:05</td>\n",
       "    </tr>\n",
       "    <tr>\n",
       "      <td>5</td>\n",
       "      <td>2.749680</td>\n",
       "      <td>2.750462</td>\n",
       "      <td>0.536294</td>\n",
       "      <td>00:05</td>\n",
       "    </tr>\n",
       "    <tr>\n",
       "      <td>6</td>\n",
       "      <td>2.754278</td>\n",
       "      <td>2.745725</td>\n",
       "      <td>0.540115</td>\n",
       "      <td>00:05</td>\n",
       "    </tr>\n",
       "    <tr>\n",
       "      <td>7</td>\n",
       "      <td>2.739413</td>\n",
       "      <td>2.746139</td>\n",
       "      <td>0.537249</td>\n",
       "      <td>00:05</td>\n",
       "    </tr>\n",
       "    <tr>\n",
       "      <td>8</td>\n",
       "      <td>2.745944</td>\n",
       "      <td>2.744999</td>\n",
       "      <td>0.537249</td>\n",
       "      <td>00:05</td>\n",
       "    </tr>\n",
       "    <tr>\n",
       "      <td>9</td>\n",
       "      <td>2.743805</td>\n",
       "      <td>2.740491</td>\n",
       "      <td>0.543935</td>\n",
       "      <td>00:05</td>\n",
       "    </tr>\n",
       "    <tr>\n",
       "      <td>10</td>\n",
       "      <td>2.740722</td>\n",
       "      <td>2.744593</td>\n",
       "      <td>0.538204</td>\n",
       "      <td>00:05</td>\n",
       "    </tr>\n",
       "    <tr>\n",
       "      <td>11</td>\n",
       "      <td>2.734804</td>\n",
       "      <td>2.746026</td>\n",
       "      <td>0.536294</td>\n",
       "      <td>00:05</td>\n",
       "    </tr>\n",
       "  </tbody>\n",
       "</table>"
      ],
      "text/plain": [
       "<IPython.core.display.HTML object>"
      ]
     },
     "metadata": {},
     "output_type": "display_data"
    },
    {
     "name": "stdout",
     "output_type": "stream",
     "text": [
      "Better model found at epoch 0 with valid_loss value: 2.8460769653320312.\n",
      "Better model found at epoch 1 with valid_loss value: 2.777921438217163.\n",
      "Better model found at epoch 2 with valid_loss value: 2.7643327713012695.\n",
      "Better model found at epoch 3 with valid_loss value: 2.763554096221924.\n",
      "Better model found at epoch 4 with valid_loss value: 2.7604687213897705.\n",
      "Better model found at epoch 5 with valid_loss value: 2.750462293624878.\n",
      "Better model found at epoch 6 with valid_loss value: 2.745725154876709.\n",
      "Better model found at epoch 8 with valid_loss value: 2.7449986934661865.\n",
      "Better model found at epoch 9 with valid_loss value: 2.7404909133911133.\n",
      "No improvement since epoch 8: early stopping\n"
     ]
    },
    {
     "data": {
      "text/html": [],
      "text/plain": [
       "<IPython.core.display.HTML object>"
      ]
     },
     "metadata": {},
     "output_type": "display_data"
    },
    {
     "name": "stdout",
     "output_type": "stream",
     "text": [
      "Better model found at epoch 0 with valid_loss value: 0.5492985844612122.\n",
      "        Net  Case-based Accuracy  Model-based Accuracy\n",
      "0   1100000             0.596644                   1.0\n",
      "1   1110010             0.721316                   1.0\n",
      "2   1100110             0.545379                   1.0\n",
      "3   1110100             0.668933                   1.0\n",
      "4   0001010             0.474091                   1.0\n",
      "5   0201000             0.502810                   1.0\n",
      "6   0010010             0.695801                   1.0\n",
      "7   1001100             0.538951                   1.0\n",
      "8   1001000             0.538182                   1.0\n",
      "9   0001000             0.506818                   1.0\n",
      "10  0100100             0.545575                   1.0\n",
      "11  1010100             0.567100                   1.0\n",
      "12  1001110             0.512632                   1.0\n",
      "13  0211110             0.538058                   1.0\n",
      "14  1101110             0.583351                   1.0\n",
      "15  1011000             0.732489                   1.0\n",
      "16  0111110             0.639773                   1.0\n",
      "17  1011100             0.619662                   1.0\n",
      "18  0210100             0.615856                   1.0\n",
      "19  0200000             0.536849                   1.0\n",
      "20  1000110             0.539760                   1.0\n",
      "21  0101010             0.595064                   1.0\n",
      "22  0210110             0.621609                   1.0\n",
      "23  1210110             0.661972                   1.0\n",
      "24  0211000             0.582952                   1.0\n",
      "25  1200100             0.544619                   1.0\n",
      "26  1101000             0.620889                   1.0\n",
      "27  1001010             0.565455                   1.0\n",
      "28  1201100             0.553760                   1.0\n",
      "29  1201000             0.544405                   1.0\n",
      "30  0100110             0.541281                   1.0\n",
      "31  0011000             0.659859                   1.0\n",
      "32  0200100             0.525495                   1.0\n",
      "33  0011010             0.635475                   1.0\n",
      "34  1010010             0.707224                   1.0\n",
      "35  0110110             0.658088                   1.0\n",
      "36  0211100             0.558364                   1.0\n",
      "37  1110110             0.674859                   1.0\n",
      "38  0101100             0.549299                   1.0\n"
     ]
    },
    {
     "data": {
      "text/html": [
       "<table border=\"1\" class=\"dataframe\">\n",
       "  <thead>\n",
       "    <tr style=\"text-align: left;\">\n",
       "      <th>epoch</th>\n",
       "      <th>train_loss</th>\n",
       "      <th>valid_loss</th>\n",
       "      <th>accuracy</th>\n",
       "      <th>time</th>\n",
       "    </tr>\n",
       "  </thead>\n",
       "  <tbody>\n",
       "    <tr>\n",
       "      <td>0</td>\n",
       "      <td>2.882309</td>\n",
       "      <td>2.841188</td>\n",
       "      <td>0.368666</td>\n",
       "      <td>00:05</td>\n",
       "    </tr>\n",
       "    <tr>\n",
       "      <td>1</td>\n",
       "      <td>2.769943</td>\n",
       "      <td>2.774675</td>\n",
       "      <td>0.429162</td>\n",
       "      <td>00:05</td>\n",
       "    </tr>\n",
       "    <tr>\n",
       "      <td>2</td>\n",
       "      <td>2.662213</td>\n",
       "      <td>2.688376</td>\n",
       "      <td>0.519648</td>\n",
       "      <td>00:05</td>\n",
       "    </tr>\n",
       "    <tr>\n",
       "      <td>3</td>\n",
       "      <td>2.660773</td>\n",
       "      <td>2.682213</td>\n",
       "      <td>0.525336</td>\n",
       "      <td>00:05</td>\n",
       "    </tr>\n",
       "    <tr>\n",
       "      <td>4</td>\n",
       "      <td>2.635406</td>\n",
       "      <td>2.648432</td>\n",
       "      <td>0.562048</td>\n",
       "      <td>00:05</td>\n",
       "    </tr>\n",
       "    <tr>\n",
       "      <td>5</td>\n",
       "      <td>2.628011</td>\n",
       "      <td>2.644777</td>\n",
       "      <td>0.563599</td>\n",
       "      <td>00:05</td>\n",
       "    </tr>\n",
       "    <tr>\n",
       "      <td>6</td>\n",
       "      <td>2.621029</td>\n",
       "      <td>2.645867</td>\n",
       "      <td>0.562048</td>\n",
       "      <td>00:05</td>\n",
       "    </tr>\n",
       "    <tr>\n",
       "      <td>7</td>\n",
       "      <td>2.612365</td>\n",
       "      <td>2.642713</td>\n",
       "      <td>0.564116</td>\n",
       "      <td>00:05</td>\n",
       "    </tr>\n",
       "    <tr>\n",
       "      <td>8</td>\n",
       "      <td>2.592836</td>\n",
       "      <td>2.628335</td>\n",
       "      <td>0.580662</td>\n",
       "      <td>00:05</td>\n",
       "    </tr>\n",
       "    <tr>\n",
       "      <td>9</td>\n",
       "      <td>2.590402</td>\n",
       "      <td>2.628147</td>\n",
       "      <td>0.579628</td>\n",
       "      <td>00:05</td>\n",
       "    </tr>\n",
       "    <tr>\n",
       "      <td>10</td>\n",
       "      <td>2.574775</td>\n",
       "      <td>2.600332</td>\n",
       "      <td>0.610651</td>\n",
       "      <td>00:05</td>\n",
       "    </tr>\n",
       "    <tr>\n",
       "      <td>11</td>\n",
       "      <td>2.569159</td>\n",
       "      <td>2.601837</td>\n",
       "      <td>0.605998</td>\n",
       "      <td>00:05</td>\n",
       "    </tr>\n",
       "    <tr>\n",
       "      <td>12</td>\n",
       "      <td>2.570004</td>\n",
       "      <td>2.596137</td>\n",
       "      <td>0.610134</td>\n",
       "      <td>00:05</td>\n",
       "    </tr>\n",
       "    <tr>\n",
       "      <td>13</td>\n",
       "      <td>2.569943</td>\n",
       "      <td>2.595767</td>\n",
       "      <td>0.612720</td>\n",
       "      <td>00:05</td>\n",
       "    </tr>\n",
       "  </tbody>\n",
       "</table>"
      ],
      "text/plain": [
       "<IPython.core.display.HTML object>"
      ]
     },
     "metadata": {},
     "output_type": "display_data"
    },
    {
     "name": "stdout",
     "output_type": "stream",
     "text": [
      "Better model found at epoch 0 with valid_loss value: 2.841188430786133.\n",
      "Better model found at epoch 1 with valid_loss value: 2.774674892425537.\n",
      "Better model found at epoch 2 with valid_loss value: 2.68837571144104.\n",
      "Better model found at epoch 3 with valid_loss value: 2.6822128295898438.\n",
      "Better model found at epoch 4 with valid_loss value: 2.6484315395355225.\n",
      "Better model found at epoch 5 with valid_loss value: 2.6447770595550537.\n",
      "Better model found at epoch 7 with valid_loss value: 2.6427128314971924.\n",
      "Better model found at epoch 8 with valid_loss value: 2.6283352375030518.\n",
      "Better model found at epoch 9 with valid_loss value: 2.6281471252441406.\n",
      "Better model found at epoch 10 with valid_loss value: 2.600332260131836.\n",
      "Better model found at epoch 12 with valid_loss value: 2.596137046813965.\n",
      "No improvement since epoch 10: early stopping\n"
     ]
    },
    {
     "data": {
      "text/html": [],
      "text/plain": [
       "<IPython.core.display.HTML object>"
      ]
     },
     "metadata": {},
     "output_type": "display_data"
    },
    {
     "name": "stdout",
     "output_type": "stream",
     "text": [
      "Better model found at epoch 0 with valid_loss value: 0.6443299055099487.\n",
      "        Net  Case-based Accuracy  Model-based Accuracy\n",
      "0   1100000             0.596644                   1.0\n",
      "1   1110010             0.721316                   1.0\n",
      "2   1100110             0.545379                   1.0\n",
      "3   1110100             0.668933                   1.0\n",
      "4   0001010             0.474091                   1.0\n",
      "5   0201000             0.502810                   1.0\n",
      "6   0010010             0.695801                   1.0\n",
      "7   1001100             0.538951                   1.0\n",
      "8   1001000             0.538182                   1.0\n",
      "9   0001000             0.506818                   1.0\n",
      "10  0100100             0.545575                   1.0\n",
      "11  1010100             0.567100                   1.0\n",
      "12  1001110             0.512632                   1.0\n",
      "13  0211110             0.538058                   1.0\n",
      "14  1101110             0.583351                   1.0\n",
      "15  1011000             0.732489                   1.0\n",
      "16  0111110             0.639773                   1.0\n",
      "17  1011100             0.619662                   1.0\n",
      "18  0210100             0.615856                   1.0\n",
      "19  0200000             0.536849                   1.0\n",
      "20  1000110             0.539760                   1.0\n",
      "21  0101010             0.595064                   1.0\n",
      "22  0210110             0.621609                   1.0\n",
      "23  1210110             0.661972                   1.0\n",
      "24  0211000             0.582952                   1.0\n",
      "25  1200100             0.544619                   1.0\n",
      "26  1101000             0.620889                   1.0\n",
      "27  1001010             0.565455                   1.0\n",
      "28  1201100             0.553760                   1.0\n",
      "29  1201000             0.544405                   1.0\n",
      "30  0100110             0.541281                   1.0\n",
      "31  0011000             0.659859                   1.0\n",
      "32  0200100             0.525495                   1.0\n",
      "33  0011010             0.635475                   1.0\n",
      "34  1010010             0.707224                   1.0\n",
      "35  0110110             0.658088                   1.0\n",
      "36  0211100             0.558364                   1.0\n",
      "37  1110110             0.674859                   1.0\n",
      "38  0101100             0.549299                   1.0\n",
      "39  1211010             0.644330                   1.0\n"
     ]
    },
    {
     "data": {
      "text/html": [
       "<table border=\"1\" class=\"dataframe\">\n",
       "  <thead>\n",
       "    <tr style=\"text-align: left;\">\n",
       "      <th>epoch</th>\n",
       "      <th>train_loss</th>\n",
       "      <th>valid_loss</th>\n",
       "      <th>accuracy</th>\n",
       "      <th>time</th>\n",
       "    </tr>\n",
       "  </thead>\n",
       "  <tbody>\n",
       "    <tr>\n",
       "      <td>0</td>\n",
       "      <td>2.747215</td>\n",
       "      <td>2.631801</td>\n",
       "      <td>0.525935</td>\n",
       "      <td>00:02</td>\n",
       "    </tr>\n",
       "    <tr>\n",
       "      <td>1</td>\n",
       "      <td>2.571401</td>\n",
       "      <td>2.562356</td>\n",
       "      <td>0.568154</td>\n",
       "      <td>00:02</td>\n",
       "    </tr>\n",
       "    <tr>\n",
       "      <td>2</td>\n",
       "      <td>2.517974</td>\n",
       "      <td>2.542579</td>\n",
       "      <td>0.582630</td>\n",
       "      <td>00:02</td>\n",
       "    </tr>\n",
       "    <tr>\n",
       "      <td>3</td>\n",
       "      <td>2.504892</td>\n",
       "      <td>2.530734</td>\n",
       "      <td>0.589867</td>\n",
       "      <td>00:02</td>\n",
       "    </tr>\n",
       "    <tr>\n",
       "      <td>4</td>\n",
       "      <td>2.492331</td>\n",
       "      <td>2.522189</td>\n",
       "      <td>0.600724</td>\n",
       "      <td>00:02</td>\n",
       "    </tr>\n",
       "    <tr>\n",
       "      <td>5</td>\n",
       "      <td>2.495181</td>\n",
       "      <td>2.523522</td>\n",
       "      <td>0.598311</td>\n",
       "      <td>00:02</td>\n",
       "    </tr>\n",
       "    <tr>\n",
       "      <td>6</td>\n",
       "      <td>2.473097</td>\n",
       "      <td>2.487217</td>\n",
       "      <td>0.640531</td>\n",
       "      <td>00:02</td>\n",
       "    </tr>\n",
       "    <tr>\n",
       "      <td>7</td>\n",
       "      <td>2.443928</td>\n",
       "      <td>2.487198</td>\n",
       "      <td>0.635706</td>\n",
       "      <td>00:02</td>\n",
       "    </tr>\n",
       "    <tr>\n",
       "      <td>8</td>\n",
       "      <td>2.443847</td>\n",
       "      <td>2.479737</td>\n",
       "      <td>0.645356</td>\n",
       "      <td>00:02</td>\n",
       "    </tr>\n",
       "    <tr>\n",
       "      <td>9</td>\n",
       "      <td>2.443817</td>\n",
       "      <td>2.480755</td>\n",
       "      <td>0.644150</td>\n",
       "      <td>00:02</td>\n",
       "    </tr>\n",
       "    <tr>\n",
       "      <td>10</td>\n",
       "      <td>2.438811</td>\n",
       "      <td>2.478338</td>\n",
       "      <td>0.646562</td>\n",
       "      <td>00:02</td>\n",
       "    </tr>\n",
       "    <tr>\n",
       "      <td>11</td>\n",
       "      <td>2.430264</td>\n",
       "      <td>2.478274</td>\n",
       "      <td>0.645356</td>\n",
       "      <td>00:02</td>\n",
       "    </tr>\n",
       "  </tbody>\n",
       "</table>"
      ],
      "text/plain": [
       "<IPython.core.display.HTML object>"
      ]
     },
     "metadata": {},
     "output_type": "display_data"
    },
    {
     "name": "stdout",
     "output_type": "stream",
     "text": [
      "Better model found at epoch 0 with valid_loss value: 2.6318013668060303.\n",
      "Better model found at epoch 1 with valid_loss value: 2.562356472015381.\n",
      "Better model found at epoch 2 with valid_loss value: 2.542578935623169.\n",
      "Better model found at epoch 3 with valid_loss value: 2.530734062194824.\n",
      "Better model found at epoch 4 with valid_loss value: 2.5221893787384033.\n",
      "Better model found at epoch 6 with valid_loss value: 2.4872171878814697.\n",
      "Better model found at epoch 7 with valid_loss value: 2.4871981143951416.\n",
      "Better model found at epoch 8 with valid_loss value: 2.479736804962158.\n",
      "Better model found at epoch 10 with valid_loss value: 2.4783377647399902.\n",
      "No improvement since epoch 8: early stopping\n"
     ]
    },
    {
     "data": {
      "text/html": [],
      "text/plain": [
       "<IPython.core.display.HTML object>"
      ]
     },
     "metadata": {},
     "output_type": "display_data"
    },
    {
     "name": "stdout",
     "output_type": "stream",
     "text": [
      "Better model found at epoch 0 with valid_loss value: 0.6922672390937805.\n",
      "        Net  Case-based Accuracy  Model-based Accuracy\n",
      "0   1100000             0.596644                   1.0\n",
      "1   1110010             0.721316                   1.0\n",
      "2   1100110             0.545379                   1.0\n",
      "3   1110100             0.668933                   1.0\n",
      "4   0001010             0.474091                   1.0\n",
      "5   0201000             0.502810                   1.0\n",
      "6   0010010             0.695801                   1.0\n",
      "7   1001100             0.538951                   1.0\n",
      "8   1001000             0.538182                   1.0\n",
      "9   0001000             0.506818                   1.0\n",
      "10  0100100             0.545575                   1.0\n",
      "11  1010100             0.567100                   1.0\n",
      "12  1001110             0.512632                   1.0\n",
      "13  0211110             0.538058                   1.0\n",
      "14  1101110             0.583351                   1.0\n",
      "15  1011000             0.732489                   1.0\n",
      "16  0111110             0.639773                   1.0\n",
      "17  1011100             0.619662                   1.0\n",
      "18  0210100             0.615856                   1.0\n",
      "19  0200000             0.536849                   1.0\n",
      "20  1000110             0.539760                   1.0\n",
      "21  0101010             0.595064                   1.0\n",
      "22  0210110             0.621609                   1.0\n",
      "23  1210110             0.661972                   1.0\n",
      "24  0211000             0.582952                   1.0\n",
      "25  1200100             0.544619                   1.0\n",
      "26  1101000             0.620889                   1.0\n",
      "27  1001010             0.565455                   1.0\n",
      "28  1201100             0.553760                   1.0\n",
      "29  1201000             0.544405                   1.0\n",
      "30  0100110             0.541281                   1.0\n",
      "31  0011000             0.659859                   1.0\n",
      "32  0200100             0.525495                   1.0\n",
      "33  0011010             0.635475                   1.0\n",
      "34  1010010             0.707224                   1.0\n",
      "35  0110110             0.658088                   1.0\n",
      "36  0211100             0.558364                   1.0\n",
      "37  1110110             0.674859                   1.0\n",
      "38  0101100             0.549299                   1.0\n",
      "39  1211010             0.644330                   1.0\n",
      "40  0010000             0.692267                   1.0\n"
     ]
    },
    {
     "data": {
      "text/html": [
       "<table border=\"1\" class=\"dataframe\">\n",
       "  <thead>\n",
       "    <tr style=\"text-align: left;\">\n",
       "      <th>epoch</th>\n",
       "      <th>train_loss</th>\n",
       "      <th>valid_loss</th>\n",
       "      <th>accuracy</th>\n",
       "      <th>time</th>\n",
       "    </tr>\n",
       "  </thead>\n",
       "  <tbody>\n",
       "    <tr>\n",
       "      <td>0</td>\n",
       "      <td>3.193767</td>\n",
       "      <td>3.153802</td>\n",
       "      <td>0.509236</td>\n",
       "      <td>00:05</td>\n",
       "    </tr>\n",
       "    <tr>\n",
       "      <td>1</td>\n",
       "      <td>3.115097</td>\n",
       "      <td>3.107818</td>\n",
       "      <td>0.557266</td>\n",
       "      <td>00:05</td>\n",
       "    </tr>\n",
       "    <tr>\n",
       "      <td>2</td>\n",
       "      <td>3.019878</td>\n",
       "      <td>3.042257</td>\n",
       "      <td>0.616995</td>\n",
       "      <td>00:05</td>\n",
       "    </tr>\n",
       "    <tr>\n",
       "      <td>3</td>\n",
       "      <td>2.983133</td>\n",
       "      <td>3.017994</td>\n",
       "      <td>0.639778</td>\n",
       "      <td>00:05</td>\n",
       "    </tr>\n",
       "    <tr>\n",
       "      <td>4</td>\n",
       "      <td>2.984093</td>\n",
       "      <td>3.011795</td>\n",
       "      <td>0.647168</td>\n",
       "      <td>00:05</td>\n",
       "    </tr>\n",
       "    <tr>\n",
       "      <td>5</td>\n",
       "      <td>2.986653</td>\n",
       "      <td>3.009911</td>\n",
       "      <td>0.648399</td>\n",
       "      <td>00:05</td>\n",
       "    </tr>\n",
       "    <tr>\n",
       "      <td>6</td>\n",
       "      <td>2.983847</td>\n",
       "      <td>3.009622</td>\n",
       "      <td>0.647783</td>\n",
       "      <td>00:05</td>\n",
       "    </tr>\n",
       "    <tr>\n",
       "      <td>7</td>\n",
       "      <td>2.979861</td>\n",
       "      <td>3.009607</td>\n",
       "      <td>0.645936</td>\n",
       "      <td>00:05</td>\n",
       "    </tr>\n",
       "  </tbody>\n",
       "</table>"
      ],
      "text/plain": [
       "<IPython.core.display.HTML object>"
      ]
     },
     "metadata": {},
     "output_type": "display_data"
    },
    {
     "name": "stdout",
     "output_type": "stream",
     "text": [
      "Better model found at epoch 0 with valid_loss value: 3.153801918029785.\n",
      "Better model found at epoch 1 with valid_loss value: 3.107818126678467.\n",
      "Better model found at epoch 2 with valid_loss value: 3.0422568321228027.\n",
      "Better model found at epoch 3 with valid_loss value: 3.0179941654205322.\n",
      "Better model found at epoch 4 with valid_loss value: 3.0117945671081543.\n",
      "Better model found at epoch 5 with valid_loss value: 3.009911060333252.\n",
      "Better model found at epoch 6 with valid_loss value: 3.009622097015381.\n",
      "No improvement since epoch 4: early stopping\n"
     ]
    },
    {
     "data": {
      "text/html": [],
      "text/plain": [
       "<IPython.core.display.HTML object>"
      ]
     },
     "metadata": {},
     "output_type": "display_data"
    },
    {
     "name": "stdout",
     "output_type": "stream",
     "text": [
      "Better model found at epoch 0 with valid_loss value: 0.6297038793563843.\n",
      "        Net  Case-based Accuracy  Model-based Accuracy\n",
      "0   1100000             0.596644                   1.0\n",
      "1   1110010             0.721316                   1.0\n",
      "2   1100110             0.545379                   1.0\n",
      "3   1110100             0.668933                   1.0\n",
      "4   0001010             0.474091                   1.0\n",
      "5   0201000             0.502810                   1.0\n",
      "6   0010010             0.695801                   1.0\n",
      "7   1001100             0.538951                   1.0\n",
      "8   1001000             0.538182                   1.0\n",
      "9   0001000             0.506818                   1.0\n",
      "10  0100100             0.545575                   1.0\n",
      "11  1010100             0.567100                   1.0\n",
      "12  1001110             0.512632                   1.0\n",
      "13  0211110             0.538058                   1.0\n",
      "14  1101110             0.583351                   1.0\n",
      "15  1011000             0.732489                   1.0\n",
      "16  0111110             0.639773                   1.0\n",
      "17  1011100             0.619662                   1.0\n",
      "18  0210100             0.615856                   1.0\n",
      "19  0200000             0.536849                   1.0\n",
      "20  1000110             0.539760                   1.0\n",
      "21  0101010             0.595064                   1.0\n",
      "22  0210110             0.621609                   1.0\n",
      "23  1210110             0.661972                   1.0\n",
      "24  0211000             0.582952                   1.0\n",
      "25  1200100             0.544619                   1.0\n",
      "26  1101000             0.620889                   1.0\n",
      "27  1001010             0.565455                   1.0\n",
      "28  1201100             0.553760                   1.0\n",
      "29  1201000             0.544405                   1.0\n",
      "30  0100110             0.541281                   1.0\n",
      "31  0011000             0.659859                   1.0\n",
      "32  0200100             0.525495                   1.0\n",
      "33  0011010             0.635475                   1.0\n",
      "34  1010010             0.707224                   1.0\n",
      "35  0110110             0.658088                   1.0\n",
      "36  0211100             0.558364                   1.0\n",
      "37  1110110             0.674859                   1.0\n",
      "38  0101100             0.549299                   1.0\n",
      "39  1211010             0.644330                   1.0\n",
      "40  0010000             0.692267                   1.0\n",
      "41  0210000             0.629704                   1.0\n"
     ]
    },
    {
     "data": {
      "text/html": [
       "<table border=\"1\" class=\"dataframe\">\n",
       "  <thead>\n",
       "    <tr style=\"text-align: left;\">\n",
       "      <th>epoch</th>\n",
       "      <th>train_loss</th>\n",
       "      <th>valid_loss</th>\n",
       "      <th>accuracy</th>\n",
       "      <th>time</th>\n",
       "    </tr>\n",
       "  </thead>\n",
       "  <tbody>\n",
       "    <tr>\n",
       "      <td>0</td>\n",
       "      <td>2.716305</td>\n",
       "      <td>2.673325</td>\n",
       "      <td>0.385192</td>\n",
       "      <td>00:03</td>\n",
       "    </tr>\n",
       "    <tr>\n",
       "      <td>1</td>\n",
       "      <td>2.605566</td>\n",
       "      <td>2.584100</td>\n",
       "      <td>0.449859</td>\n",
       "      <td>00:03</td>\n",
       "    </tr>\n",
       "    <tr>\n",
       "      <td>2</td>\n",
       "      <td>2.578350</td>\n",
       "      <td>2.572561</td>\n",
       "      <td>0.463918</td>\n",
       "      <td>00:03</td>\n",
       "    </tr>\n",
       "    <tr>\n",
       "      <td>3</td>\n",
       "      <td>2.533021</td>\n",
       "      <td>2.538836</td>\n",
       "      <td>0.494845</td>\n",
       "      <td>00:03</td>\n",
       "    </tr>\n",
       "    <tr>\n",
       "      <td>4</td>\n",
       "      <td>2.519356</td>\n",
       "      <td>2.536772</td>\n",
       "      <td>0.493908</td>\n",
       "      <td>00:03</td>\n",
       "    </tr>\n",
       "    <tr>\n",
       "      <td>5</td>\n",
       "      <td>2.508896</td>\n",
       "      <td>2.532076</td>\n",
       "      <td>0.501406</td>\n",
       "      <td>00:03</td>\n",
       "    </tr>\n",
       "    <tr>\n",
       "      <td>6</td>\n",
       "      <td>2.495237</td>\n",
       "      <td>2.522510</td>\n",
       "      <td>0.509841</td>\n",
       "      <td>00:03</td>\n",
       "    </tr>\n",
       "    <tr>\n",
       "      <td>7</td>\n",
       "      <td>2.486863</td>\n",
       "      <td>2.516465</td>\n",
       "      <td>0.516401</td>\n",
       "      <td>00:03</td>\n",
       "    </tr>\n",
       "    <tr>\n",
       "      <td>8</td>\n",
       "      <td>2.486600</td>\n",
       "      <td>2.515894</td>\n",
       "      <td>0.513590</td>\n",
       "      <td>00:03</td>\n",
       "    </tr>\n",
       "    <tr>\n",
       "      <td>9</td>\n",
       "      <td>2.477560</td>\n",
       "      <td>2.509966</td>\n",
       "      <td>0.522962</td>\n",
       "      <td>00:03</td>\n",
       "    </tr>\n",
       "    <tr>\n",
       "      <td>10</td>\n",
       "      <td>2.477699</td>\n",
       "      <td>2.508135</td>\n",
       "      <td>0.523899</td>\n",
       "      <td>00:03</td>\n",
       "    </tr>\n",
       "    <tr>\n",
       "      <td>11</td>\n",
       "      <td>2.482847</td>\n",
       "      <td>2.506992</td>\n",
       "      <td>0.523899</td>\n",
       "      <td>00:03</td>\n",
       "    </tr>\n",
       "    <tr>\n",
       "      <td>12</td>\n",
       "      <td>2.480091</td>\n",
       "      <td>2.510733</td>\n",
       "      <td>0.519213</td>\n",
       "      <td>00:03</td>\n",
       "    </tr>\n",
       "  </tbody>\n",
       "</table>"
      ],
      "text/plain": [
       "<IPython.core.display.HTML object>"
      ]
     },
     "metadata": {},
     "output_type": "display_data"
    },
    {
     "name": "stdout",
     "output_type": "stream",
     "text": [
      "Better model found at epoch 0 with valid_loss value: 2.6733250617980957.\n",
      "Better model found at epoch 1 with valid_loss value: 2.5841002464294434.\n",
      "Better model found at epoch 2 with valid_loss value: 2.5725605487823486.\n",
      "Better model found at epoch 3 with valid_loss value: 2.5388357639312744.\n",
      "Better model found at epoch 4 with valid_loss value: 2.5367724895477295.\n",
      "Better model found at epoch 5 with valid_loss value: 2.532075881958008.\n",
      "Better model found at epoch 6 with valid_loss value: 2.5225095748901367.\n",
      "Better model found at epoch 7 with valid_loss value: 2.516465187072754.\n",
      "Better model found at epoch 8 with valid_loss value: 2.5158939361572266.\n",
      "Better model found at epoch 9 with valid_loss value: 2.5099661350250244.\n",
      "Better model found at epoch 10 with valid_loss value: 2.5081348419189453.\n",
      "Better model found at epoch 11 with valid_loss value: 2.5069921016693115.\n",
      "No improvement since epoch 9: early stopping\n"
     ]
    },
    {
     "data": {
      "text/html": [],
      "text/plain": [
       "<IPython.core.display.HTML object>"
      ]
     },
     "metadata": {},
     "output_type": "display_data"
    },
    {
     "name": "stdout",
     "output_type": "stream",
     "text": [
      "Better model found at epoch 0 with valid_loss value: 0.5276004672050476.\n",
      "        Net  Case-based Accuracy  Model-based Accuracy\n",
      "0   1100000             0.596644                   1.0\n",
      "1   1110010             0.721316                   1.0\n",
      "2   1100110             0.545379                   1.0\n",
      "3   1110100             0.668933                   1.0\n",
      "4   0001010             0.474091                   1.0\n",
      "5   0201000             0.502810                   1.0\n",
      "6   0010010             0.695801                   1.0\n",
      "7   1001100             0.538951                   1.0\n",
      "8   1001000             0.538182                   1.0\n",
      "9   0001000             0.506818                   1.0\n",
      "10  0100100             0.545575                   1.0\n",
      "11  1010100             0.567100                   1.0\n",
      "12  1001110             0.512632                   1.0\n",
      "13  0211110             0.538058                   1.0\n",
      "14  1101110             0.583351                   1.0\n",
      "15  1011000             0.732489                   1.0\n",
      "16  0111110             0.639773                   1.0\n",
      "17  1011100             0.619662                   1.0\n",
      "18  0210100             0.615856                   1.0\n",
      "19  0200000             0.536849                   1.0\n",
      "20  1000110             0.539760                   1.0\n",
      "21  0101010             0.595064                   1.0\n",
      "22  0210110             0.621609                   1.0\n",
      "23  1210110             0.661972                   1.0\n",
      "24  0211000             0.582952                   1.0\n",
      "25  1200100             0.544619                   1.0\n",
      "26  1101000             0.620889                   1.0\n",
      "27  1001010             0.565455                   1.0\n",
      "28  1201100             0.553760                   1.0\n",
      "29  1201000             0.544405                   1.0\n",
      "30  0100110             0.541281                   1.0\n",
      "31  0011000             0.659859                   1.0\n",
      "32  0200100             0.525495                   1.0\n",
      "33  0011010             0.635475                   1.0\n",
      "34  1010010             0.707224                   1.0\n",
      "35  0110110             0.658088                   1.0\n",
      "36  0211100             0.558364                   1.0\n",
      "37  1110110             0.674859                   1.0\n",
      "38  0101100             0.549299                   1.0\n",
      "39  1211010             0.644330                   1.0\n",
      "40  0010000             0.692267                   1.0\n",
      "41  0210000             0.629704                   1.0\n",
      "42  0000110             0.527600                   1.0\n"
     ]
    },
    {
     "data": {
      "text/html": [
       "<table border=\"1\" class=\"dataframe\">\n",
       "  <thead>\n",
       "    <tr style=\"text-align: left;\">\n",
       "      <th>epoch</th>\n",
       "      <th>train_loss</th>\n",
       "      <th>valid_loss</th>\n",
       "      <th>accuracy</th>\n",
       "      <th>time</th>\n",
       "    </tr>\n",
       "  </thead>\n",
       "  <tbody>\n",
       "    <tr>\n",
       "      <td>0</td>\n",
       "      <td>2.847760</td>\n",
       "      <td>2.824777</td>\n",
       "      <td>0.381592</td>\n",
       "      <td>00:06</td>\n",
       "    </tr>\n",
       "    <tr>\n",
       "      <td>1</td>\n",
       "      <td>2.781665</td>\n",
       "      <td>2.762111</td>\n",
       "      <td>0.449185</td>\n",
       "      <td>00:06</td>\n",
       "    </tr>\n",
       "    <tr>\n",
       "      <td>2</td>\n",
       "      <td>2.761182</td>\n",
       "      <td>2.757889</td>\n",
       "      <td>0.451582</td>\n",
       "      <td>00:06</td>\n",
       "    </tr>\n",
       "    <tr>\n",
       "      <td>3</td>\n",
       "      <td>2.764503</td>\n",
       "      <td>2.742198</td>\n",
       "      <td>0.468840</td>\n",
       "      <td>00:06</td>\n",
       "    </tr>\n",
       "    <tr>\n",
       "      <td>4</td>\n",
       "      <td>2.749029</td>\n",
       "      <td>2.739266</td>\n",
       "      <td>0.466922</td>\n",
       "      <td>00:06</td>\n",
       "    </tr>\n",
       "    <tr>\n",
       "      <td>5</td>\n",
       "      <td>2.740662</td>\n",
       "      <td>2.734656</td>\n",
       "      <td>0.473634</td>\n",
       "      <td>00:06</td>\n",
       "    </tr>\n",
       "    <tr>\n",
       "      <td>6</td>\n",
       "      <td>2.728785</td>\n",
       "      <td>2.728209</td>\n",
       "      <td>0.479866</td>\n",
       "      <td>00:06</td>\n",
       "    </tr>\n",
       "    <tr>\n",
       "      <td>7</td>\n",
       "      <td>2.729566</td>\n",
       "      <td>2.723371</td>\n",
       "      <td>0.485618</td>\n",
       "      <td>00:06</td>\n",
       "    </tr>\n",
       "    <tr>\n",
       "      <td>8</td>\n",
       "      <td>2.726929</td>\n",
       "      <td>2.728580</td>\n",
       "      <td>0.476989</td>\n",
       "      <td>00:06</td>\n",
       "    </tr>\n",
       "    <tr>\n",
       "      <td>9</td>\n",
       "      <td>2.720011</td>\n",
       "      <td>2.724452</td>\n",
       "      <td>0.480825</td>\n",
       "      <td>00:06</td>\n",
       "    </tr>\n",
       "  </tbody>\n",
       "</table>"
      ],
      "text/plain": [
       "<IPython.core.display.HTML object>"
      ]
     },
     "metadata": {},
     "output_type": "display_data"
    },
    {
     "name": "stdout",
     "output_type": "stream",
     "text": [
      "Better model found at epoch 0 with valid_loss value: 2.824777126312256.\n",
      "Better model found at epoch 1 with valid_loss value: 2.762111186981201.\n",
      "Better model found at epoch 2 with valid_loss value: 2.7578892707824707.\n",
      "Better model found at epoch 3 with valid_loss value: 2.7421975135803223.\n",
      "Better model found at epoch 4 with valid_loss value: 2.7392656803131104.\n",
      "Better model found at epoch 5 with valid_loss value: 2.7346558570861816.\n",
      "Better model found at epoch 6 with valid_loss value: 2.7282094955444336.\n",
      "Better model found at epoch 7 with valid_loss value: 2.7233710289001465.\n",
      "No improvement since epoch 6: early stopping\n"
     ]
    },
    {
     "data": {
      "text/html": [],
      "text/plain": [
       "<IPython.core.display.HTML object>"
      ]
     },
     "metadata": {},
     "output_type": "display_data"
    },
    {
     "name": "stdout",
     "output_type": "stream",
     "text": [
      "Better model found at epoch 0 with valid_loss value: 0.47199296951293945.\n",
      "        Net  Case-based Accuracy  Model-based Accuracy\n",
      "0   1100000             0.596644                   1.0\n",
      "1   1110010             0.721316                   1.0\n",
      "2   1100110             0.545379                   1.0\n",
      "3   1110100             0.668933                   1.0\n",
      "4   0001010             0.474091                   1.0\n",
      "5   0201000             0.502810                   1.0\n",
      "6   0010010             0.695801                   1.0\n",
      "7   1001100             0.538951                   1.0\n",
      "8   1001000             0.538182                   1.0\n",
      "9   0001000             0.506818                   1.0\n",
      "10  0100100             0.545575                   1.0\n",
      "11  1010100             0.567100                   1.0\n",
      "12  1001110             0.512632                   1.0\n",
      "13  0211110             0.538058                   1.0\n",
      "14  1101110             0.583351                   1.0\n",
      "15  1011000             0.732489                   1.0\n",
      "16  0111110             0.639773                   1.0\n",
      "17  1011100             0.619662                   1.0\n",
      "18  0210100             0.615856                   1.0\n",
      "19  0200000             0.536849                   1.0\n",
      "20  1000110             0.539760                   1.0\n",
      "21  0101010             0.595064                   1.0\n",
      "22  0210110             0.621609                   1.0\n",
      "23  1210110             0.661972                   1.0\n",
      "24  0211000             0.582952                   1.0\n",
      "25  1200100             0.544619                   1.0\n",
      "26  1101000             0.620889                   1.0\n",
      "27  1001010             0.565455                   1.0\n",
      "28  1201100             0.553760                   1.0\n",
      "29  1201000             0.544405                   1.0\n",
      "30  0100110             0.541281                   1.0\n",
      "31  0011000             0.659859                   1.0\n",
      "32  0200100             0.525495                   1.0\n",
      "33  0011010             0.635475                   1.0\n",
      "34  1010010             0.707224                   1.0\n",
      "35  0110110             0.658088                   1.0\n",
      "36  0211100             0.558364                   1.0\n",
      "37  1110110             0.674859                   1.0\n",
      "38  0101100             0.549299                   1.0\n",
      "39  1211010             0.644330                   1.0\n",
      "40  0010000             0.692267                   1.0\n",
      "41  0210000             0.629704                   1.0\n",
      "42  0000110             0.527600                   1.0\n",
      "43  0201010             0.471993                   1.0\n"
     ]
    },
    {
     "data": {
      "text/html": [
       "<table border=\"1\" class=\"dataframe\">\n",
       "  <thead>\n",
       "    <tr style=\"text-align: left;\">\n",
       "      <th>epoch</th>\n",
       "      <th>train_loss</th>\n",
       "      <th>valid_loss</th>\n",
       "      <th>accuracy</th>\n",
       "      <th>time</th>\n",
       "    </tr>\n",
       "  </thead>\n",
       "  <tbody>\n",
       "    <tr>\n",
       "      <td>0</td>\n",
       "      <td>2.883634</td>\n",
       "      <td>2.865326</td>\n",
       "      <td>0.416238</td>\n",
       "      <td>00:05</td>\n",
       "    </tr>\n",
       "    <tr>\n",
       "      <td>1</td>\n",
       "      <td>2.795980</td>\n",
       "      <td>2.786136</td>\n",
       "      <td>0.501542</td>\n",
       "      <td>00:05</td>\n",
       "    </tr>\n",
       "    <tr>\n",
       "      <td>2</td>\n",
       "      <td>2.745996</td>\n",
       "      <td>2.741094</td>\n",
       "      <td>0.545221</td>\n",
       "      <td>00:05</td>\n",
       "    </tr>\n",
       "    <tr>\n",
       "      <td>3</td>\n",
       "      <td>2.728658</td>\n",
       "      <td>2.728180</td>\n",
       "      <td>0.558068</td>\n",
       "      <td>00:05</td>\n",
       "    </tr>\n",
       "    <tr>\n",
       "      <td>4</td>\n",
       "      <td>2.714509</td>\n",
       "      <td>2.717598</td>\n",
       "      <td>0.568859</td>\n",
       "      <td>00:05</td>\n",
       "    </tr>\n",
       "    <tr>\n",
       "      <td>5</td>\n",
       "      <td>2.713259</td>\n",
       "      <td>2.714698</td>\n",
       "      <td>0.569887</td>\n",
       "      <td>00:05</td>\n",
       "    </tr>\n",
       "    <tr>\n",
       "      <td>6</td>\n",
       "      <td>2.706929</td>\n",
       "      <td>2.715509</td>\n",
       "      <td>0.570401</td>\n",
       "      <td>00:05</td>\n",
       "    </tr>\n",
       "    <tr>\n",
       "      <td>7</td>\n",
       "      <td>2.702522</td>\n",
       "      <td>2.700512</td>\n",
       "      <td>0.584789</td>\n",
       "      <td>00:05</td>\n",
       "    </tr>\n",
       "    <tr>\n",
       "      <td>8</td>\n",
       "      <td>2.701600</td>\n",
       "      <td>2.703844</td>\n",
       "      <td>0.581192</td>\n",
       "      <td>00:05</td>\n",
       "    </tr>\n",
       "    <tr>\n",
       "      <td>9</td>\n",
       "      <td>2.691637</td>\n",
       "      <td>2.704981</td>\n",
       "      <td>0.581706</td>\n",
       "      <td>00:05</td>\n",
       "    </tr>\n",
       "    <tr>\n",
       "      <td>10</td>\n",
       "      <td>2.687365</td>\n",
       "      <td>2.701792</td>\n",
       "      <td>0.582734</td>\n",
       "      <td>00:05</td>\n",
       "    </tr>\n",
       "  </tbody>\n",
       "</table>"
      ],
      "text/plain": [
       "<IPython.core.display.HTML object>"
      ]
     },
     "metadata": {},
     "output_type": "display_data"
    },
    {
     "name": "stdout",
     "output_type": "stream",
     "text": [
      "Better model found at epoch 0 with valid_loss value: 2.865325689315796.\n",
      "Better model found at epoch 1 with valid_loss value: 2.7861359119415283.\n",
      "Better model found at epoch 2 with valid_loss value: 2.7410943508148193.\n",
      "Better model found at epoch 3 with valid_loss value: 2.728180408477783.\n",
      "Better model found at epoch 4 with valid_loss value: 2.7175981998443604.\n",
      "Better model found at epoch 5 with valid_loss value: 2.7146975994110107.\n",
      "Better model found at epoch 7 with valid_loss value: 2.700512409210205.\n",
      "No improvement since epoch 7: early stopping\n"
     ]
    },
    {
     "data": {
      "text/html": [],
      "text/plain": [
       "<IPython.core.display.HTML object>"
      ]
     },
     "metadata": {},
     "output_type": "display_data"
    },
    {
     "name": "stdout",
     "output_type": "stream",
     "text": [
      "Better model found at epoch 0 with valid_loss value: 0.5864419341087341.\n",
      "        Net  Case-based Accuracy  Model-based Accuracy\n",
      "0   1100000             0.596644                   1.0\n",
      "1   1110010             0.721316                   1.0\n",
      "2   1100110             0.545379                   1.0\n",
      "3   1110100             0.668933                   1.0\n",
      "4   0001010             0.474091                   1.0\n",
      "5   0201000             0.502810                   1.0\n",
      "6   0010010             0.695801                   1.0\n",
      "7   1001100             0.538951                   1.0\n",
      "8   1001000             0.538182                   1.0\n",
      "9   0001000             0.506818                   1.0\n",
      "10  0100100             0.545575                   1.0\n",
      "11  1010100             0.567100                   1.0\n",
      "12  1001110             0.512632                   1.0\n",
      "13  0211110             0.538058                   1.0\n",
      "14  1101110             0.583351                   1.0\n",
      "15  1011000             0.732489                   1.0\n",
      "16  0111110             0.639773                   1.0\n",
      "17  1011100             0.619662                   1.0\n",
      "18  0210100             0.615856                   1.0\n",
      "19  0200000             0.536849                   1.0\n",
      "20  1000110             0.539760                   1.0\n",
      "21  0101010             0.595064                   1.0\n",
      "22  0210110             0.621609                   1.0\n",
      "23  1210110             0.661972                   1.0\n",
      "24  0211000             0.582952                   1.0\n",
      "25  1200100             0.544619                   1.0\n",
      "26  1101000             0.620889                   1.0\n",
      "27  1001010             0.565455                   1.0\n",
      "28  1201100             0.553760                   1.0\n",
      "29  1201000             0.544405                   1.0\n",
      "30  0100110             0.541281                   1.0\n",
      "31  0011000             0.659859                   1.0\n",
      "32  0200100             0.525495                   1.0\n",
      "33  0011010             0.635475                   1.0\n",
      "34  1010010             0.707224                   1.0\n",
      "35  0110110             0.658088                   1.0\n",
      "36  0211100             0.558364                   1.0\n",
      "37  1110110             0.674859                   1.0\n",
      "38  0101100             0.549299                   1.0\n",
      "39  1211010             0.644330                   1.0\n",
      "40  0010000             0.692267                   1.0\n",
      "41  0210000             0.629704                   1.0\n",
      "42  0000110             0.527600                   1.0\n",
      "43  0201010             0.471993                   1.0\n",
      "44  0101000             0.586442                   1.0\n"
     ]
    },
    {
     "data": {
      "text/html": [
       "<table border=\"1\" class=\"dataframe\">\n",
       "  <thead>\n",
       "    <tr style=\"text-align: left;\">\n",
       "      <th>epoch</th>\n",
       "      <th>train_loss</th>\n",
       "      <th>valid_loss</th>\n",
       "      <th>accuracy</th>\n",
       "      <th>time</th>\n",
       "    </tr>\n",
       "  </thead>\n",
       "  <tbody>\n",
       "    <tr>\n",
       "      <td>0</td>\n",
       "      <td>2.801114</td>\n",
       "      <td>2.748393</td>\n",
       "      <td>0.474299</td>\n",
       "      <td>00:05</td>\n",
       "    </tr>\n",
       "    <tr>\n",
       "      <td>1</td>\n",
       "      <td>2.688133</td>\n",
       "      <td>2.696257</td>\n",
       "      <td>0.514603</td>\n",
       "      <td>00:05</td>\n",
       "    </tr>\n",
       "    <tr>\n",
       "      <td>2</td>\n",
       "      <td>2.662143</td>\n",
       "      <td>2.669239</td>\n",
       "      <td>0.540304</td>\n",
       "      <td>00:05</td>\n",
       "    </tr>\n",
       "    <tr>\n",
       "      <td>3</td>\n",
       "      <td>2.650285</td>\n",
       "      <td>2.663109</td>\n",
       "      <td>0.546145</td>\n",
       "      <td>00:05</td>\n",
       "    </tr>\n",
       "    <tr>\n",
       "      <td>4</td>\n",
       "      <td>2.635610</td>\n",
       "      <td>2.655958</td>\n",
       "      <td>0.551986</td>\n",
       "      <td>00:05</td>\n",
       "    </tr>\n",
       "    <tr>\n",
       "      <td>5</td>\n",
       "      <td>2.626089</td>\n",
       "      <td>2.641799</td>\n",
       "      <td>0.567173</td>\n",
       "      <td>00:05</td>\n",
       "    </tr>\n",
       "    <tr>\n",
       "      <td>6</td>\n",
       "      <td>2.619817</td>\n",
       "      <td>2.641436</td>\n",
       "      <td>0.567757</td>\n",
       "      <td>00:05</td>\n",
       "    </tr>\n",
       "    <tr>\n",
       "      <td>7</td>\n",
       "      <td>2.612622</td>\n",
       "      <td>2.642401</td>\n",
       "      <td>0.565421</td>\n",
       "      <td>00:05</td>\n",
       "    </tr>\n",
       "    <tr>\n",
       "      <td>8</td>\n",
       "      <td>2.611178</td>\n",
       "      <td>2.641351</td>\n",
       "      <td>0.567173</td>\n",
       "      <td>00:05</td>\n",
       "    </tr>\n",
       "  </tbody>\n",
       "</table>"
      ],
      "text/plain": [
       "<IPython.core.display.HTML object>"
      ]
     },
     "metadata": {},
     "output_type": "display_data"
    },
    {
     "name": "stdout",
     "output_type": "stream",
     "text": [
      "Better model found at epoch 0 with valid_loss value: 2.7483925819396973.\n",
      "Better model found at epoch 1 with valid_loss value: 2.6962568759918213.\n",
      "Better model found at epoch 2 with valid_loss value: 2.669238805770874.\n",
      "Better model found at epoch 3 with valid_loss value: 2.6631085872650146.\n",
      "Better model found at epoch 4 with valid_loss value: 2.6559576988220215.\n",
      "Better model found at epoch 5 with valid_loss value: 2.641798734664917.\n",
      "Better model found at epoch 6 with valid_loss value: 2.6414363384246826.\n",
      "No improvement since epoch 5: early stopping\n"
     ]
    },
    {
     "data": {
      "text/html": [],
      "text/plain": [
       "<IPython.core.display.HTML object>"
      ]
     },
     "metadata": {},
     "output_type": "display_data"
    },
    {
     "name": "stdout",
     "output_type": "stream",
     "text": [
      "Better model found at epoch 0 with valid_loss value: 0.5964260697364807.\n",
      "        Net  Case-based Accuracy  Model-based Accuracy\n",
      "0   1100000             0.596644                   1.0\n",
      "1   1110010             0.721316                   1.0\n",
      "2   1100110             0.545379                   1.0\n",
      "3   1110100             0.668933                   1.0\n",
      "4   0001010             0.474091                   1.0\n",
      "5   0201000             0.502810                   1.0\n",
      "6   0010010             0.695801                   1.0\n",
      "7   1001100             0.538951                   1.0\n",
      "8   1001000             0.538182                   1.0\n",
      "9   0001000             0.506818                   1.0\n",
      "10  0100100             0.545575                   1.0\n",
      "11  1010100             0.567100                   1.0\n",
      "12  1001110             0.512632                   1.0\n",
      "13  0211110             0.538058                   1.0\n",
      "14  1101110             0.583351                   1.0\n",
      "15  1011000             0.732489                   1.0\n",
      "16  0111110             0.639773                   1.0\n",
      "17  1011100             0.619662                   1.0\n",
      "18  0210100             0.615856                   1.0\n",
      "19  0200000             0.536849                   1.0\n",
      "20  1000110             0.539760                   1.0\n",
      "21  0101010             0.595064                   1.0\n",
      "22  0210110             0.621609                   1.0\n",
      "23  1210110             0.661972                   1.0\n",
      "24  0211000             0.582952                   1.0\n",
      "25  1200100             0.544619                   1.0\n",
      "26  1101000             0.620889                   1.0\n",
      "27  1001010             0.565455                   1.0\n",
      "28  1201100             0.553760                   1.0\n",
      "29  1201000             0.544405                   1.0\n",
      "30  0100110             0.541281                   1.0\n",
      "31  0011000             0.659859                   1.0\n",
      "32  0200100             0.525495                   1.0\n",
      "33  0011010             0.635475                   1.0\n",
      "34  1010010             0.707224                   1.0\n",
      "35  0110110             0.658088                   1.0\n",
      "36  0211100             0.558364                   1.0\n",
      "37  1110110             0.674859                   1.0\n",
      "38  0101100             0.549299                   1.0\n",
      "39  1211010             0.644330                   1.0\n",
      "40  0010000             0.692267                   1.0\n",
      "41  0210000             0.629704                   1.0\n",
      "42  0000110             0.527600                   1.0\n",
      "43  0201010             0.471993                   1.0\n",
      "44  0101000             0.586442                   1.0\n",
      "45  0211010             0.596426                   1.0\n"
     ]
    },
    {
     "data": {
      "text/html": [
       "<table border=\"1\" class=\"dataframe\">\n",
       "  <thead>\n",
       "    <tr style=\"text-align: left;\">\n",
       "      <th>epoch</th>\n",
       "      <th>train_loss</th>\n",
       "      <th>valid_loss</th>\n",
       "      <th>accuracy</th>\n",
       "      <th>time</th>\n",
       "    </tr>\n",
       "  </thead>\n",
       "  <tbody>\n",
       "    <tr>\n",
       "      <td>0</td>\n",
       "      <td>2.820835</td>\n",
       "      <td>2.715301</td>\n",
       "      <td>0.490871</td>\n",
       "      <td>00:04</td>\n",
       "    </tr>\n",
       "    <tr>\n",
       "      <td>1</td>\n",
       "      <td>2.526564</td>\n",
       "      <td>2.495952</td>\n",
       "      <td>0.723315</td>\n",
       "      <td>00:04</td>\n",
       "    </tr>\n",
       "    <tr>\n",
       "      <td>2</td>\n",
       "      <td>2.501472</td>\n",
       "      <td>2.487986</td>\n",
       "      <td>0.721208</td>\n",
       "      <td>00:04</td>\n",
       "    </tr>\n",
       "    <tr>\n",
       "      <td>3</td>\n",
       "      <td>2.476821</td>\n",
       "      <td>2.477866</td>\n",
       "      <td>0.732444</td>\n",
       "      <td>00:04</td>\n",
       "    </tr>\n",
       "    <tr>\n",
       "      <td>4</td>\n",
       "      <td>2.465978</td>\n",
       "      <td>2.480486</td>\n",
       "      <td>0.728230</td>\n",
       "      <td>00:04</td>\n",
       "    </tr>\n",
       "    <tr>\n",
       "      <td>5</td>\n",
       "      <td>2.464036</td>\n",
       "      <td>2.471347</td>\n",
       "      <td>0.736657</td>\n",
       "      <td>00:04</td>\n",
       "    </tr>\n",
       "    <tr>\n",
       "      <td>6</td>\n",
       "      <td>2.464284</td>\n",
       "      <td>2.471166</td>\n",
       "      <td>0.739466</td>\n",
       "      <td>00:04</td>\n",
       "    </tr>\n",
       "    <tr>\n",
       "      <td>7</td>\n",
       "      <td>2.462031</td>\n",
       "      <td>2.470959</td>\n",
       "      <td>0.738764</td>\n",
       "      <td>00:04</td>\n",
       "    </tr>\n",
       "    <tr>\n",
       "      <td>8</td>\n",
       "      <td>2.452935</td>\n",
       "      <td>2.467854</td>\n",
       "      <td>0.740169</td>\n",
       "      <td>00:04</td>\n",
       "    </tr>\n",
       "  </tbody>\n",
       "</table>"
      ],
      "text/plain": [
       "<IPython.core.display.HTML object>"
      ]
     },
     "metadata": {},
     "output_type": "display_data"
    },
    {
     "name": "stdout",
     "output_type": "stream",
     "text": [
      "Better model found at epoch 0 with valid_loss value: 2.7153007984161377.\n",
      "Better model found at epoch 1 with valid_loss value: 2.4959516525268555.\n",
      "Better model found at epoch 2 with valid_loss value: 2.4879863262176514.\n",
      "Better model found at epoch 3 with valid_loss value: 2.4778659343719482.\n",
      "Better model found at epoch 5 with valid_loss value: 2.4713473320007324.\n",
      "Better model found at epoch 6 with valid_loss value: 2.471165895462036.\n",
      "Better model found at epoch 7 with valid_loss value: 2.470959186553955.\n",
      "No improvement since epoch 5: early stopping\n"
     ]
    },
    {
     "data": {
      "text/html": [],
      "text/plain": [
       "<IPython.core.display.HTML object>"
      ]
     },
     "metadata": {},
     "output_type": "display_data"
    },
    {
     "name": "stdout",
     "output_type": "stream",
     "text": [
      "Better model found at epoch 0 with valid_loss value: 0.7441860437393188.\n",
      "        Net  Case-based Accuracy  Model-based Accuracy\n",
      "0   1100000             0.596644                   1.0\n",
      "1   1110010             0.721316                   1.0\n",
      "2   1100110             0.545379                   1.0\n",
      "3   1110100             0.668933                   1.0\n",
      "4   0001010             0.474091                   1.0\n",
      "5   0201000             0.502810                   1.0\n",
      "6   0010010             0.695801                   1.0\n",
      "7   1001100             0.538951                   1.0\n",
      "8   1001000             0.538182                   1.0\n",
      "9   0001000             0.506818                   1.0\n",
      "10  0100100             0.545575                   1.0\n",
      "11  1010100             0.567100                   1.0\n",
      "12  1001110             0.512632                   1.0\n",
      "13  0211110             0.538058                   1.0\n",
      "14  1101110             0.583351                   1.0\n",
      "15  1011000             0.732489                   1.0\n",
      "16  0111110             0.639773                   1.0\n",
      "17  1011100             0.619662                   1.0\n",
      "18  0210100             0.615856                   1.0\n",
      "19  0200000             0.536849                   1.0\n",
      "20  1000110             0.539760                   1.0\n",
      "21  0101010             0.595064                   1.0\n",
      "22  0210110             0.621609                   1.0\n",
      "23  1210110             0.661972                   1.0\n",
      "24  0211000             0.582952                   1.0\n",
      "25  1200100             0.544619                   1.0\n",
      "26  1101000             0.620889                   1.0\n",
      "27  1001010             0.565455                   1.0\n",
      "28  1201100             0.553760                   1.0\n",
      "29  1201000             0.544405                   1.0\n",
      "30  0100110             0.541281                   1.0\n",
      "31  0011000             0.659859                   1.0\n",
      "32  0200100             0.525495                   1.0\n",
      "33  0011010             0.635475                   1.0\n",
      "34  1010010             0.707224                   1.0\n",
      "35  0110110             0.658088                   1.0\n",
      "36  0211100             0.558364                   1.0\n",
      "37  1110110             0.674859                   1.0\n",
      "38  0101100             0.549299                   1.0\n",
      "39  1211010             0.644330                   1.0\n",
      "40  0010000             0.692267                   1.0\n",
      "41  0210000             0.629704                   1.0\n",
      "42  0000110             0.527600                   1.0\n",
      "43  0201010             0.471993                   1.0\n",
      "44  0101000             0.586442                   1.0\n",
      "45  0211010             0.596426                   1.0\n",
      "46  1111010             0.744186                   1.0\n"
     ]
    },
    {
     "data": {
      "text/html": [
       "<table border=\"1\" class=\"dataframe\">\n",
       "  <thead>\n",
       "    <tr style=\"text-align: left;\">\n",
       "      <th>epoch</th>\n",
       "      <th>train_loss</th>\n",
       "      <th>valid_loss</th>\n",
       "      <th>accuracy</th>\n",
       "      <th>time</th>\n",
       "    </tr>\n",
       "  </thead>\n",
       "  <tbody>\n",
       "    <tr>\n",
       "      <td>0</td>\n",
       "      <td>2.761459</td>\n",
       "      <td>2.697611</td>\n",
       "      <td>0.527722</td>\n",
       "      <td>00:04</td>\n",
       "    </tr>\n",
       "    <tr>\n",
       "      <td>1</td>\n",
       "      <td>2.575925</td>\n",
       "      <td>2.599072</td>\n",
       "      <td>0.631931</td>\n",
       "      <td>00:04</td>\n",
       "    </tr>\n",
       "    <tr>\n",
       "      <td>2</td>\n",
       "      <td>2.510535</td>\n",
       "      <td>2.566053</td>\n",
       "      <td>0.646627</td>\n",
       "      <td>00:04</td>\n",
       "    </tr>\n",
       "    <tr>\n",
       "      <td>3</td>\n",
       "      <td>2.500809</td>\n",
       "      <td>2.563798</td>\n",
       "      <td>0.645959</td>\n",
       "      <td>00:04</td>\n",
       "    </tr>\n",
       "    <tr>\n",
       "      <td>4</td>\n",
       "      <td>2.496705</td>\n",
       "      <td>2.559773</td>\n",
       "      <td>0.649967</td>\n",
       "      <td>00:04</td>\n",
       "    </tr>\n",
       "    <tr>\n",
       "      <td>5</td>\n",
       "      <td>2.501567</td>\n",
       "      <td>2.562198</td>\n",
       "      <td>0.645291</td>\n",
       "      <td>00:04</td>\n",
       "    </tr>\n",
       "    <tr>\n",
       "      <td>6</td>\n",
       "      <td>2.505157</td>\n",
       "      <td>2.562639</td>\n",
       "      <td>0.645291</td>\n",
       "      <td>00:04</td>\n",
       "    </tr>\n",
       "    <tr>\n",
       "      <td>7</td>\n",
       "      <td>2.499336</td>\n",
       "      <td>2.562407</td>\n",
       "      <td>0.644623</td>\n",
       "      <td>00:04</td>\n",
       "    </tr>\n",
       "  </tbody>\n",
       "</table>"
      ],
      "text/plain": [
       "<IPython.core.display.HTML object>"
      ]
     },
     "metadata": {},
     "output_type": "display_data"
    },
    {
     "name": "stdout",
     "output_type": "stream",
     "text": [
      "Better model found at epoch 0 with valid_loss value: 2.697611093521118.\n",
      "Better model found at epoch 1 with valid_loss value: 2.5990724563598633.\n",
      "Better model found at epoch 2 with valid_loss value: 2.5660529136657715.\n",
      "Better model found at epoch 3 with valid_loss value: 2.563798427581787.\n",
      "Better model found at epoch 4 with valid_loss value: 2.5597734451293945.\n",
      "No improvement since epoch 4: early stopping\n"
     ]
    },
    {
     "data": {
      "text/html": [],
      "text/plain": [
       "<IPython.core.display.HTML object>"
      ]
     },
     "metadata": {},
     "output_type": "display_data"
    },
    {
     "name": "stdout",
     "output_type": "stream",
     "text": [
      "Better model found at epoch 0 with valid_loss value: 0.6762914061546326.\n",
      "        Net  Case-based Accuracy  Model-based Accuracy\n",
      "0   1100000             0.596644                   1.0\n",
      "1   1110010             0.721316                   1.0\n",
      "2   1100110             0.545379                   1.0\n",
      "3   1110100             0.668933                   1.0\n",
      "4   0001010             0.474091                   1.0\n",
      "5   0201000             0.502810                   1.0\n",
      "6   0010010             0.695801                   1.0\n",
      "7   1001100             0.538951                   1.0\n",
      "8   1001000             0.538182                   1.0\n",
      "9   0001000             0.506818                   1.0\n",
      "10  0100100             0.545575                   1.0\n",
      "11  1010100             0.567100                   1.0\n",
      "12  1001110             0.512632                   1.0\n",
      "13  0211110             0.538058                   1.0\n",
      "14  1101110             0.583351                   1.0\n",
      "15  1011000             0.732489                   1.0\n",
      "16  0111110             0.639773                   1.0\n",
      "17  1011100             0.619662                   1.0\n",
      "18  0210100             0.615856                   1.0\n",
      "19  0200000             0.536849                   1.0\n",
      "20  1000110             0.539760                   1.0\n",
      "21  0101010             0.595064                   1.0\n",
      "22  0210110             0.621609                   1.0\n",
      "23  1210110             0.661972                   1.0\n",
      "24  0211000             0.582952                   1.0\n",
      "25  1200100             0.544619                   1.0\n",
      "26  1101000             0.620889                   1.0\n",
      "27  1001010             0.565455                   1.0\n",
      "28  1201100             0.553760                   1.0\n",
      "29  1201000             0.544405                   1.0\n",
      "30  0100110             0.541281                   1.0\n",
      "31  0011000             0.659859                   1.0\n",
      "32  0200100             0.525495                   1.0\n",
      "33  0011010             0.635475                   1.0\n",
      "34  1010010             0.707224                   1.0\n",
      "35  0110110             0.658088                   1.0\n",
      "36  0211100             0.558364                   1.0\n",
      "37  1110110             0.674859                   1.0\n",
      "38  0101100             0.549299                   1.0\n",
      "39  1211010             0.644330                   1.0\n",
      "40  0010000             0.692267                   1.0\n",
      "41  0210000             0.629704                   1.0\n",
      "42  0000110             0.527600                   1.0\n",
      "43  0201010             0.471993                   1.0\n",
      "44  0101000             0.586442                   1.0\n",
      "45  0211010             0.596426                   1.0\n",
      "46  1111010             0.744186                   1.0\n",
      "47  0111010             0.676291                   1.0\n"
     ]
    },
    {
     "data": {
      "text/html": [
       "<table border=\"1\" class=\"dataframe\">\n",
       "  <thead>\n",
       "    <tr style=\"text-align: left;\">\n",
       "      <th>epoch</th>\n",
       "      <th>train_loss</th>\n",
       "      <th>valid_loss</th>\n",
       "      <th>accuracy</th>\n",
       "      <th>time</th>\n",
       "    </tr>\n",
       "  </thead>\n",
       "  <tbody>\n",
       "    <tr>\n",
       "      <td>0</td>\n",
       "      <td>2.906537</td>\n",
       "      <td>2.901394</td>\n",
       "      <td>0.400204</td>\n",
       "      <td>00:05</td>\n",
       "    </tr>\n",
       "    <tr>\n",
       "      <td>1</td>\n",
       "      <td>2.730567</td>\n",
       "      <td>2.746348</td>\n",
       "      <td>0.549770</td>\n",
       "      <td>00:05</td>\n",
       "    </tr>\n",
       "    <tr>\n",
       "      <td>2</td>\n",
       "      <td>2.719225</td>\n",
       "      <td>2.743412</td>\n",
       "      <td>0.543134</td>\n",
       "      <td>00:05</td>\n",
       "    </tr>\n",
       "    <tr>\n",
       "      <td>3</td>\n",
       "      <td>2.715713</td>\n",
       "      <td>2.733298</td>\n",
       "      <td>0.554364</td>\n",
       "      <td>00:05</td>\n",
       "    </tr>\n",
       "    <tr>\n",
       "      <td>4</td>\n",
       "      <td>2.710349</td>\n",
       "      <td>2.731538</td>\n",
       "      <td>0.555385</td>\n",
       "      <td>00:05</td>\n",
       "    </tr>\n",
       "    <tr>\n",
       "      <td>5</td>\n",
       "      <td>2.712297</td>\n",
       "      <td>2.726941</td>\n",
       "      <td>0.559980</td>\n",
       "      <td>00:05</td>\n",
       "    </tr>\n",
       "    <tr>\n",
       "      <td>6</td>\n",
       "      <td>2.703511</td>\n",
       "      <td>2.719239</td>\n",
       "      <td>0.565595</td>\n",
       "      <td>00:05</td>\n",
       "    </tr>\n",
       "    <tr>\n",
       "      <td>7</td>\n",
       "      <td>2.699696</td>\n",
       "      <td>2.708533</td>\n",
       "      <td>0.578356</td>\n",
       "      <td>00:05</td>\n",
       "    </tr>\n",
       "    <tr>\n",
       "      <td>8</td>\n",
       "      <td>2.693546</td>\n",
       "      <td>2.710476</td>\n",
       "      <td>0.575804</td>\n",
       "      <td>00:05</td>\n",
       "    </tr>\n",
       "    <tr>\n",
       "      <td>9</td>\n",
       "      <td>2.687050</td>\n",
       "      <td>2.712273</td>\n",
       "      <td>0.571720</td>\n",
       "      <td>00:05</td>\n",
       "    </tr>\n",
       "    <tr>\n",
       "      <td>10</td>\n",
       "      <td>2.694404</td>\n",
       "      <td>2.721317</td>\n",
       "      <td>0.564574</td>\n",
       "      <td>00:05</td>\n",
       "    </tr>\n",
       "  </tbody>\n",
       "</table>"
      ],
      "text/plain": [
       "<IPython.core.display.HTML object>"
      ]
     },
     "metadata": {},
     "output_type": "display_data"
    },
    {
     "name": "stdout",
     "output_type": "stream",
     "text": [
      "Better model found at epoch 0 with valid_loss value: 2.9013936519622803.\n",
      "Better model found at epoch 1 with valid_loss value: 2.7463483810424805.\n",
      "Better model found at epoch 2 with valid_loss value: 2.743412494659424.\n",
      "Better model found at epoch 3 with valid_loss value: 2.7332983016967773.\n",
      "Better model found at epoch 4 with valid_loss value: 2.7315378189086914.\n",
      "Better model found at epoch 5 with valid_loss value: 2.726940870285034.\n",
      "Better model found at epoch 6 with valid_loss value: 2.7192394733428955.\n",
      "Better model found at epoch 7 with valid_loss value: 2.7085325717926025.\n",
      "No improvement since epoch 7: early stopping\n"
     ]
    },
    {
     "data": {
      "text/html": [],
      "text/plain": [
       "<IPython.core.display.HTML object>"
      ]
     },
     "metadata": {},
     "output_type": "display_data"
    },
    {
     "name": "stdout",
     "output_type": "stream",
     "text": [
      "Better model found at epoch 0 with valid_loss value: 0.5716021656990051.\n",
      "        Net  Case-based Accuracy  Model-based Accuracy\n",
      "0   1100000             0.596644                   1.0\n",
      "1   1110010             0.721316                   1.0\n",
      "2   1100110             0.545379                   1.0\n",
      "3   1110100             0.668933                   1.0\n",
      "4   0001010             0.474091                   1.0\n",
      "5   0201000             0.502810                   1.0\n",
      "6   0010010             0.695801                   1.0\n",
      "7   1001100             0.538951                   1.0\n",
      "8   1001000             0.538182                   1.0\n",
      "9   0001000             0.506818                   1.0\n",
      "10  0100100             0.545575                   1.0\n",
      "11  1010100             0.567100                   1.0\n",
      "12  1001110             0.512632                   1.0\n",
      "13  0211110             0.538058                   1.0\n",
      "14  1101110             0.583351                   1.0\n",
      "15  1011000             0.732489                   1.0\n",
      "16  0111110             0.639773                   1.0\n",
      "17  1011100             0.619662                   1.0\n",
      "18  0210100             0.615856                   1.0\n",
      "19  0200000             0.536849                   1.0\n",
      "20  1000110             0.539760                   1.0\n",
      "21  0101010             0.595064                   1.0\n",
      "22  0210110             0.621609                   1.0\n",
      "23  1210110             0.661972                   1.0\n",
      "24  0211000             0.582952                   1.0\n",
      "25  1200100             0.544619                   1.0\n",
      "26  1101000             0.620889                   1.0\n",
      "27  1001010             0.565455                   1.0\n",
      "28  1201100             0.553760                   1.0\n",
      "29  1201000             0.544405                   1.0\n",
      "30  0100110             0.541281                   1.0\n",
      "31  0011000             0.659859                   1.0\n",
      "32  0200100             0.525495                   1.0\n",
      "33  0011010             0.635475                   1.0\n",
      "34  1010010             0.707224                   1.0\n",
      "35  0110110             0.658088                   1.0\n",
      "36  0211100             0.558364                   1.0\n",
      "37  1110110             0.674859                   1.0\n",
      "38  0101100             0.549299                   1.0\n",
      "39  1211010             0.644330                   1.0\n",
      "40  0010000             0.692267                   1.0\n",
      "41  0210000             0.629704                   1.0\n",
      "42  0000110             0.527600                   1.0\n",
      "43  0201010             0.471993                   1.0\n",
      "44  0101000             0.586442                   1.0\n",
      "45  0211010             0.596426                   1.0\n",
      "46  1111010             0.744186                   1.0\n",
      "47  0111010             0.676291                   1.0\n",
      "48  1101100             0.571602                   1.0\n"
     ]
    },
    {
     "data": {
      "text/html": [
       "<table border=\"1\" class=\"dataframe\">\n",
       "  <thead>\n",
       "    <tr style=\"text-align: left;\">\n",
       "      <th>epoch</th>\n",
       "      <th>train_loss</th>\n",
       "      <th>valid_loss</th>\n",
       "      <th>accuracy</th>\n",
       "      <th>time</th>\n",
       "    </tr>\n",
       "  </thead>\n",
       "  <tbody>\n",
       "    <tr>\n",
       "      <td>0</td>\n",
       "      <td>2.818079</td>\n",
       "      <td>2.789305</td>\n",
       "      <td>0.500616</td>\n",
       "      <td>00:05</td>\n",
       "    </tr>\n",
       "    <tr>\n",
       "      <td>1</td>\n",
       "      <td>2.775573</td>\n",
       "      <td>2.776759</td>\n",
       "      <td>0.509236</td>\n",
       "      <td>00:05</td>\n",
       "    </tr>\n",
       "    <tr>\n",
       "      <td>2</td>\n",
       "      <td>2.758515</td>\n",
       "      <td>2.752720</td>\n",
       "      <td>0.533251</td>\n",
       "      <td>00:05</td>\n",
       "    </tr>\n",
       "    <tr>\n",
       "      <td>3</td>\n",
       "      <td>2.723437</td>\n",
       "      <td>2.722303</td>\n",
       "      <td>0.563424</td>\n",
       "      <td>00:05</td>\n",
       "    </tr>\n",
       "    <tr>\n",
       "      <td>4</td>\n",
       "      <td>2.715558</td>\n",
       "      <td>2.717751</td>\n",
       "      <td>0.567118</td>\n",
       "      <td>00:05</td>\n",
       "    </tr>\n",
       "    <tr>\n",
       "      <td>5</td>\n",
       "      <td>2.706442</td>\n",
       "      <td>2.716640</td>\n",
       "      <td>0.570197</td>\n",
       "      <td>00:05</td>\n",
       "    </tr>\n",
       "    <tr>\n",
       "      <td>6</td>\n",
       "      <td>2.684696</td>\n",
       "      <td>2.683330</td>\n",
       "      <td>0.604064</td>\n",
       "      <td>00:05</td>\n",
       "    </tr>\n",
       "    <tr>\n",
       "      <td>7</td>\n",
       "      <td>2.682723</td>\n",
       "      <td>2.681903</td>\n",
       "      <td>0.604680</td>\n",
       "      <td>00:05</td>\n",
       "    </tr>\n",
       "    <tr>\n",
       "      <td>8</td>\n",
       "      <td>2.676849</td>\n",
       "      <td>2.681757</td>\n",
       "      <td>0.605911</td>\n",
       "      <td>00:05</td>\n",
       "    </tr>\n",
       "    <tr>\n",
       "      <td>9</td>\n",
       "      <td>2.673439</td>\n",
       "      <td>2.682109</td>\n",
       "      <td>0.604064</td>\n",
       "      <td>00:05</td>\n",
       "    </tr>\n",
       "  </tbody>\n",
       "</table>"
      ],
      "text/plain": [
       "<IPython.core.display.HTML object>"
      ]
     },
     "metadata": {},
     "output_type": "display_data"
    },
    {
     "name": "stdout",
     "output_type": "stream",
     "text": [
      "Better model found at epoch 0 with valid_loss value: 2.7893054485321045.\n",
      "Better model found at epoch 1 with valid_loss value: 2.7767586708068848.\n",
      "Better model found at epoch 2 with valid_loss value: 2.752720355987549.\n",
      "Better model found at epoch 3 with valid_loss value: 2.7223029136657715.\n",
      "Better model found at epoch 4 with valid_loss value: 2.7177505493164062.\n",
      "Better model found at epoch 5 with valid_loss value: 2.716639995574951.\n",
      "Better model found at epoch 6 with valid_loss value: 2.6833302974700928.\n",
      "Better model found at epoch 7 with valid_loss value: 2.68190336227417.\n",
      "Better model found at epoch 8 with valid_loss value: 2.6817567348480225.\n",
      "No improvement since epoch 6: early stopping\n"
     ]
    },
    {
     "data": {
      "text/html": [],
      "text/plain": [
       "<IPython.core.display.HTML object>"
      ]
     },
     "metadata": {},
     "output_type": "display_data"
    },
    {
     "name": "stdout",
     "output_type": "stream",
     "text": [
      "Better model found at epoch 0 with valid_loss value: 0.6269820928573608.\n",
      "        Net  Case-based Accuracy  Model-based Accuracy\n",
      "0   1100000             0.596644                   1.0\n",
      "1   1110010             0.721316                   1.0\n",
      "2   1100110             0.545379                   1.0\n",
      "3   1110100             0.668933                   1.0\n",
      "4   0001010             0.474091                   1.0\n",
      "5   0201000             0.502810                   1.0\n",
      "6   0010010             0.695801                   1.0\n",
      "7   1001100             0.538951                   1.0\n",
      "8   1001000             0.538182                   1.0\n",
      "9   0001000             0.506818                   1.0\n",
      "10  0100100             0.545575                   1.0\n",
      "11  1010100             0.567100                   1.0\n",
      "12  1001110             0.512632                   1.0\n",
      "13  0211110             0.538058                   1.0\n",
      "14  1101110             0.583351                   1.0\n",
      "15  1011000             0.732489                   1.0\n",
      "16  0111110             0.639773                   1.0\n",
      "17  1011100             0.619662                   1.0\n",
      "18  0210100             0.615856                   1.0\n",
      "19  0200000             0.536849                   1.0\n",
      "20  1000110             0.539760                   1.0\n",
      "21  0101010             0.595064                   1.0\n",
      "22  0210110             0.621609                   1.0\n",
      "23  1210110             0.661972                   1.0\n",
      "24  0211000             0.582952                   1.0\n",
      "25  1200100             0.544619                   1.0\n",
      "26  1101000             0.620889                   1.0\n",
      "27  1001010             0.565455                   1.0\n",
      "28  1201100             0.553760                   1.0\n",
      "29  1201000             0.544405                   1.0\n",
      "30  0100110             0.541281                   1.0\n",
      "31  0011000             0.659859                   1.0\n",
      "32  0200100             0.525495                   1.0\n",
      "33  0011010             0.635475                   1.0\n",
      "34  1010010             0.707224                   1.0\n",
      "35  0110110             0.658088                   1.0\n",
      "36  0211100             0.558364                   1.0\n",
      "37  1110110             0.674859                   1.0\n",
      "38  0101100             0.549299                   1.0\n",
      "39  1211010             0.644330                   1.0\n",
      "40  0010000             0.692267                   1.0\n",
      "41  0210000             0.629704                   1.0\n",
      "42  0000110             0.527600                   1.0\n",
      "43  0201010             0.471993                   1.0\n",
      "44  0101000             0.586442                   1.0\n",
      "45  0211010             0.596426                   1.0\n",
      "46  1111010             0.744186                   1.0\n",
      "47  0111010             0.676291                   1.0\n",
      "48  1101100             0.571602                   1.0\n",
      "49  1211100             0.626982                   1.0\n"
     ]
    },
    {
     "data": {
      "text/html": [
       "<table border=\"1\" class=\"dataframe\">\n",
       "  <thead>\n",
       "    <tr style=\"text-align: left;\">\n",
       "      <th>epoch</th>\n",
       "      <th>train_loss</th>\n",
       "      <th>valid_loss</th>\n",
       "      <th>accuracy</th>\n",
       "      <th>time</th>\n",
       "    </tr>\n",
       "  </thead>\n",
       "  <tbody>\n",
       "    <tr>\n",
       "      <td>0</td>\n",
       "      <td>2.548018</td>\n",
       "      <td>2.425940</td>\n",
       "      <td>0.417279</td>\n",
       "      <td>00:02</td>\n",
       "    </tr>\n",
       "    <tr>\n",
       "      <td>1</td>\n",
       "      <td>2.396941</td>\n",
       "      <td>2.312956</td>\n",
       "      <td>0.533088</td>\n",
       "      <td>00:02</td>\n",
       "    </tr>\n",
       "    <tr>\n",
       "      <td>2</td>\n",
       "      <td>2.292407</td>\n",
       "      <td>2.225213</td>\n",
       "      <td>0.613971</td>\n",
       "      <td>00:02</td>\n",
       "    </tr>\n",
       "    <tr>\n",
       "      <td>3</td>\n",
       "      <td>2.212615</td>\n",
       "      <td>2.189554</td>\n",
       "      <td>0.636029</td>\n",
       "      <td>00:02</td>\n",
       "    </tr>\n",
       "    <tr>\n",
       "      <td>4</td>\n",
       "      <td>2.187896</td>\n",
       "      <td>2.180845</td>\n",
       "      <td>0.637868</td>\n",
       "      <td>00:02</td>\n",
       "    </tr>\n",
       "    <tr>\n",
       "      <td>5</td>\n",
       "      <td>2.157471</td>\n",
       "      <td>2.141972</td>\n",
       "      <td>0.681985</td>\n",
       "      <td>00:02</td>\n",
       "    </tr>\n",
       "    <tr>\n",
       "      <td>6</td>\n",
       "      <td>2.134957</td>\n",
       "      <td>2.132339</td>\n",
       "      <td>0.685662</td>\n",
       "      <td>00:02</td>\n",
       "    </tr>\n",
       "    <tr>\n",
       "      <td>7</td>\n",
       "      <td>2.125269</td>\n",
       "      <td>2.123379</td>\n",
       "      <td>0.691176</td>\n",
       "      <td>00:02</td>\n",
       "    </tr>\n",
       "    <tr>\n",
       "      <td>8</td>\n",
       "      <td>2.102218</td>\n",
       "      <td>2.097867</td>\n",
       "      <td>0.722426</td>\n",
       "      <td>00:02</td>\n",
       "    </tr>\n",
       "    <tr>\n",
       "      <td>9</td>\n",
       "      <td>2.090053</td>\n",
       "      <td>2.097616</td>\n",
       "      <td>0.722426</td>\n",
       "      <td>00:02</td>\n",
       "    </tr>\n",
       "    <tr>\n",
       "      <td>10</td>\n",
       "      <td>2.091549</td>\n",
       "      <td>2.095281</td>\n",
       "      <td>0.726103</td>\n",
       "      <td>00:02</td>\n",
       "    </tr>\n",
       "    <tr>\n",
       "      <td>11</td>\n",
       "      <td>2.088789</td>\n",
       "      <td>2.095518</td>\n",
       "      <td>0.720588</td>\n",
       "      <td>00:02</td>\n",
       "    </tr>\n",
       "  </tbody>\n",
       "</table>"
      ],
      "text/plain": [
       "<IPython.core.display.HTML object>"
      ]
     },
     "metadata": {},
     "output_type": "display_data"
    },
    {
     "name": "stdout",
     "output_type": "stream",
     "text": [
      "Better model found at epoch 0 with valid_loss value: 2.4259402751922607.\n",
      "Better model found at epoch 1 with valid_loss value: 2.312955856323242.\n",
      "Better model found at epoch 2 with valid_loss value: 2.225213050842285.\n",
      "Better model found at epoch 3 with valid_loss value: 2.189554214477539.\n",
      "Better model found at epoch 4 with valid_loss value: 2.1808454990386963.\n",
      "Better model found at epoch 5 with valid_loss value: 2.1419718265533447.\n",
      "Better model found at epoch 6 with valid_loss value: 2.132338523864746.\n",
      "Better model found at epoch 7 with valid_loss value: 2.1233794689178467.\n",
      "Better model found at epoch 8 with valid_loss value: 2.097867488861084.\n",
      "Better model found at epoch 9 with valid_loss value: 2.09761643409729.\n",
      "Better model found at epoch 10 with valid_loss value: 2.095280885696411.\n",
      "No improvement since epoch 8: early stopping\n"
     ]
    },
    {
     "data": {
      "text/html": [],
      "text/plain": [
       "<IPython.core.display.HTML object>"
      ]
     },
     "metadata": {},
     "output_type": "display_data"
    },
    {
     "name": "stdout",
     "output_type": "stream",
     "text": [
      "Better model found at epoch 0 with valid_loss value: 0.7492647171020508.\n",
      "        Net  Case-based Accuracy  Model-based Accuracy\n",
      "0   1100000             0.596644                   1.0\n",
      "1   1110010             0.721316                   1.0\n",
      "2   1100110             0.545379                   1.0\n",
      "3   1110100             0.668933                   1.0\n",
      "4   0001010             0.474091                   1.0\n",
      "5   0201000             0.502810                   1.0\n",
      "6   0010010             0.695801                   1.0\n",
      "7   1001100             0.538951                   1.0\n",
      "8   1001000             0.538182                   1.0\n",
      "9   0001000             0.506818                   1.0\n",
      "10  0100100             0.545575                   1.0\n",
      "11  1010100             0.567100                   1.0\n",
      "12  1001110             0.512632                   1.0\n",
      "13  0211110             0.538058                   1.0\n",
      "14  1101110             0.583351                   1.0\n",
      "15  1011000             0.732489                   1.0\n",
      "16  0111110             0.639773                   1.0\n",
      "17  1011100             0.619662                   1.0\n",
      "18  0210100             0.615856                   1.0\n",
      "19  0200000             0.536849                   1.0\n",
      "20  1000110             0.539760                   1.0\n",
      "21  0101010             0.595064                   1.0\n",
      "22  0210110             0.621609                   1.0\n",
      "23  1210110             0.661972                   1.0\n",
      "24  0211000             0.582952                   1.0\n",
      "25  1200100             0.544619                   1.0\n",
      "26  1101000             0.620889                   1.0\n",
      "27  1001010             0.565455                   1.0\n",
      "28  1201100             0.553760                   1.0\n",
      "29  1201000             0.544405                   1.0\n",
      "30  0100110             0.541281                   1.0\n",
      "31  0011000             0.659859                   1.0\n",
      "32  0200100             0.525495                   1.0\n",
      "33  0011010             0.635475                   1.0\n",
      "34  1010010             0.707224                   1.0\n",
      "35  0110110             0.658088                   1.0\n",
      "36  0211100             0.558364                   1.0\n",
      "37  1110110             0.674859                   1.0\n",
      "38  0101100             0.549299                   1.0\n",
      "39  1211010             0.644330                   1.0\n",
      "40  0010000             0.692267                   1.0\n",
      "41  0210000             0.629704                   1.0\n",
      "42  0000110             0.527600                   1.0\n",
      "43  0201010             0.471993                   1.0\n",
      "44  0101000             0.586442                   1.0\n",
      "45  0211010             0.596426                   1.0\n",
      "46  1111010             0.744186                   1.0\n",
      "47  0111010             0.676291                   1.0\n",
      "48  1101100             0.571602                   1.0\n",
      "49  1211100             0.626982                   1.0\n",
      "50  1011010             0.749265                   1.0\n"
     ]
    },
    {
     "data": {
      "text/html": [
       "<table border=\"1\" class=\"dataframe\">\n",
       "  <thead>\n",
       "    <tr style=\"text-align: left;\">\n",
       "      <th>epoch</th>\n",
       "      <th>train_loss</th>\n",
       "      <th>valid_loss</th>\n",
       "      <th>accuracy</th>\n",
       "      <th>time</th>\n",
       "    </tr>\n",
       "  </thead>\n",
       "  <tbody>\n",
       "    <tr>\n",
       "      <td>0</td>\n",
       "      <td>3.093343</td>\n",
       "      <td>3.084304</td>\n",
       "      <td>0.377637</td>\n",
       "      <td>00:06</td>\n",
       "    </tr>\n",
       "    <tr>\n",
       "      <td>1</td>\n",
       "      <td>2.919739</td>\n",
       "      <td>2.938632</td>\n",
       "      <td>0.524473</td>\n",
       "      <td>00:06</td>\n",
       "    </tr>\n",
       "    <tr>\n",
       "      <td>2</td>\n",
       "      <td>2.883534</td>\n",
       "      <td>2.922258</td>\n",
       "      <td>0.541772</td>\n",
       "      <td>00:06</td>\n",
       "    </tr>\n",
       "    <tr>\n",
       "      <td>3</td>\n",
       "      <td>2.869035</td>\n",
       "      <td>2.903601</td>\n",
       "      <td>0.555696</td>\n",
       "      <td>00:06</td>\n",
       "    </tr>\n",
       "    <tr>\n",
       "      <td>4</td>\n",
       "      <td>2.859869</td>\n",
       "      <td>2.898719</td>\n",
       "      <td>0.558650</td>\n",
       "      <td>00:06</td>\n",
       "    </tr>\n",
       "    <tr>\n",
       "      <td>5</td>\n",
       "      <td>2.868678</td>\n",
       "      <td>2.901271</td>\n",
       "      <td>0.556540</td>\n",
       "      <td>00:06</td>\n",
       "    </tr>\n",
       "    <tr>\n",
       "      <td>6</td>\n",
       "      <td>2.853768</td>\n",
       "      <td>2.896688</td>\n",
       "      <td>0.558228</td>\n",
       "      <td>00:06</td>\n",
       "    </tr>\n",
       "    <tr>\n",
       "      <td>7</td>\n",
       "      <td>2.855340</td>\n",
       "      <td>2.900560</td>\n",
       "      <td>0.559072</td>\n",
       "      <td>00:06</td>\n",
       "    </tr>\n",
       "    <tr>\n",
       "      <td>8</td>\n",
       "      <td>2.849582</td>\n",
       "      <td>2.893621</td>\n",
       "      <td>0.567932</td>\n",
       "      <td>00:06</td>\n",
       "    </tr>\n",
       "    <tr>\n",
       "      <td>9</td>\n",
       "      <td>2.838049</td>\n",
       "      <td>2.892823</td>\n",
       "      <td>0.564979</td>\n",
       "      <td>00:06</td>\n",
       "    </tr>\n",
       "  </tbody>\n",
       "</table>"
      ],
      "text/plain": [
       "<IPython.core.display.HTML object>"
      ]
     },
     "metadata": {},
     "output_type": "display_data"
    },
    {
     "name": "stdout",
     "output_type": "stream",
     "text": [
      "Better model found at epoch 0 with valid_loss value: 3.084303855895996.\n",
      "Better model found at epoch 1 with valid_loss value: 2.938632011413574.\n",
      "Better model found at epoch 2 with valid_loss value: 2.922257661819458.\n",
      "Better model found at epoch 3 with valid_loss value: 2.9036006927490234.\n",
      "Better model found at epoch 4 with valid_loss value: 2.8987185955047607.\n",
      "Better model found at epoch 6 with valid_loss value: 2.8966875076293945.\n",
      "Better model found at epoch 8 with valid_loss value: 2.8936212062835693.\n",
      "No improvement since epoch 6: early stopping\n"
     ]
    },
    {
     "data": {
      "text/html": [],
      "text/plain": [
       "<IPython.core.display.HTML object>"
      ]
     },
     "metadata": {},
     "output_type": "display_data"
    },
    {
     "name": "stdout",
     "output_type": "stream",
     "text": [
      "Better model found at epoch 0 with valid_loss value: 0.605601966381073.\n",
      "        Net  Case-based Accuracy  Model-based Accuracy\n",
      "0   1100000             0.596644                   1.0\n",
      "1   1110010             0.721316                   1.0\n",
      "2   1100110             0.545379                   1.0\n",
      "3   1110100             0.668933                   1.0\n",
      "4   0001010             0.474091                   1.0\n",
      "5   0201000             0.502810                   1.0\n",
      "6   0010010             0.695801                   1.0\n",
      "7   1001100             0.538951                   1.0\n",
      "8   1001000             0.538182                   1.0\n",
      "9   0001000             0.506818                   1.0\n",
      "10  0100100             0.545575                   1.0\n",
      "11  1010100             0.567100                   1.0\n",
      "12  1001110             0.512632                   1.0\n",
      "13  0211110             0.538058                   1.0\n",
      "14  1101110             0.583351                   1.0\n",
      "15  1011000             0.732489                   1.0\n",
      "16  0111110             0.639773                   1.0\n",
      "17  1011100             0.619662                   1.0\n",
      "18  0210100             0.615856                   1.0\n",
      "19  0200000             0.536849                   1.0\n",
      "20  1000110             0.539760                   1.0\n",
      "21  0101010             0.595064                   1.0\n",
      "22  0210110             0.621609                   1.0\n",
      "23  1210110             0.661972                   1.0\n",
      "24  0211000             0.582952                   1.0\n",
      "25  1200100             0.544619                   1.0\n",
      "26  1101000             0.620889                   1.0\n",
      "27  1001010             0.565455                   1.0\n",
      "28  1201100             0.553760                   1.0\n",
      "29  1201000             0.544405                   1.0\n",
      "30  0100110             0.541281                   1.0\n",
      "31  0011000             0.659859                   1.0\n",
      "32  0200100             0.525495                   1.0\n",
      "33  0011010             0.635475                   1.0\n",
      "34  1010010             0.707224                   1.0\n",
      "35  0110110             0.658088                   1.0\n",
      "36  0211100             0.558364                   1.0\n",
      "37  1110110             0.674859                   1.0\n",
      "38  0101100             0.549299                   1.0\n",
      "39  1211010             0.644330                   1.0\n",
      "40  0010000             0.692267                   1.0\n",
      "41  0210000             0.629704                   1.0\n",
      "42  0000110             0.527600                   1.0\n",
      "43  0201010             0.471993                   1.0\n",
      "44  0101000             0.586442                   1.0\n",
      "45  0211010             0.596426                   1.0\n",
      "46  1111010             0.744186                   1.0\n",
      "47  0111010             0.676291                   1.0\n",
      "48  1101100             0.571602                   1.0\n",
      "49  1211100             0.626982                   1.0\n",
      "50  1011010             0.749265                   1.0\n",
      "51  1100010             0.605602                   1.0\n"
     ]
    },
    {
     "data": {
      "text/html": [
       "<table border=\"1\" class=\"dataframe\">\n",
       "  <thead>\n",
       "    <tr style=\"text-align: left;\">\n",
       "      <th>epoch</th>\n",
       "      <th>train_loss</th>\n",
       "      <th>valid_loss</th>\n",
       "      <th>accuracy</th>\n",
       "      <th>time</th>\n",
       "    </tr>\n",
       "  </thead>\n",
       "  <tbody>\n",
       "    <tr>\n",
       "      <td>0</td>\n",
       "      <td>2.862877</td>\n",
       "      <td>2.792198</td>\n",
       "      <td>0.517678</td>\n",
       "      <td>00:04</td>\n",
       "    </tr>\n",
       "    <tr>\n",
       "      <td>1</td>\n",
       "      <td>2.715673</td>\n",
       "      <td>2.719810</td>\n",
       "      <td>0.571047</td>\n",
       "      <td>00:04</td>\n",
       "    </tr>\n",
       "    <tr>\n",
       "      <td>2</td>\n",
       "      <td>2.686929</td>\n",
       "      <td>2.694307</td>\n",
       "      <td>0.595063</td>\n",
       "      <td>00:04</td>\n",
       "    </tr>\n",
       "    <tr>\n",
       "      <td>3</td>\n",
       "      <td>2.676726</td>\n",
       "      <td>2.686206</td>\n",
       "      <td>0.604403</td>\n",
       "      <td>00:04</td>\n",
       "    </tr>\n",
       "    <tr>\n",
       "      <td>4</td>\n",
       "      <td>2.661265</td>\n",
       "      <td>2.673109</td>\n",
       "      <td>0.613742</td>\n",
       "      <td>00:04</td>\n",
       "    </tr>\n",
       "    <tr>\n",
       "      <td>5</td>\n",
       "      <td>2.654524</td>\n",
       "      <td>2.664727</td>\n",
       "      <td>0.622415</td>\n",
       "      <td>00:04</td>\n",
       "    </tr>\n",
       "    <tr>\n",
       "      <td>6</td>\n",
       "      <td>2.650773</td>\n",
       "      <td>2.667856</td>\n",
       "      <td>0.619079</td>\n",
       "      <td>00:04</td>\n",
       "    </tr>\n",
       "    <tr>\n",
       "      <td>7</td>\n",
       "      <td>2.650056</td>\n",
       "      <td>2.666694</td>\n",
       "      <td>0.619079</td>\n",
       "      <td>00:04</td>\n",
       "    </tr>\n",
       "    <tr>\n",
       "      <td>8</td>\n",
       "      <td>2.643237</td>\n",
       "      <td>2.665576</td>\n",
       "      <td>0.621081</td>\n",
       "      <td>00:04</td>\n",
       "    </tr>\n",
       "  </tbody>\n",
       "</table>"
      ],
      "text/plain": [
       "<IPython.core.display.HTML object>"
      ]
     },
     "metadata": {},
     "output_type": "display_data"
    },
    {
     "name": "stdout",
     "output_type": "stream",
     "text": [
      "Better model found at epoch 0 with valid_loss value: 2.7921979427337646.\n",
      "Better model found at epoch 1 with valid_loss value: 2.7198104858398438.\n",
      "Better model found at epoch 2 with valid_loss value: 2.694307327270508.\n",
      "Better model found at epoch 3 with valid_loss value: 2.6862056255340576.\n",
      "Better model found at epoch 4 with valid_loss value: 2.673109292984009.\n",
      "Better model found at epoch 5 with valid_loss value: 2.664726734161377.\n",
      "No improvement since epoch 5: early stopping\n"
     ]
    },
    {
     "data": {
      "text/html": [],
      "text/plain": [
       "<IPython.core.display.HTML object>"
      ]
     },
     "metadata": {},
     "output_type": "display_data"
    },
    {
     "name": "stdout",
     "output_type": "stream",
     "text": [
      "Better model found at epoch 0 with valid_loss value: 0.6413356065750122.\n",
      "        Net  Case-based Accuracy  Model-based Accuracy\n",
      "0   1100000             0.596644                   1.0\n",
      "1   1110010             0.721316                   1.0\n",
      "2   1100110             0.545379                   1.0\n",
      "3   1110100             0.668933                   1.0\n",
      "4   0001010             0.474091                   1.0\n",
      "5   0201000             0.502810                   1.0\n",
      "6   0010010             0.695801                   1.0\n",
      "7   1001100             0.538951                   1.0\n",
      "8   1001000             0.538182                   1.0\n",
      "9   0001000             0.506818                   1.0\n",
      "10  0100100             0.545575                   1.0\n",
      "11  1010100             0.567100                   1.0\n",
      "12  1001110             0.512632                   1.0\n",
      "13  0211110             0.538058                   1.0\n",
      "14  1101110             0.583351                   1.0\n",
      "15  1011000             0.732489                   1.0\n",
      "16  0111110             0.639773                   1.0\n",
      "17  1011100             0.619662                   1.0\n",
      "18  0210100             0.615856                   1.0\n",
      "19  0200000             0.536849                   1.0\n",
      "20  1000110             0.539760                   1.0\n",
      "21  0101010             0.595064                   1.0\n",
      "22  0210110             0.621609                   1.0\n",
      "23  1210110             0.661972                   1.0\n",
      "24  0211000             0.582952                   1.0\n",
      "25  1200100             0.544619                   1.0\n",
      "26  1101000             0.620889                   1.0\n",
      "27  1001010             0.565455                   1.0\n",
      "28  1201100             0.553760                   1.0\n",
      "29  1201000             0.544405                   1.0\n",
      "30  0100110             0.541281                   1.0\n",
      "31  0011000             0.659859                   1.0\n",
      "32  0200100             0.525495                   1.0\n",
      "33  0011010             0.635475                   1.0\n",
      "34  1010010             0.707224                   1.0\n",
      "35  0110110             0.658088                   1.0\n",
      "36  0211100             0.558364                   1.0\n",
      "37  1110110             0.674859                   1.0\n",
      "38  0101100             0.549299                   1.0\n",
      "39  1211010             0.644330                   1.0\n",
      "40  0010000             0.692267                   1.0\n",
      "41  0210000             0.629704                   1.0\n",
      "42  0000110             0.527600                   1.0\n",
      "43  0201010             0.471993                   1.0\n",
      "44  0101000             0.586442                   1.0\n",
      "45  0211010             0.596426                   1.0\n",
      "46  1111010             0.744186                   1.0\n",
      "47  0111010             0.676291                   1.0\n",
      "48  1101100             0.571602                   1.0\n",
      "49  1211100             0.626982                   1.0\n",
      "50  1011010             0.749265                   1.0\n",
      "51  1100010             0.605602                   1.0\n",
      "52  0111100             0.641336                   1.0\n"
     ]
    },
    {
     "data": {
      "text/html": [
       "<table border=\"1\" class=\"dataframe\">\n",
       "  <thead>\n",
       "    <tr style=\"text-align: left;\">\n",
       "      <th>epoch</th>\n",
       "      <th>train_loss</th>\n",
       "      <th>valid_loss</th>\n",
       "      <th>accuracy</th>\n",
       "      <th>time</th>\n",
       "    </tr>\n",
       "  </thead>\n",
       "  <tbody>\n",
       "    <tr>\n",
       "      <td>0</td>\n",
       "      <td>3.139789</td>\n",
       "      <td>3.052974</td>\n",
       "      <td>0.617113</td>\n",
       "      <td>00:05</td>\n",
       "    </tr>\n",
       "    <tr>\n",
       "      <td>1</td>\n",
       "      <td>3.010770</td>\n",
       "      <td>3.002705</td>\n",
       "      <td>0.657744</td>\n",
       "      <td>00:05</td>\n",
       "    </tr>\n",
       "    <tr>\n",
       "      <td>2</td>\n",
       "      <td>2.965236</td>\n",
       "      <td>2.977079</td>\n",
       "      <td>0.680688</td>\n",
       "      <td>00:05</td>\n",
       "    </tr>\n",
       "    <tr>\n",
       "      <td>3</td>\n",
       "      <td>2.967453</td>\n",
       "      <td>2.975365</td>\n",
       "      <td>0.682600</td>\n",
       "      <td>00:05</td>\n",
       "    </tr>\n",
       "    <tr>\n",
       "      <td>4</td>\n",
       "      <td>2.966166</td>\n",
       "      <td>2.977758</td>\n",
       "      <td>0.679254</td>\n",
       "      <td>00:05</td>\n",
       "    </tr>\n",
       "    <tr>\n",
       "      <td>5</td>\n",
       "      <td>2.963100</td>\n",
       "      <td>2.971165</td>\n",
       "      <td>0.686424</td>\n",
       "      <td>00:05</td>\n",
       "    </tr>\n",
       "    <tr>\n",
       "      <td>6</td>\n",
       "      <td>2.962892</td>\n",
       "      <td>2.975694</td>\n",
       "      <td>0.681644</td>\n",
       "      <td>00:05</td>\n",
       "    </tr>\n",
       "    <tr>\n",
       "      <td>7</td>\n",
       "      <td>2.956180</td>\n",
       "      <td>2.975832</td>\n",
       "      <td>0.681644</td>\n",
       "      <td>00:05</td>\n",
       "    </tr>\n",
       "    <tr>\n",
       "      <td>8</td>\n",
       "      <td>2.958072</td>\n",
       "      <td>2.973007</td>\n",
       "      <td>0.684990</td>\n",
       "      <td>00:05</td>\n",
       "    </tr>\n",
       "  </tbody>\n",
       "</table>"
      ],
      "text/plain": [
       "<IPython.core.display.HTML object>"
      ]
     },
     "metadata": {},
     "output_type": "display_data"
    },
    {
     "name": "stdout",
     "output_type": "stream",
     "text": [
      "Better model found at epoch 0 with valid_loss value: 3.0529744625091553.\n",
      "Better model found at epoch 1 with valid_loss value: 3.0027048587799072.\n",
      "Better model found at epoch 2 with valid_loss value: 2.977079153060913.\n",
      "Better model found at epoch 3 with valid_loss value: 2.975364923477173.\n",
      "Better model found at epoch 5 with valid_loss value: 2.9711649417877197.\n",
      "No improvement since epoch 5: early stopping\n"
     ]
    },
    {
     "data": {
      "text/html": [],
      "text/plain": [
       "<IPython.core.display.HTML object>"
      ]
     },
     "metadata": {},
     "output_type": "display_data"
    },
    {
     "name": "stdout",
     "output_type": "stream",
     "text": [
      "Better model found at epoch 0 with valid_loss value: 0.7148362398147583.\n",
      "        Net  Case-based Accuracy  Model-based Accuracy\n",
      "0   1100000             0.596644                   1.0\n",
      "1   1110010             0.721316                   1.0\n",
      "2   1100110             0.545379                   1.0\n",
      "3   1110100             0.668933                   1.0\n",
      "4   0001010             0.474091                   1.0\n",
      "5   0201000             0.502810                   1.0\n",
      "6   0010010             0.695801                   1.0\n",
      "7   1001100             0.538951                   1.0\n",
      "8   1001000             0.538182                   1.0\n",
      "9   0001000             0.506818                   1.0\n",
      "10  0100100             0.545575                   1.0\n",
      "11  1010100             0.567100                   1.0\n",
      "12  1001110             0.512632                   1.0\n",
      "13  0211110             0.538058                   1.0\n",
      "14  1101110             0.583351                   1.0\n",
      "15  1011000             0.732489                   1.0\n",
      "16  0111110             0.639773                   1.0\n",
      "17  1011100             0.619662                   1.0\n",
      "18  0210100             0.615856                   1.0\n",
      "19  0200000             0.536849                   1.0\n",
      "20  1000110             0.539760                   1.0\n",
      "21  0101010             0.595064                   1.0\n",
      "22  0210110             0.621609                   1.0\n",
      "23  1210110             0.661972                   1.0\n",
      "24  0211000             0.582952                   1.0\n",
      "25  1200100             0.544619                   1.0\n",
      "26  1101000             0.620889                   1.0\n",
      "27  1001010             0.565455                   1.0\n",
      "28  1201100             0.553760                   1.0\n",
      "29  1201000             0.544405                   1.0\n",
      "30  0100110             0.541281                   1.0\n",
      "31  0011000             0.659859                   1.0\n",
      "32  0200100             0.525495                   1.0\n",
      "33  0011010             0.635475                   1.0\n",
      "34  1010010             0.707224                   1.0\n",
      "35  0110110             0.658088                   1.0\n",
      "36  0211100             0.558364                   1.0\n",
      "37  1110110             0.674859                   1.0\n",
      "38  0101100             0.549299                   1.0\n",
      "39  1211010             0.644330                   1.0\n",
      "40  0010000             0.692267                   1.0\n",
      "41  0210000             0.629704                   1.0\n",
      "42  0000110             0.527600                   1.0\n",
      "43  0201010             0.471993                   1.0\n",
      "44  0101000             0.586442                   1.0\n",
      "45  0211010             0.596426                   1.0\n",
      "46  1111010             0.744186                   1.0\n",
      "47  0111010             0.676291                   1.0\n",
      "48  1101100             0.571602                   1.0\n",
      "49  1211100             0.626982                   1.0\n",
      "50  1011010             0.749265                   1.0\n",
      "51  1100010             0.605602                   1.0\n",
      "52  0111100             0.641336                   1.0\n",
      "53  1210000             0.714836                   1.0\n"
     ]
    },
    {
     "data": {
      "text/html": [
       "<table border=\"1\" class=\"dataframe\">\n",
       "  <thead>\n",
       "    <tr style=\"text-align: left;\">\n",
       "      <th>epoch</th>\n",
       "      <th>train_loss</th>\n",
       "      <th>valid_loss</th>\n",
       "      <th>accuracy</th>\n",
       "      <th>time</th>\n",
       "    </tr>\n",
       "  </thead>\n",
       "  <tbody>\n",
       "    <tr>\n",
       "      <td>0</td>\n",
       "      <td>2.632318</td>\n",
       "      <td>2.570716</td>\n",
       "      <td>0.471667</td>\n",
       "      <td>00:03</td>\n",
       "    </tr>\n",
       "    <tr>\n",
       "      <td>1</td>\n",
       "      <td>2.560715</td>\n",
       "      <td>2.532622</td>\n",
       "      <td>0.511667</td>\n",
       "      <td>00:03</td>\n",
       "    </tr>\n",
       "    <tr>\n",
       "      <td>2</td>\n",
       "      <td>2.505161</td>\n",
       "      <td>2.492672</td>\n",
       "      <td>0.542500</td>\n",
       "      <td>00:03</td>\n",
       "    </tr>\n",
       "    <tr>\n",
       "      <td>3</td>\n",
       "      <td>2.492232</td>\n",
       "      <td>2.483700</td>\n",
       "      <td>0.547500</td>\n",
       "      <td>00:03</td>\n",
       "    </tr>\n",
       "    <tr>\n",
       "      <td>4</td>\n",
       "      <td>2.477937</td>\n",
       "      <td>2.477216</td>\n",
       "      <td>0.550000</td>\n",
       "      <td>00:03</td>\n",
       "    </tr>\n",
       "    <tr>\n",
       "      <td>5</td>\n",
       "      <td>2.462221</td>\n",
       "      <td>2.453865</td>\n",
       "      <td>0.579167</td>\n",
       "      <td>00:03</td>\n",
       "    </tr>\n",
       "    <tr>\n",
       "      <td>6</td>\n",
       "      <td>2.455688</td>\n",
       "      <td>2.447799</td>\n",
       "      <td>0.583333</td>\n",
       "      <td>00:03</td>\n",
       "    </tr>\n",
       "    <tr>\n",
       "      <td>7</td>\n",
       "      <td>2.457646</td>\n",
       "      <td>2.447837</td>\n",
       "      <td>0.583333</td>\n",
       "      <td>00:03</td>\n",
       "    </tr>\n",
       "    <tr>\n",
       "      <td>8</td>\n",
       "      <td>2.455055</td>\n",
       "      <td>2.447006</td>\n",
       "      <td>0.584167</td>\n",
       "      <td>00:03</td>\n",
       "    </tr>\n",
       "    <tr>\n",
       "      <td>9</td>\n",
       "      <td>2.448868</td>\n",
       "      <td>2.435466</td>\n",
       "      <td>0.596667</td>\n",
       "      <td>00:03</td>\n",
       "    </tr>\n",
       "    <tr>\n",
       "      <td>10</td>\n",
       "      <td>2.445581</td>\n",
       "      <td>2.445987</td>\n",
       "      <td>0.585000</td>\n",
       "      <td>00:03</td>\n",
       "    </tr>\n",
       "    <tr>\n",
       "      <td>11</td>\n",
       "      <td>2.445309</td>\n",
       "      <td>2.434517</td>\n",
       "      <td>0.596667</td>\n",
       "      <td>00:03</td>\n",
       "    </tr>\n",
       "    <tr>\n",
       "      <td>12</td>\n",
       "      <td>2.447190</td>\n",
       "      <td>2.434485</td>\n",
       "      <td>0.596667</td>\n",
       "      <td>00:03</td>\n",
       "    </tr>\n",
       "  </tbody>\n",
       "</table>"
      ],
      "text/plain": [
       "<IPython.core.display.HTML object>"
      ]
     },
     "metadata": {},
     "output_type": "display_data"
    },
    {
     "name": "stdout",
     "output_type": "stream",
     "text": [
      "Better model found at epoch 0 with valid_loss value: 2.57071590423584.\n",
      "Better model found at epoch 1 with valid_loss value: 2.5326223373413086.\n",
      "Better model found at epoch 2 with valid_loss value: 2.4926722049713135.\n",
      "Better model found at epoch 3 with valid_loss value: 2.4837002754211426.\n",
      "Better model found at epoch 4 with valid_loss value: 2.477215528488159.\n",
      "Better model found at epoch 5 with valid_loss value: 2.453864574432373.\n",
      "Better model found at epoch 6 with valid_loss value: 2.44779896736145.\n",
      "Better model found at epoch 8 with valid_loss value: 2.4470055103302.\n",
      "Better model found at epoch 9 with valid_loss value: 2.4354662895202637.\n",
      "Better model found at epoch 11 with valid_loss value: 2.4345169067382812.\n",
      "No improvement since epoch 9: early stopping\n"
     ]
    },
    {
     "data": {
      "text/html": [],
      "text/plain": [
       "<IPython.core.display.HTML object>"
      ]
     },
     "metadata": {},
     "output_type": "display_data"
    },
    {
     "name": "stdout",
     "output_type": "stream",
     "text": [
      "Better model found at epoch 0 with valid_loss value: 0.5776666402816772.\n",
      "        Net  Case-based Accuracy  Model-based Accuracy\n",
      "0   1100000             0.596644                   1.0\n",
      "1   1110010             0.721316                   1.0\n",
      "2   1100110             0.545379                   1.0\n",
      "3   1110100             0.668933                   1.0\n",
      "4   0001010             0.474091                   1.0\n",
      "5   0201000             0.502810                   1.0\n",
      "6   0010010             0.695801                   1.0\n",
      "7   1001100             0.538951                   1.0\n",
      "8   1001000             0.538182                   1.0\n",
      "9   0001000             0.506818                   1.0\n",
      "10  0100100             0.545575                   1.0\n",
      "11  1010100             0.567100                   1.0\n",
      "12  1001110             0.512632                   1.0\n",
      "13  0211110             0.538058                   1.0\n",
      "14  1101110             0.583351                   1.0\n",
      "15  1011000             0.732489                   1.0\n",
      "16  0111110             0.639773                   1.0\n",
      "17  1011100             0.619662                   1.0\n",
      "18  0210100             0.615856                   1.0\n",
      "19  0200000             0.536849                   1.0\n",
      "20  1000110             0.539760                   1.0\n",
      "21  0101010             0.595064                   1.0\n",
      "22  0210110             0.621609                   1.0\n",
      "23  1210110             0.661972                   1.0\n",
      "24  0211000             0.582952                   1.0\n",
      "25  1200100             0.544619                   1.0\n",
      "26  1101000             0.620889                   1.0\n",
      "27  1001010             0.565455                   1.0\n",
      "28  1201100             0.553760                   1.0\n",
      "29  1201000             0.544405                   1.0\n",
      "30  0100110             0.541281                   1.0\n",
      "31  0011000             0.659859                   1.0\n",
      "32  0200100             0.525495                   1.0\n",
      "33  0011010             0.635475                   1.0\n",
      "34  1010010             0.707224                   1.0\n",
      "35  0110110             0.658088                   1.0\n",
      "36  0211100             0.558364                   1.0\n",
      "37  1110110             0.674859                   1.0\n",
      "38  0101100             0.549299                   1.0\n",
      "39  1211010             0.644330                   1.0\n",
      "40  0010000             0.692267                   1.0\n",
      "41  0210000             0.629704                   1.0\n",
      "42  0000110             0.527600                   1.0\n",
      "43  0201010             0.471993                   1.0\n",
      "44  0101000             0.586442                   1.0\n",
      "45  0211010             0.596426                   1.0\n",
      "46  1111010             0.744186                   1.0\n",
      "47  0111010             0.676291                   1.0\n",
      "48  1101100             0.571602                   1.0\n",
      "49  1211100             0.626982                   1.0\n",
      "50  1011010             0.749265                   1.0\n",
      "51  1100010             0.605602                   1.0\n",
      "52  0111100             0.641336                   1.0\n",
      "53  1210000             0.714836                   1.0\n",
      "54  1000010             0.577667                   1.0\n"
     ]
    },
    {
     "data": {
      "text/html": [
       "<table border=\"1\" class=\"dataframe\">\n",
       "  <thead>\n",
       "    <tr style=\"text-align: left;\">\n",
       "      <th>epoch</th>\n",
       "      <th>train_loss</th>\n",
       "      <th>valid_loss</th>\n",
       "      <th>accuracy</th>\n",
       "      <th>time</th>\n",
       "    </tr>\n",
       "  </thead>\n",
       "  <tbody>\n",
       "    <tr>\n",
       "      <td>0</td>\n",
       "      <td>3.112256</td>\n",
       "      <td>3.086949</td>\n",
       "      <td>0.472537</td>\n",
       "      <td>00:06</td>\n",
       "    </tr>\n",
       "    <tr>\n",
       "      <td>1</td>\n",
       "      <td>3.028496</td>\n",
       "      <td>3.014331</td>\n",
       "      <td>0.539669</td>\n",
       "      <td>00:06</td>\n",
       "    </tr>\n",
       "    <tr>\n",
       "      <td>2</td>\n",
       "      <td>3.011141</td>\n",
       "      <td>3.009717</td>\n",
       "      <td>0.540105</td>\n",
       "      <td>00:06</td>\n",
       "    </tr>\n",
       "    <tr>\n",
       "      <td>3</td>\n",
       "      <td>3.011800</td>\n",
       "      <td>3.000822</td>\n",
       "      <td>0.549695</td>\n",
       "      <td>00:06</td>\n",
       "    </tr>\n",
       "    <tr>\n",
       "      <td>4</td>\n",
       "      <td>2.998544</td>\n",
       "      <td>3.001031</td>\n",
       "      <td>0.547079</td>\n",
       "      <td>00:06</td>\n",
       "    </tr>\n",
       "    <tr>\n",
       "      <td>5</td>\n",
       "      <td>2.998129</td>\n",
       "      <td>3.001890</td>\n",
       "      <td>0.545772</td>\n",
       "      <td>00:06</td>\n",
       "    </tr>\n",
       "    <tr>\n",
       "      <td>6</td>\n",
       "      <td>3.001289</td>\n",
       "      <td>3.006682</td>\n",
       "      <td>0.540976</td>\n",
       "      <td>00:06</td>\n",
       "    </tr>\n",
       "  </tbody>\n",
       "</table>"
      ],
      "text/plain": [
       "<IPython.core.display.HTML object>"
      ]
     },
     "metadata": {},
     "output_type": "display_data"
    },
    {
     "name": "stdout",
     "output_type": "stream",
     "text": [
      "Better model found at epoch 0 with valid_loss value: 3.086949110031128.\n",
      "Better model found at epoch 1 with valid_loss value: 3.0143306255340576.\n",
      "Better model found at epoch 2 with valid_loss value: 3.0097169876098633.\n",
      "Better model found at epoch 3 with valid_loss value: 3.000821590423584.\n",
      "No improvement since epoch 3: early stopping\n"
     ]
    },
    {
     "data": {
      "text/html": [],
      "text/plain": [
       "<IPython.core.display.HTML object>"
      ]
     },
     "metadata": {},
     "output_type": "display_data"
    },
    {
     "name": "stdout",
     "output_type": "stream",
     "text": [
      "Better model found at epoch 0 with valid_loss value: 0.5229875445365906.\n",
      "        Net  Case-based Accuracy  Model-based Accuracy\n",
      "0   1100000             0.596644                   1.0\n",
      "1   1110010             0.721316                   1.0\n",
      "2   1100110             0.545379                   1.0\n",
      "3   1110100             0.668933                   1.0\n",
      "4   0001010             0.474091                   1.0\n",
      "5   0201000             0.502810                   1.0\n",
      "6   0010010             0.695801                   1.0\n",
      "7   1001100             0.538951                   1.0\n",
      "8   1001000             0.538182                   1.0\n",
      "9   0001000             0.506818                   1.0\n",
      "10  0100100             0.545575                   1.0\n",
      "11  1010100             0.567100                   1.0\n",
      "12  1001110             0.512632                   1.0\n",
      "13  0211110             0.538058                   1.0\n",
      "14  1101110             0.583351                   1.0\n",
      "15  1011000             0.732489                   1.0\n",
      "16  0111110             0.639773                   1.0\n",
      "17  1011100             0.619662                   1.0\n",
      "18  0210100             0.615856                   1.0\n",
      "19  0200000             0.536849                   1.0\n",
      "20  1000110             0.539760                   1.0\n",
      "21  0101010             0.595064                   1.0\n",
      "22  0210110             0.621609                   1.0\n",
      "23  1210110             0.661972                   1.0\n",
      "24  0211000             0.582952                   1.0\n",
      "25  1200100             0.544619                   1.0\n",
      "26  1101000             0.620889                   1.0\n",
      "27  1001010             0.565455                   1.0\n",
      "28  1201100             0.553760                   1.0\n",
      "29  1201000             0.544405                   1.0\n",
      "30  0100110             0.541281                   1.0\n",
      "31  0011000             0.659859                   1.0\n",
      "32  0200100             0.525495                   1.0\n",
      "33  0011010             0.635475                   1.0\n",
      "34  1010010             0.707224                   1.0\n",
      "35  0110110             0.658088                   1.0\n",
      "36  0211100             0.558364                   1.0\n",
      "37  1110110             0.674859                   1.0\n",
      "38  0101100             0.549299                   1.0\n",
      "39  1211010             0.644330                   1.0\n",
      "40  0010000             0.692267                   1.0\n",
      "41  0210000             0.629704                   1.0\n",
      "42  0000110             0.527600                   1.0\n",
      "43  0201010             0.471993                   1.0\n",
      "44  0101000             0.586442                   1.0\n",
      "45  0211010             0.596426                   1.0\n",
      "46  1111010             0.744186                   1.0\n",
      "47  0111010             0.676291                   1.0\n",
      "48  1101100             0.571602                   1.0\n",
      "49  1211100             0.626982                   1.0\n",
      "50  1011010             0.749265                   1.0\n",
      "51  1100010             0.605602                   1.0\n",
      "52  0111100             0.641336                   1.0\n",
      "53  1210000             0.714836                   1.0\n",
      "54  1000010             0.577667                   1.0\n",
      "55  1100100             0.522988                   1.0\n"
     ]
    },
    {
     "data": {
      "text/html": [
       "<table border=\"1\" class=\"dataframe\">\n",
       "  <thead>\n",
       "    <tr style=\"text-align: left;\">\n",
       "      <th>epoch</th>\n",
       "      <th>train_loss</th>\n",
       "      <th>valid_loss</th>\n",
       "      <th>accuracy</th>\n",
       "      <th>time</th>\n",
       "    </tr>\n",
       "  </thead>\n",
       "  <tbody>\n",
       "    <tr>\n",
       "      <td>0</td>\n",
       "      <td>2.733035</td>\n",
       "      <td>2.675131</td>\n",
       "      <td>0.446667</td>\n",
       "      <td>00:03</td>\n",
       "    </tr>\n",
       "    <tr>\n",
       "      <td>1</td>\n",
       "      <td>2.610487</td>\n",
       "      <td>2.588033</td>\n",
       "      <td>0.540000</td>\n",
       "      <td>00:03</td>\n",
       "    </tr>\n",
       "    <tr>\n",
       "      <td>2</td>\n",
       "      <td>2.586998</td>\n",
       "      <td>2.561710</td>\n",
       "      <td>0.573333</td>\n",
       "      <td>00:03</td>\n",
       "    </tr>\n",
       "    <tr>\n",
       "      <td>3</td>\n",
       "      <td>2.560562</td>\n",
       "      <td>2.551030</td>\n",
       "      <td>0.574167</td>\n",
       "      <td>00:03</td>\n",
       "    </tr>\n",
       "    <tr>\n",
       "      <td>4</td>\n",
       "      <td>2.566430</td>\n",
       "      <td>2.549984</td>\n",
       "      <td>0.574167</td>\n",
       "      <td>00:03</td>\n",
       "    </tr>\n",
       "    <tr>\n",
       "      <td>5</td>\n",
       "      <td>2.555058</td>\n",
       "      <td>2.549126</td>\n",
       "      <td>0.575000</td>\n",
       "      <td>00:03</td>\n",
       "    </tr>\n",
       "    <tr>\n",
       "      <td>6</td>\n",
       "      <td>2.546223</td>\n",
       "      <td>2.539392</td>\n",
       "      <td>0.584167</td>\n",
       "      <td>00:03</td>\n",
       "    </tr>\n",
       "    <tr>\n",
       "      <td>7</td>\n",
       "      <td>2.539908</td>\n",
       "      <td>2.531944</td>\n",
       "      <td>0.591667</td>\n",
       "      <td>00:03</td>\n",
       "    </tr>\n",
       "    <tr>\n",
       "      <td>8</td>\n",
       "      <td>2.544888</td>\n",
       "      <td>2.531745</td>\n",
       "      <td>0.591667</td>\n",
       "      <td>00:03</td>\n",
       "    </tr>\n",
       "    <tr>\n",
       "      <td>9</td>\n",
       "      <td>2.536201</td>\n",
       "      <td>2.534008</td>\n",
       "      <td>0.589167</td>\n",
       "      <td>00:03</td>\n",
       "    </tr>\n",
       "    <tr>\n",
       "      <td>10</td>\n",
       "      <td>2.540865</td>\n",
       "      <td>2.533066</td>\n",
       "      <td>0.590000</td>\n",
       "      <td>00:03</td>\n",
       "    </tr>\n",
       "  </tbody>\n",
       "</table>"
      ],
      "text/plain": [
       "<IPython.core.display.HTML object>"
      ]
     },
     "metadata": {},
     "output_type": "display_data"
    },
    {
     "name": "stdout",
     "output_type": "stream",
     "text": [
      "Better model found at epoch 0 with valid_loss value: 2.675131320953369.\n",
      "Better model found at epoch 1 with valid_loss value: 2.5880331993103027.\n",
      "Better model found at epoch 2 with valid_loss value: 2.5617101192474365.\n",
      "Better model found at epoch 3 with valid_loss value: 2.551030397415161.\n",
      "Better model found at epoch 4 with valid_loss value: 2.549983501434326.\n",
      "Better model found at epoch 5 with valid_loss value: 2.5491256713867188.\n",
      "Better model found at epoch 6 with valid_loss value: 2.53939151763916.\n",
      "Better model found at epoch 7 with valid_loss value: 2.5319435596466064.\n",
      "Better model found at epoch 8 with valid_loss value: 2.531745195388794.\n",
      "No improvement since epoch 7: early stopping\n"
     ]
    },
    {
     "data": {
      "text/html": [],
      "text/plain": [
       "<IPython.core.display.HTML object>"
      ]
     },
     "metadata": {},
     "output_type": "display_data"
    },
    {
     "name": "stdout",
     "output_type": "stream",
     "text": [
      "Better model found at epoch 0 with valid_loss value: 0.5600000023841858.\n",
      "        Net  Case-based Accuracy  Model-based Accuracy\n",
      "0   1100000             0.596644                   1.0\n",
      "1   1110010             0.721316                   1.0\n",
      "2   1100110             0.545379                   1.0\n",
      "3   1110100             0.668933                   1.0\n",
      "4   0001010             0.474091                   1.0\n",
      "5   0201000             0.502810                   1.0\n",
      "6   0010010             0.695801                   1.0\n",
      "7   1001100             0.538951                   1.0\n",
      "8   1001000             0.538182                   1.0\n",
      "9   0001000             0.506818                   1.0\n",
      "10  0100100             0.545575                   1.0\n",
      "11  1010100             0.567100                   1.0\n",
      "12  1001110             0.512632                   1.0\n",
      "13  0211110             0.538058                   1.0\n",
      "14  1101110             0.583351                   1.0\n",
      "15  1011000             0.732489                   1.0\n",
      "16  0111110             0.639773                   1.0\n",
      "17  1011100             0.619662                   1.0\n",
      "18  0210100             0.615856                   1.0\n",
      "19  0200000             0.536849                   1.0\n",
      "20  1000110             0.539760                   1.0\n",
      "21  0101010             0.595064                   1.0\n",
      "22  0210110             0.621609                   1.0\n",
      "23  1210110             0.661972                   1.0\n",
      "24  0211000             0.582952                   1.0\n",
      "25  1200100             0.544619                   1.0\n",
      "26  1101000             0.620889                   1.0\n",
      "27  1001010             0.565455                   1.0\n",
      "28  1201100             0.553760                   1.0\n",
      "29  1201000             0.544405                   1.0\n",
      "30  0100110             0.541281                   1.0\n",
      "31  0011000             0.659859                   1.0\n",
      "32  0200100             0.525495                   1.0\n",
      "33  0011010             0.635475                   1.0\n",
      "34  1010010             0.707224                   1.0\n",
      "35  0110110             0.658088                   1.0\n",
      "36  0211100             0.558364                   1.0\n",
      "37  1110110             0.674859                   1.0\n",
      "38  0101100             0.549299                   1.0\n",
      "39  1211010             0.644330                   1.0\n",
      "40  0010000             0.692267                   1.0\n",
      "41  0210000             0.629704                   1.0\n",
      "42  0000110             0.527600                   1.0\n",
      "43  0201010             0.471993                   1.0\n",
      "44  0101000             0.586442                   1.0\n",
      "45  0211010             0.596426                   1.0\n",
      "46  1111010             0.744186                   1.0\n",
      "47  0111010             0.676291                   1.0\n",
      "48  1101100             0.571602                   1.0\n",
      "49  1211100             0.626982                   1.0\n",
      "50  1011010             0.749265                   1.0\n",
      "51  1100010             0.605602                   1.0\n",
      "52  0111100             0.641336                   1.0\n",
      "53  1210000             0.714836                   1.0\n",
      "54  1000010             0.577667                   1.0\n",
      "55  1100100             0.522988                   1.0\n",
      "56  1000000             0.560000                   1.0\n"
     ]
    },
    {
     "data": {
      "text/html": [
       "<table border=\"1\" class=\"dataframe\">\n",
       "  <thead>\n",
       "    <tr style=\"text-align: left;\">\n",
       "      <th>epoch</th>\n",
       "      <th>train_loss</th>\n",
       "      <th>valid_loss</th>\n",
       "      <th>accuracy</th>\n",
       "      <th>time</th>\n",
       "    </tr>\n",
       "  </thead>\n",
       "  <tbody>\n",
       "    <tr>\n",
       "      <td>0</td>\n",
       "      <td>2.807145</td>\n",
       "      <td>2.736108</td>\n",
       "      <td>0.411111</td>\n",
       "      <td>00:03</td>\n",
       "    </tr>\n",
       "    <tr>\n",
       "      <td>1</td>\n",
       "      <td>2.708998</td>\n",
       "      <td>2.693398</td>\n",
       "      <td>0.447222</td>\n",
       "      <td>00:03</td>\n",
       "    </tr>\n",
       "    <tr>\n",
       "      <td>2</td>\n",
       "      <td>2.670346</td>\n",
       "      <td>2.669008</td>\n",
       "      <td>0.453704</td>\n",
       "      <td>00:03</td>\n",
       "    </tr>\n",
       "    <tr>\n",
       "      <td>3</td>\n",
       "      <td>2.642548</td>\n",
       "      <td>2.642690</td>\n",
       "      <td>0.487037</td>\n",
       "      <td>00:03</td>\n",
       "    </tr>\n",
       "    <tr>\n",
       "      <td>4</td>\n",
       "      <td>2.627611</td>\n",
       "      <td>2.626026</td>\n",
       "      <td>0.495370</td>\n",
       "      <td>00:03</td>\n",
       "    </tr>\n",
       "    <tr>\n",
       "      <td>5</td>\n",
       "      <td>2.605644</td>\n",
       "      <td>2.596368</td>\n",
       "      <td>0.526852</td>\n",
       "      <td>00:03</td>\n",
       "    </tr>\n",
       "    <tr>\n",
       "      <td>6</td>\n",
       "      <td>2.592696</td>\n",
       "      <td>2.592117</td>\n",
       "      <td>0.526852</td>\n",
       "      <td>00:03</td>\n",
       "    </tr>\n",
       "    <tr>\n",
       "      <td>7</td>\n",
       "      <td>2.588596</td>\n",
       "      <td>2.591105</td>\n",
       "      <td>0.531482</td>\n",
       "      <td>00:03</td>\n",
       "    </tr>\n",
       "    <tr>\n",
       "      <td>8</td>\n",
       "      <td>2.576957</td>\n",
       "      <td>2.595215</td>\n",
       "      <td>0.530556</td>\n",
       "      <td>00:03</td>\n",
       "    </tr>\n",
       "    <tr>\n",
       "      <td>9</td>\n",
       "      <td>2.575125</td>\n",
       "      <td>2.598162</td>\n",
       "      <td>0.520370</td>\n",
       "      <td>00:03</td>\n",
       "    </tr>\n",
       "    <tr>\n",
       "      <td>10</td>\n",
       "      <td>2.570392</td>\n",
       "      <td>2.598304</td>\n",
       "      <td>0.521296</td>\n",
       "      <td>00:03</td>\n",
       "    </tr>\n",
       "  </tbody>\n",
       "</table>"
      ],
      "text/plain": [
       "<IPython.core.display.HTML object>"
      ]
     },
     "metadata": {},
     "output_type": "display_data"
    },
    {
     "name": "stdout",
     "output_type": "stream",
     "text": [
      "Better model found at epoch 0 with valid_loss value: 2.736107587814331.\n",
      "Better model found at epoch 1 with valid_loss value: 2.6933982372283936.\n",
      "Better model found at epoch 2 with valid_loss value: 2.6690080165863037.\n",
      "Better model found at epoch 3 with valid_loss value: 2.6426897048950195.\n",
      "Better model found at epoch 4 with valid_loss value: 2.6260263919830322.\n",
      "Better model found at epoch 5 with valid_loss value: 2.596367597579956.\n",
      "Better model found at epoch 6 with valid_loss value: 2.5921168327331543.\n",
      "Better model found at epoch 7 with valid_loss value: 2.591104745864868.\n",
      "No improvement since epoch 7: early stopping\n"
     ]
    },
    {
     "data": {
      "text/html": [],
      "text/plain": [
       "<IPython.core.display.HTML object>"
      ]
     },
     "metadata": {},
     "output_type": "display_data"
    },
    {
     "name": "stdout",
     "output_type": "stream",
     "text": [
      "Better model found at epoch 0 with valid_loss value: 0.5287528038024902.\n",
      "        Net  Case-based Accuracy  Model-based Accuracy\n",
      "0   1100000             0.596644                   1.0\n",
      "1   1110010             0.721316                   1.0\n",
      "2   1100110             0.545379                   1.0\n",
      "3   1110100             0.668933                   1.0\n",
      "4   0001010             0.474091                   1.0\n",
      "5   0201000             0.502810                   1.0\n",
      "6   0010010             0.695801                   1.0\n",
      "7   1001100             0.538951                   1.0\n",
      "8   1001000             0.538182                   1.0\n",
      "9   0001000             0.506818                   1.0\n",
      "10  0100100             0.545575                   1.0\n",
      "11  1010100             0.567100                   1.0\n",
      "12  1001110             0.512632                   1.0\n",
      "13  0211110             0.538058                   1.0\n",
      "14  1101110             0.583351                   1.0\n",
      "15  1011000             0.732489                   1.0\n",
      "16  0111110             0.639773                   1.0\n",
      "17  1011100             0.619662                   1.0\n",
      "18  0210100             0.615856                   1.0\n",
      "19  0200000             0.536849                   1.0\n",
      "20  1000110             0.539760                   1.0\n",
      "21  0101010             0.595064                   1.0\n",
      "22  0210110             0.621609                   1.0\n",
      "23  1210110             0.661972                   1.0\n",
      "24  0211000             0.582952                   1.0\n",
      "25  1200100             0.544619                   1.0\n",
      "26  1101000             0.620889                   1.0\n",
      "27  1001010             0.565455                   1.0\n",
      "28  1201100             0.553760                   1.0\n",
      "29  1201000             0.544405                   1.0\n",
      "30  0100110             0.541281                   1.0\n",
      "31  0011000             0.659859                   1.0\n",
      "32  0200100             0.525495                   1.0\n",
      "33  0011010             0.635475                   1.0\n",
      "34  1010010             0.707224                   1.0\n",
      "35  0110110             0.658088                   1.0\n",
      "36  0211100             0.558364                   1.0\n",
      "37  1110110             0.674859                   1.0\n",
      "38  0101100             0.549299                   1.0\n",
      "39  1211010             0.644330                   1.0\n",
      "40  0010000             0.692267                   1.0\n",
      "41  0210000             0.629704                   1.0\n",
      "42  0000110             0.527600                   1.0\n",
      "43  0201010             0.471993                   1.0\n",
      "44  0101000             0.586442                   1.0\n",
      "45  0211010             0.596426                   1.0\n",
      "46  1111010             0.744186                   1.0\n",
      "47  0111010             0.676291                   1.0\n",
      "48  1101100             0.571602                   1.0\n",
      "49  1211100             0.626982                   1.0\n",
      "50  1011010             0.749265                   1.0\n",
      "51  1100010             0.605602                   1.0\n",
      "52  0111100             0.641336                   1.0\n",
      "53  1210000             0.714836                   1.0\n",
      "54  1000010             0.577667                   1.0\n",
      "55  1100100             0.522988                   1.0\n",
      "56  1000000             0.560000                   1.0\n",
      "57  0000100             0.528753                   1.0\n"
     ]
    },
    {
     "data": {
      "text/html": [
       "<table border=\"1\" class=\"dataframe\">\n",
       "  <thead>\n",
       "    <tr style=\"text-align: left;\">\n",
       "      <th>epoch</th>\n",
       "      <th>train_loss</th>\n",
       "      <th>valid_loss</th>\n",
       "      <th>accuracy</th>\n",
       "      <th>time</th>\n",
       "    </tr>\n",
       "  </thead>\n",
       "  <tbody>\n",
       "    <tr>\n",
       "      <td>0</td>\n",
       "      <td>2.810709</td>\n",
       "      <td>2.677980</td>\n",
       "      <td>0.591431</td>\n",
       "      <td>00:04</td>\n",
       "    </tr>\n",
       "    <tr>\n",
       "      <td>1</td>\n",
       "      <td>2.567935</td>\n",
       "      <td>2.589334</td>\n",
       "      <td>0.621270</td>\n",
       "      <td>00:04</td>\n",
       "    </tr>\n",
       "    <tr>\n",
       "      <td>2</td>\n",
       "      <td>2.550272</td>\n",
       "      <td>2.580338</td>\n",
       "      <td>0.628921</td>\n",
       "      <td>00:04</td>\n",
       "    </tr>\n",
       "    <tr>\n",
       "      <td>3</td>\n",
       "      <td>2.528582</td>\n",
       "      <td>2.553699</td>\n",
       "      <td>0.657995</td>\n",
       "      <td>00:04</td>\n",
       "    </tr>\n",
       "    <tr>\n",
       "      <td>4</td>\n",
       "      <td>2.529160</td>\n",
       "      <td>2.550214</td>\n",
       "      <td>0.658761</td>\n",
       "      <td>00:04</td>\n",
       "    </tr>\n",
       "    <tr>\n",
       "      <td>5</td>\n",
       "      <td>2.527403</td>\n",
       "      <td>2.548695</td>\n",
       "      <td>0.660291</td>\n",
       "      <td>00:04</td>\n",
       "    </tr>\n",
       "    <tr>\n",
       "      <td>6</td>\n",
       "      <td>2.511014</td>\n",
       "      <td>2.548296</td>\n",
       "      <td>0.659526</td>\n",
       "      <td>00:04</td>\n",
       "    </tr>\n",
       "    <tr>\n",
       "      <td>7</td>\n",
       "      <td>2.508842</td>\n",
       "      <td>2.548630</td>\n",
       "      <td>0.659526</td>\n",
       "      <td>00:04</td>\n",
       "    </tr>\n",
       "    <tr>\n",
       "      <td>8</td>\n",
       "      <td>2.516860</td>\n",
       "      <td>2.548574</td>\n",
       "      <td>0.659526</td>\n",
       "      <td>00:04</td>\n",
       "    </tr>\n",
       "  </tbody>\n",
       "</table>"
      ],
      "text/plain": [
       "<IPython.core.display.HTML object>"
      ]
     },
     "metadata": {},
     "output_type": "display_data"
    },
    {
     "name": "stdout",
     "output_type": "stream",
     "text": [
      "Better model found at epoch 0 with valid_loss value: 2.6779801845550537.\n",
      "Better model found at epoch 1 with valid_loss value: 2.58933424949646.\n",
      "Better model found at epoch 2 with valid_loss value: 2.5803380012512207.\n",
      "Better model found at epoch 3 with valid_loss value: 2.5536985397338867.\n",
      "Better model found at epoch 4 with valid_loss value: 2.5502140522003174.\n",
      "Better model found at epoch 5 with valid_loss value: 2.5486953258514404.\n",
      "Better model found at epoch 6 with valid_loss value: 2.548295736312866.\n",
      "No improvement since epoch 5: early stopping\n"
     ]
    },
    {
     "data": {
      "text/html": [],
      "text/plain": [
       "<IPython.core.display.HTML object>"
      ]
     },
     "metadata": {},
     "output_type": "display_data"
    },
    {
     "name": "stdout",
     "output_type": "stream",
     "text": [
      "Better model found at epoch 0 with valid_loss value: 0.6895403265953064.\n",
      "        Net  Case-based Accuracy  Model-based Accuracy\n",
      "0   1100000             0.596644                   1.0\n",
      "1   1110010             0.721316                   1.0\n",
      "2   1100110             0.545379                   1.0\n",
      "3   1110100             0.668933                   1.0\n",
      "4   0001010             0.474091                   1.0\n",
      "5   0201000             0.502810                   1.0\n",
      "6   0010010             0.695801                   1.0\n",
      "7   1001100             0.538951                   1.0\n",
      "8   1001000             0.538182                   1.0\n",
      "9   0001000             0.506818                   1.0\n",
      "10  0100100             0.545575                   1.0\n",
      "11  1010100             0.567100                   1.0\n",
      "12  1001110             0.512632                   1.0\n",
      "13  0211110             0.538058                   1.0\n",
      "14  1101110             0.583351                   1.0\n",
      "15  1011000             0.732489                   1.0\n",
      "16  0111110             0.639773                   1.0\n",
      "17  1011100             0.619662                   1.0\n",
      "18  0210100             0.615856                   1.0\n",
      "19  0200000             0.536849                   1.0\n",
      "20  1000110             0.539760                   1.0\n",
      "21  0101010             0.595064                   1.0\n",
      "22  0210110             0.621609                   1.0\n",
      "23  1210110             0.661972                   1.0\n",
      "24  0211000             0.582952                   1.0\n",
      "25  1200100             0.544619                   1.0\n",
      "26  1101000             0.620889                   1.0\n",
      "27  1001010             0.565455                   1.0\n",
      "28  1201100             0.553760                   1.0\n",
      "29  1201000             0.544405                   1.0\n",
      "30  0100110             0.541281                   1.0\n",
      "31  0011000             0.659859                   1.0\n",
      "32  0200100             0.525495                   1.0\n",
      "33  0011010             0.635475                   1.0\n",
      "34  1010010             0.707224                   1.0\n",
      "35  0110110             0.658088                   1.0\n",
      "36  0211100             0.558364                   1.0\n",
      "37  1110110             0.674859                   1.0\n",
      "38  0101100             0.549299                   1.0\n",
      "39  1211010             0.644330                   1.0\n",
      "40  0010000             0.692267                   1.0\n",
      "41  0210000             0.629704                   1.0\n",
      "42  0000110             0.527600                   1.0\n",
      "43  0201010             0.471993                   1.0\n",
      "44  0101000             0.586442                   1.0\n",
      "45  0211010             0.596426                   1.0\n",
      "46  1111010             0.744186                   1.0\n",
      "47  0111010             0.676291                   1.0\n",
      "48  1101100             0.571602                   1.0\n",
      "49  1211100             0.626982                   1.0\n",
      "50  1011010             0.749265                   1.0\n",
      "51  1100010             0.605602                   1.0\n",
      "52  0111100             0.641336                   1.0\n",
      "53  1210000             0.714836                   1.0\n",
      "54  1000010             0.577667                   1.0\n",
      "55  1100100             0.522988                   1.0\n",
      "56  1000000             0.560000                   1.0\n",
      "57  0000100             0.528753                   1.0\n",
      "58  1111110             0.689540                   1.0\n"
     ]
    },
    {
     "data": {
      "text/html": [
       "<table border=\"1\" class=\"dataframe\">\n",
       "  <thead>\n",
       "    <tr style=\"text-align: left;\">\n",
       "      <th>epoch</th>\n",
       "      <th>train_loss</th>\n",
       "      <th>valid_loss</th>\n",
       "      <th>accuracy</th>\n",
       "      <th>time</th>\n",
       "    </tr>\n",
       "  </thead>\n",
       "  <tbody>\n",
       "    <tr>\n",
       "      <td>0</td>\n",
       "      <td>2.760355</td>\n",
       "      <td>2.626397</td>\n",
       "      <td>0.558168</td>\n",
       "      <td>00:02</td>\n",
       "    </tr>\n",
       "    <tr>\n",
       "      <td>1</td>\n",
       "      <td>2.560140</td>\n",
       "      <td>2.528883</td>\n",
       "      <td>0.605198</td>\n",
       "      <td>00:02</td>\n",
       "    </tr>\n",
       "    <tr>\n",
       "      <td>2</td>\n",
       "      <td>2.514979</td>\n",
       "      <td>2.511113</td>\n",
       "      <td>0.613861</td>\n",
       "      <td>00:02</td>\n",
       "    </tr>\n",
       "    <tr>\n",
       "      <td>3</td>\n",
       "      <td>2.496412</td>\n",
       "      <td>2.490807</td>\n",
       "      <td>0.632426</td>\n",
       "      <td>00:02</td>\n",
       "    </tr>\n",
       "    <tr>\n",
       "      <td>4</td>\n",
       "      <td>2.478535</td>\n",
       "      <td>2.472143</td>\n",
       "      <td>0.654703</td>\n",
       "      <td>00:02</td>\n",
       "    </tr>\n",
       "    <tr>\n",
       "      <td>5</td>\n",
       "      <td>2.459064</td>\n",
       "      <td>2.438931</td>\n",
       "      <td>0.689356</td>\n",
       "      <td>00:02</td>\n",
       "    </tr>\n",
       "    <tr>\n",
       "      <td>6</td>\n",
       "      <td>2.431710</td>\n",
       "      <td>2.432795</td>\n",
       "      <td>0.693069</td>\n",
       "      <td>00:02</td>\n",
       "    </tr>\n",
       "    <tr>\n",
       "      <td>7</td>\n",
       "      <td>2.436586</td>\n",
       "      <td>2.428841</td>\n",
       "      <td>0.694307</td>\n",
       "      <td>00:02</td>\n",
       "    </tr>\n",
       "    <tr>\n",
       "      <td>8</td>\n",
       "      <td>2.432170</td>\n",
       "      <td>2.426977</td>\n",
       "      <td>0.698020</td>\n",
       "      <td>00:02</td>\n",
       "    </tr>\n",
       "    <tr>\n",
       "      <td>9</td>\n",
       "      <td>2.418930</td>\n",
       "      <td>2.428111</td>\n",
       "      <td>0.695545</td>\n",
       "      <td>00:02</td>\n",
       "    </tr>\n",
       "    <tr>\n",
       "      <td>10</td>\n",
       "      <td>2.425051</td>\n",
       "      <td>2.425028</td>\n",
       "      <td>0.699257</td>\n",
       "      <td>00:02</td>\n",
       "    </tr>\n",
       "    <tr>\n",
       "      <td>11</td>\n",
       "      <td>2.421021</td>\n",
       "      <td>2.421461</td>\n",
       "      <td>0.704208</td>\n",
       "      <td>00:02</td>\n",
       "    </tr>\n",
       "    <tr>\n",
       "      <td>12</td>\n",
       "      <td>2.420011</td>\n",
       "      <td>2.422458</td>\n",
       "      <td>0.700495</td>\n",
       "      <td>00:02</td>\n",
       "    </tr>\n",
       "    <tr>\n",
       "      <td>13</td>\n",
       "      <td>2.417451</td>\n",
       "      <td>2.424498</td>\n",
       "      <td>0.698020</td>\n",
       "      <td>00:02</td>\n",
       "    </tr>\n",
       "    <tr>\n",
       "      <td>14</td>\n",
       "      <td>2.418858</td>\n",
       "      <td>2.422782</td>\n",
       "      <td>0.699257</td>\n",
       "      <td>00:02</td>\n",
       "    </tr>\n",
       "  </tbody>\n",
       "</table>"
      ],
      "text/plain": [
       "<IPython.core.display.HTML object>"
      ]
     },
     "metadata": {},
     "output_type": "display_data"
    },
    {
     "name": "stdout",
     "output_type": "stream",
     "text": [
      "Better model found at epoch 0 with valid_loss value: 2.6263973712921143.\n",
      "Better model found at epoch 1 with valid_loss value: 2.528883457183838.\n",
      "Better model found at epoch 2 with valid_loss value: 2.511113166809082.\n",
      "Better model found at epoch 3 with valid_loss value: 2.490807294845581.\n",
      "Better model found at epoch 4 with valid_loss value: 2.4721426963806152.\n",
      "Better model found at epoch 5 with valid_loss value: 2.4389309883117676.\n",
      "Better model found at epoch 6 with valid_loss value: 2.4327945709228516.\n",
      "Better model found at epoch 7 with valid_loss value: 2.4288413524627686.\n",
      "Better model found at epoch 8 with valid_loss value: 2.4269773960113525.\n",
      "Better model found at epoch 10 with valid_loss value: 2.4250283241271973.\n",
      "Better model found at epoch 11 with valid_loss value: 2.421461343765259.\n",
      "No improvement since epoch 11: early stopping\n"
     ]
    },
    {
     "data": {
      "text/html": [],
      "text/plain": [
       "<IPython.core.display.HTML object>"
      ]
     },
     "metadata": {},
     "output_type": "display_data"
    },
    {
     "name": "stdout",
     "output_type": "stream",
     "text": [
      "Better model found at epoch 0 with valid_loss value: 0.6869899034500122.\n",
      "        Net  Case-based Accuracy  Model-based Accuracy\n",
      "0   1100000             0.596644                   1.0\n",
      "1   1110010             0.721316                   1.0\n",
      "2   1100110             0.545379                   1.0\n",
      "3   1110100             0.668933                   1.0\n",
      "4   0001010             0.474091                   1.0\n",
      "5   0201000             0.502810                   1.0\n",
      "6   0010010             0.695801                   1.0\n",
      "7   1001100             0.538951                   1.0\n",
      "8   1001000             0.538182                   1.0\n",
      "9   0001000             0.506818                   1.0\n",
      "10  0100100             0.545575                   1.0\n",
      "11  1010100             0.567100                   1.0\n",
      "12  1001110             0.512632                   1.0\n",
      "13  0211110             0.538058                   1.0\n",
      "14  1101110             0.583351                   1.0\n",
      "15  1011000             0.732489                   1.0\n",
      "16  0111110             0.639773                   1.0\n",
      "17  1011100             0.619662                   1.0\n",
      "18  0210100             0.615856                   1.0\n",
      "19  0200000             0.536849                   1.0\n",
      "20  1000110             0.539760                   1.0\n",
      "21  0101010             0.595064                   1.0\n",
      "22  0210110             0.621609                   1.0\n",
      "23  1210110             0.661972                   1.0\n",
      "24  0211000             0.582952                   1.0\n",
      "25  1200100             0.544619                   1.0\n",
      "26  1101000             0.620889                   1.0\n",
      "27  1001010             0.565455                   1.0\n",
      "28  1201100             0.553760                   1.0\n",
      "29  1201000             0.544405                   1.0\n",
      "30  0100110             0.541281                   1.0\n",
      "31  0011000             0.659859                   1.0\n",
      "32  0200100             0.525495                   1.0\n",
      "33  0011010             0.635475                   1.0\n",
      "34  1010010             0.707224                   1.0\n",
      "35  0110110             0.658088                   1.0\n",
      "36  0211100             0.558364                   1.0\n",
      "37  1110110             0.674859                   1.0\n",
      "38  0101100             0.549299                   1.0\n",
      "39  1211010             0.644330                   1.0\n",
      "40  0010000             0.692267                   1.0\n",
      "41  0210000             0.629704                   1.0\n",
      "42  0000110             0.527600                   1.0\n",
      "43  0201010             0.471993                   1.0\n",
      "44  0101000             0.586442                   1.0\n",
      "45  0211010             0.596426                   1.0\n",
      "46  1111010             0.744186                   1.0\n",
      "47  0111010             0.676291                   1.0\n",
      "48  1101100             0.571602                   1.0\n",
      "49  1211100             0.626982                   1.0\n",
      "50  1011010             0.749265                   1.0\n",
      "51  1100010             0.605602                   1.0\n",
      "52  0111100             0.641336                   1.0\n",
      "53  1210000             0.714836                   1.0\n",
      "54  1000010             0.577667                   1.0\n",
      "55  1100100             0.522988                   1.0\n",
      "56  1000000             0.560000                   1.0\n",
      "57  0000100             0.528753                   1.0\n",
      "58  1111110             0.689540                   1.0\n",
      "59  1010000             0.686990                   1.0\n"
     ]
    },
    {
     "data": {
      "text/html": [
       "<table border=\"1\" class=\"dataframe\">\n",
       "  <thead>\n",
       "    <tr style=\"text-align: left;\">\n",
       "      <th>epoch</th>\n",
       "      <th>train_loss</th>\n",
       "      <th>valid_loss</th>\n",
       "      <th>accuracy</th>\n",
       "      <th>time</th>\n",
       "    </tr>\n",
       "  </thead>\n",
       "  <tbody>\n",
       "    <tr>\n",
       "      <td>0</td>\n",
       "      <td>2.903526</td>\n",
       "      <td>2.899882</td>\n",
       "      <td>0.309421</td>\n",
       "      <td>00:06</td>\n",
       "    </tr>\n",
       "    <tr>\n",
       "      <td>1</td>\n",
       "      <td>2.854896</td>\n",
       "      <td>2.838970</td>\n",
       "      <td>0.386776</td>\n",
       "      <td>00:06</td>\n",
       "    </tr>\n",
       "    <tr>\n",
       "      <td>2</td>\n",
       "      <td>2.788847</td>\n",
       "      <td>2.781770</td>\n",
       "      <td>0.426534</td>\n",
       "      <td>00:06</td>\n",
       "    </tr>\n",
       "    <tr>\n",
       "      <td>3</td>\n",
       "      <td>2.735503</td>\n",
       "      <td>2.749369</td>\n",
       "      <td>0.459810</td>\n",
       "      <td>00:06</td>\n",
       "    </tr>\n",
       "    <tr>\n",
       "      <td>4</td>\n",
       "      <td>2.732662</td>\n",
       "      <td>2.746968</td>\n",
       "      <td>0.460242</td>\n",
       "      <td>00:06</td>\n",
       "    </tr>\n",
       "    <tr>\n",
       "      <td>5</td>\n",
       "      <td>2.733186</td>\n",
       "      <td>2.744622</td>\n",
       "      <td>0.464131</td>\n",
       "      <td>00:06</td>\n",
       "    </tr>\n",
       "    <tr>\n",
       "      <td>6</td>\n",
       "      <td>2.715073</td>\n",
       "      <td>2.733033</td>\n",
       "      <td>0.476664</td>\n",
       "      <td>00:06</td>\n",
       "    </tr>\n",
       "    <tr>\n",
       "      <td>7</td>\n",
       "      <td>2.715770</td>\n",
       "      <td>2.734921</td>\n",
       "      <td>0.473639</td>\n",
       "      <td>00:06</td>\n",
       "    </tr>\n",
       "    <tr>\n",
       "      <td>8</td>\n",
       "      <td>2.717069</td>\n",
       "      <td>2.723114</td>\n",
       "      <td>0.490061</td>\n",
       "      <td>00:06</td>\n",
       "    </tr>\n",
       "    <tr>\n",
       "      <td>9</td>\n",
       "      <td>2.688219</td>\n",
       "      <td>2.719177</td>\n",
       "      <td>0.487900</td>\n",
       "      <td>00:06</td>\n",
       "    </tr>\n",
       "    <tr>\n",
       "      <td>10</td>\n",
       "      <td>2.696076</td>\n",
       "      <td>2.706941</td>\n",
       "      <td>0.502161</td>\n",
       "      <td>00:06</td>\n",
       "    </tr>\n",
       "    <tr>\n",
       "      <td>11</td>\n",
       "      <td>2.683851</td>\n",
       "      <td>2.706770</td>\n",
       "      <td>0.501729</td>\n",
       "      <td>00:06</td>\n",
       "    </tr>\n",
       "    <tr>\n",
       "      <td>12</td>\n",
       "      <td>2.682444</td>\n",
       "      <td>2.702677</td>\n",
       "      <td>0.505618</td>\n",
       "      <td>00:06</td>\n",
       "    </tr>\n",
       "    <tr>\n",
       "      <td>13</td>\n",
       "      <td>2.688208</td>\n",
       "      <td>2.704746</td>\n",
       "      <td>0.502161</td>\n",
       "      <td>00:06</td>\n",
       "    </tr>\n",
       "  </tbody>\n",
       "</table>"
      ],
      "text/plain": [
       "<IPython.core.display.HTML object>"
      ]
     },
     "metadata": {},
     "output_type": "display_data"
    },
    {
     "name": "stdout",
     "output_type": "stream",
     "text": [
      "Better model found at epoch 0 with valid_loss value: 2.899881601333618.\n",
      "Better model found at epoch 1 with valid_loss value: 2.8389697074890137.\n",
      "Better model found at epoch 2 with valid_loss value: 2.7817704677581787.\n",
      "Better model found at epoch 3 with valid_loss value: 2.749368906021118.\n",
      "Better model found at epoch 4 with valid_loss value: 2.7469680309295654.\n",
      "Better model found at epoch 5 with valid_loss value: 2.7446224689483643.\n",
      "Better model found at epoch 6 with valid_loss value: 2.733032703399658.\n",
      "Better model found at epoch 8 with valid_loss value: 2.723114252090454.\n",
      "Better model found at epoch 9 with valid_loss value: 2.71917724609375.\n",
      "Better model found at epoch 10 with valid_loss value: 2.7069408893585205.\n",
      "Better model found at epoch 11 with valid_loss value: 2.7067697048187256.\n",
      "Better model found at epoch 12 with valid_loss value: 2.7026772499084473.\n",
      "No improvement since epoch 10: early stopping\n"
     ]
    },
    {
     "data": {
      "text/html": [],
      "text/plain": [
       "<IPython.core.display.HTML object>"
      ]
     },
     "metadata": {},
     "output_type": "display_data"
    },
    {
     "name": "stdout",
     "output_type": "stream",
     "text": [
      "Better model found at epoch 0 with valid_loss value: 0.5351767539978027.\n",
      "        Net  Case-based Accuracy  Model-based Accuracy\n",
      "0   1100000             0.596644                   1.0\n",
      "1   1110010             0.721316                   1.0\n",
      "2   1100110             0.545379                   1.0\n",
      "3   1110100             0.668933                   1.0\n",
      "4   0001010             0.474091                   1.0\n",
      "..      ...                  ...                   ...\n",
      "56  1000000             0.560000                   1.0\n",
      "57  0000100             0.528753                   1.0\n",
      "58  1111110             0.689540                   1.0\n",
      "59  1010000             0.686990                   1.0\n",
      "60  1201010             0.535177                   1.0\n",
      "\n",
      "[61 rows x 3 columns]\n"
     ]
    },
    {
     "data": {
      "text/html": [
       "<table border=\"1\" class=\"dataframe\">\n",
       "  <thead>\n",
       "    <tr style=\"text-align: left;\">\n",
       "      <th>epoch</th>\n",
       "      <th>train_loss</th>\n",
       "      <th>valid_loss</th>\n",
       "      <th>accuracy</th>\n",
       "      <th>time</th>\n",
       "    </tr>\n",
       "  </thead>\n",
       "  <tbody>\n",
       "    <tr>\n",
       "      <td>0</td>\n",
       "      <td>3.043110</td>\n",
       "      <td>3.015559</td>\n",
       "      <td>0.539718</td>\n",
       "      <td>00:05</td>\n",
       "    </tr>\n",
       "    <tr>\n",
       "      <td>1</td>\n",
       "      <td>2.901479</td>\n",
       "      <td>2.896485</td>\n",
       "      <td>0.663099</td>\n",
       "      <td>00:05</td>\n",
       "    </tr>\n",
       "    <tr>\n",
       "      <td>2</td>\n",
       "      <td>2.868150</td>\n",
       "      <td>2.876178</td>\n",
       "      <td>0.672113</td>\n",
       "      <td>00:05</td>\n",
       "    </tr>\n",
       "    <tr>\n",
       "      <td>3</td>\n",
       "      <td>2.859219</td>\n",
       "      <td>2.867740</td>\n",
       "      <td>0.682254</td>\n",
       "      <td>00:05</td>\n",
       "    </tr>\n",
       "    <tr>\n",
       "      <td>4</td>\n",
       "      <td>2.856790</td>\n",
       "      <td>2.870450</td>\n",
       "      <td>0.678310</td>\n",
       "      <td>00:05</td>\n",
       "    </tr>\n",
       "    <tr>\n",
       "      <td>5</td>\n",
       "      <td>2.858978</td>\n",
       "      <td>2.869990</td>\n",
       "      <td>0.678310</td>\n",
       "      <td>00:05</td>\n",
       "    </tr>\n",
       "    <tr>\n",
       "      <td>6</td>\n",
       "      <td>2.855098</td>\n",
       "      <td>2.868321</td>\n",
       "      <td>0.680000</td>\n",
       "      <td>00:05</td>\n",
       "    </tr>\n",
       "  </tbody>\n",
       "</table>"
      ],
      "text/plain": [
       "<IPython.core.display.HTML object>"
      ]
     },
     "metadata": {},
     "output_type": "display_data"
    },
    {
     "name": "stdout",
     "output_type": "stream",
     "text": [
      "Better model found at epoch 0 with valid_loss value: 3.015559196472168.\n",
      "Better model found at epoch 1 with valid_loss value: 2.896484613418579.\n",
      "Better model found at epoch 2 with valid_loss value: 2.876178026199341.\n",
      "Better model found at epoch 3 with valid_loss value: 2.8677403926849365.\n",
      "No improvement since epoch 3: early stopping\n"
     ]
    },
    {
     "data": {
      "text/html": [],
      "text/plain": [
       "<IPython.core.display.HTML object>"
      ]
     },
     "metadata": {},
     "output_type": "display_data"
    },
    {
     "name": "stdout",
     "output_type": "stream",
     "text": [
      "Better model found at epoch 0 with valid_loss value: 0.6790697574615479.\n",
      "        Net  Case-based Accuracy  Model-based Accuracy\n",
      "0   1100000             0.596644                   1.0\n",
      "1   1110010             0.721316                   1.0\n",
      "2   1100110             0.545379                   1.0\n",
      "3   1110100             0.668933                   1.0\n",
      "4   0001010             0.474091                   1.0\n",
      "..      ...                  ...                   ...\n",
      "57  0000100             0.528753                   1.0\n",
      "58  1111110             0.689540                   1.0\n",
      "59  1010000             0.686990                   1.0\n",
      "60  1201010             0.535177                   1.0\n",
      "61  1210010             0.679070                   1.0\n",
      "\n",
      "[62 rows x 3 columns]\n"
     ]
    },
    {
     "data": {
      "text/html": [
       "<table border=\"1\" class=\"dataframe\">\n",
       "  <thead>\n",
       "    <tr style=\"text-align: left;\">\n",
       "      <th>epoch</th>\n",
       "      <th>train_loss</th>\n",
       "      <th>valid_loss</th>\n",
       "      <th>accuracy</th>\n",
       "      <th>time</th>\n",
       "    </tr>\n",
       "  </thead>\n",
       "  <tbody>\n",
       "    <tr>\n",
       "      <td>0</td>\n",
       "      <td>3.110738</td>\n",
       "      <td>3.050839</td>\n",
       "      <td>0.515829</td>\n",
       "      <td>00:05</td>\n",
       "    </tr>\n",
       "    <tr>\n",
       "      <td>1</td>\n",
       "      <td>2.976403</td>\n",
       "      <td>2.967118</td>\n",
       "      <td>0.585351</td>\n",
       "      <td>00:05</td>\n",
       "    </tr>\n",
       "    <tr>\n",
       "      <td>2</td>\n",
       "      <td>2.922883</td>\n",
       "      <td>2.939102</td>\n",
       "      <td>0.613284</td>\n",
       "      <td>00:05</td>\n",
       "    </tr>\n",
       "    <tr>\n",
       "      <td>3</td>\n",
       "      <td>2.916993</td>\n",
       "      <td>2.933827</td>\n",
       "      <td>0.613284</td>\n",
       "      <td>00:05</td>\n",
       "    </tr>\n",
       "    <tr>\n",
       "      <td>4</td>\n",
       "      <td>2.918717</td>\n",
       "      <td>2.932116</td>\n",
       "      <td>0.618250</td>\n",
       "      <td>00:05</td>\n",
       "    </tr>\n",
       "    <tr>\n",
       "      <td>5</td>\n",
       "      <td>2.911700</td>\n",
       "      <td>2.931774</td>\n",
       "      <td>0.617008</td>\n",
       "      <td>00:05</td>\n",
       "    </tr>\n",
       "    <tr>\n",
       "      <td>6</td>\n",
       "      <td>2.912014</td>\n",
       "      <td>2.921335</td>\n",
       "      <td>0.626319</td>\n",
       "      <td>00:05</td>\n",
       "    </tr>\n",
       "    <tr>\n",
       "      <td>7</td>\n",
       "      <td>2.904737</td>\n",
       "      <td>2.918887</td>\n",
       "      <td>0.630043</td>\n",
       "      <td>00:05</td>\n",
       "    </tr>\n",
       "    <tr>\n",
       "      <td>8</td>\n",
       "      <td>2.900654</td>\n",
       "      <td>2.916946</td>\n",
       "      <td>0.631285</td>\n",
       "      <td>00:05</td>\n",
       "    </tr>\n",
       "    <tr>\n",
       "      <td>9</td>\n",
       "      <td>2.893329</td>\n",
       "      <td>2.915678</td>\n",
       "      <td>0.632526</td>\n",
       "      <td>00:05</td>\n",
       "    </tr>\n",
       "    <tr>\n",
       "      <td>10</td>\n",
       "      <td>2.894791</td>\n",
       "      <td>2.917799</td>\n",
       "      <td>0.630664</td>\n",
       "      <td>00:05</td>\n",
       "    </tr>\n",
       "    <tr>\n",
       "      <td>11</td>\n",
       "      <td>2.895418</td>\n",
       "      <td>2.916166</td>\n",
       "      <td>0.630664</td>\n",
       "      <td>00:05</td>\n",
       "    </tr>\n",
       "    <tr>\n",
       "      <td>12</td>\n",
       "      <td>2.890834</td>\n",
       "      <td>2.912998</td>\n",
       "      <td>0.636251</td>\n",
       "      <td>00:05</td>\n",
       "    </tr>\n",
       "  </tbody>\n",
       "</table>"
      ],
      "text/plain": [
       "<IPython.core.display.HTML object>"
      ]
     },
     "metadata": {},
     "output_type": "display_data"
    },
    {
     "name": "stdout",
     "output_type": "stream",
     "text": [
      "Better model found at epoch 0 with valid_loss value: 3.0508389472961426.\n",
      "Better model found at epoch 1 with valid_loss value: 2.9671175479888916.\n",
      "Better model found at epoch 2 with valid_loss value: 2.9391024112701416.\n",
      "Better model found at epoch 3 with valid_loss value: 2.9338274002075195.\n",
      "Better model found at epoch 4 with valid_loss value: 2.9321155548095703.\n",
      "Better model found at epoch 5 with valid_loss value: 2.9317739009857178.\n",
      "Better model found at epoch 6 with valid_loss value: 2.9213345050811768.\n",
      "Better model found at epoch 7 with valid_loss value: 2.918887138366699.\n",
      "Better model found at epoch 8 with valid_loss value: 2.916945695877075.\n",
      "Better model found at epoch 9 with valid_loss value: 2.9156782627105713.\n",
      "No improvement since epoch 9: early stopping\n"
     ]
    },
    {
     "data": {
      "text/html": [],
      "text/plain": [
       "<IPython.core.display.HTML object>"
      ]
     },
     "metadata": {},
     "output_type": "display_data"
    },
    {
     "name": "stdout",
     "output_type": "stream",
     "text": [
      "Better model found at epoch 0 with valid_loss value: 0.6240618824958801.\n",
      "        Net  Case-based Accuracy  Model-based Accuracy\n",
      "0   1100000             0.596644                   1.0\n",
      "1   1110010             0.721316                   1.0\n",
      "2   1100110             0.545379                   1.0\n",
      "3   1110100             0.668933                   1.0\n",
      "4   0001010             0.474091                   1.0\n",
      "..      ...                  ...                   ...\n",
      "58  1111110             0.689540                   1.0\n",
      "59  1010000             0.686990                   1.0\n",
      "60  1201010             0.535177                   1.0\n",
      "61  1210010             0.679070                   1.0\n",
      "62  0110100             0.624062                   1.0\n",
      "\n",
      "[63 rows x 3 columns]\n"
     ]
    },
    {
     "data": {
      "text/html": [
       "<table border=\"1\" class=\"dataframe\">\n",
       "  <thead>\n",
       "    <tr style=\"text-align: left;\">\n",
       "      <th>epoch</th>\n",
       "      <th>train_loss</th>\n",
       "      <th>valid_loss</th>\n",
       "      <th>accuracy</th>\n",
       "      <th>time</th>\n",
       "    </tr>\n",
       "  </thead>\n",
       "  <tbody>\n",
       "    <tr>\n",
       "      <td>0</td>\n",
       "      <td>3.219149</td>\n",
       "      <td>3.169135</td>\n",
       "      <td>0.378873</td>\n",
       "      <td>00:05</td>\n",
       "    </tr>\n",
       "    <tr>\n",
       "      <td>1</td>\n",
       "      <td>3.058460</td>\n",
       "      <td>3.029792</td>\n",
       "      <td>0.521585</td>\n",
       "      <td>00:05</td>\n",
       "    </tr>\n",
       "    <tr>\n",
       "      <td>2</td>\n",
       "      <td>3.006720</td>\n",
       "      <td>2.997324</td>\n",
       "      <td>0.555104</td>\n",
       "      <td>00:05</td>\n",
       "    </tr>\n",
       "    <tr>\n",
       "      <td>3</td>\n",
       "      <td>2.979972</td>\n",
       "      <td>2.990274</td>\n",
       "      <td>0.560183</td>\n",
       "      <td>00:05</td>\n",
       "    </tr>\n",
       "    <tr>\n",
       "      <td>4</td>\n",
       "      <td>2.984994</td>\n",
       "      <td>2.972609</td>\n",
       "      <td>0.576435</td>\n",
       "      <td>00:05</td>\n",
       "    </tr>\n",
       "    <tr>\n",
       "      <td>5</td>\n",
       "      <td>2.967065</td>\n",
       "      <td>2.963177</td>\n",
       "      <td>0.585069</td>\n",
       "      <td>00:05</td>\n",
       "    </tr>\n",
       "    <tr>\n",
       "      <td>6</td>\n",
       "      <td>2.973890</td>\n",
       "      <td>2.957137</td>\n",
       "      <td>0.592687</td>\n",
       "      <td>00:05</td>\n",
       "    </tr>\n",
       "    <tr>\n",
       "      <td>7</td>\n",
       "      <td>2.962043</td>\n",
       "      <td>2.947922</td>\n",
       "      <td>0.602336</td>\n",
       "      <td>00:05</td>\n",
       "    </tr>\n",
       "    <tr>\n",
       "      <td>8</td>\n",
       "      <td>2.957327</td>\n",
       "      <td>2.943000</td>\n",
       "      <td>0.604368</td>\n",
       "      <td>00:05</td>\n",
       "    </tr>\n",
       "    <tr>\n",
       "      <td>9</td>\n",
       "      <td>2.949442</td>\n",
       "      <td>2.946855</td>\n",
       "      <td>0.601828</td>\n",
       "      <td>00:05</td>\n",
       "    </tr>\n",
       "    <tr>\n",
       "      <td>10</td>\n",
       "      <td>2.947306</td>\n",
       "      <td>2.944703</td>\n",
       "      <td>0.602844</td>\n",
       "      <td>00:05</td>\n",
       "    </tr>\n",
       "  </tbody>\n",
       "</table>"
      ],
      "text/plain": [
       "<IPython.core.display.HTML object>"
      ]
     },
     "metadata": {},
     "output_type": "display_data"
    },
    {
     "name": "stdout",
     "output_type": "stream",
     "text": [
      "Better model found at epoch 0 with valid_loss value: 3.1691348552703857.\n",
      "Better model found at epoch 1 with valid_loss value: 3.029792070388794.\n",
      "Better model found at epoch 2 with valid_loss value: 2.997323513031006.\n",
      "Better model found at epoch 3 with valid_loss value: 2.990274429321289.\n",
      "Better model found at epoch 4 with valid_loss value: 2.9726085662841797.\n",
      "Better model found at epoch 5 with valid_loss value: 2.963176727294922.\n",
      "Better model found at epoch 6 with valid_loss value: 2.957136869430542.\n",
      "Better model found at epoch 7 with valid_loss value: 2.947922468185425.\n",
      "Better model found at epoch 8 with valid_loss value: 2.943000078201294.\n",
      "No improvement since epoch 7: early stopping\n"
     ]
    },
    {
     "data": {
      "text/html": [],
      "text/plain": [
       "<IPython.core.display.HTML object>"
      ]
     },
     "metadata": {},
     "output_type": "display_data"
    },
    {
     "name": "stdout",
     "output_type": "stream",
     "text": [
      "Better model found at epoch 0 with valid_loss value: 0.587996780872345.\n",
      "        Net  Case-based Accuracy  Model-based Accuracy\n",
      "0   1100000             0.596644                   1.0\n",
      "1   1110010             0.721316                   1.0\n",
      "2   1100110             0.545379                   1.0\n",
      "3   1110100             0.668933                   1.0\n",
      "4   0001010             0.474091                   1.0\n",
      "..      ...                  ...                   ...\n",
      "59  1010000             0.686990                   1.0\n",
      "60  1201010             0.535177                   1.0\n",
      "61  1210010             0.679070                   1.0\n",
      "62  0110100             0.624062                   1.0\n",
      "63  1200010             0.587997                   1.0\n",
      "\n",
      "[64 rows x 3 columns]\n"
     ]
    },
    {
     "data": {
      "text/html": [
       "<table border=\"1\" class=\"dataframe\">\n",
       "  <thead>\n",
       "    <tr style=\"text-align: left;\">\n",
       "      <th>epoch</th>\n",
       "      <th>train_loss</th>\n",
       "      <th>valid_loss</th>\n",
       "      <th>accuracy</th>\n",
       "      <th>time</th>\n",
       "    </tr>\n",
       "  </thead>\n",
       "  <tbody>\n",
       "    <tr>\n",
       "      <td>0</td>\n",
       "      <td>2.696374</td>\n",
       "      <td>2.645906</td>\n",
       "      <td>0.400833</td>\n",
       "      <td>00:03</td>\n",
       "    </tr>\n",
       "    <tr>\n",
       "      <td>1</td>\n",
       "      <td>2.566416</td>\n",
       "      <td>2.561891</td>\n",
       "      <td>0.475000</td>\n",
       "      <td>00:03</td>\n",
       "    </tr>\n",
       "    <tr>\n",
       "      <td>2</td>\n",
       "      <td>2.546158</td>\n",
       "      <td>2.542145</td>\n",
       "      <td>0.490000</td>\n",
       "      <td>00:03</td>\n",
       "    </tr>\n",
       "    <tr>\n",
       "      <td>3</td>\n",
       "      <td>2.500496</td>\n",
       "      <td>2.505182</td>\n",
       "      <td>0.529167</td>\n",
       "      <td>00:03</td>\n",
       "    </tr>\n",
       "    <tr>\n",
       "      <td>4</td>\n",
       "      <td>2.485679</td>\n",
       "      <td>2.494361</td>\n",
       "      <td>0.541667</td>\n",
       "      <td>00:03</td>\n",
       "    </tr>\n",
       "    <tr>\n",
       "      <td>5</td>\n",
       "      <td>2.465916</td>\n",
       "      <td>2.473814</td>\n",
       "      <td>0.560833</td>\n",
       "      <td>00:03</td>\n",
       "    </tr>\n",
       "    <tr>\n",
       "      <td>6</td>\n",
       "      <td>2.464955</td>\n",
       "      <td>2.471725</td>\n",
       "      <td>0.561667</td>\n",
       "      <td>00:03</td>\n",
       "    </tr>\n",
       "    <tr>\n",
       "      <td>7</td>\n",
       "      <td>2.456983</td>\n",
       "      <td>2.470472</td>\n",
       "      <td>0.560833</td>\n",
       "      <td>00:03</td>\n",
       "    </tr>\n",
       "    <tr>\n",
       "      <td>8</td>\n",
       "      <td>2.458744</td>\n",
       "      <td>2.462961</td>\n",
       "      <td>0.569167</td>\n",
       "      <td>00:03</td>\n",
       "    </tr>\n",
       "    <tr>\n",
       "      <td>9</td>\n",
       "      <td>2.454550</td>\n",
       "      <td>2.467915</td>\n",
       "      <td>0.565000</td>\n",
       "      <td>00:03</td>\n",
       "    </tr>\n",
       "    <tr>\n",
       "      <td>10</td>\n",
       "      <td>2.456448</td>\n",
       "      <td>2.469779</td>\n",
       "      <td>0.560000</td>\n",
       "      <td>00:03</td>\n",
       "    </tr>\n",
       "    <tr>\n",
       "      <td>11</td>\n",
       "      <td>2.455080</td>\n",
       "      <td>2.470720</td>\n",
       "      <td>0.560833</td>\n",
       "      <td>00:03</td>\n",
       "    </tr>\n",
       "  </tbody>\n",
       "</table>"
      ],
      "text/plain": [
       "<IPython.core.display.HTML object>"
      ]
     },
     "metadata": {},
     "output_type": "display_data"
    },
    {
     "name": "stdout",
     "output_type": "stream",
     "text": [
      "Better model found at epoch 0 with valid_loss value: 2.6459059715270996.\n",
      "Better model found at epoch 1 with valid_loss value: 2.5618908405303955.\n",
      "Better model found at epoch 2 with valid_loss value: 2.5421454906463623.\n",
      "Better model found at epoch 3 with valid_loss value: 2.5051822662353516.\n",
      "Better model found at epoch 4 with valid_loss value: 2.494361400604248.\n",
      "Better model found at epoch 5 with valid_loss value: 2.473813772201538.\n",
      "Better model found at epoch 6 with valid_loss value: 2.471724510192871.\n",
      "Better model found at epoch 7 with valid_loss value: 2.4704720973968506.\n",
      "Better model found at epoch 8 with valid_loss value: 2.462960720062256.\n",
      "No improvement since epoch 8: early stopping\n"
     ]
    },
    {
     "data": {
      "text/html": [],
      "text/plain": [
       "<IPython.core.display.HTML object>"
      ]
     },
     "metadata": {},
     "output_type": "display_data"
    },
    {
     "name": "stdout",
     "output_type": "stream",
     "text": [
      "Better model found at epoch 0 with valid_loss value: 0.559333324432373.\n",
      "        Net  Case-based Accuracy  Model-based Accuracy\n",
      "0   1100000             0.596644                   1.0\n",
      "1   1110010             0.721316                   1.0\n",
      "2   1100110             0.545379                   1.0\n",
      "3   1110100             0.668933                   1.0\n",
      "4   0001010             0.474091                   1.0\n",
      "..      ...                  ...                   ...\n",
      "60  1201010             0.535177                   1.0\n",
      "61  1210010             0.679070                   1.0\n",
      "62  0110100             0.624062                   1.0\n",
      "63  1200010             0.587997                   1.0\n",
      "64  0000010             0.559333                   1.0\n",
      "\n",
      "[65 rows x 3 columns]\n"
     ]
    },
    {
     "data": {
      "text/html": [
       "<table border=\"1\" class=\"dataframe\">\n",
       "  <thead>\n",
       "    <tr style=\"text-align: left;\">\n",
       "      <th>epoch</th>\n",
       "      <th>train_loss</th>\n",
       "      <th>valid_loss</th>\n",
       "      <th>accuracy</th>\n",
       "      <th>time</th>\n",
       "    </tr>\n",
       "  </thead>\n",
       "  <tbody>\n",
       "    <tr>\n",
       "      <td>0</td>\n",
       "      <td>2.753445</td>\n",
       "      <td>2.699074</td>\n",
       "      <td>0.436667</td>\n",
       "      <td>00:03</td>\n",
       "    </tr>\n",
       "    <tr>\n",
       "      <td>1</td>\n",
       "      <td>2.624056</td>\n",
       "      <td>2.614712</td>\n",
       "      <td>0.514167</td>\n",
       "      <td>00:03</td>\n",
       "    </tr>\n",
       "    <tr>\n",
       "      <td>2</td>\n",
       "      <td>2.620738</td>\n",
       "      <td>2.605646</td>\n",
       "      <td>0.517500</td>\n",
       "      <td>00:03</td>\n",
       "    </tr>\n",
       "    <tr>\n",
       "      <td>3</td>\n",
       "      <td>2.583579</td>\n",
       "      <td>2.588400</td>\n",
       "      <td>0.534167</td>\n",
       "      <td>00:03</td>\n",
       "    </tr>\n",
       "    <tr>\n",
       "      <td>4</td>\n",
       "      <td>2.585252</td>\n",
       "      <td>2.579731</td>\n",
       "      <td>0.545833</td>\n",
       "      <td>00:03</td>\n",
       "    </tr>\n",
       "    <tr>\n",
       "      <td>5</td>\n",
       "      <td>2.569070</td>\n",
       "      <td>2.568941</td>\n",
       "      <td>0.559167</td>\n",
       "      <td>00:03</td>\n",
       "    </tr>\n",
       "    <tr>\n",
       "      <td>6</td>\n",
       "      <td>2.570321</td>\n",
       "      <td>2.575410</td>\n",
       "      <td>0.542500</td>\n",
       "      <td>00:03</td>\n",
       "    </tr>\n",
       "    <tr>\n",
       "      <td>7</td>\n",
       "      <td>2.570624</td>\n",
       "      <td>2.571560</td>\n",
       "      <td>0.550833</td>\n",
       "      <td>00:03</td>\n",
       "    </tr>\n",
       "    <tr>\n",
       "      <td>8</td>\n",
       "      <td>2.562349</td>\n",
       "      <td>2.565275</td>\n",
       "      <td>0.566667</td>\n",
       "      <td>00:03</td>\n",
       "    </tr>\n",
       "  </tbody>\n",
       "</table>"
      ],
      "text/plain": [
       "<IPython.core.display.HTML object>"
      ]
     },
     "metadata": {},
     "output_type": "display_data"
    },
    {
     "name": "stdout",
     "output_type": "stream",
     "text": [
      "Better model found at epoch 0 with valid_loss value: 2.6990737915039062.\n",
      "Better model found at epoch 1 with valid_loss value: 2.6147115230560303.\n",
      "Better model found at epoch 2 with valid_loss value: 2.6056461334228516.\n",
      "Better model found at epoch 3 with valid_loss value: 2.588399887084961.\n",
      "Better model found at epoch 4 with valid_loss value: 2.57973051071167.\n",
      "Better model found at epoch 5 with valid_loss value: 2.5689408779144287.\n",
      "No improvement since epoch 5: early stopping\n"
     ]
    },
    {
     "data": {
      "text/html": [],
      "text/plain": [
       "<IPython.core.display.HTML object>"
      ]
     },
     "metadata": {},
     "output_type": "display_data"
    },
    {
     "name": "stdout",
     "output_type": "stream",
     "text": [
      "Better model found at epoch 0 with valid_loss value: 0.5429999828338623.\n",
      "        Net  Case-based Accuracy  Model-based Accuracy\n",
      "0   1100000             0.596644                   1.0\n",
      "1   1110010             0.721316                   1.0\n",
      "2   1100110             0.545379                   1.0\n",
      "3   1110100             0.668933                   1.0\n",
      "4   0001010             0.474091                   1.0\n",
      "..      ...                  ...                   ...\n",
      "61  1210010             0.679070                   1.0\n",
      "62  0110100             0.624062                   1.0\n",
      "63  1200010             0.587997                   1.0\n",
      "64  0000010             0.559333                   1.0\n",
      "65  0000000             0.543000                   1.0\n",
      "\n",
      "[66 rows x 3 columns]\n"
     ]
    },
    {
     "data": {
      "text/html": [
       "<table border=\"1\" class=\"dataframe\">\n",
       "  <thead>\n",
       "    <tr style=\"text-align: left;\">\n",
       "      <th>epoch</th>\n",
       "      <th>train_loss</th>\n",
       "      <th>valid_loss</th>\n",
       "      <th>accuracy</th>\n",
       "      <th>time</th>\n",
       "    </tr>\n",
       "  </thead>\n",
       "  <tbody>\n",
       "    <tr>\n",
       "      <td>0</td>\n",
       "      <td>2.601367</td>\n",
       "      <td>2.494329</td>\n",
       "      <td>0.365145</td>\n",
       "      <td>00:02</td>\n",
       "    </tr>\n",
       "    <tr>\n",
       "      <td>1</td>\n",
       "      <td>2.482728</td>\n",
       "      <td>2.403714</td>\n",
       "      <td>0.439834</td>\n",
       "      <td>00:02</td>\n",
       "    </tr>\n",
       "    <tr>\n",
       "      <td>2</td>\n",
       "      <td>2.394887</td>\n",
       "      <td>2.353778</td>\n",
       "      <td>0.468880</td>\n",
       "      <td>00:02</td>\n",
       "    </tr>\n",
       "    <tr>\n",
       "      <td>3</td>\n",
       "      <td>2.338871</td>\n",
       "      <td>2.300130</td>\n",
       "      <td>0.526971</td>\n",
       "      <td>00:02</td>\n",
       "    </tr>\n",
       "    <tr>\n",
       "      <td>4</td>\n",
       "      <td>2.306464</td>\n",
       "      <td>2.290262</td>\n",
       "      <td>0.529046</td>\n",
       "      <td>00:02</td>\n",
       "    </tr>\n",
       "    <tr>\n",
       "      <td>5</td>\n",
       "      <td>2.263744</td>\n",
       "      <td>2.237528</td>\n",
       "      <td>0.582988</td>\n",
       "      <td>00:02</td>\n",
       "    </tr>\n",
       "    <tr>\n",
       "      <td>6</td>\n",
       "      <td>2.234698</td>\n",
       "      <td>2.228985</td>\n",
       "      <td>0.587137</td>\n",
       "      <td>00:02</td>\n",
       "    </tr>\n",
       "    <tr>\n",
       "      <td>7</td>\n",
       "      <td>2.228135</td>\n",
       "      <td>2.229433</td>\n",
       "      <td>0.591286</td>\n",
       "      <td>00:02</td>\n",
       "    </tr>\n",
       "    <tr>\n",
       "      <td>8</td>\n",
       "      <td>2.220516</td>\n",
       "      <td>2.222580</td>\n",
       "      <td>0.595436</td>\n",
       "      <td>00:02</td>\n",
       "    </tr>\n",
       "    <tr>\n",
       "      <td>9</td>\n",
       "      <td>2.221207</td>\n",
       "      <td>2.221845</td>\n",
       "      <td>0.597510</td>\n",
       "      <td>00:02</td>\n",
       "    </tr>\n",
       "    <tr>\n",
       "      <td>10</td>\n",
       "      <td>2.222205</td>\n",
       "      <td>2.220124</td>\n",
       "      <td>0.599585</td>\n",
       "      <td>00:02</td>\n",
       "    </tr>\n",
       "    <tr>\n",
       "      <td>11</td>\n",
       "      <td>2.215433</td>\n",
       "      <td>2.220117</td>\n",
       "      <td>0.603734</td>\n",
       "      <td>00:02</td>\n",
       "    </tr>\n",
       "  </tbody>\n",
       "</table>"
      ],
      "text/plain": [
       "<IPython.core.display.HTML object>"
      ]
     },
     "metadata": {},
     "output_type": "display_data"
    },
    {
     "name": "stdout",
     "output_type": "stream",
     "text": [
      "Better model found at epoch 0 with valid_loss value: 2.494328737258911.\n",
      "Better model found at epoch 1 with valid_loss value: 2.403714179992676.\n",
      "Better model found at epoch 2 with valid_loss value: 2.35377836227417.\n",
      "Better model found at epoch 3 with valid_loss value: 2.3001301288604736.\n",
      "Better model found at epoch 4 with valid_loss value: 2.29026198387146.\n",
      "Better model found at epoch 5 with valid_loss value: 2.237528085708618.\n",
      "Better model found at epoch 6 with valid_loss value: 2.2289845943450928.\n",
      "Better model found at epoch 8 with valid_loss value: 2.2225804328918457.\n",
      "Better model found at epoch 9 with valid_loss value: 2.2218451499938965.\n",
      "Better model found at epoch 10 with valid_loss value: 2.2201242446899414.\n",
      "No improvement since epoch 8: early stopping\n"
     ]
    },
    {
     "data": {
      "text/html": [],
      "text/plain": [
       "<IPython.core.display.HTML object>"
      ]
     },
     "metadata": {},
     "output_type": "display_data"
    },
    {
     "name": "stdout",
     "output_type": "stream",
     "text": [
      "Better model found at epoch 0 with valid_loss value: 0.5906862616539001.\n",
      "        Net  Case-based Accuracy  Model-based Accuracy\n",
      "0   1100000             0.596644                   1.0\n",
      "1   1110010             0.721316                   1.0\n",
      "2   1100110             0.545379                   1.0\n",
      "3   1110100             0.668933                   1.0\n",
      "4   0001010             0.474091                   1.0\n",
      "..      ...                  ...                   ...\n",
      "62  0110100             0.624062                   1.0\n",
      "63  1200010             0.587997                   1.0\n",
      "64  0000010             0.559333                   1.0\n",
      "65  0000000             0.543000                   1.0\n",
      "66  0011110             0.590686                   1.0\n",
      "\n",
      "[67 rows x 3 columns]\n"
     ]
    },
    {
     "data": {
      "text/html": [
       "<table border=\"1\" class=\"dataframe\">\n",
       "  <thead>\n",
       "    <tr style=\"text-align: left;\">\n",
       "      <th>epoch</th>\n",
       "      <th>train_loss</th>\n",
       "      <th>valid_loss</th>\n",
       "      <th>accuracy</th>\n",
       "      <th>time</th>\n",
       "    </tr>\n",
       "  </thead>\n",
       "  <tbody>\n",
       "    <tr>\n",
       "      <td>0</td>\n",
       "      <td>2.547085</td>\n",
       "      <td>2.463490</td>\n",
       "      <td>0.389488</td>\n",
       "      <td>00:02</td>\n",
       "    </tr>\n",
       "    <tr>\n",
       "      <td>1</td>\n",
       "      <td>2.418315</td>\n",
       "      <td>2.368502</td>\n",
       "      <td>0.455526</td>\n",
       "      <td>00:02</td>\n",
       "    </tr>\n",
       "    <tr>\n",
       "      <td>2</td>\n",
       "      <td>2.362787</td>\n",
       "      <td>2.322912</td>\n",
       "      <td>0.500000</td>\n",
       "      <td>00:02</td>\n",
       "    </tr>\n",
       "    <tr>\n",
       "      <td>3</td>\n",
       "      <td>2.331361</td>\n",
       "      <td>2.317964</td>\n",
       "      <td>0.500000</td>\n",
       "      <td>00:02</td>\n",
       "    </tr>\n",
       "    <tr>\n",
       "      <td>4</td>\n",
       "      <td>2.317739</td>\n",
       "      <td>2.319614</td>\n",
       "      <td>0.494609</td>\n",
       "      <td>00:02</td>\n",
       "    </tr>\n",
       "    <tr>\n",
       "      <td>5</td>\n",
       "      <td>2.315032</td>\n",
       "      <td>2.313546</td>\n",
       "      <td>0.501348</td>\n",
       "      <td>00:02</td>\n",
       "    </tr>\n",
       "    <tr>\n",
       "      <td>6</td>\n",
       "      <td>2.319992</td>\n",
       "      <td>2.309717</td>\n",
       "      <td>0.512129</td>\n",
       "      <td>00:02</td>\n",
       "    </tr>\n",
       "    <tr>\n",
       "      <td>7</td>\n",
       "      <td>2.309144</td>\n",
       "      <td>2.307512</td>\n",
       "      <td>0.509434</td>\n",
       "      <td>00:02</td>\n",
       "    </tr>\n",
       "    <tr>\n",
       "      <td>8</td>\n",
       "      <td>2.305633</td>\n",
       "      <td>2.309277</td>\n",
       "      <td>0.508086</td>\n",
       "      <td>00:02</td>\n",
       "    </tr>\n",
       "    <tr>\n",
       "      <td>9</td>\n",
       "      <td>2.306038</td>\n",
       "      <td>2.311337</td>\n",
       "      <td>0.516173</td>\n",
       "      <td>00:02</td>\n",
       "    </tr>\n",
       "    <tr>\n",
       "      <td>10</td>\n",
       "      <td>2.300337</td>\n",
       "      <td>2.311154</td>\n",
       "      <td>0.502695</td>\n",
       "      <td>00:02</td>\n",
       "    </tr>\n",
       "  </tbody>\n",
       "</table>"
      ],
      "text/plain": [
       "<IPython.core.display.HTML object>"
      ]
     },
     "metadata": {},
     "output_type": "display_data"
    },
    {
     "name": "stdout",
     "output_type": "stream",
     "text": [
      "Better model found at epoch 0 with valid_loss value: 2.4634904861450195.\n",
      "Better model found at epoch 1 with valid_loss value: 2.368502378463745.\n",
      "Better model found at epoch 2 with valid_loss value: 2.3229119777679443.\n",
      "Better model found at epoch 3 with valid_loss value: 2.3179643154144287.\n",
      "Better model found at epoch 5 with valid_loss value: 2.3135464191436768.\n",
      "Better model found at epoch 6 with valid_loss value: 2.3097167015075684.\n",
      "Better model found at epoch 7 with valid_loss value: 2.307511806488037.\n",
      "No improvement since epoch 7: early stopping\n"
     ]
    },
    {
     "data": {
      "text/html": [],
      "text/plain": [
       "<IPython.core.display.HTML object>"
      ]
     },
     "metadata": {},
     "output_type": "display_data"
    },
    {
     "name": "stdout",
     "output_type": "stream",
     "text": [
      "Better model found at epoch 0 with valid_loss value: 0.49840933084487915.\n",
      "        Net  Case-based Accuracy  Model-based Accuracy\n",
      "0   1100000             0.596644                   1.0\n",
      "1   1110010             0.721316                   1.0\n",
      "2   1100110             0.545379                   1.0\n",
      "3   1110100             0.668933                   1.0\n",
      "4   0001010             0.474091                   1.0\n",
      "..      ...                  ...                   ...\n",
      "63  1200010             0.587997                   1.0\n",
      "64  0000010             0.559333                   1.0\n",
      "65  0000000             0.543000                   1.0\n",
      "66  0011110             0.590686                   1.0\n",
      "67  0001110             0.498409                   1.0\n",
      "\n",
      "[68 rows x 3 columns]\n"
     ]
    },
    {
     "data": {
      "text/html": [
       "<table border=\"1\" class=\"dataframe\">\n",
       "  <thead>\n",
       "    <tr style=\"text-align: left;\">\n",
       "      <th>epoch</th>\n",
       "      <th>train_loss</th>\n",
       "      <th>valid_loss</th>\n",
       "      <th>accuracy</th>\n",
       "      <th>time</th>\n",
       "    </tr>\n",
       "  </thead>\n",
       "  <tbody>\n",
       "    <tr>\n",
       "      <td>0</td>\n",
       "      <td>2.871279</td>\n",
       "      <td>2.788356</td>\n",
       "      <td>0.532281</td>\n",
       "      <td>00:04</td>\n",
       "    </tr>\n",
       "    <tr>\n",
       "      <td>1</td>\n",
       "      <td>2.665372</td>\n",
       "      <td>2.643126</td>\n",
       "      <td>0.650646</td>\n",
       "      <td>00:04</td>\n",
       "    </tr>\n",
       "    <tr>\n",
       "      <td>2</td>\n",
       "      <td>2.605266</td>\n",
       "      <td>2.605254</td>\n",
       "      <td>0.681492</td>\n",
       "      <td>00:04</td>\n",
       "    </tr>\n",
       "    <tr>\n",
       "      <td>3</td>\n",
       "      <td>2.598679</td>\n",
       "      <td>2.599901</td>\n",
       "      <td>0.687948</td>\n",
       "      <td>00:04</td>\n",
       "    </tr>\n",
       "    <tr>\n",
       "      <td>4</td>\n",
       "      <td>2.585502</td>\n",
       "      <td>2.599182</td>\n",
       "      <td>0.687231</td>\n",
       "      <td>00:04</td>\n",
       "    </tr>\n",
       "    <tr>\n",
       "      <td>5</td>\n",
       "      <td>2.587879</td>\n",
       "      <td>2.600673</td>\n",
       "      <td>0.684362</td>\n",
       "      <td>00:04</td>\n",
       "    </tr>\n",
       "    <tr>\n",
       "      <td>6</td>\n",
       "      <td>2.588066</td>\n",
       "      <td>2.599546</td>\n",
       "      <td>0.685796</td>\n",
       "      <td>00:04</td>\n",
       "    </tr>\n",
       "  </tbody>\n",
       "</table>"
      ],
      "text/plain": [
       "<IPython.core.display.HTML object>"
      ]
     },
     "metadata": {},
     "output_type": "display_data"
    },
    {
     "name": "stdout",
     "output_type": "stream",
     "text": [
      "Better model found at epoch 0 with valid_loss value: 2.788355588912964.\n",
      "Better model found at epoch 1 with valid_loss value: 2.6431262493133545.\n",
      "Better model found at epoch 2 with valid_loss value: 2.6052536964416504.\n",
      "Better model found at epoch 3 with valid_loss value: 2.5999014377593994.\n",
      "Better model found at epoch 4 with valid_loss value: 2.59918212890625.\n",
      "No improvement since epoch 3: early stopping\n"
     ]
    },
    {
     "data": {
      "text/html": [],
      "text/plain": [
       "<IPython.core.display.HTML object>"
      ]
     },
     "metadata": {},
     "output_type": "display_data"
    },
    {
     "name": "stdout",
     "output_type": "stream",
     "text": [
      "Better model found at epoch 0 with valid_loss value: 0.7051499485969543.\n",
      "        Net  Case-based Accuracy  Model-based Accuracy\n",
      "0   1100000             0.596644                   1.0\n",
      "1   1110010             0.721316                   1.0\n",
      "2   1100110             0.545379                   1.0\n",
      "3   1110100             0.668933                   1.0\n",
      "4   0001010             0.474091                   1.0\n",
      "..      ...                  ...                   ...\n",
      "64  0000010             0.559333                   1.0\n",
      "65  0000000             0.543000                   1.0\n",
      "66  0011110             0.590686                   1.0\n",
      "67  0001110             0.498409                   1.0\n",
      "68  0111000             0.705150                   1.0\n",
      "\n",
      "[69 rows x 3 columns]\n"
     ]
    },
    {
     "data": {
      "text/html": [
       "<table border=\"1\" class=\"dataframe\">\n",
       "  <thead>\n",
       "    <tr style=\"text-align: left;\">\n",
       "      <th>epoch</th>\n",
       "      <th>train_loss</th>\n",
       "      <th>valid_loss</th>\n",
       "      <th>accuracy</th>\n",
       "      <th>time</th>\n",
       "    </tr>\n",
       "  </thead>\n",
       "  <tbody>\n",
       "    <tr>\n",
       "      <td>0</td>\n",
       "      <td>2.782924</td>\n",
       "      <td>2.725962</td>\n",
       "      <td>0.316456</td>\n",
       "      <td>00:02</td>\n",
       "    </tr>\n",
       "    <tr>\n",
       "      <td>1</td>\n",
       "      <td>2.676306</td>\n",
       "      <td>2.604064</td>\n",
       "      <td>0.452883</td>\n",
       "      <td>00:02</td>\n",
       "    </tr>\n",
       "    <tr>\n",
       "      <td>2</td>\n",
       "      <td>2.518836</td>\n",
       "      <td>2.435964</td>\n",
       "      <td>0.616034</td>\n",
       "      <td>00:02</td>\n",
       "    </tr>\n",
       "    <tr>\n",
       "      <td>3</td>\n",
       "      <td>2.440761</td>\n",
       "      <td>2.410060</td>\n",
       "      <td>0.625879</td>\n",
       "      <td>00:02</td>\n",
       "    </tr>\n",
       "    <tr>\n",
       "      <td>4</td>\n",
       "      <td>2.428013</td>\n",
       "      <td>2.409603</td>\n",
       "      <td>0.624473</td>\n",
       "      <td>00:02</td>\n",
       "    </tr>\n",
       "    <tr>\n",
       "      <td>5</td>\n",
       "      <td>2.424769</td>\n",
       "      <td>2.396820</td>\n",
       "      <td>0.635724</td>\n",
       "      <td>00:02</td>\n",
       "    </tr>\n",
       "    <tr>\n",
       "      <td>6</td>\n",
       "      <td>2.410260</td>\n",
       "      <td>2.397872</td>\n",
       "      <td>0.634318</td>\n",
       "      <td>00:02</td>\n",
       "    </tr>\n",
       "    <tr>\n",
       "      <td>7</td>\n",
       "      <td>2.409841</td>\n",
       "      <td>2.395718</td>\n",
       "      <td>0.637131</td>\n",
       "      <td>00:02</td>\n",
       "    </tr>\n",
       "    <tr>\n",
       "      <td>8</td>\n",
       "      <td>2.408487</td>\n",
       "      <td>2.394036</td>\n",
       "      <td>0.637131</td>\n",
       "      <td>00:02</td>\n",
       "    </tr>\n",
       "  </tbody>\n",
       "</table>"
      ],
      "text/plain": [
       "<IPython.core.display.HTML object>"
      ]
     },
     "metadata": {},
     "output_type": "display_data"
    },
    {
     "name": "stdout",
     "output_type": "stream",
     "text": [
      "Better model found at epoch 0 with valid_loss value: 2.725961923599243.\n",
      "Better model found at epoch 1 with valid_loss value: 2.6040642261505127.\n",
      "Better model found at epoch 2 with valid_loss value: 2.4359636306762695.\n",
      "Better model found at epoch 3 with valid_loss value: 2.410060167312622.\n",
      "Better model found at epoch 4 with valid_loss value: 2.409602642059326.\n",
      "Better model found at epoch 5 with valid_loss value: 2.396820306777954.\n",
      "Better model found at epoch 7 with valid_loss value: 2.3957176208496094.\n",
      "No improvement since epoch 5: early stopping\n"
     ]
    },
    {
     "data": {
      "text/html": [],
      "text/plain": [
       "<IPython.core.display.HTML object>"
      ]
     },
     "metadata": {},
     "output_type": "display_data"
    },
    {
     "name": "stdout",
     "output_type": "stream",
     "text": [
      "Better model found at epoch 0 with valid_loss value: 0.6176952719688416.\n",
      "        Net  Case-based Accuracy  Model-based Accuracy\n",
      "0   1100000             0.596644                   1.0\n",
      "1   1110010             0.721316                   1.0\n",
      "2   1100110             0.545379                   1.0\n",
      "3   1110100             0.668933                   1.0\n",
      "4   0001010             0.474091                   1.0\n",
      "..      ...                  ...                   ...\n",
      "65  0000000             0.543000                   1.0\n",
      "66  0011110             0.590686                   1.0\n",
      "67  0001110             0.498409                   1.0\n",
      "68  0111000             0.705150                   1.0\n",
      "69  1010110             0.617695                   1.0\n",
      "\n",
      "[70 rows x 3 columns]\n"
     ]
    },
    {
     "data": {
      "text/html": [
       "<table border=\"1\" class=\"dataframe\">\n",
       "  <thead>\n",
       "    <tr style=\"text-align: left;\">\n",
       "      <th>epoch</th>\n",
       "      <th>train_loss</th>\n",
       "      <th>valid_loss</th>\n",
       "      <th>accuracy</th>\n",
       "      <th>time</th>\n",
       "    </tr>\n",
       "  </thead>\n",
       "  <tbody>\n",
       "    <tr>\n",
       "      <td>0</td>\n",
       "      <td>3.094401</td>\n",
       "      <td>3.025297</td>\n",
       "      <td>0.537297</td>\n",
       "      <td>00:05</td>\n",
       "    </tr>\n",
       "    <tr>\n",
       "      <td>1</td>\n",
       "      <td>3.003922</td>\n",
       "      <td>2.977763</td>\n",
       "      <td>0.569730</td>\n",
       "      <td>00:05</td>\n",
       "    </tr>\n",
       "    <tr>\n",
       "      <td>2</td>\n",
       "      <td>2.892429</td>\n",
       "      <td>2.881543</td>\n",
       "      <td>0.664865</td>\n",
       "      <td>00:05</td>\n",
       "    </tr>\n",
       "    <tr>\n",
       "      <td>3</td>\n",
       "      <td>2.854891</td>\n",
       "      <td>2.853899</td>\n",
       "      <td>0.694595</td>\n",
       "      <td>00:05</td>\n",
       "    </tr>\n",
       "    <tr>\n",
       "      <td>4</td>\n",
       "      <td>2.859476</td>\n",
       "      <td>2.852090</td>\n",
       "      <td>0.696216</td>\n",
       "      <td>00:05</td>\n",
       "    </tr>\n",
       "    <tr>\n",
       "      <td>5</td>\n",
       "      <td>2.850608</td>\n",
       "      <td>2.850912</td>\n",
       "      <td>0.697297</td>\n",
       "      <td>00:05</td>\n",
       "    </tr>\n",
       "    <tr>\n",
       "      <td>6</td>\n",
       "      <td>2.849809</td>\n",
       "      <td>2.847587</td>\n",
       "      <td>0.701622</td>\n",
       "      <td>00:05</td>\n",
       "    </tr>\n",
       "    <tr>\n",
       "      <td>7</td>\n",
       "      <td>2.845345</td>\n",
       "      <td>2.850021</td>\n",
       "      <td>0.698919</td>\n",
       "      <td>00:05</td>\n",
       "    </tr>\n",
       "    <tr>\n",
       "      <td>8</td>\n",
       "      <td>2.843335</td>\n",
       "      <td>2.853577</td>\n",
       "      <td>0.696757</td>\n",
       "      <td>00:05</td>\n",
       "    </tr>\n",
       "    <tr>\n",
       "      <td>9</td>\n",
       "      <td>2.850920</td>\n",
       "      <td>2.848749</td>\n",
       "      <td>0.700541</td>\n",
       "      <td>00:05</td>\n",
       "    </tr>\n",
       "  </tbody>\n",
       "</table>"
      ],
      "text/plain": [
       "<IPython.core.display.HTML object>"
      ]
     },
     "metadata": {},
     "output_type": "display_data"
    },
    {
     "name": "stdout",
     "output_type": "stream",
     "text": [
      "Better model found at epoch 0 with valid_loss value: 3.0252974033355713.\n",
      "Better model found at epoch 1 with valid_loss value: 2.9777626991271973.\n",
      "Better model found at epoch 2 with valid_loss value: 2.881542682647705.\n",
      "Better model found at epoch 3 with valid_loss value: 2.853898525238037.\n",
      "Better model found at epoch 4 with valid_loss value: 2.852090358734131.\n",
      "Better model found at epoch 5 with valid_loss value: 2.85091233253479.\n",
      "Better model found at epoch 6 with valid_loss value: 2.8475871086120605.\n",
      "No improvement since epoch 6: early stopping\n"
     ]
    },
    {
     "data": {
      "text/html": [],
      "text/plain": [
       "<IPython.core.display.HTML object>"
      ]
     },
     "metadata": {},
     "output_type": "display_data"
    },
    {
     "name": "stdout",
     "output_type": "stream",
     "text": [
      "Better model found at epoch 0 with valid_loss value: 0.653783917427063.\n",
      "        Net  Case-based Accuracy  Model-based Accuracy\n",
      "0   1100000             0.596644                   1.0\n",
      "1   1110010             0.721316                   1.0\n",
      "2   1100110             0.545379                   1.0\n",
      "3   1110100             0.668933                   1.0\n",
      "4   0001010             0.474091                   1.0\n",
      "..      ...                  ...                   ...\n",
      "66  0011110             0.590686                   1.0\n",
      "67  0001110             0.498409                   1.0\n",
      "68  0111000             0.705150                   1.0\n",
      "69  1010110             0.617695                   1.0\n",
      "70  0110000             0.653784                   1.0\n",
      "\n",
      "[71 rows x 3 columns]\n"
     ]
    },
    {
     "data": {
      "text/html": [
       "<table border=\"1\" class=\"dataframe\">\n",
       "  <thead>\n",
       "    <tr style=\"text-align: left;\">\n",
       "      <th>epoch</th>\n",
       "      <th>train_loss</th>\n",
       "      <th>valid_loss</th>\n",
       "      <th>accuracy</th>\n",
       "      <th>time</th>\n",
       "    </tr>\n",
       "  </thead>\n",
       "  <tbody>\n",
       "    <tr>\n",
       "      <td>0</td>\n",
       "      <td>3.209376</td>\n",
       "      <td>3.144366</td>\n",
       "      <td>0.521383</td>\n",
       "      <td>00:05</td>\n",
       "    </tr>\n",
       "    <tr>\n",
       "      <td>1</td>\n",
       "      <td>3.027570</td>\n",
       "      <td>3.023610</td>\n",
       "      <td>0.635618</td>\n",
       "      <td>00:05</td>\n",
       "    </tr>\n",
       "    <tr>\n",
       "      <td>2</td>\n",
       "      <td>3.023453</td>\n",
       "      <td>3.021188</td>\n",
       "      <td>0.639133</td>\n",
       "      <td>00:05</td>\n",
       "    </tr>\n",
       "    <tr>\n",
       "      <td>3</td>\n",
       "      <td>3.018217</td>\n",
       "      <td>3.015898</td>\n",
       "      <td>0.641476</td>\n",
       "      <td>00:05</td>\n",
       "    </tr>\n",
       "    <tr>\n",
       "      <td>4</td>\n",
       "      <td>3.012738</td>\n",
       "      <td>3.015953</td>\n",
       "      <td>0.643234</td>\n",
       "      <td>00:05</td>\n",
       "    </tr>\n",
       "    <tr>\n",
       "      <td>5</td>\n",
       "      <td>3.010808</td>\n",
       "      <td>3.015341</td>\n",
       "      <td>0.642648</td>\n",
       "      <td>00:05</td>\n",
       "    </tr>\n",
       "    <tr>\n",
       "      <td>6</td>\n",
       "      <td>3.022307</td>\n",
       "      <td>3.015369</td>\n",
       "      <td>0.640890</td>\n",
       "      <td>00:05</td>\n",
       "    </tr>\n",
       "  </tbody>\n",
       "</table>"
      ],
      "text/plain": [
       "<IPython.core.display.HTML object>"
      ]
     },
     "metadata": {},
     "output_type": "display_data"
    },
    {
     "name": "stdout",
     "output_type": "stream",
     "text": [
      "Better model found at epoch 0 with valid_loss value: 3.1443662643432617.\n",
      "Better model found at epoch 1 with valid_loss value: 3.0236098766326904.\n",
      "Better model found at epoch 2 with valid_loss value: 3.0211880207061768.\n",
      "Better model found at epoch 3 with valid_loss value: 3.0158982276916504.\n",
      "Better model found at epoch 5 with valid_loss value: 3.01534104347229.\n",
      "No improvement since epoch 3: early stopping\n"
     ]
    },
    {
     "data": {
      "text/html": [],
      "text/plain": [
       "<IPython.core.display.HTML object>"
      ]
     },
     "metadata": {},
     "output_type": "display_data"
    },
    {
     "name": "stdout",
     "output_type": "stream",
     "text": [
      "Better model found at epoch 0 with valid_loss value: 0.6396434903144836.\n",
      "        Net  Case-based Accuracy  Model-based Accuracy\n",
      "0   1100000             0.596644                   1.0\n",
      "1   1110010             0.721316                   1.0\n",
      "2   1100110             0.545379                   1.0\n",
      "3   1110100             0.668933                   1.0\n",
      "4   0001010             0.474091                   1.0\n",
      "..      ...                  ...                   ...\n",
      "67  0001110             0.498409                   1.0\n",
      "68  0111000             0.705150                   1.0\n",
      "69  1010110             0.617695                   1.0\n",
      "70  0110000             0.653784                   1.0\n",
      "71  1210100             0.639643                   1.0\n",
      "\n",
      "[72 rows x 3 columns]\n"
     ]
    },
    {
     "data": {
      "text/html": [
       "<table border=\"1\" class=\"dataframe\">\n",
       "  <thead>\n",
       "    <tr style=\"text-align: left;\">\n",
       "      <th>epoch</th>\n",
       "      <th>train_loss</th>\n",
       "      <th>valid_loss</th>\n",
       "      <th>accuracy</th>\n",
       "      <th>time</th>\n",
       "    </tr>\n",
       "  </thead>\n",
       "  <tbody>\n",
       "    <tr>\n",
       "      <td>0</td>\n",
       "      <td>2.830086</td>\n",
       "      <td>2.807082</td>\n",
       "      <td>0.404799</td>\n",
       "      <td>00:05</td>\n",
       "    </tr>\n",
       "    <tr>\n",
       "      <td>1</td>\n",
       "      <td>2.684851</td>\n",
       "      <td>2.709819</td>\n",
       "      <td>0.503912</td>\n",
       "      <td>00:05</td>\n",
       "    </tr>\n",
       "    <tr>\n",
       "      <td>2</td>\n",
       "      <td>2.663526</td>\n",
       "      <td>2.682007</td>\n",
       "      <td>0.525822</td>\n",
       "      <td>00:05</td>\n",
       "    </tr>\n",
       "    <tr>\n",
       "      <td>3</td>\n",
       "      <td>2.636538</td>\n",
       "      <td>2.654795</td>\n",
       "      <td>0.555034</td>\n",
       "      <td>00:05</td>\n",
       "    </tr>\n",
       "    <tr>\n",
       "      <td>4</td>\n",
       "      <td>2.620706</td>\n",
       "      <td>2.648779</td>\n",
       "      <td>0.561815</td>\n",
       "      <td>00:05</td>\n",
       "    </tr>\n",
       "    <tr>\n",
       "      <td>5</td>\n",
       "      <td>2.635280</td>\n",
       "      <td>2.648763</td>\n",
       "      <td>0.559729</td>\n",
       "      <td>00:05</td>\n",
       "    </tr>\n",
       "    <tr>\n",
       "      <td>6</td>\n",
       "      <td>2.627882</td>\n",
       "      <td>2.648094</td>\n",
       "      <td>0.559207</td>\n",
       "      <td>00:05</td>\n",
       "    </tr>\n",
       "    <tr>\n",
       "      <td>7</td>\n",
       "      <td>2.625284</td>\n",
       "      <td>2.638146</td>\n",
       "      <td>0.571205</td>\n",
       "      <td>00:05</td>\n",
       "    </tr>\n",
       "    <tr>\n",
       "      <td>8</td>\n",
       "      <td>2.603470</td>\n",
       "      <td>2.631077</td>\n",
       "      <td>0.578508</td>\n",
       "      <td>00:05</td>\n",
       "    </tr>\n",
       "    <tr>\n",
       "      <td>9</td>\n",
       "      <td>2.596138</td>\n",
       "      <td>2.616716</td>\n",
       "      <td>0.592593</td>\n",
       "      <td>00:05</td>\n",
       "    </tr>\n",
       "    <tr>\n",
       "      <td>10</td>\n",
       "      <td>2.581150</td>\n",
       "      <td>2.629007</td>\n",
       "      <td>0.580595</td>\n",
       "      <td>00:05</td>\n",
       "    </tr>\n",
       "    <tr>\n",
       "      <td>11</td>\n",
       "      <td>2.587775</td>\n",
       "      <td>2.621617</td>\n",
       "      <td>0.586854</td>\n",
       "      <td>00:05</td>\n",
       "    </tr>\n",
       "    <tr>\n",
       "      <td>12</td>\n",
       "      <td>2.582508</td>\n",
       "      <td>2.621838</td>\n",
       "      <td>0.586333</td>\n",
       "      <td>00:05</td>\n",
       "    </tr>\n",
       "  </tbody>\n",
       "</table>"
      ],
      "text/plain": [
       "<IPython.core.display.HTML object>"
      ]
     },
     "metadata": {},
     "output_type": "display_data"
    },
    {
     "name": "stdout",
     "output_type": "stream",
     "text": [
      "Better model found at epoch 0 with valid_loss value: 2.807081937789917.\n",
      "Better model found at epoch 1 with valid_loss value: 2.7098188400268555.\n",
      "Better model found at epoch 2 with valid_loss value: 2.682006597518921.\n",
      "Better model found at epoch 3 with valid_loss value: 2.654794931411743.\n",
      "Better model found at epoch 4 with valid_loss value: 2.6487793922424316.\n",
      "Better model found at epoch 5 with valid_loss value: 2.6487629413604736.\n",
      "Better model found at epoch 6 with valid_loss value: 2.648094415664673.\n",
      "Better model found at epoch 7 with valid_loss value: 2.638145685195923.\n",
      "Better model found at epoch 8 with valid_loss value: 2.631077289581299.\n",
      "Better model found at epoch 9 with valid_loss value: 2.616716146469116.\n",
      "No improvement since epoch 9: early stopping\n"
     ]
    },
    {
     "data": {
      "text/html": [],
      "text/plain": [
       "<IPython.core.display.HTML object>"
      ]
     },
     "metadata": {},
     "output_type": "display_data"
    },
    {
     "name": "stdout",
     "output_type": "stream",
     "text": [
      "Better model found at epoch 0 with valid_loss value: 0.6214109063148499.\n",
      "        Net  Case-based Accuracy  Model-based Accuracy\n",
      "0   1100000             0.596644                   1.0\n",
      "1   1110010             0.721316                   1.0\n",
      "2   1100110             0.545379                   1.0\n",
      "3   1110100             0.668933                   1.0\n",
      "4   0001010             0.474091                   1.0\n",
      "..      ...                  ...                   ...\n",
      "68  0111000             0.705150                   1.0\n",
      "69  1010110             0.617695                   1.0\n",
      "70  0110000             0.653784                   1.0\n",
      "71  1210100             0.639643                   1.0\n",
      "72  1101010             0.621411                   1.0\n",
      "\n",
      "[73 rows x 3 columns]\n"
     ]
    },
    {
     "data": {
      "text/html": [
       "<table border=\"1\" class=\"dataframe\">\n",
       "  <thead>\n",
       "    <tr style=\"text-align: left;\">\n",
       "      <th>epoch</th>\n",
       "      <th>train_loss</th>\n",
       "      <th>valid_loss</th>\n",
       "      <th>accuracy</th>\n",
       "      <th>time</th>\n",
       "    </tr>\n",
       "  </thead>\n",
       "  <tbody>\n",
       "    <tr>\n",
       "      <td>0</td>\n",
       "      <td>3.341546</td>\n",
       "      <td>3.299657</td>\n",
       "      <td>0.362445</td>\n",
       "      <td>00:05</td>\n",
       "    </tr>\n",
       "    <tr>\n",
       "      <td>1</td>\n",
       "      <td>3.264034</td>\n",
       "      <td>3.265319</td>\n",
       "      <td>0.388646</td>\n",
       "      <td>00:05</td>\n",
       "    </tr>\n",
       "    <tr>\n",
       "      <td>2</td>\n",
       "      <td>3.221070</td>\n",
       "      <td>3.205747</td>\n",
       "      <td>0.453057</td>\n",
       "      <td>00:05</td>\n",
       "    </tr>\n",
       "    <tr>\n",
       "      <td>3</td>\n",
       "      <td>3.203737</td>\n",
       "      <td>3.184897</td>\n",
       "      <td>0.474345</td>\n",
       "      <td>00:05</td>\n",
       "    </tr>\n",
       "    <tr>\n",
       "      <td>4</td>\n",
       "      <td>3.188190</td>\n",
       "      <td>3.188103</td>\n",
       "      <td>0.467795</td>\n",
       "      <td>00:05</td>\n",
       "    </tr>\n",
       "    <tr>\n",
       "      <td>5</td>\n",
       "      <td>3.176271</td>\n",
       "      <td>3.180746</td>\n",
       "      <td>0.473799</td>\n",
       "      <td>00:05</td>\n",
       "    </tr>\n",
       "    <tr>\n",
       "      <td>6</td>\n",
       "      <td>3.167323</td>\n",
       "      <td>3.159880</td>\n",
       "      <td>0.497271</td>\n",
       "      <td>00:05</td>\n",
       "    </tr>\n",
       "    <tr>\n",
       "      <td>7</td>\n",
       "      <td>3.160578</td>\n",
       "      <td>3.156718</td>\n",
       "      <td>0.499454</td>\n",
       "      <td>00:05</td>\n",
       "    </tr>\n",
       "    <tr>\n",
       "      <td>8</td>\n",
       "      <td>3.134869</td>\n",
       "      <td>3.116636</td>\n",
       "      <td>0.544760</td>\n",
       "      <td>00:05</td>\n",
       "    </tr>\n",
       "    <tr>\n",
       "      <td>9</td>\n",
       "      <td>3.108155</td>\n",
       "      <td>3.104975</td>\n",
       "      <td>0.551310</td>\n",
       "      <td>00:05</td>\n",
       "    </tr>\n",
       "    <tr>\n",
       "      <td>10</td>\n",
       "      <td>3.104082</td>\n",
       "      <td>3.100350</td>\n",
       "      <td>0.555677</td>\n",
       "      <td>00:05</td>\n",
       "    </tr>\n",
       "    <tr>\n",
       "      <td>11</td>\n",
       "      <td>3.109153</td>\n",
       "      <td>3.099995</td>\n",
       "      <td>0.556223</td>\n",
       "      <td>00:05</td>\n",
       "    </tr>\n",
       "    <tr>\n",
       "      <td>12</td>\n",
       "      <td>3.104714</td>\n",
       "      <td>3.104964</td>\n",
       "      <td>0.550218</td>\n",
       "      <td>00:05</td>\n",
       "    </tr>\n",
       "  </tbody>\n",
       "</table>"
      ],
      "text/plain": [
       "<IPython.core.display.HTML object>"
      ]
     },
     "metadata": {},
     "output_type": "display_data"
    },
    {
     "name": "stdout",
     "output_type": "stream",
     "text": [
      "Better model found at epoch 0 with valid_loss value: 3.2996573448181152.\n",
      "Better model found at epoch 1 with valid_loss value: 3.2653191089630127.\n",
      "Better model found at epoch 2 with valid_loss value: 3.205746650695801.\n",
      "Better model found at epoch 3 with valid_loss value: 3.1848971843719482.\n",
      "Better model found at epoch 5 with valid_loss value: 3.180746078491211.\n",
      "Better model found at epoch 6 with valid_loss value: 3.1598801612854004.\n",
      "Better model found at epoch 7 with valid_loss value: 3.156717538833618.\n",
      "Better model found at epoch 8 with valid_loss value: 3.116635799407959.\n",
      "Better model found at epoch 9 with valid_loss value: 3.104975461959839.\n",
      "Better model found at epoch 10 with valid_loss value: 3.1003499031066895.\n",
      "Better model found at epoch 11 with valid_loss value: 3.0999951362609863.\n",
      "No improvement since epoch 9: early stopping\n"
     ]
    },
    {
     "data": {
      "text/html": [],
      "text/plain": [
       "<IPython.core.display.HTML object>"
      ]
     },
     "metadata": {},
     "output_type": "display_data"
    },
    {
     "name": "stdout",
     "output_type": "stream",
     "text": [
      "Better model found at epoch 0 with valid_loss value: 0.5603588819503784.\n",
      "        Net  Case-based Accuracy  Model-based Accuracy\n",
      "0   1100000             0.596644                   1.0\n",
      "1   1110010             0.721316                   1.0\n",
      "2   1100110             0.545379                   1.0\n",
      "3   1110100             0.668933                   1.0\n",
      "4   0001010             0.474091                   1.0\n",
      "..      ...                  ...                   ...\n",
      "69  1010110             0.617695                   1.0\n",
      "70  0110000             0.653784                   1.0\n",
      "71  1210100             0.639643                   1.0\n",
      "72  1101010             0.621411                   1.0\n",
      "73  1200000             0.560359                   1.0\n",
      "\n",
      "[74 rows x 3 columns]\n"
     ]
    },
    {
     "data": {
      "text/html": [
       "<table border=\"1\" class=\"dataframe\">\n",
       "  <thead>\n",
       "    <tr style=\"text-align: left;\">\n",
       "      <th>epoch</th>\n",
       "      <th>train_loss</th>\n",
       "      <th>valid_loss</th>\n",
       "      <th>accuracy</th>\n",
       "      <th>time</th>\n",
       "    </tr>\n",
       "  </thead>\n",
       "  <tbody>\n",
       "    <tr>\n",
       "      <td>0</td>\n",
       "      <td>3.009117</td>\n",
       "      <td>2.964144</td>\n",
       "      <td>0.506261</td>\n",
       "      <td>00:05</td>\n",
       "    </tr>\n",
       "    <tr>\n",
       "      <td>1</td>\n",
       "      <td>2.867049</td>\n",
       "      <td>2.837768</td>\n",
       "      <td>0.621944</td>\n",
       "      <td>00:05</td>\n",
       "    </tr>\n",
       "    <tr>\n",
       "      <td>2</td>\n",
       "      <td>2.830058</td>\n",
       "      <td>2.810249</td>\n",
       "      <td>0.649374</td>\n",
       "      <td>00:05</td>\n",
       "    </tr>\n",
       "    <tr>\n",
       "      <td>3</td>\n",
       "      <td>2.804123</td>\n",
       "      <td>2.787986</td>\n",
       "      <td>0.672033</td>\n",
       "      <td>00:05</td>\n",
       "    </tr>\n",
       "    <tr>\n",
       "      <td>4</td>\n",
       "      <td>2.773428</td>\n",
       "      <td>2.763563</td>\n",
       "      <td>0.696482</td>\n",
       "      <td>00:05</td>\n",
       "    </tr>\n",
       "    <tr>\n",
       "      <td>5</td>\n",
       "      <td>2.773030</td>\n",
       "      <td>2.763898</td>\n",
       "      <td>0.695289</td>\n",
       "      <td>00:05</td>\n",
       "    </tr>\n",
       "    <tr>\n",
       "      <td>6</td>\n",
       "      <td>2.766446</td>\n",
       "      <td>2.766293</td>\n",
       "      <td>0.690519</td>\n",
       "      <td>00:05</td>\n",
       "    </tr>\n",
       "    <tr>\n",
       "      <td>7</td>\n",
       "      <td>2.764941</td>\n",
       "      <td>2.760850</td>\n",
       "      <td>0.695886</td>\n",
       "      <td>00:05</td>\n",
       "    </tr>\n",
       "  </tbody>\n",
       "</table>"
      ],
      "text/plain": [
       "<IPython.core.display.HTML object>"
      ]
     },
     "metadata": {},
     "output_type": "display_data"
    },
    {
     "name": "stdout",
     "output_type": "stream",
     "text": [
      "Better model found at epoch 0 with valid_loss value: 2.964143991470337.\n",
      "Better model found at epoch 1 with valid_loss value: 2.8377678394317627.\n",
      "Better model found at epoch 2 with valid_loss value: 2.810248613357544.\n",
      "Better model found at epoch 3 with valid_loss value: 2.7879860401153564.\n",
      "Better model found at epoch 4 with valid_loss value: 2.7635629177093506.\n",
      "No improvement since epoch 4: early stopping\n"
     ]
    },
    {
     "data": {
      "text/html": [],
      "text/plain": [
       "<IPython.core.display.HTML object>"
      ]
     },
     "metadata": {},
     "output_type": "display_data"
    },
    {
     "name": "stdout",
     "output_type": "stream",
     "text": [
      "Better model found at epoch 0 with valid_loss value: 0.6828661561012268.\n",
      "        Net  Case-based Accuracy  Model-based Accuracy\n",
      "0   1100000             0.596644                   1.0\n",
      "1   1110010             0.721316                   1.0\n",
      "2   1100110             0.545379                   1.0\n",
      "3   1110100             0.668933                   1.0\n",
      "4   0001010             0.474091                   1.0\n",
      "..      ...                  ...                   ...\n",
      "70  0110000             0.653784                   1.0\n",
      "71  1210100             0.639643                   1.0\n",
      "72  1101010             0.621411                   1.0\n",
      "73  1200000             0.560359                   1.0\n",
      "74  0110010             0.682866                   1.0\n",
      "\n",
      "[75 rows x 3 columns]\n"
     ]
    },
    {
     "data": {
      "text/html": [
       "<table border=\"1\" class=\"dataframe\">\n",
       "  <thead>\n",
       "    <tr style=\"text-align: left;\">\n",
       "      <th>epoch</th>\n",
       "      <th>train_loss</th>\n",
       "      <th>valid_loss</th>\n",
       "      <th>accuracy</th>\n",
       "      <th>time</th>\n",
       "    </tr>\n",
       "  </thead>\n",
       "  <tbody>\n",
       "    <tr>\n",
       "      <td>0</td>\n",
       "      <td>3.029670</td>\n",
       "      <td>3.002404</td>\n",
       "      <td>0.461372</td>\n",
       "      <td>00:06</td>\n",
       "    </tr>\n",
       "    <tr>\n",
       "      <td>1</td>\n",
       "      <td>2.928710</td>\n",
       "      <td>2.939109</td>\n",
       "      <td>0.523872</td>\n",
       "      <td>00:06</td>\n",
       "    </tr>\n",
       "    <tr>\n",
       "      <td>2</td>\n",
       "      <td>2.910959</td>\n",
       "      <td>2.921605</td>\n",
       "      <td>0.540799</td>\n",
       "      <td>00:06</td>\n",
       "    </tr>\n",
       "    <tr>\n",
       "      <td>3</td>\n",
       "      <td>2.899492</td>\n",
       "      <td>2.905944</td>\n",
       "      <td>0.553385</td>\n",
       "      <td>00:06</td>\n",
       "    </tr>\n",
       "    <tr>\n",
       "      <td>4</td>\n",
       "      <td>2.886819</td>\n",
       "      <td>2.898450</td>\n",
       "      <td>0.562500</td>\n",
       "      <td>00:06</td>\n",
       "    </tr>\n",
       "    <tr>\n",
       "      <td>5</td>\n",
       "      <td>2.881932</td>\n",
       "      <td>2.893263</td>\n",
       "      <td>0.566840</td>\n",
       "      <td>00:06</td>\n",
       "    </tr>\n",
       "    <tr>\n",
       "      <td>6</td>\n",
       "      <td>2.869545</td>\n",
       "      <td>2.888802</td>\n",
       "      <td>0.568142</td>\n",
       "      <td>00:06</td>\n",
       "    </tr>\n",
       "    <tr>\n",
       "      <td>7</td>\n",
       "      <td>2.858429</td>\n",
       "      <td>2.884189</td>\n",
       "      <td>0.575087</td>\n",
       "      <td>00:06</td>\n",
       "    </tr>\n",
       "    <tr>\n",
       "      <td>8</td>\n",
       "      <td>2.860710</td>\n",
       "      <td>2.883514</td>\n",
       "      <td>0.574219</td>\n",
       "      <td>00:06</td>\n",
       "    </tr>\n",
       "    <tr>\n",
       "      <td>9</td>\n",
       "      <td>2.865219</td>\n",
       "      <td>2.876848</td>\n",
       "      <td>0.581597</td>\n",
       "      <td>00:06</td>\n",
       "    </tr>\n",
       "    <tr>\n",
       "      <td>10</td>\n",
       "      <td>2.849289</td>\n",
       "      <td>2.878490</td>\n",
       "      <td>0.577691</td>\n",
       "      <td>00:06</td>\n",
       "    </tr>\n",
       "    <tr>\n",
       "      <td>11</td>\n",
       "      <td>2.853355</td>\n",
       "      <td>2.878469</td>\n",
       "      <td>0.577257</td>\n",
       "      <td>00:06</td>\n",
       "    </tr>\n",
       "    <tr>\n",
       "      <td>12</td>\n",
       "      <td>2.844641</td>\n",
       "      <td>2.870174</td>\n",
       "      <td>0.587240</td>\n",
       "      <td>00:06</td>\n",
       "    </tr>\n",
       "    <tr>\n",
       "      <td>13</td>\n",
       "      <td>2.850710</td>\n",
       "      <td>2.875457</td>\n",
       "      <td>0.582899</td>\n",
       "      <td>00:06</td>\n",
       "    </tr>\n",
       "    <tr>\n",
       "      <td>14</td>\n",
       "      <td>2.850102</td>\n",
       "      <td>2.876558</td>\n",
       "      <td>0.579861</td>\n",
       "      <td>00:06</td>\n",
       "    </tr>\n",
       "    <tr>\n",
       "      <td>15</td>\n",
       "      <td>2.839346</td>\n",
       "      <td>2.871968</td>\n",
       "      <td>0.587674</td>\n",
       "      <td>00:06</td>\n",
       "    </tr>\n",
       "  </tbody>\n",
       "</table>"
      ],
      "text/plain": [
       "<IPython.core.display.HTML object>"
      ]
     },
     "metadata": {},
     "output_type": "display_data"
    },
    {
     "name": "stdout",
     "output_type": "stream",
     "text": [
      "Better model found at epoch 0 with valid_loss value: 3.002403974533081.\n",
      "Better model found at epoch 1 with valid_loss value: 2.9391093254089355.\n",
      "Better model found at epoch 2 with valid_loss value: 2.921605110168457.\n",
      "Better model found at epoch 3 with valid_loss value: 2.9059438705444336.\n",
      "Better model found at epoch 4 with valid_loss value: 2.8984501361846924.\n",
      "Better model found at epoch 5 with valid_loss value: 2.893263101577759.\n",
      "Better model found at epoch 6 with valid_loss value: 2.8888018131256104.\n",
      "Better model found at epoch 7 with valid_loss value: 2.8841893672943115.\n",
      "Better model found at epoch 8 with valid_loss value: 2.883513927459717.\n",
      "Better model found at epoch 9 with valid_loss value: 2.8768482208251953.\n",
      "Better model found at epoch 12 with valid_loss value: 2.870173931121826.\n",
      "No improvement since epoch 12: early stopping\n"
     ]
    },
    {
     "data": {
      "text/html": [],
      "text/plain": [
       "<IPython.core.display.HTML object>"
      ]
     },
     "metadata": {},
     "output_type": "display_data"
    },
    {
     "name": "stdout",
     "output_type": "stream",
     "text": [
      "Better model found at epoch 0 with valid_loss value: 0.5891900658607483.\n",
      "        Net  Case-based Accuracy  Model-based Accuracy\n",
      "0   1100000             0.596644                   1.0\n",
      "1   1110010             0.721316                   1.0\n",
      "2   1100110             0.545379                   1.0\n",
      "3   1110100             0.668933                   1.0\n",
      "4   0001010             0.474091                   1.0\n",
      "..      ...                  ...                   ...\n",
      "71  1210100             0.639643                   1.0\n",
      "72  1101010             0.621411                   1.0\n",
      "73  1200000             0.560359                   1.0\n",
      "74  0110010             0.682866                   1.0\n",
      "75  0100010             0.589190                   1.0\n",
      "\n",
      "[76 rows x 3 columns]\n"
     ]
    },
    {
     "data": {
      "text/html": [
       "<table border=\"1\" class=\"dataframe\">\n",
       "  <thead>\n",
       "    <tr style=\"text-align: left;\">\n",
       "      <th>epoch</th>\n",
       "      <th>train_loss</th>\n",
       "      <th>valid_loss</th>\n",
       "      <th>accuracy</th>\n",
       "      <th>time</th>\n",
       "    </tr>\n",
       "  </thead>\n",
       "  <tbody>\n",
       "    <tr>\n",
       "      <td>0</td>\n",
       "      <td>2.942124</td>\n",
       "      <td>2.939654</td>\n",
       "      <td>0.349229</td>\n",
       "      <td>00:06</td>\n",
       "    </tr>\n",
       "    <tr>\n",
       "      <td>1</td>\n",
       "      <td>2.892095</td>\n",
       "      <td>2.905410</td>\n",
       "      <td>0.383357</td>\n",
       "      <td>00:06</td>\n",
       "    </tr>\n",
       "    <tr>\n",
       "      <td>2</td>\n",
       "      <td>2.866605</td>\n",
       "      <td>2.877620</td>\n",
       "      <td>0.408602</td>\n",
       "      <td>00:06</td>\n",
       "    </tr>\n",
       "    <tr>\n",
       "      <td>3</td>\n",
       "      <td>2.833868</td>\n",
       "      <td>2.836153</td>\n",
       "      <td>0.452080</td>\n",
       "      <td>00:06</td>\n",
       "    </tr>\n",
       "    <tr>\n",
       "      <td>4</td>\n",
       "      <td>2.815264</td>\n",
       "      <td>2.821858</td>\n",
       "      <td>0.466573</td>\n",
       "      <td>00:06</td>\n",
       "    </tr>\n",
       "    <tr>\n",
       "      <td>5</td>\n",
       "      <td>2.810430</td>\n",
       "      <td>2.823182</td>\n",
       "      <td>0.462366</td>\n",
       "      <td>00:06</td>\n",
       "    </tr>\n",
       "    <tr>\n",
       "      <td>6</td>\n",
       "      <td>2.816401</td>\n",
       "      <td>2.820422</td>\n",
       "      <td>0.463301</td>\n",
       "      <td>00:06</td>\n",
       "    </tr>\n",
       "    <tr>\n",
       "      <td>7</td>\n",
       "      <td>2.801735</td>\n",
       "      <td>2.819037</td>\n",
       "      <td>0.467041</td>\n",
       "      <td>00:06</td>\n",
       "    </tr>\n",
       "  </tbody>\n",
       "</table>"
      ],
      "text/plain": [
       "<IPython.core.display.HTML object>"
      ]
     },
     "metadata": {},
     "output_type": "display_data"
    },
    {
     "name": "stdout",
     "output_type": "stream",
     "text": [
      "Better model found at epoch 0 with valid_loss value: 2.9396543502807617.\n",
      "Better model found at epoch 1 with valid_loss value: 2.905410051345825.\n",
      "Better model found at epoch 2 with valid_loss value: 2.877619743347168.\n",
      "Better model found at epoch 3 with valid_loss value: 2.8361525535583496.\n",
      "Better model found at epoch 4 with valid_loss value: 2.8218581676483154.\n",
      "Better model found at epoch 6 with valid_loss value: 2.820422410964966.\n",
      "No improvement since epoch 4: early stopping\n"
     ]
    },
    {
     "data": {
      "text/html": [],
      "text/plain": [
       "<IPython.core.display.HTML object>"
      ]
     },
     "metadata": {},
     "output_type": "display_data"
    },
    {
     "name": "stdout",
     "output_type": "stream",
     "text": [
      "Better model found at epoch 0 with valid_loss value: 0.45968711376190186.\n",
      "        Net  Case-based Accuracy  Model-based Accuracy\n",
      "0   1100000             0.596644                   1.0\n",
      "1   1110010             0.721316                   1.0\n",
      "2   1100110             0.545379                   1.0\n",
      "3   1110100             0.668933                   1.0\n",
      "4   0001010             0.474091                   1.0\n",
      "..      ...                  ...                   ...\n",
      "72  1101010             0.621411                   1.0\n",
      "73  1200000             0.560359                   1.0\n",
      "74  0110010             0.682866                   1.0\n",
      "75  0100010             0.589190                   1.0\n",
      "76  0201100             0.459687                   1.0\n",
      "\n",
      "[77 rows x 3 columns]\n"
     ]
    },
    {
     "data": {
      "text/html": [
       "<table border=\"1\" class=\"dataframe\">\n",
       "  <thead>\n",
       "    <tr style=\"text-align: left;\">\n",
       "      <th>epoch</th>\n",
       "      <th>train_loss</th>\n",
       "      <th>valid_loss</th>\n",
       "      <th>accuracy</th>\n",
       "      <th>time</th>\n",
       "    </tr>\n",
       "  </thead>\n",
       "  <tbody>\n",
       "    <tr>\n",
       "      <td>0</td>\n",
       "      <td>3.185925</td>\n",
       "      <td>3.130265</td>\n",
       "      <td>0.450497</td>\n",
       "      <td>00:06</td>\n",
       "    </tr>\n",
       "    <tr>\n",
       "      <td>1</td>\n",
       "      <td>3.033059</td>\n",
       "      <td>3.026476</td>\n",
       "      <td>0.525292</td>\n",
       "      <td>00:06</td>\n",
       "    </tr>\n",
       "    <tr>\n",
       "      <td>2</td>\n",
       "      <td>3.008031</td>\n",
       "      <td>3.000603</td>\n",
       "      <td>0.548206</td>\n",
       "      <td>00:06</td>\n",
       "    </tr>\n",
       "    <tr>\n",
       "      <td>3</td>\n",
       "      <td>2.989384</td>\n",
       "      <td>2.997417</td>\n",
       "      <td>0.549935</td>\n",
       "      <td>00:06</td>\n",
       "    </tr>\n",
       "    <tr>\n",
       "      <td>4</td>\n",
       "      <td>2.983519</td>\n",
       "      <td>2.992107</td>\n",
       "      <td>0.558582</td>\n",
       "      <td>00:06</td>\n",
       "    </tr>\n",
       "    <tr>\n",
       "      <td>5</td>\n",
       "      <td>2.985965</td>\n",
       "      <td>2.990308</td>\n",
       "      <td>0.559014</td>\n",
       "      <td>00:06</td>\n",
       "    </tr>\n",
       "    <tr>\n",
       "      <td>6</td>\n",
       "      <td>2.987049</td>\n",
       "      <td>2.989494</td>\n",
       "      <td>0.561176</td>\n",
       "      <td>00:06</td>\n",
       "    </tr>\n",
       "    <tr>\n",
       "      <td>7</td>\n",
       "      <td>2.979508</td>\n",
       "      <td>2.980669</td>\n",
       "      <td>0.570687</td>\n",
       "      <td>00:06</td>\n",
       "    </tr>\n",
       "    <tr>\n",
       "      <td>8</td>\n",
       "      <td>2.972160</td>\n",
       "      <td>2.979365</td>\n",
       "      <td>0.569390</td>\n",
       "      <td>00:06</td>\n",
       "    </tr>\n",
       "    <tr>\n",
       "      <td>9</td>\n",
       "      <td>2.964525</td>\n",
       "      <td>2.978380</td>\n",
       "      <td>0.570255</td>\n",
       "      <td>00:06</td>\n",
       "    </tr>\n",
       "    <tr>\n",
       "      <td>10</td>\n",
       "      <td>2.963940</td>\n",
       "      <td>2.968782</td>\n",
       "      <td>0.575875</td>\n",
       "      <td>00:06</td>\n",
       "    </tr>\n",
       "    <tr>\n",
       "      <td>11</td>\n",
       "      <td>2.968352</td>\n",
       "      <td>2.969678</td>\n",
       "      <td>0.580199</td>\n",
       "      <td>00:06</td>\n",
       "    </tr>\n",
       "    <tr>\n",
       "      <td>12</td>\n",
       "      <td>2.960434</td>\n",
       "      <td>2.967182</td>\n",
       "      <td>0.582793</td>\n",
       "      <td>00:06</td>\n",
       "    </tr>\n",
       "    <tr>\n",
       "      <td>13</td>\n",
       "      <td>2.962641</td>\n",
       "      <td>2.965185</td>\n",
       "      <td>0.581928</td>\n",
       "      <td>00:06</td>\n",
       "    </tr>\n",
       "  </tbody>\n",
       "</table>"
      ],
      "text/plain": [
       "<IPython.core.display.HTML object>"
      ]
     },
     "metadata": {},
     "output_type": "display_data"
    },
    {
     "name": "stdout",
     "output_type": "stream",
     "text": [
      "Better model found at epoch 0 with valid_loss value: 3.1302649974823.\n",
      "Better model found at epoch 1 with valid_loss value: 3.0264761447906494.\n",
      "Better model found at epoch 2 with valid_loss value: 3.000603199005127.\n",
      "Better model found at epoch 3 with valid_loss value: 2.997417449951172.\n",
      "Better model found at epoch 4 with valid_loss value: 2.992107391357422.\n",
      "Better model found at epoch 5 with valid_loss value: 2.9903078079223633.\n",
      "Better model found at epoch 6 with valid_loss value: 2.9894938468933105.\n",
      "Better model found at epoch 7 with valid_loss value: 2.980668783187866.\n",
      "Better model found at epoch 8 with valid_loss value: 2.979365110397339.\n",
      "Better model found at epoch 9 with valid_loss value: 2.9783802032470703.\n",
      "Better model found at epoch 10 with valid_loss value: 2.9687817096710205.\n",
      "Better model found at epoch 12 with valid_loss value: 2.967182159423828.\n",
      "No improvement since epoch 10: early stopping\n"
     ]
    },
    {
     "data": {
      "text/html": [],
      "text/plain": [
       "<IPython.core.display.HTML object>"
      ]
     },
     "metadata": {},
     "output_type": "display_data"
    },
    {
     "name": "stdout",
     "output_type": "stream",
     "text": [
      "Better model found at epoch 0 with valid_loss value: 0.5834172368049622.\n",
      "        Net  Case-based Accuracy  Model-based Accuracy\n",
      "0   1100000             0.596644                   1.0\n",
      "1   1110010             0.721316                   1.0\n",
      "2   1100110             0.545379                   1.0\n",
      "3   1110100             0.668933                   1.0\n",
      "4   0001010             0.474091                   1.0\n",
      "..      ...                  ...                   ...\n",
      "73  1200000             0.560359                   1.0\n",
      "74  0110010             0.682866                   1.0\n",
      "75  0100010             0.589190                   1.0\n",
      "76  0201100             0.459687                   1.0\n",
      "77  0100000             0.583417                   1.0\n",
      "\n",
      "[78 rows x 3 columns]\n"
     ]
    },
    {
     "data": {
      "text/html": [
       "<table border=\"1\" class=\"dataframe\">\n",
       "  <thead>\n",
       "    <tr style=\"text-align: left;\">\n",
       "      <th>epoch</th>\n",
       "      <th>train_loss</th>\n",
       "      <th>valid_loss</th>\n",
       "      <th>accuracy</th>\n",
       "      <th>time</th>\n",
       "    </tr>\n",
       "  </thead>\n",
       "  <tbody>\n",
       "    <tr>\n",
       "      <td>0</td>\n",
       "      <td>2.835967</td>\n",
       "      <td>2.738644</td>\n",
       "      <td>0.401857</td>\n",
       "      <td>00:02</td>\n",
       "    </tr>\n",
       "    <tr>\n",
       "      <td>1</td>\n",
       "      <td>2.655486</td>\n",
       "      <td>2.578896</td>\n",
       "      <td>0.572944</td>\n",
       "      <td>00:02</td>\n",
       "    </tr>\n",
       "    <tr>\n",
       "      <td>2</td>\n",
       "      <td>2.566956</td>\n",
       "      <td>2.540898</td>\n",
       "      <td>0.586207</td>\n",
       "      <td>00:02</td>\n",
       "    </tr>\n",
       "    <tr>\n",
       "      <td>3</td>\n",
       "      <td>2.550884</td>\n",
       "      <td>2.538425</td>\n",
       "      <td>0.586207</td>\n",
       "      <td>00:02</td>\n",
       "    </tr>\n",
       "    <tr>\n",
       "      <td>4</td>\n",
       "      <td>2.545483</td>\n",
       "      <td>2.535396</td>\n",
       "      <td>0.584881</td>\n",
       "      <td>00:02</td>\n",
       "    </tr>\n",
       "    <tr>\n",
       "      <td>5</td>\n",
       "      <td>2.545283</td>\n",
       "      <td>2.532449</td>\n",
       "      <td>0.591512</td>\n",
       "      <td>00:02</td>\n",
       "    </tr>\n",
       "    <tr>\n",
       "      <td>6</td>\n",
       "      <td>2.538683</td>\n",
       "      <td>2.530107</td>\n",
       "      <td>0.594164</td>\n",
       "      <td>00:02</td>\n",
       "    </tr>\n",
       "    <tr>\n",
       "      <td>7</td>\n",
       "      <td>2.535867</td>\n",
       "      <td>2.527811</td>\n",
       "      <td>0.598143</td>\n",
       "      <td>00:02</td>\n",
       "    </tr>\n",
       "    <tr>\n",
       "      <td>8</td>\n",
       "      <td>2.528529</td>\n",
       "      <td>2.524377</td>\n",
       "      <td>0.599469</td>\n",
       "      <td>00:02</td>\n",
       "    </tr>\n",
       "    <tr>\n",
       "      <td>9</td>\n",
       "      <td>2.530637</td>\n",
       "      <td>2.524835</td>\n",
       "      <td>0.602122</td>\n",
       "      <td>00:02</td>\n",
       "    </tr>\n",
       "    <tr>\n",
       "      <td>10</td>\n",
       "      <td>2.527528</td>\n",
       "      <td>2.522731</td>\n",
       "      <td>0.602122</td>\n",
       "      <td>00:02</td>\n",
       "    </tr>\n",
       "    <tr>\n",
       "      <td>11</td>\n",
       "      <td>2.531910</td>\n",
       "      <td>2.522269</td>\n",
       "      <td>0.600796</td>\n",
       "      <td>00:02</td>\n",
       "    </tr>\n",
       "  </tbody>\n",
       "</table>"
      ],
      "text/plain": [
       "<IPython.core.display.HTML object>"
      ]
     },
     "metadata": {},
     "output_type": "display_data"
    },
    {
     "name": "stdout",
     "output_type": "stream",
     "text": [
      "Better model found at epoch 0 with valid_loss value: 2.7386438846588135.\n",
      "Better model found at epoch 1 with valid_loss value: 2.5788960456848145.\n",
      "Better model found at epoch 2 with valid_loss value: 2.540898084640503.\n",
      "Better model found at epoch 3 with valid_loss value: 2.5384247303009033.\n",
      "Better model found at epoch 4 with valid_loss value: 2.535395622253418.\n",
      "Better model found at epoch 5 with valid_loss value: 2.5324490070343018.\n",
      "Better model found at epoch 6 with valid_loss value: 2.530106782913208.\n",
      "Better model found at epoch 7 with valid_loss value: 2.527811050415039.\n",
      "Better model found at epoch 8 with valid_loss value: 2.5243771076202393.\n",
      "Better model found at epoch 10 with valid_loss value: 2.522731065750122.\n",
      "No improvement since epoch 8: early stopping\n"
     ]
    },
    {
     "data": {
      "text/html": [],
      "text/plain": [
       "<IPython.core.display.HTML object>"
      ]
     },
     "metadata": {},
     "output_type": "display_data"
    },
    {
     "name": "stdout",
     "output_type": "stream",
     "text": [
      "Better model found at epoch 0 with valid_loss value: 0.6115843057632446.\n",
      "        Net  Case-based Accuracy  Model-based Accuracy\n",
      "0   1100000             0.596644                   1.0\n",
      "1   1110010             0.721316                   1.0\n",
      "2   1100110             0.545379                   1.0\n",
      "3   1110100             0.668933                   1.0\n",
      "4   0001010             0.474091                   1.0\n",
      "..      ...                  ...                   ...\n",
      "74  0110010             0.682866                   1.0\n",
      "75  0100010             0.589190                   1.0\n",
      "76  0201100             0.459687                   1.0\n",
      "77  0100000             0.583417                   1.0\n",
      "78  0010100             0.611584                   1.0\n",
      "\n",
      "[79 rows x 3 columns]\n"
     ]
    },
    {
     "data": {
      "text/html": [
       "<table border=\"1\" class=\"dataframe\">\n",
       "  <thead>\n",
       "    <tr style=\"text-align: left;\">\n",
       "      <th>epoch</th>\n",
       "      <th>train_loss</th>\n",
       "      <th>valid_loss</th>\n",
       "      <th>accuracy</th>\n",
       "      <th>time</th>\n",
       "    </tr>\n",
       "  </thead>\n",
       "  <tbody>\n",
       "    <tr>\n",
       "      <td>0</td>\n",
       "      <td>3.209842</td>\n",
       "      <td>3.167136</td>\n",
       "      <td>0.393085</td>\n",
       "      <td>00:05</td>\n",
       "    </tr>\n",
       "    <tr>\n",
       "      <td>1</td>\n",
       "      <td>3.124879</td>\n",
       "      <td>3.104134</td>\n",
       "      <td>0.449955</td>\n",
       "      <td>00:06</td>\n",
       "    </tr>\n",
       "    <tr>\n",
       "      <td>2</td>\n",
       "      <td>3.078474</td>\n",
       "      <td>3.063944</td>\n",
       "      <td>0.488171</td>\n",
       "      <td>00:06</td>\n",
       "    </tr>\n",
       "    <tr>\n",
       "      <td>3</td>\n",
       "      <td>3.065742</td>\n",
       "      <td>3.049034</td>\n",
       "      <td>0.500000</td>\n",
       "      <td>00:06</td>\n",
       "    </tr>\n",
       "    <tr>\n",
       "      <td>4</td>\n",
       "      <td>3.053142</td>\n",
       "      <td>3.041396</td>\n",
       "      <td>0.507734</td>\n",
       "      <td>00:06</td>\n",
       "    </tr>\n",
       "    <tr>\n",
       "      <td>5</td>\n",
       "      <td>3.047519</td>\n",
       "      <td>3.042433</td>\n",
       "      <td>0.508189</td>\n",
       "      <td>00:06</td>\n",
       "    </tr>\n",
       "    <tr>\n",
       "      <td>6</td>\n",
       "      <td>3.044294</td>\n",
       "      <td>3.042738</td>\n",
       "      <td>0.505459</td>\n",
       "      <td>00:06</td>\n",
       "    </tr>\n",
       "    <tr>\n",
       "      <td>7</td>\n",
       "      <td>3.032912</td>\n",
       "      <td>3.040036</td>\n",
       "      <td>0.508644</td>\n",
       "      <td>00:06</td>\n",
       "    </tr>\n",
       "  </tbody>\n",
       "</table>"
      ],
      "text/plain": [
       "<IPython.core.display.HTML object>"
      ]
     },
     "metadata": {},
     "output_type": "display_data"
    },
    {
     "name": "stdout",
     "output_type": "stream",
     "text": [
      "Better model found at epoch 0 with valid_loss value: 3.167135715484619.\n",
      "Better model found at epoch 1 with valid_loss value: 3.1041338443756104.\n",
      "Better model found at epoch 2 with valid_loss value: 3.06394362449646.\n",
      "Better model found at epoch 3 with valid_loss value: 3.0490338802337646.\n",
      "Better model found at epoch 4 with valid_loss value: 3.041395902633667.\n",
      "No improvement since epoch 4: early stopping\n"
     ]
    },
    {
     "data": {
      "text/html": [],
      "text/plain": [
       "<IPython.core.display.HTML object>"
      ]
     },
     "metadata": {},
     "output_type": "display_data"
    },
    {
     "name": "stdout",
     "output_type": "stream",
     "text": [
      "Better model found at epoch 0 with valid_loss value: 0.49434325098991394.\n",
      "        Net  Case-based Accuracy  Model-based Accuracy\n",
      "0   1100000             0.596644                   1.0\n",
      "1   1110010             0.721316                   1.0\n",
      "2   1100110             0.545379                   1.0\n",
      "3   1110100             0.668933                   1.0\n",
      "4   0001010             0.474091                   1.0\n",
      "..      ...                  ...                   ...\n",
      "75  0100010             0.589190                   1.0\n",
      "76  0201100             0.459687                   1.0\n",
      "77  0100000             0.583417                   1.0\n",
      "78  0010100             0.611584                   1.0\n",
      "79  0200110             0.494343                   1.0\n",
      "\n",
      "[80 rows x 3 columns]\n"
     ]
    },
    {
     "data": {
      "text/html": [
       "<table border=\"1\" class=\"dataframe\">\n",
       "  <thead>\n",
       "    <tr style=\"text-align: left;\">\n",
       "      <th>epoch</th>\n",
       "      <th>train_loss</th>\n",
       "      <th>valid_loss</th>\n",
       "      <th>accuracy</th>\n",
       "      <th>time</th>\n",
       "    </tr>\n",
       "  </thead>\n",
       "  <tbody>\n",
       "    <tr>\n",
       "      <td>0</td>\n",
       "      <td>2.854515</td>\n",
       "      <td>2.785632</td>\n",
       "      <td>0.506542</td>\n",
       "      <td>00:05</td>\n",
       "    </tr>\n",
       "    <tr>\n",
       "      <td>1</td>\n",
       "      <td>2.763642</td>\n",
       "      <td>2.713504</td>\n",
       "      <td>0.583178</td>\n",
       "      <td>00:05</td>\n",
       "    </tr>\n",
       "    <tr>\n",
       "      <td>2</td>\n",
       "      <td>2.700711</td>\n",
       "      <td>2.683164</td>\n",
       "      <td>0.604361</td>\n",
       "      <td>00:05</td>\n",
       "    </tr>\n",
       "    <tr>\n",
       "      <td>3</td>\n",
       "      <td>2.683999</td>\n",
       "      <td>2.659232</td>\n",
       "      <td>0.625545</td>\n",
       "      <td>00:05</td>\n",
       "    </tr>\n",
       "    <tr>\n",
       "      <td>4</td>\n",
       "      <td>2.648720</td>\n",
       "      <td>2.618218</td>\n",
       "      <td>0.669782</td>\n",
       "      <td>00:05</td>\n",
       "    </tr>\n",
       "    <tr>\n",
       "      <td>5</td>\n",
       "      <td>2.650648</td>\n",
       "      <td>2.616809</td>\n",
       "      <td>0.669782</td>\n",
       "      <td>00:05</td>\n",
       "    </tr>\n",
       "    <tr>\n",
       "      <td>6</td>\n",
       "      <td>2.641002</td>\n",
       "      <td>2.612449</td>\n",
       "      <td>0.674766</td>\n",
       "      <td>00:05</td>\n",
       "    </tr>\n",
       "    <tr>\n",
       "      <td>7</td>\n",
       "      <td>2.653854</td>\n",
       "      <td>2.615384</td>\n",
       "      <td>0.671651</td>\n",
       "      <td>00:05</td>\n",
       "    </tr>\n",
       "    <tr>\n",
       "      <td>8</td>\n",
       "      <td>2.640314</td>\n",
       "      <td>2.612544</td>\n",
       "      <td>0.673520</td>\n",
       "      <td>00:05</td>\n",
       "    </tr>\n",
       "    <tr>\n",
       "      <td>9</td>\n",
       "      <td>2.645440</td>\n",
       "      <td>2.614135</td>\n",
       "      <td>0.672274</td>\n",
       "      <td>00:05</td>\n",
       "    </tr>\n",
       "  </tbody>\n",
       "</table>"
      ],
      "text/plain": [
       "<IPython.core.display.HTML object>"
      ]
     },
     "metadata": {},
     "output_type": "display_data"
    },
    {
     "name": "stdout",
     "output_type": "stream",
     "text": [
      "Better model found at epoch 0 with valid_loss value: 2.785632371902466.\n",
      "Better model found at epoch 1 with valid_loss value: 2.7135043144226074.\n",
      "Better model found at epoch 2 with valid_loss value: 2.68316388130188.\n",
      "Better model found at epoch 3 with valid_loss value: 2.6592323780059814.\n",
      "Better model found at epoch 4 with valid_loss value: 2.618218421936035.\n",
      "Better model found at epoch 5 with valid_loss value: 2.616809129714966.\n",
      "Better model found at epoch 6 with valid_loss value: 2.6124489307403564.\n",
      "No improvement since epoch 6: early stopping\n"
     ]
    },
    {
     "data": {
      "text/html": [],
      "text/plain": [
       "<IPython.core.display.HTML object>"
      ]
     },
     "metadata": {},
     "output_type": "display_data"
    },
    {
     "name": "stdout",
     "output_type": "stream",
     "text": [
      "Better model found at epoch 0 with valid_loss value: 0.6354019641876221.\n",
      "        Net  Case-based Accuracy  Model-based Accuracy\n",
      "0   1100000             0.596644                   1.0\n",
      "1   1110010             0.721316                   1.0\n",
      "2   1100110             0.545379                   1.0\n",
      "3   1110100             0.668933                   1.0\n",
      "4   0001010             0.474091                   1.0\n",
      "..      ...                  ...                   ...\n",
      "76  0201100             0.459687                   1.0\n",
      "77  0100000             0.583417                   1.0\n",
      "78  0010100             0.611584                   1.0\n",
      "79  0200110             0.494343                   1.0\n",
      "80  1211000             0.635402                   1.0\n",
      "\n",
      "[81 rows x 3 columns]\n"
     ]
    },
    {
     "data": {
      "text/html": [
       "<table border=\"1\" class=\"dataframe\">\n",
       "  <thead>\n",
       "    <tr style=\"text-align: left;\">\n",
       "      <th>epoch</th>\n",
       "      <th>train_loss</th>\n",
       "      <th>valid_loss</th>\n",
       "      <th>accuracy</th>\n",
       "      <th>time</th>\n",
       "    </tr>\n",
       "  </thead>\n",
       "  <tbody>\n",
       "    <tr>\n",
       "      <td>0</td>\n",
       "      <td>2.654557</td>\n",
       "      <td>2.570769</td>\n",
       "      <td>0.366667</td>\n",
       "      <td>00:02</td>\n",
       "    </tr>\n",
       "    <tr>\n",
       "      <td>1</td>\n",
       "      <td>2.536452</td>\n",
       "      <td>2.504624</td>\n",
       "      <td>0.422667</td>\n",
       "      <td>00:02</td>\n",
       "    </tr>\n",
       "    <tr>\n",
       "      <td>2</td>\n",
       "      <td>2.470957</td>\n",
       "      <td>2.452125</td>\n",
       "      <td>0.482667</td>\n",
       "      <td>00:02</td>\n",
       "    </tr>\n",
       "    <tr>\n",
       "      <td>3</td>\n",
       "      <td>2.457651</td>\n",
       "      <td>2.450308</td>\n",
       "      <td>0.485333</td>\n",
       "      <td>00:02</td>\n",
       "    </tr>\n",
       "    <tr>\n",
       "      <td>4</td>\n",
       "      <td>2.444347</td>\n",
       "      <td>2.443907</td>\n",
       "      <td>0.486667</td>\n",
       "      <td>00:02</td>\n",
       "    </tr>\n",
       "    <tr>\n",
       "      <td>5</td>\n",
       "      <td>2.434646</td>\n",
       "      <td>2.445976</td>\n",
       "      <td>0.484000</td>\n",
       "      <td>00:02</td>\n",
       "    </tr>\n",
       "    <tr>\n",
       "      <td>6</td>\n",
       "      <td>2.437274</td>\n",
       "      <td>2.442425</td>\n",
       "      <td>0.489333</td>\n",
       "      <td>00:02</td>\n",
       "    </tr>\n",
       "    <tr>\n",
       "      <td>7</td>\n",
       "      <td>2.439605</td>\n",
       "      <td>2.442112</td>\n",
       "      <td>0.488000</td>\n",
       "      <td>00:02</td>\n",
       "    </tr>\n",
       "  </tbody>\n",
       "</table>"
      ],
      "text/plain": [
       "<IPython.core.display.HTML object>"
      ]
     },
     "metadata": {},
     "output_type": "display_data"
    },
    {
     "name": "stdout",
     "output_type": "stream",
     "text": [
      "Better model found at epoch 0 with valid_loss value: 2.5707693099975586.\n",
      "Better model found at epoch 1 with valid_loss value: 2.504624128341675.\n",
      "Better model found at epoch 2 with valid_loss value: 2.45212459564209.\n",
      "Better model found at epoch 3 with valid_loss value: 2.450307846069336.\n",
      "Better model found at epoch 4 with valid_loss value: 2.4439072608947754.\n",
      "Better model found at epoch 6 with valid_loss value: 2.442425012588501.\n",
      "No improvement since epoch 4: early stopping\n"
     ]
    },
    {
     "data": {
      "text/html": [],
      "text/plain": [
       "<IPython.core.display.HTML object>"
      ]
     },
     "metadata": {},
     "output_type": "display_data"
    },
    {
     "name": "stdout",
     "output_type": "stream",
     "text": [
      "Better model found at epoch 0 with valid_loss value: 0.4779137969017029.\n",
      "        Net  Case-based Accuracy  Model-based Accuracy\n",
      "0   1100000             0.596644                   1.0\n",
      "1   1110010             0.721316                   1.0\n",
      "2   1100110             0.545379                   1.0\n",
      "3   1110100             0.668933                   1.0\n",
      "4   0001010             0.474091                   1.0\n",
      "..      ...                  ...                   ...\n",
      "77  0100000             0.583417                   1.0\n",
      "78  0010100             0.611584                   1.0\n",
      "79  0200110             0.494343                   1.0\n",
      "80  1211000             0.635402                   1.0\n",
      "81  0001100             0.477914                   1.0\n",
      "\n",
      "[82 rows x 3 columns]\n"
     ]
    },
    {
     "data": {
      "text/html": [
       "<table border=\"1\" class=\"dataframe\">\n",
       "  <thead>\n",
       "    <tr style=\"text-align: left;\">\n",
       "      <th>epoch</th>\n",
       "      <th>train_loss</th>\n",
       "      <th>valid_loss</th>\n",
       "      <th>accuracy</th>\n",
       "      <th>time</th>\n",
       "    </tr>\n",
       "  </thead>\n",
       "  <tbody>\n",
       "    <tr>\n",
       "      <td>0</td>\n",
       "      <td>2.833860</td>\n",
       "      <td>2.777297</td>\n",
       "      <td>0.520223</td>\n",
       "      <td>00:04</td>\n",
       "    </tr>\n",
       "    <tr>\n",
       "      <td>1</td>\n",
       "      <td>2.671201</td>\n",
       "      <td>2.655122</td>\n",
       "      <td>0.647141</td>\n",
       "      <td>00:04</td>\n",
       "    </tr>\n",
       "    <tr>\n",
       "      <td>2</td>\n",
       "      <td>2.637429</td>\n",
       "      <td>2.644867</td>\n",
       "      <td>0.642957</td>\n",
       "      <td>00:04</td>\n",
       "    </tr>\n",
       "    <tr>\n",
       "      <td>3</td>\n",
       "      <td>2.630287</td>\n",
       "      <td>2.640980</td>\n",
       "      <td>0.644351</td>\n",
       "      <td>00:04</td>\n",
       "    </tr>\n",
       "    <tr>\n",
       "      <td>4</td>\n",
       "      <td>2.628219</td>\n",
       "      <td>2.642942</td>\n",
       "      <td>0.642957</td>\n",
       "      <td>00:04</td>\n",
       "    </tr>\n",
       "    <tr>\n",
       "      <td>5</td>\n",
       "      <td>2.630644</td>\n",
       "      <td>2.637013</td>\n",
       "      <td>0.647838</td>\n",
       "      <td>00:04</td>\n",
       "    </tr>\n",
       "    <tr>\n",
       "      <td>6</td>\n",
       "      <td>2.625681</td>\n",
       "      <td>2.637874</td>\n",
       "      <td>0.648536</td>\n",
       "      <td>00:04</td>\n",
       "    </tr>\n",
       "    <tr>\n",
       "      <td>7</td>\n",
       "      <td>2.620051</td>\n",
       "      <td>2.635541</td>\n",
       "      <td>0.649930</td>\n",
       "      <td>00:04</td>\n",
       "    </tr>\n",
       "    <tr>\n",
       "      <td>8</td>\n",
       "      <td>2.615699</td>\n",
       "      <td>2.633236</td>\n",
       "      <td>0.652022</td>\n",
       "      <td>00:04</td>\n",
       "    </tr>\n",
       "  </tbody>\n",
       "</table>"
      ],
      "text/plain": [
       "<IPython.core.display.HTML object>"
      ]
     },
     "metadata": {},
     "output_type": "display_data"
    },
    {
     "name": "stdout",
     "output_type": "stream",
     "text": [
      "Better model found at epoch 0 with valid_loss value: 2.777297019958496.\n",
      "Better model found at epoch 1 with valid_loss value: 2.6551222801208496.\n",
      "Better model found at epoch 2 with valid_loss value: 2.644866704940796.\n",
      "Better model found at epoch 3 with valid_loss value: 2.640979528427124.\n",
      "Better model found at epoch 5 with valid_loss value: 2.6370127201080322.\n",
      "Better model found at epoch 7 with valid_loss value: 2.635540723800659.\n",
      "No improvement since epoch 5: early stopping\n"
     ]
    },
    {
     "data": {
      "text/html": [],
      "text/plain": [
       "<IPython.core.display.HTML object>"
      ]
     },
     "metadata": {},
     "output_type": "display_data"
    },
    {
     "name": "stdout",
     "output_type": "stream",
     "text": [
      "Better model found at epoch 0 with valid_loss value: 0.6616590619087219.\n",
      "        Net  Case-based Accuracy  Model-based Accuracy\n",
      "0   1100000             0.596644                   1.0\n",
      "1   1110010             0.721316                   1.0\n",
      "2   1100110             0.545379                   1.0\n",
      "3   1110100             0.668933                   1.0\n",
      "4   0001010             0.474091                   1.0\n",
      "..      ...                  ...                   ...\n",
      "78  0010100             0.611584                   1.0\n",
      "79  0200110             0.494343                   1.0\n",
      "80  1211000             0.635402                   1.0\n",
      "81  0001100             0.477914                   1.0\n",
      "82  1111100             0.661659                   1.0\n",
      "\n",
      "[83 rows x 3 columns]\n"
     ]
    },
    {
     "data": {
      "text/html": [
       "<table border=\"1\" class=\"dataframe\">\n",
       "  <thead>\n",
       "    <tr style=\"text-align: left;\">\n",
       "      <th>epoch</th>\n",
       "      <th>train_loss</th>\n",
       "      <th>valid_loss</th>\n",
       "      <th>accuracy</th>\n",
       "      <th>time</th>\n",
       "    </tr>\n",
       "  </thead>\n",
       "  <tbody>\n",
       "    <tr>\n",
       "      <td>0</td>\n",
       "      <td>2.844821</td>\n",
       "      <td>2.840870</td>\n",
       "      <td>0.373001</td>\n",
       "      <td>00:06</td>\n",
       "    </tr>\n",
       "    <tr>\n",
       "      <td>1</td>\n",
       "      <td>2.810506</td>\n",
       "      <td>2.821659</td>\n",
       "      <td>0.382879</td>\n",
       "      <td>00:06</td>\n",
       "    </tr>\n",
       "    <tr>\n",
       "      <td>2</td>\n",
       "      <td>2.776423</td>\n",
       "      <td>2.783207</td>\n",
       "      <td>0.422860</td>\n",
       "      <td>00:06</td>\n",
       "    </tr>\n",
       "    <tr>\n",
       "      <td>3</td>\n",
       "      <td>2.742046</td>\n",
       "      <td>2.728342</td>\n",
       "      <td>0.481656</td>\n",
       "      <td>00:06</td>\n",
       "    </tr>\n",
       "    <tr>\n",
       "      <td>4</td>\n",
       "      <td>2.715293</td>\n",
       "      <td>2.716470</td>\n",
       "      <td>0.490122</td>\n",
       "      <td>00:06</td>\n",
       "    </tr>\n",
       "    <tr>\n",
       "      <td>5</td>\n",
       "      <td>2.718903</td>\n",
       "      <td>2.711777</td>\n",
       "      <td>0.496237</td>\n",
       "      <td>00:06</td>\n",
       "    </tr>\n",
       "    <tr>\n",
       "      <td>6</td>\n",
       "      <td>2.718364</td>\n",
       "      <td>2.706534</td>\n",
       "      <td>0.504704</td>\n",
       "      <td>00:06</td>\n",
       "    </tr>\n",
       "    <tr>\n",
       "      <td>7</td>\n",
       "      <td>2.709868</td>\n",
       "      <td>2.705300</td>\n",
       "      <td>0.503293</td>\n",
       "      <td>00:06</td>\n",
       "    </tr>\n",
       "    <tr>\n",
       "      <td>8</td>\n",
       "      <td>2.709644</td>\n",
       "      <td>2.707216</td>\n",
       "      <td>0.502822</td>\n",
       "      <td>00:06</td>\n",
       "    </tr>\n",
       "    <tr>\n",
       "      <td>9</td>\n",
       "      <td>2.689941</td>\n",
       "      <td>2.688469</td>\n",
       "      <td>0.520226</td>\n",
       "      <td>00:06</td>\n",
       "    </tr>\n",
       "    <tr>\n",
       "      <td>10</td>\n",
       "      <td>2.680970</td>\n",
       "      <td>2.692440</td>\n",
       "      <td>0.514111</td>\n",
       "      <td>00:06</td>\n",
       "    </tr>\n",
       "    <tr>\n",
       "      <td>11</td>\n",
       "      <td>2.682855</td>\n",
       "      <td>2.692152</td>\n",
       "      <td>0.515992</td>\n",
       "      <td>00:06</td>\n",
       "    </tr>\n",
       "    <tr>\n",
       "      <td>12</td>\n",
       "      <td>2.668181</td>\n",
       "      <td>2.674770</td>\n",
       "      <td>0.533866</td>\n",
       "      <td>00:06</td>\n",
       "    </tr>\n",
       "    <tr>\n",
       "      <td>13</td>\n",
       "      <td>2.658669</td>\n",
       "      <td>2.670958</td>\n",
       "      <td>0.537159</td>\n",
       "      <td>00:06</td>\n",
       "    </tr>\n",
       "    <tr>\n",
       "      <td>14</td>\n",
       "      <td>2.661655</td>\n",
       "      <td>2.667891</td>\n",
       "      <td>0.540452</td>\n",
       "      <td>00:06</td>\n",
       "    </tr>\n",
       "    <tr>\n",
       "      <td>15</td>\n",
       "      <td>2.662220</td>\n",
       "      <td>2.668243</td>\n",
       "      <td>0.540922</td>\n",
       "      <td>00:06</td>\n",
       "    </tr>\n",
       "    <tr>\n",
       "      <td>16</td>\n",
       "      <td>2.650761</td>\n",
       "      <td>2.666489</td>\n",
       "      <td>0.541863</td>\n",
       "      <td>00:06</td>\n",
       "    </tr>\n",
       "    <tr>\n",
       "      <td>17</td>\n",
       "      <td>2.663652</td>\n",
       "      <td>2.662674</td>\n",
       "      <td>0.544685</td>\n",
       "      <td>00:06</td>\n",
       "    </tr>\n",
       "    <tr>\n",
       "      <td>18</td>\n",
       "      <td>2.655726</td>\n",
       "      <td>2.665192</td>\n",
       "      <td>0.541392</td>\n",
       "      <td>00:06</td>\n",
       "    </tr>\n",
       "    <tr>\n",
       "      <td>19</td>\n",
       "      <td>2.654052</td>\n",
       "      <td>2.662684</td>\n",
       "      <td>0.544214</td>\n",
       "      <td>00:06</td>\n",
       "    </tr>\n",
       "  </tbody>\n",
       "</table>"
      ],
      "text/plain": [
       "<IPython.core.display.HTML object>"
      ]
     },
     "metadata": {},
     "output_type": "display_data"
    },
    {
     "name": "stdout",
     "output_type": "stream",
     "text": [
      "Better model found at epoch 0 with valid_loss value: 2.840869665145874.\n",
      "Better model found at epoch 1 with valid_loss value: 2.8216588497161865.\n",
      "Better model found at epoch 2 with valid_loss value: 2.7832071781158447.\n",
      "Better model found at epoch 3 with valid_loss value: 2.728341817855835.\n",
      "Better model found at epoch 4 with valid_loss value: 2.7164700031280518.\n",
      "Better model found at epoch 5 with valid_loss value: 2.7117772102355957.\n",
      "Better model found at epoch 6 with valid_loss value: 2.7065343856811523.\n",
      "Better model found at epoch 7 with valid_loss value: 2.7053000926971436.\n",
      "Better model found at epoch 9 with valid_loss value: 2.6884686946868896.\n",
      "Better model found at epoch 12 with valid_loss value: 2.6747701168060303.\n",
      "Better model found at epoch 13 with valid_loss value: 2.6709580421447754.\n",
      "Better model found at epoch 14 with valid_loss value: 2.667890787124634.\n",
      "Better model found at epoch 16 with valid_loss value: 2.666489362716675.\n",
      "Better model found at epoch 17 with valid_loss value: 2.6626741886138916.\n"
     ]
    },
    {
     "data": {
      "text/html": [],
      "text/plain": [
       "<IPython.core.display.HTML object>"
      ]
     },
     "metadata": {},
     "output_type": "display_data"
    },
    {
     "name": "stdout",
     "output_type": "stream",
     "text": [
      "Better model found at epoch 0 with valid_loss value: 0.5517301559448242.\n",
      "        Net  Case-based Accuracy  Model-based Accuracy\n",
      "0   1100000             0.596644                   1.0\n",
      "1   1110010             0.721316                   1.0\n",
      "2   1100110             0.545379                   1.0\n",
      "3   1110100             0.668933                   1.0\n",
      "4   0001010             0.474091                   1.0\n",
      "..      ...                  ...                   ...\n",
      "79  0200110             0.494343                   1.0\n",
      "80  1211000             0.635402                   1.0\n",
      "81  0001100             0.477914                   1.0\n",
      "82  1111100             0.661659                   1.0\n",
      "83  1201110             0.551730                   1.0\n",
      "\n",
      "[84 rows x 3 columns]\n"
     ]
    },
    {
     "data": {
      "text/html": [
       "<table border=\"1\" class=\"dataframe\">\n",
       "  <thead>\n",
       "    <tr style=\"text-align: left;\">\n",
       "      <th>epoch</th>\n",
       "      <th>train_loss</th>\n",
       "      <th>valid_loss</th>\n",
       "      <th>accuracy</th>\n",
       "      <th>time</th>\n",
       "    </tr>\n",
       "  </thead>\n",
       "  <tbody>\n",
       "    <tr>\n",
       "      <td>0</td>\n",
       "      <td>3.229338</td>\n",
       "      <td>3.222323</td>\n",
       "      <td>0.322003</td>\n",
       "      <td>00:05</td>\n",
       "    </tr>\n",
       "    <tr>\n",
       "      <td>1</td>\n",
       "      <td>3.180265</td>\n",
       "      <td>3.188691</td>\n",
       "      <td>0.357373</td>\n",
       "      <td>00:06</td>\n",
       "    </tr>\n",
       "    <tr>\n",
       "      <td>2</td>\n",
       "      <td>3.111845</td>\n",
       "      <td>3.090430</td>\n",
       "      <td>0.465319</td>\n",
       "      <td>00:06</td>\n",
       "    </tr>\n",
       "    <tr>\n",
       "      <td>3</td>\n",
       "      <td>3.057960</td>\n",
       "      <td>3.039076</td>\n",
       "      <td>0.511254</td>\n",
       "      <td>00:06</td>\n",
       "    </tr>\n",
       "    <tr>\n",
       "      <td>4</td>\n",
       "      <td>3.040451</td>\n",
       "      <td>3.027908</td>\n",
       "      <td>0.520441</td>\n",
       "      <td>00:06</td>\n",
       "    </tr>\n",
       "    <tr>\n",
       "      <td>5</td>\n",
       "      <td>3.037662</td>\n",
       "      <td>3.023438</td>\n",
       "      <td>0.524116</td>\n",
       "      <td>00:06</td>\n",
       "    </tr>\n",
       "    <tr>\n",
       "      <td>6</td>\n",
       "      <td>3.015030</td>\n",
       "      <td>3.007503</td>\n",
       "      <td>0.542949</td>\n",
       "      <td>00:05</td>\n",
       "    </tr>\n",
       "    <tr>\n",
       "      <td>7</td>\n",
       "      <td>3.010656</td>\n",
       "      <td>3.003632</td>\n",
       "      <td>0.544786</td>\n",
       "      <td>00:05</td>\n",
       "    </tr>\n",
       "    <tr>\n",
       "      <td>8</td>\n",
       "      <td>3.004981</td>\n",
       "      <td>3.001800</td>\n",
       "      <td>0.546624</td>\n",
       "      <td>00:05</td>\n",
       "    </tr>\n",
       "    <tr>\n",
       "      <td>9</td>\n",
       "      <td>3.001553</td>\n",
       "      <td>2.999842</td>\n",
       "      <td>0.548002</td>\n",
       "      <td>00:05</td>\n",
       "    </tr>\n",
       "    <tr>\n",
       "      <td>10</td>\n",
       "      <td>2.988977</td>\n",
       "      <td>2.995640</td>\n",
       "      <td>0.553973</td>\n",
       "      <td>00:06</td>\n",
       "    </tr>\n",
       "    <tr>\n",
       "      <td>11</td>\n",
       "      <td>2.996449</td>\n",
       "      <td>2.996834</td>\n",
       "      <td>0.550299</td>\n",
       "      <td>00:05</td>\n",
       "    </tr>\n",
       "    <tr>\n",
       "      <td>12</td>\n",
       "      <td>2.982661</td>\n",
       "      <td>2.985249</td>\n",
       "      <td>0.564079</td>\n",
       "      <td>00:05</td>\n",
       "    </tr>\n",
       "    <tr>\n",
       "      <td>13</td>\n",
       "      <td>2.977708</td>\n",
       "      <td>2.986528</td>\n",
       "      <td>0.561782</td>\n",
       "      <td>00:05</td>\n",
       "    </tr>\n",
       "    <tr>\n",
       "      <td>14</td>\n",
       "      <td>2.979650</td>\n",
       "      <td>2.985018</td>\n",
       "      <td>0.561782</td>\n",
       "      <td>00:06</td>\n",
       "    </tr>\n",
       "    <tr>\n",
       "      <td>15</td>\n",
       "      <td>2.976488</td>\n",
       "      <td>2.980307</td>\n",
       "      <td>0.566376</td>\n",
       "      <td>00:05</td>\n",
       "    </tr>\n",
       "  </tbody>\n",
       "</table>"
      ],
      "text/plain": [
       "<IPython.core.display.HTML object>"
      ]
     },
     "metadata": {},
     "output_type": "display_data"
    },
    {
     "name": "stdout",
     "output_type": "stream",
     "text": [
      "Better model found at epoch 0 with valid_loss value: 3.222323179244995.\n",
      "Better model found at epoch 1 with valid_loss value: 3.188690662384033.\n",
      "Better model found at epoch 2 with valid_loss value: 3.0904297828674316.\n",
      "Better model found at epoch 3 with valid_loss value: 3.0390758514404297.\n",
      "Better model found at epoch 4 with valid_loss value: 3.027907609939575.\n",
      "Better model found at epoch 5 with valid_loss value: 3.023437738418579.\n",
      "Better model found at epoch 6 with valid_loss value: 3.007502794265747.\n",
      "Better model found at epoch 7 with valid_loss value: 3.0036323070526123.\n",
      "Better model found at epoch 8 with valid_loss value: 3.001800298690796.\n",
      "Better model found at epoch 9 with valid_loss value: 2.999842405319214.\n",
      "Better model found at epoch 10 with valid_loss value: 2.9956395626068115.\n",
      "Better model found at epoch 12 with valid_loss value: 2.9852488040924072.\n",
      "Better model found at epoch 14 with valid_loss value: 2.985018491744995.\n",
      "No improvement since epoch 12: early stopping\n"
     ]
    },
    {
     "data": {
      "text/html": [],
      "text/plain": [
       "<IPython.core.display.HTML object>"
      ]
     },
     "metadata": {},
     "output_type": "display_data"
    },
    {
     "name": "stdout",
     "output_type": "stream",
     "text": [
      "Better model found at epoch 0 with valid_loss value: 0.5530015230178833.\n",
      "        Net  Case-based Accuracy  Model-based Accuracy\n",
      "0   1100000             0.596644                   1.0\n",
      "1   1110010             0.721316                   1.0\n",
      "2   1100110             0.545379                   1.0\n",
      "3   1110100             0.668933                   1.0\n",
      "4   0001010             0.474091                   1.0\n",
      "..      ...                  ...                   ...\n",
      "80  1211000             0.635402                   1.0\n",
      "81  0001100             0.477914                   1.0\n",
      "82  1111100             0.661659                   1.0\n",
      "83  1201110             0.551730                   1.0\n",
      "84  1200110             0.553002                   1.0\n",
      "\n",
      "[85 rows x 3 columns]\n"
     ]
    },
    {
     "data": {
      "text/html": [
       "<table border=\"1\" class=\"dataframe\">\n",
       "  <thead>\n",
       "    <tr style=\"text-align: left;\">\n",
       "      <th>epoch</th>\n",
       "      <th>train_loss</th>\n",
       "      <th>valid_loss</th>\n",
       "      <th>accuracy</th>\n",
       "      <th>time</th>\n",
       "    </tr>\n",
       "  </thead>\n",
       "  <tbody>\n",
       "    <tr>\n",
       "      <td>0</td>\n",
       "      <td>2.734301</td>\n",
       "      <td>2.751928</td>\n",
       "      <td>0.459144</td>\n",
       "      <td>00:05</td>\n",
       "    </tr>\n",
       "    <tr>\n",
       "      <td>1</td>\n",
       "      <td>2.688294</td>\n",
       "      <td>2.737208</td>\n",
       "      <td>0.468872</td>\n",
       "      <td>00:05</td>\n",
       "    </tr>\n",
       "    <tr>\n",
       "      <td>2</td>\n",
       "      <td>2.668908</td>\n",
       "      <td>2.699004</td>\n",
       "      <td>0.509728</td>\n",
       "      <td>00:05</td>\n",
       "    </tr>\n",
       "    <tr>\n",
       "      <td>3</td>\n",
       "      <td>2.625062</td>\n",
       "      <td>2.673589</td>\n",
       "      <td>0.538262</td>\n",
       "      <td>00:05</td>\n",
       "    </tr>\n",
       "    <tr>\n",
       "      <td>4</td>\n",
       "      <td>2.601940</td>\n",
       "      <td>2.662611</td>\n",
       "      <td>0.544099</td>\n",
       "      <td>00:05</td>\n",
       "    </tr>\n",
       "    <tr>\n",
       "      <td>5</td>\n",
       "      <td>2.587106</td>\n",
       "      <td>2.657269</td>\n",
       "      <td>0.550584</td>\n",
       "      <td>00:05</td>\n",
       "    </tr>\n",
       "    <tr>\n",
       "      <td>6</td>\n",
       "      <td>2.579092</td>\n",
       "      <td>2.646821</td>\n",
       "      <td>0.563554</td>\n",
       "      <td>00:05</td>\n",
       "    </tr>\n",
       "    <tr>\n",
       "      <td>7</td>\n",
       "      <td>2.589605</td>\n",
       "      <td>2.650722</td>\n",
       "      <td>0.557069</td>\n",
       "      <td>00:05</td>\n",
       "    </tr>\n",
       "    <tr>\n",
       "      <td>8</td>\n",
       "      <td>2.585361</td>\n",
       "      <td>2.649951</td>\n",
       "      <td>0.558366</td>\n",
       "      <td>00:05</td>\n",
       "    </tr>\n",
       "    <tr>\n",
       "      <td>9</td>\n",
       "      <td>2.576318</td>\n",
       "      <td>2.650712</td>\n",
       "      <td>0.558366</td>\n",
       "      <td>00:04</td>\n",
       "    </tr>\n",
       "  </tbody>\n",
       "</table>"
      ],
      "text/plain": [
       "<IPython.core.display.HTML object>"
      ]
     },
     "metadata": {},
     "output_type": "display_data"
    },
    {
     "name": "stdout",
     "output_type": "stream",
     "text": [
      "Better model found at epoch 0 with valid_loss value: 2.7519283294677734.\n",
      "Better model found at epoch 1 with valid_loss value: 2.737208366394043.\n",
      "Better model found at epoch 2 with valid_loss value: 2.6990036964416504.\n",
      "Better model found at epoch 3 with valid_loss value: 2.673588752746582.\n",
      "Better model found at epoch 4 with valid_loss value: 2.662611246109009.\n",
      "Better model found at epoch 5 with valid_loss value: 2.657268762588501.\n",
      "Better model found at epoch 6 with valid_loss value: 2.6468212604522705.\n",
      "No improvement since epoch 6: early stopping\n"
     ]
    },
    {
     "data": {
      "text/html": [],
      "text/plain": [
       "<IPython.core.display.HTML object>"
      ]
     },
     "metadata": {},
     "output_type": "display_data"
    },
    {
     "name": "stdout",
     "output_type": "stream",
     "text": [
      "Better model found at epoch 0 with valid_loss value: 0.6016949415206909.\n",
      "        Net  Case-based Accuracy  Model-based Accuracy\n",
      "0   1100000             0.596644                   1.0\n",
      "1   1110010             0.721316                   1.0\n",
      "2   1100110             0.545379                   1.0\n",
      "3   1110100             0.668933                   1.0\n",
      "4   0001010             0.474091                   1.0\n",
      "..      ...                  ...                   ...\n",
      "81  0001100             0.477914                   1.0\n",
      "82  1111100             0.661659                   1.0\n",
      "83  1201110             0.551730                   1.0\n",
      "84  1200110             0.553002                   1.0\n",
      "85  1211110             0.601695                   1.0\n",
      "\n",
      "[86 rows x 3 columns]\n"
     ]
    },
    {
     "data": {
      "text/html": [
       "<table border=\"1\" class=\"dataframe\">\n",
       "  <thead>\n",
       "    <tr style=\"text-align: left;\">\n",
       "      <th>epoch</th>\n",
       "      <th>train_loss</th>\n",
       "      <th>valid_loss</th>\n",
       "      <th>accuracy</th>\n",
       "      <th>time</th>\n",
       "    </tr>\n",
       "  </thead>\n",
       "  <tbody>\n",
       "    <tr>\n",
       "      <td>0</td>\n",
       "      <td>2.919153</td>\n",
       "      <td>2.882644</td>\n",
       "      <td>0.345196</td>\n",
       "      <td>00:05</td>\n",
       "    </tr>\n",
       "    <tr>\n",
       "      <td>1</td>\n",
       "      <td>2.777142</td>\n",
       "      <td>2.766011</td>\n",
       "      <td>0.444395</td>\n",
       "      <td>00:05</td>\n",
       "    </tr>\n",
       "    <tr>\n",
       "      <td>2</td>\n",
       "      <td>2.721374</td>\n",
       "      <td>2.721770</td>\n",
       "      <td>0.490214</td>\n",
       "      <td>00:05</td>\n",
       "    </tr>\n",
       "    <tr>\n",
       "      <td>3</td>\n",
       "      <td>2.709808</td>\n",
       "      <td>2.691046</td>\n",
       "      <td>0.522242</td>\n",
       "      <td>00:05</td>\n",
       "    </tr>\n",
       "    <tr>\n",
       "      <td>4</td>\n",
       "      <td>2.689099</td>\n",
       "      <td>2.686908</td>\n",
       "      <td>0.521797</td>\n",
       "      <td>00:05</td>\n",
       "    </tr>\n",
       "    <tr>\n",
       "      <td>5</td>\n",
       "      <td>2.692982</td>\n",
       "      <td>2.683145</td>\n",
       "      <td>0.527135</td>\n",
       "      <td>00:05</td>\n",
       "    </tr>\n",
       "    <tr>\n",
       "      <td>6</td>\n",
       "      <td>2.679751</td>\n",
       "      <td>2.670389</td>\n",
       "      <td>0.538701</td>\n",
       "      <td>00:05</td>\n",
       "    </tr>\n",
       "    <tr>\n",
       "      <td>7</td>\n",
       "      <td>2.676490</td>\n",
       "      <td>2.668992</td>\n",
       "      <td>0.537811</td>\n",
       "      <td>00:05</td>\n",
       "    </tr>\n",
       "    <tr>\n",
       "      <td>8</td>\n",
       "      <td>2.668486</td>\n",
       "      <td>2.666656</td>\n",
       "      <td>0.544484</td>\n",
       "      <td>00:05</td>\n",
       "    </tr>\n",
       "    <tr>\n",
       "      <td>9</td>\n",
       "      <td>2.666933</td>\n",
       "      <td>2.660451</td>\n",
       "      <td>0.549377</td>\n",
       "      <td>00:05</td>\n",
       "    </tr>\n",
       "    <tr>\n",
       "      <td>10</td>\n",
       "      <td>2.659559</td>\n",
       "      <td>2.653107</td>\n",
       "      <td>0.558274</td>\n",
       "      <td>00:05</td>\n",
       "    </tr>\n",
       "    <tr>\n",
       "      <td>11</td>\n",
       "      <td>2.653835</td>\n",
       "      <td>2.656478</td>\n",
       "      <td>0.552491</td>\n",
       "      <td>00:05</td>\n",
       "    </tr>\n",
       "    <tr>\n",
       "      <td>12</td>\n",
       "      <td>2.650559</td>\n",
       "      <td>2.655424</td>\n",
       "      <td>0.553826</td>\n",
       "      <td>00:05</td>\n",
       "    </tr>\n",
       "    <tr>\n",
       "      <td>13</td>\n",
       "      <td>2.642017</td>\n",
       "      <td>2.656083</td>\n",
       "      <td>0.553826</td>\n",
       "      <td>00:05</td>\n",
       "    </tr>\n",
       "  </tbody>\n",
       "</table>"
      ],
      "text/plain": [
       "<IPython.core.display.HTML object>"
      ]
     },
     "metadata": {},
     "output_type": "display_data"
    },
    {
     "name": "stdout",
     "output_type": "stream",
     "text": [
      "Better model found at epoch 0 with valid_loss value: 2.882643938064575.\n",
      "Better model found at epoch 1 with valid_loss value: 2.7660112380981445.\n",
      "Better model found at epoch 2 with valid_loss value: 2.7217700481414795.\n",
      "Better model found at epoch 3 with valid_loss value: 2.6910462379455566.\n",
      "Better model found at epoch 4 with valid_loss value: 2.6869075298309326.\n",
      "Better model found at epoch 5 with valid_loss value: 2.68314528465271.\n",
      "Better model found at epoch 6 with valid_loss value: 2.67038893699646.\n",
      "Better model found at epoch 7 with valid_loss value: 2.6689915657043457.\n",
      "Better model found at epoch 8 with valid_loss value: 2.666656494140625.\n",
      "Better model found at epoch 9 with valid_loss value: 2.6604506969451904.\n",
      "Better model found at epoch 10 with valid_loss value: 2.6531074047088623.\n",
      "No improvement since epoch 10: early stopping\n"
     ]
    },
    {
     "data": {
      "text/html": [],
      "text/plain": [
       "<IPython.core.display.HTML object>"
      ]
     },
     "metadata": {},
     "output_type": "display_data"
    },
    {
     "name": "stdout",
     "output_type": "stream",
     "text": [
      "Better model found at epoch 0 with valid_loss value: 0.530376672744751.\n",
      "        Net  Case-based Accuracy  Model-based Accuracy\n",
      "0   1100000             0.596644                   1.0\n",
      "1   1110010             0.721316                   1.0\n",
      "2   1100110             0.545379                   1.0\n",
      "3   1110100             0.668933                   1.0\n",
      "4   0001010             0.474091                   1.0\n",
      "..      ...                  ...                   ...\n",
      "82  1111100             0.661659                   1.0\n",
      "83  1201110             0.551730                   1.0\n",
      "84  1200110             0.553002                   1.0\n",
      "85  1211110             0.601695                   1.0\n",
      "86  0101110             0.530377                   1.0\n",
      "\n",
      "[87 rows x 3 columns]\n"
     ]
    },
    {
     "data": {
      "text/html": [
       "<table border=\"1\" class=\"dataframe\">\n",
       "  <thead>\n",
       "    <tr style=\"text-align: left;\">\n",
       "      <th>epoch</th>\n",
       "      <th>train_loss</th>\n",
       "      <th>valid_loss</th>\n",
       "      <th>accuracy</th>\n",
       "      <th>time</th>\n",
       "    </tr>\n",
       "  </thead>\n",
       "  <tbody>\n",
       "    <tr>\n",
       "      <td>0</td>\n",
       "      <td>3.085057</td>\n",
       "      <td>3.063909</td>\n",
       "      <td>0.500545</td>\n",
       "      <td>00:05</td>\n",
       "    </tr>\n",
       "    <tr>\n",
       "      <td>1</td>\n",
       "      <td>2.939665</td>\n",
       "      <td>2.956609</td>\n",
       "      <td>0.596405</td>\n",
       "      <td>00:05</td>\n",
       "    </tr>\n",
       "    <tr>\n",
       "      <td>2</td>\n",
       "      <td>2.863585</td>\n",
       "      <td>2.897105</td>\n",
       "      <td>0.653595</td>\n",
       "      <td>00:05</td>\n",
       "    </tr>\n",
       "    <tr>\n",
       "      <td>3</td>\n",
       "      <td>2.837729</td>\n",
       "      <td>2.861600</td>\n",
       "      <td>0.689542</td>\n",
       "      <td>00:05</td>\n",
       "    </tr>\n",
       "    <tr>\n",
       "      <td>4</td>\n",
       "      <td>2.824979</td>\n",
       "      <td>2.865776</td>\n",
       "      <td>0.682462</td>\n",
       "      <td>00:05</td>\n",
       "    </tr>\n",
       "    <tr>\n",
       "      <td>5</td>\n",
       "      <td>2.829472</td>\n",
       "      <td>2.862658</td>\n",
       "      <td>0.684641</td>\n",
       "      <td>00:05</td>\n",
       "    </tr>\n",
       "    <tr>\n",
       "      <td>6</td>\n",
       "      <td>2.824285</td>\n",
       "      <td>2.861538</td>\n",
       "      <td>0.686819</td>\n",
       "      <td>00:05</td>\n",
       "    </tr>\n",
       "  </tbody>\n",
       "</table>"
      ],
      "text/plain": [
       "<IPython.core.display.HTML object>"
      ]
     },
     "metadata": {},
     "output_type": "display_data"
    },
    {
     "name": "stdout",
     "output_type": "stream",
     "text": [
      "Better model found at epoch 0 with valid_loss value: 3.063908576965332.\n",
      "Better model found at epoch 1 with valid_loss value: 2.956609010696411.\n",
      "Better model found at epoch 2 with valid_loss value: 2.8971054553985596.\n",
      "Better model found at epoch 3 with valid_loss value: 2.861599922180176.\n",
      "No improvement since epoch 3: early stopping\n"
     ]
    },
    {
     "data": {
      "text/html": [],
      "text/plain": [
       "<IPython.core.display.HTML object>"
      ]
     },
     "metadata": {},
     "output_type": "display_data"
    },
    {
     "name": "stdout",
     "output_type": "stream",
     "text": [
      "Better model found at epoch 0 with valid_loss value: 0.7104532718658447.\n",
      "        Net  Case-based Accuracy  Model-based Accuracy\n",
      "0   1100000             0.596644                   1.0\n",
      "1   1110010             0.721316                   1.0\n",
      "2   1100110             0.545379                   1.0\n",
      "3   1110100             0.668933                   1.0\n",
      "4   0001010             0.474091                   1.0\n",
      "..      ...                  ...                   ...\n",
      "83  1201110             0.551730                   1.0\n",
      "84  1200110             0.553002                   1.0\n",
      "85  1211110             0.601695                   1.0\n",
      "86  0101110             0.530377                   1.0\n",
      "87  1110000             0.710453                   1.0\n",
      "\n",
      "[88 rows x 3 columns]\n"
     ]
    },
    {
     "data": {
      "text/html": [
       "<table border=\"1\" class=\"dataframe\">\n",
       "  <thead>\n",
       "    <tr style=\"text-align: left;\">\n",
       "      <th>epoch</th>\n",
       "      <th>train_loss</th>\n",
       "      <th>valid_loss</th>\n",
       "      <th>accuracy</th>\n",
       "      <th>time</th>\n",
       "    </tr>\n",
       "  </thead>\n",
       "  <tbody>\n",
       "    <tr>\n",
       "      <td>0</td>\n",
       "      <td>2.693204</td>\n",
       "      <td>2.522818</td>\n",
       "      <td>0.482301</td>\n",
       "      <td>00:02</td>\n",
       "    </tr>\n",
       "    <tr>\n",
       "      <td>1</td>\n",
       "      <td>2.510946</td>\n",
       "      <td>2.409419</td>\n",
       "      <td>0.537611</td>\n",
       "      <td>00:02</td>\n",
       "    </tr>\n",
       "    <tr>\n",
       "      <td>2</td>\n",
       "      <td>2.421920</td>\n",
       "      <td>2.339408</td>\n",
       "      <td>0.599558</td>\n",
       "      <td>00:02</td>\n",
       "    </tr>\n",
       "    <tr>\n",
       "      <td>3</td>\n",
       "      <td>2.373483</td>\n",
       "      <td>2.326263</td>\n",
       "      <td>0.610619</td>\n",
       "      <td>00:02</td>\n",
       "    </tr>\n",
       "    <tr>\n",
       "      <td>4</td>\n",
       "      <td>2.355662</td>\n",
       "      <td>2.321619</td>\n",
       "      <td>0.608407</td>\n",
       "      <td>00:02</td>\n",
       "    </tr>\n",
       "    <tr>\n",
       "      <td>5</td>\n",
       "      <td>2.346045</td>\n",
       "      <td>2.320473</td>\n",
       "      <td>0.610619</td>\n",
       "      <td>00:02</td>\n",
       "    </tr>\n",
       "    <tr>\n",
       "      <td>6</td>\n",
       "      <td>2.340033</td>\n",
       "      <td>2.320004</td>\n",
       "      <td>0.610619</td>\n",
       "      <td>00:02</td>\n",
       "    </tr>\n",
       "    <tr>\n",
       "      <td>7</td>\n",
       "      <td>2.339941</td>\n",
       "      <td>2.314408</td>\n",
       "      <td>0.615044</td>\n",
       "      <td>00:02</td>\n",
       "    </tr>\n",
       "    <tr>\n",
       "      <td>8</td>\n",
       "      <td>2.330393</td>\n",
       "      <td>2.314347</td>\n",
       "      <td>0.612832</td>\n",
       "      <td>00:02</td>\n",
       "    </tr>\n",
       "    <tr>\n",
       "      <td>9</td>\n",
       "      <td>2.333771</td>\n",
       "      <td>2.319763</td>\n",
       "      <td>0.606195</td>\n",
       "      <td>00:02</td>\n",
       "    </tr>\n",
       "    <tr>\n",
       "      <td>10</td>\n",
       "      <td>2.329415</td>\n",
       "      <td>2.312722</td>\n",
       "      <td>0.610619</td>\n",
       "      <td>00:02</td>\n",
       "    </tr>\n",
       "  </tbody>\n",
       "</table>"
      ],
      "text/plain": [
       "<IPython.core.display.HTML object>"
      ]
     },
     "metadata": {},
     "output_type": "display_data"
    },
    {
     "name": "stdout",
     "output_type": "stream",
     "text": [
      "Better model found at epoch 0 with valid_loss value: 2.522817850112915.\n",
      "Better model found at epoch 1 with valid_loss value: 2.409419059753418.\n",
      "Better model found at epoch 2 with valid_loss value: 2.3394083976745605.\n",
      "Better model found at epoch 3 with valid_loss value: 2.326262950897217.\n",
      "Better model found at epoch 4 with valid_loss value: 2.3216187953948975.\n",
      "Better model found at epoch 5 with valid_loss value: 2.3204729557037354.\n",
      "Better model found at epoch 6 with valid_loss value: 2.320004463195801.\n",
      "Better model found at epoch 7 with valid_loss value: 2.31440806388855.\n",
      "Better model found at epoch 8 with valid_loss value: 2.3143470287323.\n",
      "No improvement since epoch 7: early stopping\n"
     ]
    },
    {
     "data": {
      "text/html": [],
      "text/plain": [
       "<IPython.core.display.HTML object>"
      ]
     },
     "metadata": {},
     "output_type": "display_data"
    },
    {
     "name": "stdout",
     "output_type": "stream",
     "text": [
      "Better model found at epoch 0 with valid_loss value: 0.5761589407920837.\n",
      "        Net  Case-based Accuracy  Model-based Accuracy\n",
      "0   1100000             0.596644                   1.0\n",
      "1   1110010             0.721316                   1.0\n",
      "2   1100110             0.545379                   1.0\n",
      "3   1110100             0.668933                   1.0\n",
      "4   0001010             0.474091                   1.0\n",
      "..      ...                  ...                   ...\n",
      "84  1200110             0.553002                   1.0\n",
      "85  1211110             0.601695                   1.0\n",
      "86  0101110             0.530377                   1.0\n",
      "87  1110000             0.710453                   1.0\n",
      "88  0011100             0.576159                   1.0\n",
      "\n",
      "[89 rows x 3 columns]\n"
     ]
    },
    {
     "data": {
      "text/html": [
       "<table border=\"1\" class=\"dataframe\">\n",
       "  <thead>\n",
       "    <tr style=\"text-align: left;\">\n",
       "      <th>epoch</th>\n",
       "      <th>train_loss</th>\n",
       "      <th>valid_loss</th>\n",
       "      <th>accuracy</th>\n",
       "      <th>time</th>\n",
       "    </tr>\n",
       "  </thead>\n",
       "  <tbody>\n",
       "    <tr>\n",
       "      <td>0</td>\n",
       "      <td>3.168165</td>\n",
       "      <td>3.144690</td>\n",
       "      <td>0.400509</td>\n",
       "      <td>00:05</td>\n",
       "    </tr>\n",
       "    <tr>\n",
       "      <td>1</td>\n",
       "      <td>3.056497</td>\n",
       "      <td>3.035166</td>\n",
       "      <td>0.513486</td>\n",
       "      <td>00:05</td>\n",
       "    </tr>\n",
       "    <tr>\n",
       "      <td>2</td>\n",
       "      <td>2.969760</td>\n",
       "      <td>2.955462</td>\n",
       "      <td>0.606616</td>\n",
       "      <td>00:05</td>\n",
       "    </tr>\n",
       "    <tr>\n",
       "      <td>3</td>\n",
       "      <td>2.911849</td>\n",
       "      <td>2.926131</td>\n",
       "      <td>0.623410</td>\n",
       "      <td>00:05</td>\n",
       "    </tr>\n",
       "    <tr>\n",
       "      <td>4</td>\n",
       "      <td>2.903454</td>\n",
       "      <td>2.918392</td>\n",
       "      <td>0.631043</td>\n",
       "      <td>00:05</td>\n",
       "    </tr>\n",
       "    <tr>\n",
       "      <td>5</td>\n",
       "      <td>2.900688</td>\n",
       "      <td>2.907421</td>\n",
       "      <td>0.641221</td>\n",
       "      <td>00:05</td>\n",
       "    </tr>\n",
       "    <tr>\n",
       "      <td>6</td>\n",
       "      <td>2.890996</td>\n",
       "      <td>2.906924</td>\n",
       "      <td>0.640204</td>\n",
       "      <td>00:05</td>\n",
       "    </tr>\n",
       "    <tr>\n",
       "      <td>7</td>\n",
       "      <td>2.891073</td>\n",
       "      <td>2.909252</td>\n",
       "      <td>0.638677</td>\n",
       "      <td>00:05</td>\n",
       "    </tr>\n",
       "    <tr>\n",
       "      <td>8</td>\n",
       "      <td>2.893910</td>\n",
       "      <td>2.908079</td>\n",
       "      <td>0.639695</td>\n",
       "      <td>00:05</td>\n",
       "    </tr>\n",
       "  </tbody>\n",
       "</table>"
      ],
      "text/plain": [
       "<IPython.core.display.HTML object>"
      ]
     },
     "metadata": {},
     "output_type": "display_data"
    },
    {
     "name": "stdout",
     "output_type": "stream",
     "text": [
      "Better model found at epoch 0 with valid_loss value: 3.1446902751922607.\n",
      "Better model found at epoch 1 with valid_loss value: 3.0351662635803223.\n",
      "Better model found at epoch 2 with valid_loss value: 2.9554619789123535.\n",
      "Better model found at epoch 3 with valid_loss value: 2.926130533218384.\n",
      "Better model found at epoch 4 with valid_loss value: 2.9183924198150635.\n",
      "Better model found at epoch 5 with valid_loss value: 2.9074206352233887.\n",
      "Better model found at epoch 6 with valid_loss value: 2.906923770904541.\n",
      "No improvement since epoch 5: early stopping\n"
     ]
    },
    {
     "data": {
      "text/html": [],
      "text/plain": [
       "<IPython.core.display.HTML object>"
      ]
     },
     "metadata": {},
     "output_type": "display_data"
    },
    {
     "name": "stdout",
     "output_type": "stream",
     "text": [
      "Better model found at epoch 0 with valid_loss value: 0.65689617395401.\n",
      "        Net  Case-based Accuracy  Model-based Accuracy\n",
      "0   1100000             0.596644                   1.0\n",
      "1   1110010             0.721316                   1.0\n",
      "2   1100110             0.545379                   1.0\n",
      "3   1110100             0.668933                   1.0\n",
      "4   0001010             0.474091                   1.0\n",
      "..      ...                  ...                   ...\n",
      "85  1211110             0.601695                   1.0\n",
      "86  0101110             0.530377                   1.0\n",
      "87  1110000             0.710453                   1.0\n",
      "88  0011100             0.576159                   1.0\n",
      "89  0210010             0.656896                   1.0\n",
      "\n",
      "[90 rows x 3 columns]\n"
     ]
    },
    {
     "data": {
      "text/html": [
       "<table border=\"1\" class=\"dataframe\">\n",
       "  <thead>\n",
       "    <tr style=\"text-align: left;\">\n",
       "      <th>epoch</th>\n",
       "      <th>train_loss</th>\n",
       "      <th>valid_loss</th>\n",
       "      <th>accuracy</th>\n",
       "      <th>time</th>\n",
       "    </tr>\n",
       "  </thead>\n",
       "  <tbody>\n",
       "    <tr>\n",
       "      <td>0</td>\n",
       "      <td>3.217732</td>\n",
       "      <td>3.197070</td>\n",
       "      <td>0.355256</td>\n",
       "      <td>00:05</td>\n",
       "    </tr>\n",
       "    <tr>\n",
       "      <td>1</td>\n",
       "      <td>3.090979</td>\n",
       "      <td>3.101964</td>\n",
       "      <td>0.449508</td>\n",
       "      <td>00:05</td>\n",
       "    </tr>\n",
       "    <tr>\n",
       "      <td>2</td>\n",
       "      <td>3.084582</td>\n",
       "      <td>3.092346</td>\n",
       "      <td>0.455722</td>\n",
       "      <td>00:05</td>\n",
       "    </tr>\n",
       "    <tr>\n",
       "      <td>3</td>\n",
       "      <td>3.070782</td>\n",
       "      <td>3.068311</td>\n",
       "      <td>0.482134</td>\n",
       "      <td>00:05</td>\n",
       "    </tr>\n",
       "    <tr>\n",
       "      <td>4</td>\n",
       "      <td>3.021490</td>\n",
       "      <td>3.034350</td>\n",
       "      <td>0.514241</td>\n",
       "      <td>00:05</td>\n",
       "    </tr>\n",
       "    <tr>\n",
       "      <td>5</td>\n",
       "      <td>3.017846</td>\n",
       "      <td>3.020142</td>\n",
       "      <td>0.530813</td>\n",
       "      <td>00:05</td>\n",
       "    </tr>\n",
       "    <tr>\n",
       "      <td>6</td>\n",
       "      <td>3.020531</td>\n",
       "      <td>3.016363</td>\n",
       "      <td>0.534438</td>\n",
       "      <td>00:05</td>\n",
       "    </tr>\n",
       "    <tr>\n",
       "      <td>7</td>\n",
       "      <td>3.007080</td>\n",
       "      <td>3.013983</td>\n",
       "      <td>0.535474</td>\n",
       "      <td>00:05</td>\n",
       "    </tr>\n",
       "    <tr>\n",
       "      <td>8</td>\n",
       "      <td>3.001091</td>\n",
       "      <td>3.007378</td>\n",
       "      <td>0.544795</td>\n",
       "      <td>00:05</td>\n",
       "    </tr>\n",
       "    <tr>\n",
       "      <td>9</td>\n",
       "      <td>2.994620</td>\n",
       "      <td>3.007025</td>\n",
       "      <td>0.539617</td>\n",
       "      <td>00:05</td>\n",
       "    </tr>\n",
       "    <tr>\n",
       "      <td>10</td>\n",
       "      <td>2.999393</td>\n",
       "      <td>3.005750</td>\n",
       "      <td>0.545313</td>\n",
       "      <td>00:05</td>\n",
       "    </tr>\n",
       "    <tr>\n",
       "      <td>11</td>\n",
       "      <td>2.997059</td>\n",
       "      <td>3.008213</td>\n",
       "      <td>0.539099</td>\n",
       "      <td>00:05</td>\n",
       "    </tr>\n",
       "  </tbody>\n",
       "</table>"
      ],
      "text/plain": [
       "<IPython.core.display.HTML object>"
      ]
     },
     "metadata": {},
     "output_type": "display_data"
    },
    {
     "name": "stdout",
     "output_type": "stream",
     "text": [
      "Better model found at epoch 0 with valid_loss value: 3.197070360183716.\n",
      "Better model found at epoch 1 with valid_loss value: 3.101963758468628.\n",
      "Better model found at epoch 2 with valid_loss value: 3.092346429824829.\n",
      "Better model found at epoch 3 with valid_loss value: 3.0683109760284424.\n",
      "Better model found at epoch 4 with valid_loss value: 3.0343496799468994.\n",
      "Better model found at epoch 5 with valid_loss value: 3.020141839981079.\n",
      "Better model found at epoch 6 with valid_loss value: 3.0163633823394775.\n",
      "Better model found at epoch 7 with valid_loss value: 3.0139832496643066.\n",
      "Better model found at epoch 8 with valid_loss value: 3.007378339767456.\n",
      "Better model found at epoch 9 with valid_loss value: 3.0070245265960693.\n",
      "Better model found at epoch 10 with valid_loss value: 3.0057501792907715.\n",
      "No improvement since epoch 8: early stopping\n"
     ]
    },
    {
     "data": {
      "text/html": [],
      "text/plain": [
       "<IPython.core.display.HTML object>"
      ]
     },
     "metadata": {},
     "output_type": "display_data"
    },
    {
     "name": "stdout",
     "output_type": "stream",
     "text": [
      "Better model found at epoch 0 with valid_loss value: 0.5363012552261353.\n",
      "        Net  Case-based Accuracy  Model-based Accuracy\n",
      "0   1100000             0.596644                   1.0\n",
      "1   1110010             0.721316                   1.0\n",
      "2   1100110             0.545379                   1.0\n",
      "3   1110100             0.668933                   1.0\n",
      "4   0001010             0.474091                   1.0\n",
      "..      ...                  ...                   ...\n",
      "86  0101110             0.530377                   1.0\n",
      "87  1110000             0.710453                   1.0\n",
      "88  0011100             0.576159                   1.0\n",
      "89  0210010             0.656896                   1.0\n",
      "90  0200010             0.536301                   1.0\n",
      "\n",
      "[91 rows x 3 columns]\n"
     ]
    },
    {
     "data": {
      "text/html": [
       "<table border=\"1\" class=\"dataframe\">\n",
       "  <thead>\n",
       "    <tr style=\"text-align: left;\">\n",
       "      <th>epoch</th>\n",
       "      <th>train_loss</th>\n",
       "      <th>valid_loss</th>\n",
       "      <th>accuracy</th>\n",
       "      <th>time</th>\n",
       "    </tr>\n",
       "  </thead>\n",
       "  <tbody>\n",
       "    <tr>\n",
       "      <td>0</td>\n",
       "      <td>2.837693</td>\n",
       "      <td>2.775922</td>\n",
       "      <td>0.357610</td>\n",
       "      <td>00:03</td>\n",
       "    </tr>\n",
       "    <tr>\n",
       "      <td>1</td>\n",
       "      <td>2.721517</td>\n",
       "      <td>2.700056</td>\n",
       "      <td>0.427638</td>\n",
       "      <td>00:03</td>\n",
       "    </tr>\n",
       "    <tr>\n",
       "      <td>2</td>\n",
       "      <td>2.692258</td>\n",
       "      <td>2.652847</td>\n",
       "      <td>0.495798</td>\n",
       "      <td>00:03</td>\n",
       "    </tr>\n",
       "    <tr>\n",
       "      <td>3</td>\n",
       "      <td>2.637635</td>\n",
       "      <td>2.626834</td>\n",
       "      <td>0.499533</td>\n",
       "      <td>00:03</td>\n",
       "    </tr>\n",
       "    <tr>\n",
       "      <td>4</td>\n",
       "      <td>2.619992</td>\n",
       "      <td>2.623643</td>\n",
       "      <td>0.502334</td>\n",
       "      <td>00:03</td>\n",
       "    </tr>\n",
       "    <tr>\n",
       "      <td>5</td>\n",
       "      <td>2.619932</td>\n",
       "      <td>2.623605</td>\n",
       "      <td>0.501401</td>\n",
       "      <td>00:03</td>\n",
       "    </tr>\n",
       "    <tr>\n",
       "      <td>6</td>\n",
       "      <td>2.620263</td>\n",
       "      <td>2.623794</td>\n",
       "      <td>0.500467</td>\n",
       "      <td>00:03</td>\n",
       "    </tr>\n",
       "  </tbody>\n",
       "</table>"
      ],
      "text/plain": [
       "<IPython.core.display.HTML object>"
      ]
     },
     "metadata": {},
     "output_type": "display_data"
    },
    {
     "name": "stdout",
     "output_type": "stream",
     "text": [
      "Better model found at epoch 0 with valid_loss value: 2.7759220600128174.\n",
      "Better model found at epoch 1 with valid_loss value: 2.7000558376312256.\n",
      "Better model found at epoch 2 with valid_loss value: 2.6528472900390625.\n",
      "Better model found at epoch 3 with valid_loss value: 2.6268343925476074.\n",
      "Better model found at epoch 4 with valid_loss value: 2.623642683029175.\n",
      "Better model found at epoch 5 with valid_loss value: 2.623605251312256.\n",
      "No improvement since epoch 3: early stopping\n"
     ]
    },
    {
     "data": {
      "text/html": [],
      "text/plain": [
       "<IPython.core.display.HTML object>"
      ]
     },
     "metadata": {},
     "output_type": "display_data"
    },
    {
     "name": "stdout",
     "output_type": "stream",
     "text": [
      "Better model found at epoch 0 with valid_loss value: 0.5043216943740845.\n",
      "        Net  Case-based Accuracy  Model-based Accuracy\n",
      "0   1100000             0.596644                   1.0\n",
      "1   1110010             0.721316                   1.0\n",
      "2   1100110             0.545379                   1.0\n",
      "3   1110100             0.668933                   1.0\n",
      "4   0001010             0.474091                   1.0\n",
      "..      ...                  ...                   ...\n",
      "87  1110000             0.710453                   1.0\n",
      "88  0011100             0.576159                   1.0\n",
      "89  0210010             0.656896                   1.0\n",
      "90  0200010             0.536301                   1.0\n",
      "91  1000100             0.504322                   1.0\n",
      "\n",
      "[92 rows x 3 columns]\n"
     ]
    },
    {
     "data": {
      "text/html": [
       "<table border=\"1\" class=\"dataframe\">\n",
       "  <thead>\n",
       "    <tr style=\"text-align: left;\">\n",
       "      <th>epoch</th>\n",
       "      <th>train_loss</th>\n",
       "      <th>valid_loss</th>\n",
       "      <th>accuracy</th>\n",
       "      <th>time</th>\n",
       "    </tr>\n",
       "  </thead>\n",
       "  <tbody>\n",
       "    <tr>\n",
       "      <td>0</td>\n",
       "      <td>2.822913</td>\n",
       "      <td>2.744270</td>\n",
       "      <td>0.575507</td>\n",
       "      <td>00:04</td>\n",
       "    </tr>\n",
       "    <tr>\n",
       "      <td>1</td>\n",
       "      <td>2.630192</td>\n",
       "      <td>2.585434</td>\n",
       "      <td>0.709241</td>\n",
       "      <td>00:04</td>\n",
       "    </tr>\n",
       "    <tr>\n",
       "      <td>2</td>\n",
       "      <td>2.570230</td>\n",
       "      <td>2.547068</td>\n",
       "      <td>0.746807</td>\n",
       "      <td>00:04</td>\n",
       "    </tr>\n",
       "    <tr>\n",
       "      <td>3</td>\n",
       "      <td>2.562304</td>\n",
       "      <td>2.543979</td>\n",
       "      <td>0.737040</td>\n",
       "      <td>00:04</td>\n",
       "    </tr>\n",
       "    <tr>\n",
       "      <td>4</td>\n",
       "      <td>2.547953</td>\n",
       "      <td>2.537053</td>\n",
       "      <td>0.746056</td>\n",
       "      <td>00:04</td>\n",
       "    </tr>\n",
       "    <tr>\n",
       "      <td>5</td>\n",
       "      <td>2.547366</td>\n",
       "      <td>2.536698</td>\n",
       "      <td>0.744553</td>\n",
       "      <td>00:04</td>\n",
       "    </tr>\n",
       "    <tr>\n",
       "      <td>6</td>\n",
       "      <td>2.536083</td>\n",
       "      <td>2.535847</td>\n",
       "      <td>0.748310</td>\n",
       "      <td>00:04</td>\n",
       "    </tr>\n",
       "    <tr>\n",
       "      <td>7</td>\n",
       "      <td>2.543153</td>\n",
       "      <td>2.531034</td>\n",
       "      <td>0.752817</td>\n",
       "      <td>00:04</td>\n",
       "    </tr>\n",
       "    <tr>\n",
       "      <td>8</td>\n",
       "      <td>2.544786</td>\n",
       "      <td>2.536243</td>\n",
       "      <td>0.747558</td>\n",
       "      <td>00:04</td>\n",
       "    </tr>\n",
       "    <tr>\n",
       "      <td>9</td>\n",
       "      <td>2.533661</td>\n",
       "      <td>2.531013</td>\n",
       "      <td>0.753569</td>\n",
       "      <td>00:04</td>\n",
       "    </tr>\n",
       "    <tr>\n",
       "      <td>10</td>\n",
       "      <td>2.528364</td>\n",
       "      <td>2.531232</td>\n",
       "      <td>0.751315</td>\n",
       "      <td>00:04</td>\n",
       "    </tr>\n",
       "  </tbody>\n",
       "</table>"
      ],
      "text/plain": [
       "<IPython.core.display.HTML object>"
      ]
     },
     "metadata": {},
     "output_type": "display_data"
    },
    {
     "name": "stdout",
     "output_type": "stream",
     "text": [
      "Better model found at epoch 0 with valid_loss value: 2.744269847869873.\n",
      "Better model found at epoch 1 with valid_loss value: 2.5854337215423584.\n",
      "Better model found at epoch 2 with valid_loss value: 2.547067880630493.\n",
      "Better model found at epoch 3 with valid_loss value: 2.5439789295196533.\n",
      "Better model found at epoch 4 with valid_loss value: 2.537053346633911.\n",
      "Better model found at epoch 5 with valid_loss value: 2.5366978645324707.\n",
      "Better model found at epoch 6 with valid_loss value: 2.535846710205078.\n",
      "Better model found at epoch 7 with valid_loss value: 2.531033754348755.\n",
      "Better model found at epoch 9 with valid_loss value: 2.5310134887695312.\n",
      "No improvement since epoch 7: early stopping\n"
     ]
    },
    {
     "data": {
      "text/html": [],
      "text/plain": [
       "<IPython.core.display.HTML object>"
      ]
     },
     "metadata": {},
     "output_type": "display_data"
    },
    {
     "name": "stdout",
     "output_type": "stream",
     "text": [
      "Better model found at epoch 0 with valid_loss value: 0.7476691603660583.\n",
      "        Net  Case-based Accuracy  Model-based Accuracy\n",
      "0   1100000             0.596644                   1.0\n",
      "1   1110010             0.721316                   1.0\n",
      "2   1100110             0.545379                   1.0\n",
      "3   1110100             0.668933                   1.0\n",
      "4   0001010             0.474091                   1.0\n",
      "..      ...                  ...                   ...\n",
      "88  0011100             0.576159                   1.0\n",
      "89  0210010             0.656896                   1.0\n",
      "90  0200010             0.536301                   1.0\n",
      "91  1000100             0.504322                   1.0\n",
      "92  1111000             0.747669                   1.0\n",
      "\n",
      "[93 rows x 3 columns]\n"
     ]
    },
    {
     "data": {
      "text/html": [
       "<table border=\"1\" class=\"dataframe\">\n",
       "  <thead>\n",
       "    <tr style=\"text-align: left;\">\n",
       "      <th>epoch</th>\n",
       "      <th>train_loss</th>\n",
       "      <th>valid_loss</th>\n",
       "      <th>accuracy</th>\n",
       "      <th>time</th>\n",
       "    </tr>\n",
       "  </thead>\n",
       "  <tbody>\n",
       "    <tr>\n",
       "      <td>0</td>\n",
       "      <td>2.622345</td>\n",
       "      <td>2.560503</td>\n",
       "      <td>0.280992</td>\n",
       "      <td>00:02</td>\n",
       "    </tr>\n",
       "    <tr>\n",
       "      <td>1</td>\n",
       "      <td>2.474599</td>\n",
       "      <td>2.357160</td>\n",
       "      <td>0.495868</td>\n",
       "      <td>00:02</td>\n",
       "    </tr>\n",
       "    <tr>\n",
       "      <td>2</td>\n",
       "      <td>2.304546</td>\n",
       "      <td>2.231805</td>\n",
       "      <td>0.595041</td>\n",
       "      <td>00:02</td>\n",
       "    </tr>\n",
       "    <tr>\n",
       "      <td>3</td>\n",
       "      <td>2.228382</td>\n",
       "      <td>2.217259</td>\n",
       "      <td>0.603306</td>\n",
       "      <td>00:02</td>\n",
       "    </tr>\n",
       "    <tr>\n",
       "      <td>4</td>\n",
       "      <td>2.203358</td>\n",
       "      <td>2.203194</td>\n",
       "      <td>0.619835</td>\n",
       "      <td>00:02</td>\n",
       "    </tr>\n",
       "    <tr>\n",
       "      <td>5</td>\n",
       "      <td>2.186931</td>\n",
       "      <td>2.201774</td>\n",
       "      <td>0.617769</td>\n",
       "      <td>00:02</td>\n",
       "    </tr>\n",
       "    <tr>\n",
       "      <td>6</td>\n",
       "      <td>2.178716</td>\n",
       "      <td>2.199082</td>\n",
       "      <td>0.619835</td>\n",
       "      <td>00:02</td>\n",
       "    </tr>\n",
       "    <tr>\n",
       "      <td>7</td>\n",
       "      <td>2.180307</td>\n",
       "      <td>2.197144</td>\n",
       "      <td>0.617769</td>\n",
       "      <td>00:02</td>\n",
       "    </tr>\n",
       "    <tr>\n",
       "      <td>8</td>\n",
       "      <td>2.182081</td>\n",
       "      <td>2.187071</td>\n",
       "      <td>0.630165</td>\n",
       "      <td>00:02</td>\n",
       "    </tr>\n",
       "    <tr>\n",
       "      <td>9</td>\n",
       "      <td>2.175177</td>\n",
       "      <td>2.188287</td>\n",
       "      <td>0.626033</td>\n",
       "      <td>00:02</td>\n",
       "    </tr>\n",
       "    <tr>\n",
       "      <td>10</td>\n",
       "      <td>2.169641</td>\n",
       "      <td>2.188420</td>\n",
       "      <td>0.628099</td>\n",
       "      <td>00:02</td>\n",
       "    </tr>\n",
       "    <tr>\n",
       "      <td>11</td>\n",
       "      <td>2.176445</td>\n",
       "      <td>2.183406</td>\n",
       "      <td>0.634298</td>\n",
       "      <td>00:02</td>\n",
       "    </tr>\n",
       "  </tbody>\n",
       "</table>"
      ],
      "text/plain": [
       "<IPython.core.display.HTML object>"
      ]
     },
     "metadata": {},
     "output_type": "display_data"
    },
    {
     "name": "stdout",
     "output_type": "stream",
     "text": [
      "Better model found at epoch 0 with valid_loss value: 2.5605034828186035.\n",
      "Better model found at epoch 1 with valid_loss value: 2.3571596145629883.\n",
      "Better model found at epoch 2 with valid_loss value: 2.231804847717285.\n",
      "Better model found at epoch 3 with valid_loss value: 2.217259407043457.\n",
      "Better model found at epoch 4 with valid_loss value: 2.2031943798065186.\n",
      "Better model found at epoch 5 with valid_loss value: 2.2017736434936523.\n",
      "Better model found at epoch 6 with valid_loss value: 2.199082136154175.\n",
      "Better model found at epoch 7 with valid_loss value: 2.1971442699432373.\n",
      "Better model found at epoch 8 with valid_loss value: 2.1870713233947754.\n",
      "No improvement since epoch 8: early stopping\n"
     ]
    },
    {
     "data": {
      "text/html": [],
      "text/plain": [
       "<IPython.core.display.HTML object>"
      ]
     },
     "metadata": {},
     "output_type": "display_data"
    },
    {
     "name": "stdout",
     "output_type": "stream",
     "text": [
      "Better model found at epoch 0 with valid_loss value: 0.6269515156745911.\n",
      "        Net  Case-based Accuracy  Model-based Accuracy\n",
      "0   1100000             0.596644                   1.0\n",
      "1   1110010             0.721316                   1.0\n",
      "2   1100110             0.545379                   1.0\n",
      "3   1110100             0.668933                   1.0\n",
      "4   0001010             0.474091                   1.0\n",
      "..      ...                  ...                   ...\n",
      "89  0210010             0.656896                   1.0\n",
      "90  0200010             0.536301                   1.0\n",
      "91  1000100             0.504322                   1.0\n",
      "92  1111000             0.747669                   1.0\n",
      "93  1011110             0.626952                   1.0\n",
      "\n",
      "[94 rows x 3 columns]\n"
     ]
    },
    {
     "data": {
      "text/html": [
       "<table border=\"1\" class=\"dataframe\">\n",
       "  <thead>\n",
       "    <tr style=\"text-align: left;\">\n",
       "      <th>epoch</th>\n",
       "      <th>train_loss</th>\n",
       "      <th>valid_loss</th>\n",
       "      <th>accuracy</th>\n",
       "      <th>time</th>\n",
       "    </tr>\n",
       "  </thead>\n",
       "  <tbody>\n",
       "    <tr>\n",
       "      <td>0</td>\n",
       "      <td>2.939605</td>\n",
       "      <td>2.933593</td>\n",
       "      <td>0.275785</td>\n",
       "      <td>00:06</td>\n",
       "    </tr>\n",
       "    <tr>\n",
       "      <td>1</td>\n",
       "      <td>2.837882</td>\n",
       "      <td>2.870022</td>\n",
       "      <td>0.336323</td>\n",
       "      <td>00:06</td>\n",
       "    </tr>\n",
       "    <tr>\n",
       "      <td>2</td>\n",
       "      <td>2.781838</td>\n",
       "      <td>2.812636</td>\n",
       "      <td>0.397309</td>\n",
       "      <td>00:06</td>\n",
       "    </tr>\n",
       "    <tr>\n",
       "      <td>3</td>\n",
       "      <td>2.774534</td>\n",
       "      <td>2.798155</td>\n",
       "      <td>0.408969</td>\n",
       "      <td>00:06</td>\n",
       "    </tr>\n",
       "    <tr>\n",
       "      <td>4</td>\n",
       "      <td>2.768573</td>\n",
       "      <td>2.786918</td>\n",
       "      <td>0.425561</td>\n",
       "      <td>00:06</td>\n",
       "    </tr>\n",
       "    <tr>\n",
       "      <td>5</td>\n",
       "      <td>2.754164</td>\n",
       "      <td>2.778075</td>\n",
       "      <td>0.430493</td>\n",
       "      <td>00:06</td>\n",
       "    </tr>\n",
       "    <tr>\n",
       "      <td>6</td>\n",
       "      <td>2.746928</td>\n",
       "      <td>2.773662</td>\n",
       "      <td>0.436771</td>\n",
       "      <td>00:06</td>\n",
       "    </tr>\n",
       "    <tr>\n",
       "      <td>7</td>\n",
       "      <td>2.747442</td>\n",
       "      <td>2.770109</td>\n",
       "      <td>0.439462</td>\n",
       "      <td>00:06</td>\n",
       "    </tr>\n",
       "    <tr>\n",
       "      <td>8</td>\n",
       "      <td>2.736658</td>\n",
       "      <td>2.767851</td>\n",
       "      <td>0.442601</td>\n",
       "      <td>00:06</td>\n",
       "    </tr>\n",
       "    <tr>\n",
       "      <td>9</td>\n",
       "      <td>2.728532</td>\n",
       "      <td>2.756166</td>\n",
       "      <td>0.452018</td>\n",
       "      <td>00:06</td>\n",
       "    </tr>\n",
       "    <tr>\n",
       "      <td>10</td>\n",
       "      <td>2.715441</td>\n",
       "      <td>2.758842</td>\n",
       "      <td>0.449327</td>\n",
       "      <td>00:06</td>\n",
       "    </tr>\n",
       "    <tr>\n",
       "      <td>11</td>\n",
       "      <td>2.715334</td>\n",
       "      <td>2.756817</td>\n",
       "      <td>0.450673</td>\n",
       "      <td>00:06</td>\n",
       "    </tr>\n",
       "    <tr>\n",
       "      <td>12</td>\n",
       "      <td>2.714665</td>\n",
       "      <td>2.755037</td>\n",
       "      <td>0.453363</td>\n",
       "      <td>00:06</td>\n",
       "    </tr>\n",
       "  </tbody>\n",
       "</table>"
      ],
      "text/plain": [
       "<IPython.core.display.HTML object>"
      ]
     },
     "metadata": {},
     "output_type": "display_data"
    },
    {
     "name": "stdout",
     "output_type": "stream",
     "text": [
      "Better model found at epoch 0 with valid_loss value: 2.9335925579071045.\n",
      "Better model found at epoch 1 with valid_loss value: 2.8700222969055176.\n",
      "Better model found at epoch 2 with valid_loss value: 2.812635898590088.\n",
      "Better model found at epoch 3 with valid_loss value: 2.7981553077697754.\n",
      "Better model found at epoch 4 with valid_loss value: 2.7869181632995605.\n",
      "Better model found at epoch 5 with valid_loss value: 2.7780752182006836.\n",
      "Better model found at epoch 6 with valid_loss value: 2.7736616134643555.\n",
      "Better model found at epoch 7 with valid_loss value: 2.770108699798584.\n",
      "Better model found at epoch 8 with valid_loss value: 2.7678511142730713.\n",
      "Better model found at epoch 9 with valid_loss value: 2.7561662197113037.\n",
      "No improvement since epoch 9: early stopping\n"
     ]
    },
    {
     "data": {
      "text/html": [],
      "text/plain": [
       "<IPython.core.display.HTML object>"
      ]
     },
     "metadata": {},
     "output_type": "display_data"
    },
    {
     "name": "stdout",
     "output_type": "stream",
     "text": [
      "Better model found at epoch 0 with valid_loss value: 0.49210479855537415.\n",
      "        Net  Case-based Accuracy  Model-based Accuracy\n",
      "0   1100000             0.596644                   1.0\n",
      "1   1110010             0.721316                   1.0\n",
      "2   1100110             0.545379                   1.0\n",
      "3   1110100             0.668933                   1.0\n",
      "4   0001010             0.474091                   1.0\n",
      "..      ...                  ...                   ...\n",
      "90  0200010             0.536301                   1.0\n",
      "91  1000100             0.504322                   1.0\n",
      "92  1111000             0.747669                   1.0\n",
      "93  1011110             0.626952                   1.0\n",
      "94  0201110             0.492105                   1.0\n",
      "\n",
      "[95 rows x 3 columns]\n"
     ]
    },
    {
     "data": {
      "text/html": [
       "<table border=\"1\" class=\"dataframe\">\n",
       "  <thead>\n",
       "    <tr style=\"text-align: left;\">\n",
       "      <th>epoch</th>\n",
       "      <th>train_loss</th>\n",
       "      <th>valid_loss</th>\n",
       "      <th>accuracy</th>\n",
       "      <th>time</th>\n",
       "    </tr>\n",
       "  </thead>\n",
       "  <tbody>\n",
       "    <tr>\n",
       "      <td>0</td>\n",
       "      <td>2.723687</td>\n",
       "      <td>2.589729</td>\n",
       "      <td>0.464646</td>\n",
       "      <td>00:02</td>\n",
       "    </tr>\n",
       "    <tr>\n",
       "      <td>1</td>\n",
       "      <td>2.544817</td>\n",
       "      <td>2.456016</td>\n",
       "      <td>0.598846</td>\n",
       "      <td>00:02</td>\n",
       "    </tr>\n",
       "    <tr>\n",
       "      <td>2</td>\n",
       "      <td>2.468389</td>\n",
       "      <td>2.412877</td>\n",
       "      <td>0.629149</td>\n",
       "      <td>00:02</td>\n",
       "    </tr>\n",
       "    <tr>\n",
       "      <td>3</td>\n",
       "      <td>2.434688</td>\n",
       "      <td>2.404721</td>\n",
       "      <td>0.630592</td>\n",
       "      <td>00:02</td>\n",
       "    </tr>\n",
       "    <tr>\n",
       "      <td>4</td>\n",
       "      <td>2.434304</td>\n",
       "      <td>2.382245</td>\n",
       "      <td>0.655123</td>\n",
       "      <td>00:02</td>\n",
       "    </tr>\n",
       "    <tr>\n",
       "      <td>5</td>\n",
       "      <td>2.417578</td>\n",
       "      <td>2.376685</td>\n",
       "      <td>0.656566</td>\n",
       "      <td>00:02</td>\n",
       "    </tr>\n",
       "    <tr>\n",
       "      <td>6</td>\n",
       "      <td>2.412873</td>\n",
       "      <td>2.376551</td>\n",
       "      <td>0.653680</td>\n",
       "      <td>00:02</td>\n",
       "    </tr>\n",
       "    <tr>\n",
       "      <td>7</td>\n",
       "      <td>2.399796</td>\n",
       "      <td>2.371709</td>\n",
       "      <td>0.660895</td>\n",
       "      <td>00:02</td>\n",
       "    </tr>\n",
       "    <tr>\n",
       "      <td>8</td>\n",
       "      <td>2.394444</td>\n",
       "      <td>2.378036</td>\n",
       "      <td>0.653680</td>\n",
       "      <td>00:02</td>\n",
       "    </tr>\n",
       "  </tbody>\n",
       "</table>"
      ],
      "text/plain": [
       "<IPython.core.display.HTML object>"
      ]
     },
     "metadata": {},
     "output_type": "display_data"
    },
    {
     "name": "stdout",
     "output_type": "stream",
     "text": [
      "Better model found at epoch 0 with valid_loss value: 2.5897293090820312.\n",
      "Better model found at epoch 1 with valid_loss value: 2.4560158252716064.\n",
      "Better model found at epoch 2 with valid_loss value: 2.412876605987549.\n",
      "Better model found at epoch 3 with valid_loss value: 2.404721260070801.\n",
      "Better model found at epoch 4 with valid_loss value: 2.38224458694458.\n",
      "Better model found at epoch 5 with valid_loss value: 2.3766846656799316.\n",
      "Better model found at epoch 6 with valid_loss value: 2.376551389694214.\n",
      "Better model found at epoch 7 with valid_loss value: 2.3717093467712402.\n",
      "No improvement since epoch 5: early stopping\n"
     ]
    },
    {
     "data": {
      "text/html": [],
      "text/plain": [
       "<IPython.core.display.HTML object>"
      ]
     },
     "metadata": {},
     "output_type": "display_data"
    },
    {
     "name": "stdout",
     "output_type": "stream",
     "text": [
      "Better model found at epoch 0 with valid_loss value: 0.63481605052948.\n",
      "        Net  Case-based Accuracy  Model-based Accuracy\n",
      "0   1100000             0.596644                   1.0\n",
      "1   1110010             0.721316                   1.0\n",
      "2   1100110             0.545379                   1.0\n",
      "3   1110100             0.668933                   1.0\n",
      "4   0001010             0.474091                   1.0\n",
      "..      ...                  ...                   ...\n",
      "91  1000100             0.504322                   1.0\n",
      "92  1111000             0.747669                   1.0\n",
      "93  1011110             0.626952                   1.0\n",
      "94  0201110             0.492105                   1.0\n",
      "95  0010110             0.634816                   1.0\n",
      "\n",
      "[96 rows x 3 columns]\n"
     ]
    }
   ],
   "source": [
    "for name in pdc_names:\n",
    "    log = pdc_logs[name]\n",
    "    model = pdc_models[name]\n",
    "    \n",
    "    #gviz = pn_visualizer.apply(model[0], model[1])\n",
    "    #ts_visualizer.view(gviz)\n",
    "    \n",
    "    splits = split_traces(log, validation_seed=seed, test_seed=seed)\n",
    "    o = PPObj(log, [Categorify()], cat_names=['activity'], y_names='activity', splits=splits)\n",
    "    #o.show(max_n=50)\n",
    "    dls = o.get_dls(windows=partial(subsequences_fast,min_ws=0))\n",
    "    xcat, y = dls.one_batch()\n",
    "    \n",
    "    pred_model = Simple_LSTM(o)\n",
    "    \n",
    "    cba_acc = train_validate(dls, pred_model, loss=F.cross_entropy, metrics=accuracy, epoch=20, lr=5e-3, print_output=True)\n",
    "    \n",
    "    p = pred_model(dls.valid_ds.inp[0].cuda())\n",
    "    p = p.argmax(dim=1).cpu()\n",
    "    y_valid = dls.valid_ds.inp[1][0].cpu()\n",
    "    y_valid = y_valid.cpu().tolist()\n",
    "    \n",
    "    v = o.categorify['activity']\n",
    "    y_enc = [v[a] for a in y_valid]\n",
    "    \n",
    "    x_valid = dls.valid_ds.inp[0].cpu()\n",
    "    x_enc = decode_prefix(x_valid)\n",
    "    \n",
    "    reach = reachability_graph.construct_reachability_graph(model[0], model[1])\n",
    "    \n",
    "    mba = ModelBasedAssessment(reach)\n",
    "    mba_acc = mba.compute_accuracy(x_enc, y_enc)\n",
    "    \n",
    "    row = pd.DataFrame.from_dict({\"Net\": [name],\n",
    "                                    \"Case-based Accuracy\": [cba_acc],\n",
    "                                    \"Model-based Accuracy\": [mba_acc]})\n",
    "    pd_results = pd.concat([pd_results, row], ignore_index=True)\n",
    "    print(pd_results)\n",
    "\n",
    "    \n",
    "    "
   ]
  },
  {
   "cell_type": "code",
   "execution_count": 47,
   "id": "cf15ef70",
   "metadata": {},
   "outputs": [
    {
     "data": {
      "text/html": [
       "<div>\n",
       "<style scoped>\n",
       "    .dataframe tbody tr th:only-of-type {\n",
       "        vertical-align: middle;\n",
       "    }\n",
       "\n",
       "    .dataframe tbody tr th {\n",
       "        vertical-align: top;\n",
       "    }\n",
       "\n",
       "    .dataframe thead th {\n",
       "        text-align: right;\n",
       "    }\n",
       "</style>\n",
       "<table border=\"1\" class=\"dataframe\">\n",
       "  <thead>\n",
       "    <tr style=\"text-align: right;\">\n",
       "      <th></th>\n",
       "      <th>Net</th>\n",
       "      <th>Case-based Accuracy</th>\n",
       "      <th>Model-based Accuracy</th>\n",
       "    </tr>\n",
       "  </thead>\n",
       "  <tbody>\n",
       "    <tr>\n",
       "      <th>0</th>\n",
       "      <td>1100000</td>\n",
       "      <td>0.596644</td>\n",
       "      <td>1.0</td>\n",
       "    </tr>\n",
       "    <tr>\n",
       "      <th>1</th>\n",
       "      <td>1110010</td>\n",
       "      <td>0.721316</td>\n",
       "      <td>1.0</td>\n",
       "    </tr>\n",
       "    <tr>\n",
       "      <th>2</th>\n",
       "      <td>1100110</td>\n",
       "      <td>0.545379</td>\n",
       "      <td>1.0</td>\n",
       "    </tr>\n",
       "    <tr>\n",
       "      <th>3</th>\n",
       "      <td>1110100</td>\n",
       "      <td>0.668933</td>\n",
       "      <td>1.0</td>\n",
       "    </tr>\n",
       "    <tr>\n",
       "      <th>4</th>\n",
       "      <td>0001010</td>\n",
       "      <td>0.474091</td>\n",
       "      <td>1.0</td>\n",
       "    </tr>\n",
       "    <tr>\n",
       "      <th>...</th>\n",
       "      <td>...</td>\n",
       "      <td>...</td>\n",
       "      <td>...</td>\n",
       "    </tr>\n",
       "    <tr>\n",
       "      <th>91</th>\n",
       "      <td>1000100</td>\n",
       "      <td>0.504322</td>\n",
       "      <td>1.0</td>\n",
       "    </tr>\n",
       "    <tr>\n",
       "      <th>92</th>\n",
       "      <td>1111000</td>\n",
       "      <td>0.747669</td>\n",
       "      <td>1.0</td>\n",
       "    </tr>\n",
       "    <tr>\n",
       "      <th>93</th>\n",
       "      <td>1011110</td>\n",
       "      <td>0.626952</td>\n",
       "      <td>1.0</td>\n",
       "    </tr>\n",
       "    <tr>\n",
       "      <th>94</th>\n",
       "      <td>0201110</td>\n",
       "      <td>0.492105</td>\n",
       "      <td>1.0</td>\n",
       "    </tr>\n",
       "    <tr>\n",
       "      <th>95</th>\n",
       "      <td>0010110</td>\n",
       "      <td>0.634816</td>\n",
       "      <td>1.0</td>\n",
       "    </tr>\n",
       "  </tbody>\n",
       "</table>\n",
       "<p>96 rows × 3 columns</p>\n",
       "</div>"
      ],
      "text/plain": [
       "        Net  Case-based Accuracy  Model-based Accuracy\n",
       "0   1100000             0.596644                   1.0\n",
       "1   1110010             0.721316                   1.0\n",
       "2   1100110             0.545379                   1.0\n",
       "3   1110100             0.668933                   1.0\n",
       "4   0001010             0.474091                   1.0\n",
       "..      ...                  ...                   ...\n",
       "91  1000100             0.504322                   1.0\n",
       "92  1111000             0.747669                   1.0\n",
       "93  1011110             0.626952                   1.0\n",
       "94  0201110             0.492105                   1.0\n",
       "95  0010110             0.634816                   1.0\n",
       "\n",
       "[96 rows x 3 columns]"
      ]
     },
     "execution_count": 47,
     "metadata": {},
     "output_type": "execute_result"
    }
   ],
   "source": [
    "pd_results"
   ]
  },
  {
   "cell_type": "code",
   "execution_count": 48,
   "id": "50070b96",
   "metadata": {},
   "outputs": [
    {
     "data": {
      "text/plain": [
       "0.5979146972919503"
      ]
     },
     "execution_count": 48,
     "metadata": {},
     "output_type": "execute_result"
    }
   ],
   "source": [
    "pd_results[\"Case-based Accuracy\"].mean()"
   ]
  },
  {
   "cell_type": "code",
   "execution_count": 49,
   "id": "f78fb08c",
   "metadata": {},
   "outputs": [
    {
     "data": {
      "text/plain": [
       "1.0"
      ]
     },
     "execution_count": 49,
     "metadata": {},
     "output_type": "execute_result"
    }
   ],
   "source": [
    "pd_results[\"Model-based Accuracy\"].mean()"
   ]
  },
  {
   "cell_type": "code",
   "execution_count": null,
   "id": "1126b910",
   "metadata": {},
   "outputs": [],
   "source": []
  }
 ],
 "metadata": {
  "kernelspec": {
   "display_name": "mppn",
   "language": "python",
   "name": "mppn"
  },
  "language_info": {
   "codemirror_mode": {
    "name": "ipython",
    "version": 3
   },
   "file_extension": ".py",
   "mimetype": "text/x-python",
   "name": "python",
   "nbconvert_exporter": "python",
   "pygments_lexer": "ipython3",
   "version": "3.7.10"
  },
  "toc": {
   "base_numbering": 1,
   "nav_menu": {},
   "number_sections": true,
   "sideBar": true,
   "skip_h1_title": true,
   "title_cell": "Table of Contents",
   "title_sidebar": "Contents",
   "toc_cell": true,
   "toc_position": {},
   "toc_section_display": true,
   "toc_window_display": true
  }
 },
 "nbformat": 4,
 "nbformat_minor": 5
}
